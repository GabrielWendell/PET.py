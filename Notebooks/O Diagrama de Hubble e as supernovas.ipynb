{
 "cells": [
  {
   "cell_type": "markdown",
   "metadata": {
    "slideshow": {
     "slide_type": "slide"
    }
   },
   "source": [
    "# O diagrama de Hubble e as supernovas"
   ]
  },
  {
   "cell_type": "markdown",
   "metadata": {},
   "source": [
    "- PET - Física\n",
    "- Petiano: Gabriel Wendell Celestino Rocha\n",
    "- Data: 17 de Novembro de 2021"
   ]
  },
  {
   "cell_type": "markdown",
   "metadata": {
    "slideshow": {
     "slide_type": "slide"
    }
   },
   "source": [
    "O objetivo deste `Notebook` é em um primeiro momento construir um diagrama de Hubble e obter um valor aproximado para a constante de Hubble. Para isso, vamos explorar o banco de dados do [SDSS](http://skyserver.sdss.org/dr10/en/home.aspx) *Sloan Digital Sky Survey*, cujo sistema fotométrico é diferente do UBV, o qual se está mais acostumado (e que foi utilizado no `Notebook` [a cor dos objetos celestes](https://github.com/GabrielWendell/PET.py/blob/main/Notebooks/A%20cor%20dos%20objetos%20celestes.ipynb) [2])."
   ]
  },
  {
   "cell_type": "markdown",
   "metadata": {},
   "source": [
    "Desta forma, para uma melhor organização deste `Notebook` como um todo, este será dividido em duas seções:\n",
    "- **Introdução teórica**;\n",
    "- **Trabalhando com dados reais**."
   ]
  },
  {
   "cell_type": "markdown",
   "metadata": {},
   "source": [
    "Na primeira seção iremos realizar uma não tão breve introdução teórica acerca de alguns fundamentos básicos de Cosmologia. Iremos apresentar os conceitos teóricos que iremos utilizar aos longo deste `Notebook` e servirá apenas como um breve resumo do assunto abordado na referência [4]."
   ]
  },
  {
   "cell_type": "markdown",
   "metadata": {},
   "source": [
    "Já na segunda seção, iremos aplicar os conceitos explorados na seção anterior ao banco de dados do SDSS e com base nisso construir um diagrama de Hubble e então estimar o valor da constante de Hubble."
   ]
  },
  {
   "cell_type": "markdown",
   "metadata": {},
   "source": [
    "## Pré-requisitos"
   ]
  },
  {
   "cell_type": "markdown",
   "metadata": {},
   "source": [
    "Para a primeira seção deste `Notebook`, é recomendável que o leitor seja conhecedor dos fundamentos básicos de Astrofísica e de Cosmologia. Tais fundamentos podem ser encontrados nas referências [3] e [4] para Astrofísica e Cosmologia, respectivamente. Além disso, é recomendável que o leitor já tenha lido o `Notebook` intitulado [a cor dos objetos celetes](https://github.com/GabrielWendell/PET.py/blob/main/Notebooks/A%20cor%20dos%20objetos%20celestes.ipynb) [2]. "
   ]
  },
  {
   "cell_type": "markdown",
   "metadata": {},
   "source": [
    "### Importando as bibliotecas"
   ]
  },
  {
   "cell_type": "code",
   "execution_count": 1,
   "metadata": {},
   "outputs": [],
   "source": [
    "import matplotlib.pyplot as plt\n",
    "import quantities as pq\n",
    "import scipy.stats as s\n",
    "import pandas as pd\n",
    "import numpy as np\n",
    "import re                           \n",
    "\n",
    "%matplotlib notebook"
   ]
  },
  {
   "cell_type": "markdown",
   "metadata": {},
   "source": [
    "Note que dessa vez importamos algumas bibliotecas um tanto quanto \"diferentes\". Vamos por partes. A biblioteca [`quantities`](https://pythonhosted.org/quantities/) já é conhecida nossa (basicamente, essa biblioteca está presente em todos os `Notebooks` relacionados à Astronomia que eu escrevo) e nos permite trabalhar com diversas unidades físicas em Python. Já a biblioteca [`re`](https://docs.python.org/3/library/re.html) nos fornecerá operações de correspondência de expressões regulares (para aqueles que já se aventuraram pelo [Perl](https://www.perl.org), a ideia dessa biblioteca é estabelecer um análogo em Python para essas mesmas operações de correspondência que são encontradas no Perl)."
   ]
  },
  {
   "cell_type": "markdown",
   "metadata": {},
   "source": [
    "Para instalar tais bibliotecas (o módulo `re` é nativo do Python), basta executar uma das seguintes linhas de comando em um terminal de sua preferência:"
   ]
  },
  {
   "cell_type": "markdown",
   "metadata": {},
   "source": [
    "- **PIP**: `pip install <biblioteca>`\n",
    "- **Anaconda**: `conda install <biblioteca>`"
   ]
  },
  {
   "cell_type": "markdown",
   "metadata": {},
   "source": [
    "#### Detalhes das bibliotecas:"
   ]
  },
  {
   "cell_type": "code",
   "execution_count": 2,
   "metadata": {},
   "outputs": [
    {
     "data": {
      "application/json": {
       "Software versions": [
        {
         "module": "Python",
         "version": "3.7.5 64bit [MSC v.1916 64 bit (AMD64)]"
        },
        {
         "module": "IPython",
         "version": "7.10.0"
        },
        {
         "module": "OS",
         "version": "Windows 10 10.0.19041 SP0"
        },
        {
         "module": "Matplotlib",
         "version": "3.1.2"
        },
        {
         "module": "Numpy",
         "version": "1.19.0"
        },
        {
         "module": "Pandas",
         "version": "1.2.3"
        },
        {
         "module": "Quantities",
         "version": "0.12.4"
        },
        {
         "module": "re",
         "version": "2.2.1"
        },
        {
         "module": "Scipy",
         "version": "1.4.1"
        }
       ]
      },
      "text/html": [
       "<table><tr><th>Software</th><th>Version</th></tr><tr><td>Python</td><td>3.7.5 64bit [MSC v.1916 64 bit (AMD64)]</td></tr><tr><td>IPython</td><td>7.10.0</td></tr><tr><td>OS</td><td>Windows 10 10.0.19041 SP0</td></tr><tr><td>Matplotlib</td><td>3.1.2</td></tr><tr><td>Numpy</td><td>1.19.0</td></tr><tr><td>Pandas</td><td>1.2.3</td></tr><tr><td>Quantities</td><td>0.12.4</td></tr><tr><td>re</td><td>2.2.1</td></tr><tr><td>Scipy</td><td>1.4.1</td></tr><tr><td colspan='2'>Wed Nov 17 18:49:26 2021 Hora Padrão de Buenos Aires</td></tr></table>"
      ],
      "text/latex": [
       "\\begin{tabular}{|l|l|}\\hline\n",
       "{\\bf Software} & {\\bf Version} \\\\ \\hline\\hline\n",
       "Python & 3.7.5 64bit [MSC v.1916 64 bit (AMD64)] \\\\ \\hline\n",
       "IPython & 7.10.0 \\\\ \\hline\n",
       "OS & Windows 10 10.0.19041 SP0 \\\\ \\hline\n",
       "Matplotlib & 3.1.2 \\\\ \\hline\n",
       "Numpy & 1.19.0 \\\\ \\hline\n",
       "Pandas & 1.2.3 \\\\ \\hline\n",
       "Quantities & 0.12.4 \\\\ \\hline\n",
       "re & 2.2.1 \\\\ \\hline\n",
       "Scipy & 1.4.1 \\\\ \\hline\n",
       "\\hline \\multicolumn{2}{|l|}{Wed Nov 17 18:49:26 2021 Hora Padrão de Buenos Aires} \\\\ \\hline\n",
       "\\end{tabular}\n"
      ],
      "text/plain": [
       "Software versions\n",
       "Python 3.7.5 64bit [MSC v.1916 64 bit (AMD64)]\n",
       "IPython 7.10.0\n",
       "OS Windows 10 10.0.19041 SP0\n",
       "Matplotlib 3.1.2\n",
       "Numpy 1.19.0\n",
       "Pandas 1.2.3\n",
       "Quantities 0.12.4\n",
       "re 2.2.1\n",
       "Scipy 1.4.1\n",
       "Wed Nov 17 18:49:26 2021 Hora Padrão de Buenos Aires"
      ]
     },
     "execution_count": 2,
     "metadata": {},
     "output_type": "execute_result"
    }
   ],
   "source": [
    "%load_ext version_information\n",
    "%version_information Matplotlib, Numpy, Pandas, Quantities, re, Scipy"
   ]
  },
  {
   "cell_type": "markdown",
   "metadata": {},
   "source": [
    "Para instalar a magic extension `%version_information` do `IPython` usando o `pip`, execute a seguinte linha de comando em um terminal de sua preferência:"
   ]
  },
  {
   "cell_type": "markdown",
   "metadata": {},
   "source": [
    "`pip install version_information`"
   ]
  },
  {
   "cell_type": "markdown",
   "metadata": {},
   "source": [
    "Feito todas essas explicações, vamos ao `Notebook` propriamente dito."
   ]
  },
  {
   "cell_type": "markdown",
   "metadata": {},
   "source": [
    "#### Definindo algumas constantes:"
   ]
  },
  {
   "cell_type": "code",
   "execution_count": 3,
   "metadata": {},
   "outputs": [],
   "source": [
    "earth_radius = 6378160.0 * pq.m\n",
    "moon_radius = 1740000.0 * pq.m\n",
    "sun_earth = 695000000.0 * pq.m\n",
    "\n",
    "earth_mass = 5.97219e24 * pq.kg\n",
    "sun_mass = 332946 * earth_mass\n",
    "\n",
    "Hubble_constant = 67.80 * (pq.km/pq.s)/(1e6*pq.pc)"
   ]
  },
  {
   "cell_type": "markdown",
   "metadata": {},
   "source": [
    "#### Definindo algumas unidades:"
   ]
  },
  {
   "cell_type": "code",
   "execution_count": 4,
   "metadata": {},
   "outputs": [],
   "source": [
    "Mly = pq.UnitQuantity('megalight_year', 1e6*pq.ly, symbol = 'Mly')\n",
    "Mpc = pq.UnitQuantity('megaparsec', 1e6*pq.pc, symbol = 'Mpc')"
   ]
  },
  {
   "cell_type": "markdown",
   "metadata": {},
   "source": [
    "## 1. Introdução teórica"
   ]
  },
  {
   "cell_type": "markdown",
   "metadata": {},
   "source": [
    "O fenômeno da expansão do universo, que separa uns dos outros todos aqueles objetos cósmicos que não estão unidos pela força da gravitação, é um fato conhecido pelas observações de [Hubble](https://www.biography.com/scientist/edwin-hubble#personal-life) em 1929. A taxa dessa expansão é governada pela chamada **Lei de Hubble**, que relaciona o valor do desvio para o vermelho observado no espectro de galáxias distantes, com a distância que nos separa delas."
   ]
  },
  {
   "cell_type": "markdown",
   "metadata": {},
   "source": [
    "A lei de Hubble é geralmente mostrada através de um diagrama que representa esse desvio para o vermelho, em forma de magnitude com unidades de velocidade ($cz$) em $\\text{km s}^{-1}$ em relação às distancias medidas em Megaparsec. Obviamente, a maior dificuldade em fazer um diagrama desse tipo é saber as distâncias que nos separam de tais objetos distantes. Nessa determinação, os objetos conhecidos como **supernovas** desempenham, como veremos mais adiante, um papel fundamental. Uma vez que este diagrama é construído, uma relação aproximadamente linear entre ambas as magnitudes pode ser vista, a constante de proporcionalidade $H_{0}$ é chamada então de constante de Hubble. O índice $0$ indica que nos referimos aqui ao seu valor atual, pois este pode variar ao longo do tempo dependendo do mode de evolução do Universo que for adotado. O melhor valor desta constante é $H_{0}=67.8$ $\\text{km s}^{-1}$ $\\text{Mpc}^{-1}$."
   ]
  },
  {
   "cell_type": "markdown",
   "metadata": {},
   "source": [
    "### 1.1 A expansão homogênea e isotrópica do Universo"
   ]
  },
  {
   "cell_type": "markdown",
   "metadata": {},
   "source": [
    "Uma característica da expansão do universo é que ele é homogêneo (igual em todos os pontos) e isotrópico (igual em todas as direções). Essa expansão preserva a forma dos objetos. Por exemplo, um triângulo se tornaria, depois de um certo tempo, um triângulo maior, mas semelhante (ou congruente) ao primeiro. A razão de similaridade, chamada de *fator de escala*, dependerá do instante $t$ considerado e, portanto, é designada por $a(t)$. "
   ]
  },
  {
   "cell_type": "markdown",
   "metadata": {},
   "source": [
    "Consideremos, potanto, duas galáxias, e seja $\\overrightarrow{r}(t_{0})$ o vetor que as une no tempo $t_{0}$, que podemos supor, por exemplo, ser o momento atual. Em outro instante, o vetor que une esses mesmos dois objetos será:"
   ]
  },
  {
   "cell_type": "markdown",
   "metadata": {},
   "source": [
    "$$\\overrightarrow{r}(t)=a(t)\\overrightarrow{r}(t_{0})$$"
   ]
  },
  {
   "cell_type": "markdown",
   "metadata": {},
   "source": [
    "A velocidade de retrocesso das dias galáxias será então (representando a derivada em relação ao tempo com um ponto):"
   ]
  },
  {
   "cell_type": "markdown",
   "metadata": {},
   "source": [
    "$$\\overrightarrow{v_{r}}(t)=\\dot{a}(t)\\overrightarrow{r}(t_{0})\\implies\\overrightarrow{v_{r}}(t)=\\dot{a}(t)\\frac{\\overrightarrow{r}(t)}{a(t)}$$"
   ]
  },
  {
   "cell_type": "markdown",
   "metadata": {},
   "source": [
    "Ou seja:"
   ]
  },
  {
   "cell_type": "markdown",
   "metadata": {},
   "source": [
    "$$\\overrightarrow{v_{r}}=\\frac{\\dot{a}}{a}\\overrightarrow{r}$$"
   ]
  },
  {
   "cell_type": "markdown",
   "metadata": {},
   "source": [
    "Definindo $H(t)=\\frac{\\dot{a}(t)}{a(t)}$ obtemos finalmente:"
   ]
  },
  {
   "cell_type": "markdown",
   "metadata": {},
   "source": [
    "$$\\boxed{\\overrightarrow{v_{r}}=H\\overrightarrow{r}\\overset{|\\cdot|}{\\implies}v=Hr}$$"
   ]
  },
  {
   "cell_type": "markdown",
   "metadata": {},
   "source": [
    "onde o resultado apresentado à direita foi obtido ao tomar o módulo das grandezas vetoriais em questão."
   ]
  },
  {
   "cell_type": "markdown",
   "metadata": {},
   "source": [
    "Ou seja, a velocidade de recessão mútua das galáxias é proporcional à distância que as separa. O fator de proporcionalidade, $H$, pode variar ao longo do tempo, mas a cada instante é o mesmo em todos os pontos do universo. $H=H(t)$ é conhecido como *parâmetro de Hubble* e, como mencionamos, não é constante, pois pode mudar com o tempo. Mas o mais importante é ter em mente que esta relação entre velocidades é uma propriedade fundamental, exata, uma consequência matemática de uma expansão homogênea e isotrópica do universo, e não deve ser confundida com a lei de Hubble que como veremos a seguir que possui um caráter observacional."
   ]
  },
  {
   "cell_type": "markdown",
   "metadata": {},
   "source": [
    "### 1.2 *Redshift* cósmico"
   ]
  },
  {
   "cell_type": "markdown",
   "metadata": {},
   "source": [
    "Quando observamos a luz emitida em qualquer comprimento de onda por um objeto distante, encontramos uma diferença entre o comprimento de onda medido pelo observador e o da luz emitida pelo objeto. Esta discrepância é conhecida como *redshift* (desvio para o vermelho, em português) e é caracterizada pela quantidade adimensional $z$ definida como:"
   ]
  },
  {
   "cell_type": "markdown",
   "metadata": {},
   "source": [
    "$$z=\\frac{\\lambda_{obs}-\\lambda_{emit}}{\\lambda_{emit}}\\implies z=\\frac{\\Delta\\lambda}{\\lambda_{emit}}$$"
   ]
  },
  {
   "cell_type": "markdown",
   "metadata": {},
   "source": [
    "Que por sua vez também pode ser expressa como:"
   ]
  },
  {
   "cell_type": "markdown",
   "metadata": {},
   "source": [
    "$$z+1=\\frac{\\lambda_{obs}}{\\lambda_{emit}}$$"
   ]
  },
  {
   "cell_type": "markdown",
   "metadata": {},
   "source": [
    "Agora, vamos apenas considerar que o *redshift* é uma consequência da expansão do universo. Se imaginarmos o universo como uma grade em expansão, estaríamos no caso em que tanto a fonte emissora quanto o observador ocupam o nó dessa grade. Ou seja, assumimos que não existem movimentos peculiares típicos de cada objeto (na realidade eles sempre existirão, mas dadas as grandes distâncias consideradas, seu efeito será desprezível em uma primeira aproximação)."
   ]
  },
  {
   "cell_type": "markdown",
   "metadata": {},
   "source": [
    "Bem, neste caso pode ser mostrado que o comprimento de onda instantâneo $\\lambda(t)$ é proporcional ao fator de escala, e pode ser escrito da seguinte forma:"
   ]
  },
  {
   "cell_type": "markdown",
   "metadata": {},
   "source": [
    "$$\\lambda=k\\cdot a\\implies\\lambda\\propto a$$"
   ]
  },
  {
   "cell_type": "markdown",
   "metadata": {},
   "source": [
    "Ou seja, conforme o espaço se expande, o comprimento de onda se expande na mesma proporção e, medindo o comprimento de onda recebido e comparando-o com o emitido, é possível saber o quanto o universo se expandiu enquanto a luz viajava para chegar até nós. É como se a expansão do universo \"esticasse\" as ondas de luz que o atravessam."
   ]
  },
  {
   "cell_type": "markdown",
   "metadata": {},
   "source": [
    "Por exemplo, se no instante $t_{emis}$ um pulso luminoso é emitido e o recebemos no instante $t_{atual}$, podemos escrever:"
   ]
  },
  {
   "cell_type": "markdown",
   "metadata": {},
   "source": [
    "$$\\boxed{1+z=\\frac{\\lambda_{atual}}{\\lambda_{emit}}=\\frac{a(t_{atual})}{a(t_{emit})}}$$"
   ]
  },
  {
   "cell_type": "markdown",
   "metadata": {},
   "source": [
    "Este *redshift*, que **não é uma manifestação do efeito Doppler**, mas exclusivamente uma consequência da expansão do universo, e está, como foi visto anteriormente, intimamente relacionado ao fator de escada da expansão, é chamado de **redshift cósmico**, e é aquele ao qual iremos nos referir neste `Notebook`."
   ]
  },
  {
   "cell_type": "markdown",
   "metadata": {},
   "source": [
    "### 1.3 Lei de Hubble"
   ]
  },
  {
   "cell_type": "markdown",
   "metadata": {},
   "source": [
    "Como já mencionamos, em 1920 Hubble formulou sua famosa lei que afirma a proporcionalidade entre a quantidade de *redshift* medida no espectro de luz que observamos vindo das galáxias, e sua distância obtida por vários métodos, embora principalmente pelo uso do módulo de distância resultante da comparação entre a magnitude absolta e a magnitude aparente do objeto:"
   ]
  },
  {
   "cell_type": "markdown",
   "metadata": {},
   "source": [
    "$$z=\\frac{H_{0}}{c}d$$"
   ]
  },
  {
   "cell_type": "markdown",
   "metadata": {},
   "source": [
    "Na época, Hubble interpretou o *redshift* das galáxias como uma manifestação do efeito Doppler como consequência de sua distância até nós. Uma vez que, por outro lado, para pequenos valores de $z$, o efeito Doppler admite a aproximação $v\\approx cz$, onde $v$ é a velocidade de partida da fonte, a lei de Hubble é frequentemente escrita como $v=H_{0}d$, embora, para deixar claro o método de obtenção dessa velocidade, é preferível escrever a lei de Hubble como:"
   ]
  },
  {
   "cell_type": "markdown",
   "metadata": {},
   "source": [
    "$$\\boxed{cz=H_{0}d}$$"
   ]
  },
  {
   "cell_type": "markdown",
   "metadata": {},
   "source": [
    "Sobre isso é necessário fazer uma série de esclarecimentos:"
   ]
  },
  {
   "cell_type": "markdown",
   "metadata": {},
   "source": [
    "- Ao contrário da lei teórica $v=H(t)r$, a lei de Hubble $cz=H_{0}d$ é puramente experimental, sendo o resultado de múltiplas observações. Na verdade, esta relação linear deixa de ser válida para altos valores de $z$;"
   ]
  },
  {
   "cell_type": "markdown",
   "metadata": {},
   "source": [
    "- A distância $r$ que aparece na relação teórica entre velocidades de recuo e distâncias é a distância adequada exata que nos separa do objeto, medida em um **referencial inercial do observador**. Ou seja, seria a distância que mediríamos colocando uma após a outra réguas que não se expandem com o universo; "
   ]
  },
  {
   "cell_type": "markdown",
   "metadata": {},
   "source": [
    "- Em contraste, $d$ (observe a mudança na notação) é a distância estimada por diferentes métodos de observação. Na maioria das vezes, $d$ é a \"*distância de brilho*\" $d_{L}$ calculada usando o módulo de distância que, por exemplo, foi vista neste [`Notebook`](https://github.com/GabrielWendell/PET.py/blob/main/Notebooks/A%20cor%20dos%20objetos%20celestes.ipynb) [2]. A distância de brilho fornece uma boa aproximação da distância adequada $r$ para objetos \"próximos\", mas se desvia dela para objetos mais distantes;"
   ]
  },
  {
   "cell_type": "markdown",
   "metadata": {},
   "source": [
    "- A lei $v=H(t)r$ relaciona velocidades e distâncias no momento \"atual\", ou sjea, são velocidades e distâncias agora, no momento no qual se faz a observação, medidas no **próprio tempo do observador**. Em vez disso, $z$ e $d$ referem-se ao momento em que a luz foi emitida pelo objeto observado."
   ]
  },
  {
   "cell_type": "markdown",
   "metadata": {},
   "source": [
    "- Devido à coincidência da velocidade $v$ com a magnitude $cz$ para pequenos valores de $z$, podemos escrever: $H(t_{atual})=H_{0}$. A constante de Hubble é o valor que o parâmetro de Hubble assume no momento."
   ]
  },
  {
   "cell_type": "markdown",
   "metadata": {},
   "source": [
    "Uma excelente explicação de todas essas sutilezas em relação à lei de Hubble pode ser encontrada no excelente livro *Extragalactic Astronomy and Cosmology - An Introduction* [5] de Peter Schneider (você pode encontrar tal livro disponível para *donwload* gratuíto na [*Library Genesis*](https://www.libgen.is/search.php?req=Extragalactic+Astronomy+and+Cosmology+-+An+Introduction&lg_topic=libgen&open=0&view=simple&res=25&phrase=1&column=def))."
   ]
  },
  {
   "cell_type": "markdown",
   "metadata": {},
   "source": [
    "Após esta introdução teórica, vamos tentar obter o diagrama de Hubble correspondente às supernovas do tipo Ia do levantamento de supernovas do SDSS."
   ]
  },
  {
   "cell_type": "markdown",
   "metadata": {},
   "source": [
    "---"
   ]
  },
  {
   "cell_type": "markdown",
   "metadata": {},
   "source": [
    "## 2. Trabalhando com dados reais"
   ]
  },
  {
   "cell_type": "markdown",
   "metadata": {},
   "source": [
    "### 2.1 *Sloan Digital Sky Survey*"
   ]
  },
  {
   "cell_type": "markdown",
   "metadata": {},
   "source": [
    "Os objetos com os quais vamos construir o diagrama de Hubble serão as supernovas do tipo Ia obtidas no levantamento de supernovas do **Sloan Digital Sky Survey** (SDSS). A [página principal](http://classic.sdss.org/supernova/) desta pesquisa pode ser consultada na referência [6]. Um resumo com links para a documentação mais relevante para este exercício pode ser encontrado [aqui](http://www.sdss3.org/dr10/data_access/supernovae.php) ou consultando a referência [7]."
   ]
  },
  {
   "cell_type": "markdown",
   "metadata": {},
   "source": [
    "Em particular, esta é a [tabela de supernovas](http://classic.sdss.org/supernova/snlist_confirmed.html) [8] encontradas pelo SDSS nesta pesquisa."
   ]
  },
  {
   "cell_type": "markdown",
   "metadata": {},
   "source": [
    "Este é um artigo da [NASA](https://spaceplace.nasa.gov/supernova/en/) [9] onde você pode conferir um resumo sobre as supernovas. E aqui você pode conferir um excelente artigo da revista eletrônica [Astrobites](https://astrobites.org/2016/12/02/classifying-supernovae/) [10] sobre a classificação das supernovas."
   ]
  },
  {
   "cell_type": "markdown",
   "metadata": {},
   "source": [
    "### 2.2 Cálculo da distânca a uma supernova"
   ]
  },
  {
   "cell_type": "markdown",
   "metadata": {},
   "source": [
    "Conforme discutido, iremos concentrar nossa atenção nas supernovas do tipo Ia. Suas principais características tendo em vista o seu uso na elaboração de um diagrama de Hubble são as seguintes:"
   ]
  },
  {
   "cell_type": "markdown",
   "metadata": {},
   "source": [
    "- Sua magnitude absoluta máxima nos filtros azul (B) e visual (V) no sistema fotométrico UBV de Johnson é:"
   ]
  },
  {
   "cell_type": "markdown",
   "metadata": {},
   "source": [
    "$$\\boxed{M_{U}\\approx M_{V}=-19.3\\pm 0.3}$$"
   ]
  },
  {
   "cell_type": "markdown",
   "metadata": {},
   "source": [
    "- A magnitude aparente $m$ é determinada examinando sua curva de luz, que é uma curva que representa a evolução de sua magnitude $m$ em função do tempo."
   ]
  },
  {
   "cell_type": "markdown",
   "metadata": {},
   "source": [
    "- Uma ver que sua magnitude absoluta $M$ é (aproximadamente) fixa, as supernovas do tipo Ia são chamadas de \"*velas padrão*\"."
   ]
  },
  {
   "cell_type": "markdown",
   "metadata": {},
   "source": [
    "- Uma vez que termos os dados de magnitude relativa $m$, podemos calcular a distância usando o **módulo de distância**, que expressa a distância $d_{Mpc}$ em Megaparsec, cuja relação é formulada da seguinte forma:"
   ]
  },
  {
   "cell_type": "markdown",
   "metadata": {},
   "source": [
    "$$\\boxed{\\mu=m-M=5\\log_{10}{d_{Mpc}}+25}$$"
   ]
  },
  {
   "cell_type": "markdown",
   "metadata": {},
   "source": [
    "##### Exemplo: "
   ]
  },
  {
   "cell_type": "markdown",
   "metadata": {},
   "source": [
    "Suponha que na curva de luz da supernova Ia medimos uma magnitude aparente com o filtro V de 19,5. Dessa forma:"
   ]
  },
  {
   "cell_type": "code",
   "execution_count": 5,
   "metadata": {},
   "outputs": [
    {
     "name": "stdout",
     "output_type": "stream",
     "text": [
      "A distância de brilho é de 575 Mpc\n"
     ]
    }
   ],
   "source": [
    "m = 19.5\n",
    "M = -19.3\n",
    "k = (m-M)/5 - 5\n",
    "d = 10**k\n",
    "\n",
    "print('A distância de brilho é de %d Mpc' %d)"
   ]
  },
  {
   "cell_type": "markdown",
   "metadata": {},
   "source": [
    "Correções adicionais podem ser aplicadas para calcular a magnitude máxima, provavelmente a mais importante sendo a *relação de Phillips*, exposta no artigo [*The Absolute Magnitudes of Type Ia Supernovae*](http://articles.adsabs.harvard.edu/pdf/1993ApJ...413L.105P) de [Mark M. Phillips](https://carnegiescience.edu/scientist/mark-phillips) *et al* 1993, ApJ, Vol. 413, L105 [11]. Tal relação não será utilizada neste `Notebook`."
   ]
  },
  {
   "cell_type": "markdown",
   "metadata": {},
   "source": [
    "### 2.3 Leituras das curvas de luz"
   ]
  },
  {
   "cell_type": "markdown",
   "metadata": {},
   "source": [
    "Para avançar em nosso estudo, precisaremos das curvas de luz das supernovas do tipo Ia identificadas pela pesquisa SDSS. Estes foram publiados no seguinte artigo: [*The Sloan Digital Sky Survey-II: Photometry and Supernova Ia Light Curves from the 2005 data*](https://arxiv.org/abs/0908.4277), de Holtzman *et al* 2009, AH, 136, 2306 [12]."
   ]
  },
  {
   "cell_type": "markdown",
   "metadata": {},
   "source": [
    "O que realmente nos interessa são as próprias curvas de luz em formato eletrônico, que podem ser baixadas da própria página do [SDSS Supernova Survey](http://classic.sdss.org/supernova/lightcurves.html) [13]."
   ]
  },
  {
   "cell_type": "markdown",
   "metadata": {},
   "source": [
    "Portanto, a primeira coisa que deve ser é feita é baixar todos esses arquivos e armazená-los em um subdiretório de nosso diretório de trabalho. No meu caso, esse subdiretório irá se chamar `SDSS_Light_Curves`. O seguinte trecho de código assume que as curvas de luz já foram baixadas para esse diretório."
   ]
  },
  {
   "cell_type": "markdown",
   "metadata": {},
   "source": [
    "Comecemos definindo uma lista com os nomes de todos os arquivos no subdiretório:"
   ]
  },
  {
   "cell_type": "code",
   "execution_count": 6,
   "metadata": {},
   "outputs": [],
   "source": [
    "lc_files = !ls Dados/SDSS_Light_Curves\n",
    "lc_files = list(lc_files.n.split('\\n'))"
   ]
  },
  {
   "cell_type": "markdown",
   "metadata": {},
   "source": [
    "Eliminamos da lista o arquivo [`ReadMe`](https://github.com/GabrielWendell/PET.py/blob/main/Dados/ReadMe%20-%20SDSS_Light_Curves) (este arquivo apresenta uma descrição detalhada de todas as entradas presentes nos arquivos das curvas de luz):"
   ]
  },
  {
   "cell_type": "code",
   "execution_count": 7,
   "metadata": {},
   "outputs": [],
   "source": [
    "lc_files = lc_files[1:]"
   ]
  },
  {
   "cell_type": "markdown",
   "metadata": {},
   "source": [
    "Vamos dar uma pequena visualizada nos arquivos:"
   ]
  },
  {
   "cell_type": "code",
   "execution_count": 8,
   "metadata": {},
   "outputs": [
    {
     "data": {
      "text/plain": [
       "['SN10028.snphot-5.04.sum',\n",
       " 'SN10096.snphot-5.04.sum',\n",
       " 'SN10106.snphot-5.04.sum']"
      ]
     },
     "execution_count": 8,
     "metadata": {},
     "output_type": "execute_result"
    }
   ],
   "source": [
    "lc_files[0:3]"
   ]
  },
  {
   "cell_type": "markdown",
   "metadata": {},
   "source": [
    "A abertura de qualquer um desses arquivos com um editor de texto mostrará que as primeiras 18 linhas contêm uma descrição dos diferentes campos de dados. A linha 19 é uma linha de cabeçalho com os nomes das colunas de dados e, em seguida, há uma série de linhas com dados separados por espaço em branco. A seguir, o primeiro dos arquivos será lido criando um dataframe do `Pandas` com os campos que interessam. Uma vez que o dataframe foi criado com os dados do primeiro arquivo, passarei por todos os arquivos do subdiretório adicionando ao dataframe os dados da curva de luz de cada supernova."
   ]
  },
  {
   "cell_type": "code",
   "execution_count": 9,
   "metadata": {},
   "outputs": [
    {
     "data": {
      "text/plain": [
       "Index(['#FLAG', 'MJD', 'FILT', 'MAG', 'MERR', 'MSKYERR', 'MGALERR', 'FLUX',\n",
       "       'FLUXERR', 'SKYERR', 'GALERR', 'NPRE', 'TELE', 'RUN', 'STRIP'],\n",
       "      dtype='object')"
      ]
     },
     "execution_count": 9,
     "metadata": {},
     "output_type": "execute_result"
    }
   ],
   "source": [
    "filename = lc_files[0]\n",
    "df = pd.read_table('Dados/SDSS_Light_Curves/' + filename,\n",
    "                  skiprows=18, sep=r'\\s+')\n",
    "df.columns"
   ]
  },
  {
   "cell_type": "markdown",
   "metadata": {},
   "source": [
    "Utilizaremos apenas as quatro primeiras colunas:"
   ]
  },
  {
   "cell_type": "code",
   "execution_count": 10,
   "metadata": {},
   "outputs": [],
   "source": [
    "df = df.iloc[:,0:4]"
   ]
  },
  {
   "cell_type": "markdown",
   "metadata": {},
   "source": [
    "Alteramos o nome da primeira coluna:"
   ]
  },
  {
   "cell_type": "code",
   "execution_count": 11,
   "metadata": {},
   "outputs": [
    {
     "data": {
      "text/html": [
       "<div>\n",
       "<style scoped>\n",
       "    .dataframe tbody tr th:only-of-type {\n",
       "        vertical-align: middle;\n",
       "    }\n",
       "\n",
       "    .dataframe tbody tr th {\n",
       "        vertical-align: top;\n",
       "    }\n",
       "\n",
       "    .dataframe thead th {\n",
       "        text-align: right;\n",
       "    }\n",
       "</style>\n",
       "<table border=\"1\" class=\"dataframe\">\n",
       "  <thead>\n",
       "    <tr style=\"text-align: right;\">\n",
       "      <th></th>\n",
       "      <th>FLAG</th>\n",
       "      <th>MJD</th>\n",
       "      <th>FILT</th>\n",
       "      <th>MAG</th>\n",
       "    </tr>\n",
       "  </thead>\n",
       "  <tbody>\n",
       "    <tr>\n",
       "      <th>0</th>\n",
       "      <td>0</td>\n",
       "      <td>53616.363706</td>\n",
       "      <td>1</td>\n",
       "      <td>25.659</td>\n",
       "    </tr>\n",
       "    <tr>\n",
       "      <th>1</th>\n",
       "      <td>32</td>\n",
       "      <td>53616.360389</td>\n",
       "      <td>2</td>\n",
       "      <td>22.739</td>\n",
       "    </tr>\n",
       "    <tr>\n",
       "      <th>2</th>\n",
       "      <td>0</td>\n",
       "      <td>53616.361218</td>\n",
       "      <td>3</td>\n",
       "      <td>27.020</td>\n",
       "    </tr>\n",
       "    <tr>\n",
       "      <th>3</th>\n",
       "      <td>32</td>\n",
       "      <td>53616.362877</td>\n",
       "      <td>4</td>\n",
       "      <td>21.498</td>\n",
       "    </tr>\n",
       "    <tr>\n",
       "      <th>4</th>\n",
       "      <td>4</td>\n",
       "      <td>53616.362048</td>\n",
       "      <td>0</td>\n",
       "      <td>25.049</td>\n",
       "    </tr>\n",
       "  </tbody>\n",
       "</table>\n",
       "</div>"
      ],
      "text/plain": [
       "   FLAG           MJD  FILT     MAG\n",
       "0     0  53616.363706     1  25.659\n",
       "1    32  53616.360389     2  22.739\n",
       "2     0  53616.361218     3  27.020\n",
       "3    32  53616.362877     4  21.498\n",
       "4     4  53616.362048     0  25.049"
      ]
     },
     "execution_count": 11,
     "metadata": {},
     "output_type": "execute_result"
    }
   ],
   "source": [
    "df = df.rename(columns = {'#FLAG': 'FLAG'})\n",
    "df.head()"
   ]
  },
  {
   "cell_type": "markdown",
   "metadata": {},
   "source": [
    "A seguir, com relação ao valor do *redshift* `Z` encontrado na segunda linha do arquivo extraído:"
   ]
  },
  {
   "cell_type": "code",
   "execution_count": 12,
   "metadata": {},
   "outputs": [
    {
     "name": "stdout",
     "output_type": "stream",
     "text": [
      "# Z:  0.06533 ZERR:  0.00016 SDSS TYPE:  120\n",
      "\n",
      "<class 'str'> 0.06533\n"
     ]
    }
   ],
   "source": [
    "with open('Dados/SDSS_Light_Curves/' + filename) as f:\n",
    "    f.readline()\n",
    "    scndline = f.readline()\n",
    "\n",
    "resp = re.search(r'[\\d.]+', scndline)\n",
    "Z = resp.group()\n",
    "\n",
    "print(scndline)\n",
    "print(type(Z), Z)"
   ]
  },
  {
   "cell_type": "markdown",
   "metadata": {},
   "source": [
    "E adicionamos ao nosso dataframe uma coluna com o valor de `Z`, convertendo-o em um número flutuante:"
   ]
  },
  {
   "cell_type": "code",
   "execution_count": 13,
   "metadata": {},
   "outputs": [
    {
     "data": {
      "text/html": [
       "<div>\n",
       "<style scoped>\n",
       "    .dataframe tbody tr th:only-of-type {\n",
       "        vertical-align: middle;\n",
       "    }\n",
       "\n",
       "    .dataframe tbody tr th {\n",
       "        vertical-align: top;\n",
       "    }\n",
       "\n",
       "    .dataframe thead th {\n",
       "        text-align: right;\n",
       "    }\n",
       "</style>\n",
       "<table border=\"1\" class=\"dataframe\">\n",
       "  <thead>\n",
       "    <tr style=\"text-align: right;\">\n",
       "      <th></th>\n",
       "      <th>FLAG</th>\n",
       "      <th>MJD</th>\n",
       "      <th>FILT</th>\n",
       "      <th>MAG</th>\n",
       "      <th>Z</th>\n",
       "    </tr>\n",
       "  </thead>\n",
       "  <tbody>\n",
       "    <tr>\n",
       "      <th>0</th>\n",
       "      <td>0</td>\n",
       "      <td>53616.363706</td>\n",
       "      <td>1</td>\n",
       "      <td>25.659</td>\n",
       "      <td>0.06533</td>\n",
       "    </tr>\n",
       "    <tr>\n",
       "      <th>1</th>\n",
       "      <td>32</td>\n",
       "      <td>53616.360389</td>\n",
       "      <td>2</td>\n",
       "      <td>22.739</td>\n",
       "      <td>0.06533</td>\n",
       "    </tr>\n",
       "    <tr>\n",
       "      <th>2</th>\n",
       "      <td>0</td>\n",
       "      <td>53616.361218</td>\n",
       "      <td>3</td>\n",
       "      <td>27.020</td>\n",
       "      <td>0.06533</td>\n",
       "    </tr>\n",
       "    <tr>\n",
       "      <th>3</th>\n",
       "      <td>32</td>\n",
       "      <td>53616.362877</td>\n",
       "      <td>4</td>\n",
       "      <td>21.498</td>\n",
       "      <td>0.06533</td>\n",
       "    </tr>\n",
       "    <tr>\n",
       "      <th>4</th>\n",
       "      <td>4</td>\n",
       "      <td>53616.362048</td>\n",
       "      <td>0</td>\n",
       "      <td>25.049</td>\n",
       "      <td>0.06533</td>\n",
       "    </tr>\n",
       "  </tbody>\n",
       "</table>\n",
       "</div>"
      ],
      "text/plain": [
       "   FLAG           MJD  FILT     MAG        Z\n",
       "0     0  53616.363706     1  25.659  0.06533\n",
       "1    32  53616.360389     2  22.739  0.06533\n",
       "2     0  53616.361218     3  27.020  0.06533\n",
       "3    32  53616.362877     4  21.498  0.06533\n",
       "4     4  53616.362048     0  25.049  0.06533"
      ]
     },
     "execution_count": 13,
     "metadata": {},
     "output_type": "execute_result"
    }
   ],
   "source": [
    "df['Z'] = float(Z)\n",
    "df.head()"
   ]
  },
  {
   "cell_type": "markdown",
   "metadata": {},
   "source": [
    "Também teremos que incluir no dataframe o `id` da supernova, que pode ser extraído do nome do arquivo:"
   ]
  },
  {
   "cell_type": "code",
   "execution_count": 14,
   "metadata": {},
   "outputs": [
    {
     "name": "stdout",
     "output_type": "stream",
     "text": [
      "SN10028.snphot-5.04.sum\n"
     ]
    }
   ],
   "source": [
    "print(filename)"
   ]
  },
  {
   "cell_type": "markdown",
   "metadata": {},
   "source": [
    "Vamos obter o `id` da supernova a partir do nome do arquivo usando um expressão regular (`re`):"
   ]
  },
  {
   "cell_type": "code",
   "execution_count": 15,
   "metadata": {},
   "outputs": [
    {
     "name": "stdout",
     "output_type": "stream",
     "text": [
      "SN10028\n"
     ]
    }
   ],
   "source": [
    "resp = re.search(r'\\w+', filename)\n",
    "SN = resp.group()\n",
    "\n",
    "print(SN)"
   ]
  },
  {
   "cell_type": "markdown",
   "metadata": {},
   "source": [
    "Em seguida, uma coluna será adicionada ao dataframe com o `id` da supernova:"
   ]
  },
  {
   "cell_type": "code",
   "execution_count": 16,
   "metadata": {},
   "outputs": [
    {
     "data": {
      "text/html": [
       "<div>\n",
       "<style scoped>\n",
       "    .dataframe tbody tr th:only-of-type {\n",
       "        vertical-align: middle;\n",
       "    }\n",
       "\n",
       "    .dataframe tbody tr th {\n",
       "        vertical-align: top;\n",
       "    }\n",
       "\n",
       "    .dataframe thead th {\n",
       "        text-align: right;\n",
       "    }\n",
       "</style>\n",
       "<table border=\"1\" class=\"dataframe\">\n",
       "  <thead>\n",
       "    <tr style=\"text-align: right;\">\n",
       "      <th></th>\n",
       "      <th>FLAG</th>\n",
       "      <th>MJD</th>\n",
       "      <th>FILT</th>\n",
       "      <th>MAG</th>\n",
       "      <th>Z</th>\n",
       "      <th>SN</th>\n",
       "    </tr>\n",
       "  </thead>\n",
       "  <tbody>\n",
       "    <tr>\n",
       "      <th>0</th>\n",
       "      <td>0</td>\n",
       "      <td>53616.363706</td>\n",
       "      <td>1</td>\n",
       "      <td>25.659</td>\n",
       "      <td>0.06533</td>\n",
       "      <td>SN10028</td>\n",
       "    </tr>\n",
       "    <tr>\n",
       "      <th>1</th>\n",
       "      <td>32</td>\n",
       "      <td>53616.360389</td>\n",
       "      <td>2</td>\n",
       "      <td>22.739</td>\n",
       "      <td>0.06533</td>\n",
       "      <td>SN10028</td>\n",
       "    </tr>\n",
       "    <tr>\n",
       "      <th>2</th>\n",
       "      <td>0</td>\n",
       "      <td>53616.361218</td>\n",
       "      <td>3</td>\n",
       "      <td>27.020</td>\n",
       "      <td>0.06533</td>\n",
       "      <td>SN10028</td>\n",
       "    </tr>\n",
       "    <tr>\n",
       "      <th>3</th>\n",
       "      <td>32</td>\n",
       "      <td>53616.362877</td>\n",
       "      <td>4</td>\n",
       "      <td>21.498</td>\n",
       "      <td>0.06533</td>\n",
       "      <td>SN10028</td>\n",
       "    </tr>\n",
       "    <tr>\n",
       "      <th>4</th>\n",
       "      <td>4</td>\n",
       "      <td>53616.362048</td>\n",
       "      <td>0</td>\n",
       "      <td>25.049</td>\n",
       "      <td>0.06533</td>\n",
       "      <td>SN10028</td>\n",
       "    </tr>\n",
       "  </tbody>\n",
       "</table>\n",
       "</div>"
      ],
      "text/plain": [
       "   FLAG           MJD  FILT     MAG        Z       SN\n",
       "0     0  53616.363706     1  25.659  0.06533  SN10028\n",
       "1    32  53616.360389     2  22.739  0.06533  SN10028\n",
       "2     0  53616.361218     3  27.020  0.06533  SN10028\n",
       "3    32  53616.362877     4  21.498  0.06533  SN10028\n",
       "4     4  53616.362048     0  25.049  0.06533  SN10028"
      ]
     },
     "execution_count": 16,
     "metadata": {},
     "output_type": "execute_result"
    }
   ],
   "source": [
    "df['SN'] = SN\n",
    "df.head()"
   ]
  },
  {
   "cell_type": "markdown",
   "metadata": {},
   "source": [
    "Este é o modelo de dataframe que desejamos. Agora vamos examinar os nomes de arquivo restantes, adicionando linhas."
   ]
  },
  {
   "cell_type": "code",
   "execution_count": 17,
   "metadata": {},
   "outputs": [],
   "source": [
    "for filename in lc_files[1:]:\n",
    "    dftemp = pd.read_table('Dados/SDSS_Light_Curves/' + filename,\n",
    "                          skiprows=18, sep=r'\\s+')\n",
    "    dftemp = dftemp.iloc[:,0:4]\n",
    "    dftemp = dftemp.rename(columns = {'#FLAG':'FLAG'})\n",
    "    \n",
    "    with open('Dados/SDSS_Light_Curves/' + filename) as f:\n",
    "        f.readline()\n",
    "        scndline = f.readline()\n",
    "        \n",
    "    resp =  re.search(r'[\\d.]+', scndline)\n",
    "    Z = resp.group()\n",
    "    dftemp['Z'] = float(Z)\n",
    "    resp = re.search(r'\\w+', filename)\n",
    "    SN = resp.group()\n",
    "    dftemp['SN'] = SN\n",
    "    df = pd.concat([df, dftemp], ignore_index = True)"
   ]
  },
  {
   "cell_type": "markdown",
   "metadata": {},
   "source": [
    "Vamos dar uma olhada mais detalhada em nosso dataframe:"
   ]
  },
  {
   "cell_type": "code",
   "execution_count": 18,
   "metadata": {},
   "outputs": [
    {
     "name": "stdout",
     "output_type": "stream",
     "text": [
      "<class 'pandas.core.frame.DataFrame'>\n",
      "RangeIndex: 16708 entries, 0 to 16707\n",
      "Data columns (total 6 columns):\n",
      " #   Column  Non-Null Count  Dtype  \n",
      "---  ------  --------------  -----  \n",
      " 0   FLAG    16708 non-null  int64  \n",
      " 1   MJD     16708 non-null  float64\n",
      " 2   FILT    16708 non-null  int64  \n",
      " 3   MAG     16708 non-null  float64\n",
      " 4   Z       16708 non-null  float64\n",
      " 5   SN      16708 non-null  object \n",
      "dtypes: float64(3), int64(2), object(1)\n",
      "memory usage: 783.3+ KB\n"
     ]
    }
   ],
   "source": [
    "df.info()"
   ]
  },
  {
   "cell_type": "markdown",
   "metadata": {},
   "source": [
    "Vamos dar uma olhada em uma amostra de dados do dataframe:"
   ]
  },
  {
   "cell_type": "code",
   "execution_count": 19,
   "metadata": {},
   "outputs": [
    {
     "data": {
      "text/html": [
       "<div>\n",
       "<style scoped>\n",
       "    .dataframe tbody tr th:only-of-type {\n",
       "        vertical-align: middle;\n",
       "    }\n",
       "\n",
       "    .dataframe tbody tr th {\n",
       "        vertical-align: top;\n",
       "    }\n",
       "\n",
       "    .dataframe thead th {\n",
       "        text-align: right;\n",
       "    }\n",
       "</style>\n",
       "<table border=\"1\" class=\"dataframe\">\n",
       "  <thead>\n",
       "    <tr style=\"text-align: right;\">\n",
       "      <th></th>\n",
       "      <th>FLAG</th>\n",
       "      <th>MJD</th>\n",
       "      <th>FILT</th>\n",
       "      <th>MAG</th>\n",
       "      <th>Z</th>\n",
       "      <th>SN</th>\n",
       "    </tr>\n",
       "  </thead>\n",
       "  <tbody>\n",
       "    <tr>\n",
       "      <th>100</th>\n",
       "      <td>32</td>\n",
       "      <td>53704.265479</td>\n",
       "      <td>1</td>\n",
       "      <td>18.955</td>\n",
       "      <td>0.06533</td>\n",
       "      <td>SN10028</td>\n",
       "    </tr>\n",
       "    <tr>\n",
       "      <th>101</th>\n",
       "      <td>1184</td>\n",
       "      <td>53704.262162</td>\n",
       "      <td>2</td>\n",
       "      <td>18.825</td>\n",
       "      <td>0.06533</td>\n",
       "      <td>SN10028</td>\n",
       "    </tr>\n",
       "    <tr>\n",
       "      <th>102</th>\n",
       "      <td>32</td>\n",
       "      <td>53704.262991</td>\n",
       "      <td>3</td>\n",
       "      <td>19.032</td>\n",
       "      <td>0.06533</td>\n",
       "      <td>SN10028</td>\n",
       "    </tr>\n",
       "    <tr>\n",
       "      <th>103</th>\n",
       "      <td>160</td>\n",
       "      <td>53704.264650</td>\n",
       "      <td>4</td>\n",
       "      <td>19.148</td>\n",
       "      <td>0.06533</td>\n",
       "      <td>SN10028</td>\n",
       "    </tr>\n",
       "    <tr>\n",
       "      <th>104</th>\n",
       "      <td>32</td>\n",
       "      <td>53704.263820</td>\n",
       "      <td>0</td>\n",
       "      <td>20.735</td>\n",
       "      <td>0.06533</td>\n",
       "      <td>SN10028</td>\n",
       "    </tr>\n",
       "    <tr>\n",
       "      <th>105</th>\n",
       "      <td>8</td>\n",
       "      <td>53616.395290</td>\n",
       "      <td>1</td>\n",
       "      <td>25.260</td>\n",
       "      <td>0.07775</td>\n",
       "      <td>SN10096</td>\n",
       "    </tr>\n",
       "    <tr>\n",
       "      <th>106</th>\n",
       "      <td>0</td>\n",
       "      <td>53616.391972</td>\n",
       "      <td>2</td>\n",
       "      <td>26.469</td>\n",
       "      <td>0.07775</td>\n",
       "      <td>SN10096</td>\n",
       "    </tr>\n",
       "    <tr>\n",
       "      <th>107</th>\n",
       "      <td>32</td>\n",
       "      <td>53616.392802</td>\n",
       "      <td>3</td>\n",
       "      <td>23.493</td>\n",
       "      <td>0.07775</td>\n",
       "      <td>SN10096</td>\n",
       "    </tr>\n",
       "    <tr>\n",
       "      <th>108</th>\n",
       "      <td>32</td>\n",
       "      <td>53616.394460</td>\n",
       "      <td>4</td>\n",
       "      <td>21.202</td>\n",
       "      <td>0.07775</td>\n",
       "      <td>SN10096</td>\n",
       "    </tr>\n",
       "    <tr>\n",
       "      <th>109</th>\n",
       "      <td>128</td>\n",
       "      <td>53616.393631</td>\n",
       "      <td>0</td>\n",
       "      <td>26.155</td>\n",
       "      <td>0.07775</td>\n",
       "      <td>SN10096</td>\n",
       "    </tr>\n",
       "  </tbody>\n",
       "</table>\n",
       "</div>"
      ],
      "text/plain": [
       "     FLAG           MJD  FILT     MAG        Z       SN\n",
       "100    32  53704.265479     1  18.955  0.06533  SN10028\n",
       "101  1184  53704.262162     2  18.825  0.06533  SN10028\n",
       "102    32  53704.262991     3  19.032  0.06533  SN10028\n",
       "103   160  53704.264650     4  19.148  0.06533  SN10028\n",
       "104    32  53704.263820     0  20.735  0.06533  SN10028\n",
       "105     8  53616.395290     1  25.260  0.07775  SN10096\n",
       "106     0  53616.391972     2  26.469  0.07775  SN10096\n",
       "107    32  53616.392802     3  23.493  0.07775  SN10096\n",
       "108    32  53616.394460     4  21.202  0.07775  SN10096\n",
       "109   128  53616.393631     0  26.155  0.07775  SN10096"
      ]
     },
     "execution_count": 19,
     "metadata": {},
     "output_type": "execute_result"
    }
   ],
   "source": [
    "df[100:110]"
   ]
  },
  {
   "cell_type": "markdown",
   "metadata": {},
   "source": [
    "Conforme indicado no cabeçalho dos arquivos de dados da curva de luz, as medições com um sinalizador maior que 1024 (`flag > 1024`) não são confiáveis. Vamos limpar nosso dataframe removendo os valores com um sinalizador maior ou igual a 1024 (`flag` $\\geq$ `1024`):"
   ]
  },
  {
   "cell_type": "code",
   "execution_count": 20,
   "metadata": {},
   "outputs": [
    {
     "name": "stdout",
     "output_type": "stream",
     "text": [
      "<class 'pandas.core.frame.DataFrame'>\n",
      "Int64Index: 15838 entries, 0 to 16707\n",
      "Data columns (total 6 columns):\n",
      " #   Column  Non-Null Count  Dtype  \n",
      "---  ------  --------------  -----  \n",
      " 0   FLAG    15838 non-null  int64  \n",
      " 1   MJD     15838 non-null  float64\n",
      " 2   FILT    15838 non-null  int64  \n",
      " 3   MAG     15838 non-null  float64\n",
      " 4   Z       15838 non-null  float64\n",
      " 5   SN      15838 non-null  object \n",
      "dtypes: float64(3), int64(2), object(1)\n",
      "memory usage: 866.1+ KB\n"
     ]
    }
   ],
   "source": [
    "b = df['FLAG'] < 1024\n",
    "df = df[b]\n",
    "\n",
    "df.info()"
   ]
  },
  {
   "cell_type": "markdown",
   "metadata": {},
   "source": [
    "### 2.4 Representação das curvas de luz"
   ]
  },
  {
   "cell_type": "markdown",
   "metadata": {},
   "source": [
    "Embora não seja essencial para o propósito de representar um diagrama de Hubble, vamos gerar uma representação gráfica da curva de luz de uma das supernovas cujos dados foram lidos, o que ajudará a entender melhor todo o processo."
   ]
  },
  {
   "cell_type": "markdown",
   "metadata": {},
   "source": [
    "Começamos criando uma lista com todos os identificadores de supernovas e escolhemos um deles (aqui optaremos por escolher a supernova `SN2031`):"
   ]
  },
  {
   "cell_type": "code",
   "execution_count": 21,
   "metadata": {
    "scrolled": true
   },
   "outputs": [],
   "source": [
    "list_SN = list(df['SN'].unique())\n",
    "SNid = list_SN[30]"
   ]
  },
  {
   "cell_type": "markdown",
   "metadata": {},
   "source": [
    "Selecionamos somente valores do filtro 1 (`g`):"
   ]
  },
  {
   "cell_type": "code",
   "execution_count": 22,
   "metadata": {},
   "outputs": [],
   "source": [
    "b = (df['SN'] == SNid) & (df['FILT'] == 1)\n",
    "df_g = df[b].sort_values('MJD', axis = 0)"
   ]
  },
  {
   "cell_type": "markdown",
   "metadata": {},
   "source": [
    "A seguir, selecionamos somente valores do filtro 2 (`r`):"
   ]
  },
  {
   "cell_type": "code",
   "execution_count": 23,
   "metadata": {},
   "outputs": [],
   "source": [
    "b = (df['SN'] == SNid) & (df['FILT'] == 2)\n",
    "df_r = df[b].sort_values('MJD', axis = 0)"
   ]
  },
  {
   "cell_type": "markdown",
   "metadata": {},
   "source": [
    "Agora vamos representar graficamente a curva de luz correspondente nos filtro `g` e `r`:"
   ]
  },
  {
   "cell_type": "code",
   "execution_count": 24,
   "metadata": {},
   "outputs": [
    {
     "data": {
      "application/javascript": [
       "/* Put everything inside the global mpl namespace */\n",
       "window.mpl = {};\n",
       "\n",
       "\n",
       "mpl.get_websocket_type = function() {\n",
       "    if (typeof(WebSocket) !== 'undefined') {\n",
       "        return WebSocket;\n",
       "    } else if (typeof(MozWebSocket) !== 'undefined') {\n",
       "        return MozWebSocket;\n",
       "    } else {\n",
       "        alert('Your browser does not have WebSocket support. ' +\n",
       "              'Please try Chrome, Safari or Firefox ≥ 6. ' +\n",
       "              'Firefox 4 and 5 are also supported but you ' +\n",
       "              'have to enable WebSockets in about:config.');\n",
       "    };\n",
       "}\n",
       "\n",
       "mpl.figure = function(figure_id, websocket, ondownload, parent_element) {\n",
       "    this.id = figure_id;\n",
       "\n",
       "    this.ws = websocket;\n",
       "\n",
       "    this.supports_binary = (this.ws.binaryType != undefined);\n",
       "\n",
       "    if (!this.supports_binary) {\n",
       "        var warnings = document.getElementById(\"mpl-warnings\");\n",
       "        if (warnings) {\n",
       "            warnings.style.display = 'block';\n",
       "            warnings.textContent = (\n",
       "                \"This browser does not support binary websocket messages. \" +\n",
       "                    \"Performance may be slow.\");\n",
       "        }\n",
       "    }\n",
       "\n",
       "    this.imageObj = new Image();\n",
       "\n",
       "    this.context = undefined;\n",
       "    this.message = undefined;\n",
       "    this.canvas = undefined;\n",
       "    this.rubberband_canvas = undefined;\n",
       "    this.rubberband_context = undefined;\n",
       "    this.format_dropdown = undefined;\n",
       "\n",
       "    this.image_mode = 'full';\n",
       "\n",
       "    this.root = $('<div/>');\n",
       "    this._root_extra_style(this.root)\n",
       "    this.root.attr('style', 'display: inline-block');\n",
       "\n",
       "    $(parent_element).append(this.root);\n",
       "\n",
       "    this._init_header(this);\n",
       "    this._init_canvas(this);\n",
       "    this._init_toolbar(this);\n",
       "\n",
       "    var fig = this;\n",
       "\n",
       "    this.waiting = false;\n",
       "\n",
       "    this.ws.onopen =  function () {\n",
       "            fig.send_message(\"supports_binary\", {value: fig.supports_binary});\n",
       "            fig.send_message(\"send_image_mode\", {});\n",
       "            if (mpl.ratio != 1) {\n",
       "                fig.send_message(\"set_dpi_ratio\", {'dpi_ratio': mpl.ratio});\n",
       "            }\n",
       "            fig.send_message(\"refresh\", {});\n",
       "        }\n",
       "\n",
       "    this.imageObj.onload = function() {\n",
       "            if (fig.image_mode == 'full') {\n",
       "                // Full images could contain transparency (where diff images\n",
       "                // almost always do), so we need to clear the canvas so that\n",
       "                // there is no ghosting.\n",
       "                fig.context.clearRect(0, 0, fig.canvas.width, fig.canvas.height);\n",
       "            }\n",
       "            fig.context.drawImage(fig.imageObj, 0, 0);\n",
       "        };\n",
       "\n",
       "    this.imageObj.onunload = function() {\n",
       "        fig.ws.close();\n",
       "    }\n",
       "\n",
       "    this.ws.onmessage = this._make_on_message_function(this);\n",
       "\n",
       "    this.ondownload = ondownload;\n",
       "}\n",
       "\n",
       "mpl.figure.prototype._init_header = function() {\n",
       "    var titlebar = $(\n",
       "        '<div class=\"ui-dialog-titlebar ui-widget-header ui-corner-all ' +\n",
       "        'ui-helper-clearfix\"/>');\n",
       "    var titletext = $(\n",
       "        '<div class=\"ui-dialog-title\" style=\"width: 100%; ' +\n",
       "        'text-align: center; padding: 3px;\"/>');\n",
       "    titlebar.append(titletext)\n",
       "    this.root.append(titlebar);\n",
       "    this.header = titletext[0];\n",
       "}\n",
       "\n",
       "\n",
       "\n",
       "mpl.figure.prototype._canvas_extra_style = function(canvas_div) {\n",
       "\n",
       "}\n",
       "\n",
       "\n",
       "mpl.figure.prototype._root_extra_style = function(canvas_div) {\n",
       "\n",
       "}\n",
       "\n",
       "mpl.figure.prototype._init_canvas = function() {\n",
       "    var fig = this;\n",
       "\n",
       "    var canvas_div = $('<div/>');\n",
       "\n",
       "    canvas_div.attr('style', 'position: relative; clear: both; outline: 0');\n",
       "\n",
       "    function canvas_keyboard_event(event) {\n",
       "        return fig.key_event(event, event['data']);\n",
       "    }\n",
       "\n",
       "    canvas_div.keydown('key_press', canvas_keyboard_event);\n",
       "    canvas_div.keyup('key_release', canvas_keyboard_event);\n",
       "    this.canvas_div = canvas_div\n",
       "    this._canvas_extra_style(canvas_div)\n",
       "    this.root.append(canvas_div);\n",
       "\n",
       "    var canvas = $('<canvas/>');\n",
       "    canvas.addClass('mpl-canvas');\n",
       "    canvas.attr('style', \"left: 0; top: 0; z-index: 0; outline: 0\")\n",
       "\n",
       "    this.canvas = canvas[0];\n",
       "    this.context = canvas[0].getContext(\"2d\");\n",
       "\n",
       "    var backingStore = this.context.backingStorePixelRatio ||\n",
       "\tthis.context.webkitBackingStorePixelRatio ||\n",
       "\tthis.context.mozBackingStorePixelRatio ||\n",
       "\tthis.context.msBackingStorePixelRatio ||\n",
       "\tthis.context.oBackingStorePixelRatio ||\n",
       "\tthis.context.backingStorePixelRatio || 1;\n",
       "\n",
       "    mpl.ratio = (window.devicePixelRatio || 1) / backingStore;\n",
       "\n",
       "    var rubberband = $('<canvas/>');\n",
       "    rubberband.attr('style', \"position: absolute; left: 0; top: 0; z-index: 1;\")\n",
       "\n",
       "    var pass_mouse_events = true;\n",
       "\n",
       "    canvas_div.resizable({\n",
       "        start: function(event, ui) {\n",
       "            pass_mouse_events = false;\n",
       "        },\n",
       "        resize: function(event, ui) {\n",
       "            fig.request_resize(ui.size.width, ui.size.height);\n",
       "        },\n",
       "        stop: function(event, ui) {\n",
       "            pass_mouse_events = true;\n",
       "            fig.request_resize(ui.size.width, ui.size.height);\n",
       "        },\n",
       "    });\n",
       "\n",
       "    function mouse_event_fn(event) {\n",
       "        if (pass_mouse_events)\n",
       "            return fig.mouse_event(event, event['data']);\n",
       "    }\n",
       "\n",
       "    rubberband.mousedown('button_press', mouse_event_fn);\n",
       "    rubberband.mouseup('button_release', mouse_event_fn);\n",
       "    // Throttle sequential mouse events to 1 every 20ms.\n",
       "    rubberband.mousemove('motion_notify', mouse_event_fn);\n",
       "\n",
       "    rubberband.mouseenter('figure_enter', mouse_event_fn);\n",
       "    rubberband.mouseleave('figure_leave', mouse_event_fn);\n",
       "\n",
       "    canvas_div.on(\"wheel\", function (event) {\n",
       "        event = event.originalEvent;\n",
       "        event['data'] = 'scroll'\n",
       "        if (event.deltaY < 0) {\n",
       "            event.step = 1;\n",
       "        } else {\n",
       "            event.step = -1;\n",
       "        }\n",
       "        mouse_event_fn(event);\n",
       "    });\n",
       "\n",
       "    canvas_div.append(canvas);\n",
       "    canvas_div.append(rubberband);\n",
       "\n",
       "    this.rubberband = rubberband;\n",
       "    this.rubberband_canvas = rubberband[0];\n",
       "    this.rubberband_context = rubberband[0].getContext(\"2d\");\n",
       "    this.rubberband_context.strokeStyle = \"#000000\";\n",
       "\n",
       "    this._resize_canvas = function(width, height) {\n",
       "        // Keep the size of the canvas, canvas container, and rubber band\n",
       "        // canvas in synch.\n",
       "        canvas_div.css('width', width)\n",
       "        canvas_div.css('height', height)\n",
       "\n",
       "        canvas.attr('width', width * mpl.ratio);\n",
       "        canvas.attr('height', height * mpl.ratio);\n",
       "        canvas.attr('style', 'width: ' + width + 'px; height: ' + height + 'px;');\n",
       "\n",
       "        rubberband.attr('width', width);\n",
       "        rubberband.attr('height', height);\n",
       "    }\n",
       "\n",
       "    // Set the figure to an initial 600x600px, this will subsequently be updated\n",
       "    // upon first draw.\n",
       "    this._resize_canvas(600, 600);\n",
       "\n",
       "    // Disable right mouse context menu.\n",
       "    $(this.rubberband_canvas).bind(\"contextmenu\",function(e){\n",
       "        return false;\n",
       "    });\n",
       "\n",
       "    function set_focus () {\n",
       "        canvas.focus();\n",
       "        canvas_div.focus();\n",
       "    }\n",
       "\n",
       "    window.setTimeout(set_focus, 100);\n",
       "}\n",
       "\n",
       "mpl.figure.prototype._init_toolbar = function() {\n",
       "    var fig = this;\n",
       "\n",
       "    var nav_element = $('<div/>');\n",
       "    nav_element.attr('style', 'width: 100%');\n",
       "    this.root.append(nav_element);\n",
       "\n",
       "    // Define a callback function for later on.\n",
       "    function toolbar_event(event) {\n",
       "        return fig.toolbar_button_onclick(event['data']);\n",
       "    }\n",
       "    function toolbar_mouse_event(event) {\n",
       "        return fig.toolbar_button_onmouseover(event['data']);\n",
       "    }\n",
       "\n",
       "    for(var toolbar_ind in mpl.toolbar_items) {\n",
       "        var name = mpl.toolbar_items[toolbar_ind][0];\n",
       "        var tooltip = mpl.toolbar_items[toolbar_ind][1];\n",
       "        var image = mpl.toolbar_items[toolbar_ind][2];\n",
       "        var method_name = mpl.toolbar_items[toolbar_ind][3];\n",
       "\n",
       "        if (!name) {\n",
       "            // put a spacer in here.\n",
       "            continue;\n",
       "        }\n",
       "        var button = $('<button/>');\n",
       "        button.addClass('ui-button ui-widget ui-state-default ui-corner-all ' +\n",
       "                        'ui-button-icon-only');\n",
       "        button.attr('role', 'button');\n",
       "        button.attr('aria-disabled', 'false');\n",
       "        button.click(method_name, toolbar_event);\n",
       "        button.mouseover(tooltip, toolbar_mouse_event);\n",
       "\n",
       "        var icon_img = $('<span/>');\n",
       "        icon_img.addClass('ui-button-icon-primary ui-icon');\n",
       "        icon_img.addClass(image);\n",
       "        icon_img.addClass('ui-corner-all');\n",
       "\n",
       "        var tooltip_span = $('<span/>');\n",
       "        tooltip_span.addClass('ui-button-text');\n",
       "        tooltip_span.html(tooltip);\n",
       "\n",
       "        button.append(icon_img);\n",
       "        button.append(tooltip_span);\n",
       "\n",
       "        nav_element.append(button);\n",
       "    }\n",
       "\n",
       "    var fmt_picker_span = $('<span/>');\n",
       "\n",
       "    var fmt_picker = $('<select/>');\n",
       "    fmt_picker.addClass('mpl-toolbar-option ui-widget ui-widget-content');\n",
       "    fmt_picker_span.append(fmt_picker);\n",
       "    nav_element.append(fmt_picker_span);\n",
       "    this.format_dropdown = fmt_picker[0];\n",
       "\n",
       "    for (var ind in mpl.extensions) {\n",
       "        var fmt = mpl.extensions[ind];\n",
       "        var option = $(\n",
       "            '<option/>', {selected: fmt === mpl.default_extension}).html(fmt);\n",
       "        fmt_picker.append(option);\n",
       "    }\n",
       "\n",
       "    // Add hover states to the ui-buttons\n",
       "    $( \".ui-button\" ).hover(\n",
       "        function() { $(this).addClass(\"ui-state-hover\");},\n",
       "        function() { $(this).removeClass(\"ui-state-hover\");}\n",
       "    );\n",
       "\n",
       "    var status_bar = $('<span class=\"mpl-message\"/>');\n",
       "    nav_element.append(status_bar);\n",
       "    this.message = status_bar[0];\n",
       "}\n",
       "\n",
       "mpl.figure.prototype.request_resize = function(x_pixels, y_pixels) {\n",
       "    // Request matplotlib to resize the figure. Matplotlib will then trigger a resize in the client,\n",
       "    // which will in turn request a refresh of the image.\n",
       "    this.send_message('resize', {'width': x_pixels, 'height': y_pixels});\n",
       "}\n",
       "\n",
       "mpl.figure.prototype.send_message = function(type, properties) {\n",
       "    properties['type'] = type;\n",
       "    properties['figure_id'] = this.id;\n",
       "    this.ws.send(JSON.stringify(properties));\n",
       "}\n",
       "\n",
       "mpl.figure.prototype.send_draw_message = function() {\n",
       "    if (!this.waiting) {\n",
       "        this.waiting = true;\n",
       "        this.ws.send(JSON.stringify({type: \"draw\", figure_id: this.id}));\n",
       "    }\n",
       "}\n",
       "\n",
       "\n",
       "mpl.figure.prototype.handle_save = function(fig, msg) {\n",
       "    var format_dropdown = fig.format_dropdown;\n",
       "    var format = format_dropdown.options[format_dropdown.selectedIndex].value;\n",
       "    fig.ondownload(fig, format);\n",
       "}\n",
       "\n",
       "\n",
       "mpl.figure.prototype.handle_resize = function(fig, msg) {\n",
       "    var size = msg['size'];\n",
       "    if (size[0] != fig.canvas.width || size[1] != fig.canvas.height) {\n",
       "        fig._resize_canvas(size[0], size[1]);\n",
       "        fig.send_message(\"refresh\", {});\n",
       "    };\n",
       "}\n",
       "\n",
       "mpl.figure.prototype.handle_rubberband = function(fig, msg) {\n",
       "    var x0 = msg['x0'] / mpl.ratio;\n",
       "    var y0 = (fig.canvas.height - msg['y0']) / mpl.ratio;\n",
       "    var x1 = msg['x1'] / mpl.ratio;\n",
       "    var y1 = (fig.canvas.height - msg['y1']) / mpl.ratio;\n",
       "    x0 = Math.floor(x0) + 0.5;\n",
       "    y0 = Math.floor(y0) + 0.5;\n",
       "    x1 = Math.floor(x1) + 0.5;\n",
       "    y1 = Math.floor(y1) + 0.5;\n",
       "    var min_x = Math.min(x0, x1);\n",
       "    var min_y = Math.min(y0, y1);\n",
       "    var width = Math.abs(x1 - x0);\n",
       "    var height = Math.abs(y1 - y0);\n",
       "\n",
       "    fig.rubberband_context.clearRect(\n",
       "        0, 0, fig.canvas.width / mpl.ratio, fig.canvas.height / mpl.ratio);\n",
       "\n",
       "    fig.rubberband_context.strokeRect(min_x, min_y, width, height);\n",
       "}\n",
       "\n",
       "mpl.figure.prototype.handle_figure_label = function(fig, msg) {\n",
       "    // Updates the figure title.\n",
       "    fig.header.textContent = msg['label'];\n",
       "}\n",
       "\n",
       "mpl.figure.prototype.handle_cursor = function(fig, msg) {\n",
       "    var cursor = msg['cursor'];\n",
       "    switch(cursor)\n",
       "    {\n",
       "    case 0:\n",
       "        cursor = 'pointer';\n",
       "        break;\n",
       "    case 1:\n",
       "        cursor = 'default';\n",
       "        break;\n",
       "    case 2:\n",
       "        cursor = 'crosshair';\n",
       "        break;\n",
       "    case 3:\n",
       "        cursor = 'move';\n",
       "        break;\n",
       "    }\n",
       "    fig.rubberband_canvas.style.cursor = cursor;\n",
       "}\n",
       "\n",
       "mpl.figure.prototype.handle_message = function(fig, msg) {\n",
       "    fig.message.textContent = msg['message'];\n",
       "}\n",
       "\n",
       "mpl.figure.prototype.handle_draw = function(fig, msg) {\n",
       "    // Request the server to send over a new figure.\n",
       "    fig.send_draw_message();\n",
       "}\n",
       "\n",
       "mpl.figure.prototype.handle_image_mode = function(fig, msg) {\n",
       "    fig.image_mode = msg['mode'];\n",
       "}\n",
       "\n",
       "mpl.figure.prototype.updated_canvas_event = function() {\n",
       "    // Called whenever the canvas gets updated.\n",
       "    this.send_message(\"ack\", {});\n",
       "}\n",
       "\n",
       "// A function to construct a web socket function for onmessage handling.\n",
       "// Called in the figure constructor.\n",
       "mpl.figure.prototype._make_on_message_function = function(fig) {\n",
       "    return function socket_on_message(evt) {\n",
       "        if (evt.data instanceof Blob) {\n",
       "            /* FIXME: We get \"Resource interpreted as Image but\n",
       "             * transferred with MIME type text/plain:\" errors on\n",
       "             * Chrome.  But how to set the MIME type?  It doesn't seem\n",
       "             * to be part of the websocket stream */\n",
       "            evt.data.type = \"image/png\";\n",
       "\n",
       "            /* Free the memory for the previous frames */\n",
       "            if (fig.imageObj.src) {\n",
       "                (window.URL || window.webkitURL).revokeObjectURL(\n",
       "                    fig.imageObj.src);\n",
       "            }\n",
       "\n",
       "            fig.imageObj.src = (window.URL || window.webkitURL).createObjectURL(\n",
       "                evt.data);\n",
       "            fig.updated_canvas_event();\n",
       "            fig.waiting = false;\n",
       "            return;\n",
       "        }\n",
       "        else if (typeof evt.data === 'string' && evt.data.slice(0, 21) == \"data:image/png;base64\") {\n",
       "            fig.imageObj.src = evt.data;\n",
       "            fig.updated_canvas_event();\n",
       "            fig.waiting = false;\n",
       "            return;\n",
       "        }\n",
       "\n",
       "        var msg = JSON.parse(evt.data);\n",
       "        var msg_type = msg['type'];\n",
       "\n",
       "        // Call the  \"handle_{type}\" callback, which takes\n",
       "        // the figure and JSON message as its only arguments.\n",
       "        try {\n",
       "            var callback = fig[\"handle_\" + msg_type];\n",
       "        } catch (e) {\n",
       "            console.log(\"No handler for the '\" + msg_type + \"' message type: \", msg);\n",
       "            return;\n",
       "        }\n",
       "\n",
       "        if (callback) {\n",
       "            try {\n",
       "                // console.log(\"Handling '\" + msg_type + \"' message: \", msg);\n",
       "                callback(fig, msg);\n",
       "            } catch (e) {\n",
       "                console.log(\"Exception inside the 'handler_\" + msg_type + \"' callback:\", e, e.stack, msg);\n",
       "            }\n",
       "        }\n",
       "    };\n",
       "}\n",
       "\n",
       "// from http://stackoverflow.com/questions/1114465/getting-mouse-location-in-canvas\n",
       "mpl.findpos = function(e) {\n",
       "    //this section is from http://www.quirksmode.org/js/events_properties.html\n",
       "    var targ;\n",
       "    if (!e)\n",
       "        e = window.event;\n",
       "    if (e.target)\n",
       "        targ = e.target;\n",
       "    else if (e.srcElement)\n",
       "        targ = e.srcElement;\n",
       "    if (targ.nodeType == 3) // defeat Safari bug\n",
       "        targ = targ.parentNode;\n",
       "\n",
       "    // jQuery normalizes the pageX and pageY\n",
       "    // pageX,Y are the mouse positions relative to the document\n",
       "    // offset() returns the position of the element relative to the document\n",
       "    var x = e.pageX - $(targ).offset().left;\n",
       "    var y = e.pageY - $(targ).offset().top;\n",
       "\n",
       "    return {\"x\": x, \"y\": y};\n",
       "};\n",
       "\n",
       "/*\n",
       " * return a copy of an object with only non-object keys\n",
       " * we need this to avoid circular references\n",
       " * http://stackoverflow.com/a/24161582/3208463\n",
       " */\n",
       "function simpleKeys (original) {\n",
       "  return Object.keys(original).reduce(function (obj, key) {\n",
       "    if (typeof original[key] !== 'object')\n",
       "        obj[key] = original[key]\n",
       "    return obj;\n",
       "  }, {});\n",
       "}\n",
       "\n",
       "mpl.figure.prototype.mouse_event = function(event, name) {\n",
       "    var canvas_pos = mpl.findpos(event)\n",
       "\n",
       "    if (name === 'button_press')\n",
       "    {\n",
       "        this.canvas.focus();\n",
       "        this.canvas_div.focus();\n",
       "    }\n",
       "\n",
       "    var x = canvas_pos.x * mpl.ratio;\n",
       "    var y = canvas_pos.y * mpl.ratio;\n",
       "\n",
       "    this.send_message(name, {x: x, y: y, button: event.button,\n",
       "                             step: event.step,\n",
       "                             guiEvent: simpleKeys(event)});\n",
       "\n",
       "    /* This prevents the web browser from automatically changing to\n",
       "     * the text insertion cursor when the button is pressed.  We want\n",
       "     * to control all of the cursor setting manually through the\n",
       "     * 'cursor' event from matplotlib */\n",
       "    event.preventDefault();\n",
       "    return false;\n",
       "}\n",
       "\n",
       "mpl.figure.prototype._key_event_extra = function(event, name) {\n",
       "    // Handle any extra behaviour associated with a key event\n",
       "}\n",
       "\n",
       "mpl.figure.prototype.key_event = function(event, name) {\n",
       "\n",
       "    // Prevent repeat events\n",
       "    if (name == 'key_press')\n",
       "    {\n",
       "        if (event.which === this._key)\n",
       "            return;\n",
       "        else\n",
       "            this._key = event.which;\n",
       "    }\n",
       "    if (name == 'key_release')\n",
       "        this._key = null;\n",
       "\n",
       "    var value = '';\n",
       "    if (event.ctrlKey && event.which != 17)\n",
       "        value += \"ctrl+\";\n",
       "    if (event.altKey && event.which != 18)\n",
       "        value += \"alt+\";\n",
       "    if (event.shiftKey && event.which != 16)\n",
       "        value += \"shift+\";\n",
       "\n",
       "    value += 'k';\n",
       "    value += event.which.toString();\n",
       "\n",
       "    this._key_event_extra(event, name);\n",
       "\n",
       "    this.send_message(name, {key: value,\n",
       "                             guiEvent: simpleKeys(event)});\n",
       "    return false;\n",
       "}\n",
       "\n",
       "mpl.figure.prototype.toolbar_button_onclick = function(name) {\n",
       "    if (name == 'download') {\n",
       "        this.handle_save(this, null);\n",
       "    } else {\n",
       "        this.send_message(\"toolbar_button\", {name: name});\n",
       "    }\n",
       "};\n",
       "\n",
       "mpl.figure.prototype.toolbar_button_onmouseover = function(tooltip) {\n",
       "    this.message.textContent = tooltip;\n",
       "};\n",
       "mpl.toolbar_items = [[\"Home\", \"Reset original view\", \"fa fa-home icon-home\", \"home\"], [\"Back\", \"Back to previous view\", \"fa fa-arrow-left icon-arrow-left\", \"back\"], [\"Forward\", \"Forward to next view\", \"fa fa-arrow-right icon-arrow-right\", \"forward\"], [\"\", \"\", \"\", \"\"], [\"Pan\", \"Pan axes with left mouse, zoom with right\", \"fa fa-arrows icon-move\", \"pan\"], [\"Zoom\", \"Zoom to rectangle\", \"fa fa-square-o icon-check-empty\", \"zoom\"], [\"\", \"\", \"\", \"\"], [\"Download\", \"Download plot\", \"fa fa-floppy-o icon-save\", \"download\"]];\n",
       "\n",
       "mpl.extensions = [\"eps\", \"jpeg\", \"pdf\", \"png\", \"ps\", \"raw\", \"svg\", \"tif\"];\n",
       "\n",
       "mpl.default_extension = \"png\";var comm_websocket_adapter = function(comm) {\n",
       "    // Create a \"websocket\"-like object which calls the given IPython comm\n",
       "    // object with the appropriate methods. Currently this is a non binary\n",
       "    // socket, so there is still some room for performance tuning.\n",
       "    var ws = {};\n",
       "\n",
       "    ws.close = function() {\n",
       "        comm.close()\n",
       "    };\n",
       "    ws.send = function(m) {\n",
       "        //console.log('sending', m);\n",
       "        comm.send(m);\n",
       "    };\n",
       "    // Register the callback with on_msg.\n",
       "    comm.on_msg(function(msg) {\n",
       "        //console.log('receiving', msg['content']['data'], msg);\n",
       "        // Pass the mpl event to the overridden (by mpl) onmessage function.\n",
       "        ws.onmessage(msg['content']['data'])\n",
       "    });\n",
       "    return ws;\n",
       "}\n",
       "\n",
       "mpl.mpl_figure_comm = function(comm, msg) {\n",
       "    // This is the function which gets called when the mpl process\n",
       "    // starts-up an IPython Comm through the \"matplotlib\" channel.\n",
       "\n",
       "    var id = msg.content.data.id;\n",
       "    // Get hold of the div created by the display call when the Comm\n",
       "    // socket was opened in Python.\n",
       "    var element = $(\"#\" + id);\n",
       "    var ws_proxy = comm_websocket_adapter(comm)\n",
       "\n",
       "    function ondownload(figure, format) {\n",
       "        window.open(figure.imageObj.src);\n",
       "    }\n",
       "\n",
       "    var fig = new mpl.figure(id, ws_proxy,\n",
       "                           ondownload,\n",
       "                           element.get(0));\n",
       "\n",
       "    // Call onopen now - mpl needs it, as it is assuming we've passed it a real\n",
       "    // web socket which is closed, not our websocket->open comm proxy.\n",
       "    ws_proxy.onopen();\n",
       "\n",
       "    fig.parent_element = element.get(0);\n",
       "    fig.cell_info = mpl.find_output_cell(\"<div id='\" + id + \"'></div>\");\n",
       "    if (!fig.cell_info) {\n",
       "        console.error(\"Failed to find cell for figure\", id, fig);\n",
       "        return;\n",
       "    }\n",
       "\n",
       "    var output_index = fig.cell_info[2]\n",
       "    var cell = fig.cell_info[0];\n",
       "\n",
       "};\n",
       "\n",
       "mpl.figure.prototype.handle_close = function(fig, msg) {\n",
       "    var width = fig.canvas.width/mpl.ratio\n",
       "    fig.root.unbind('remove')\n",
       "\n",
       "    // Update the output cell to use the data from the current canvas.\n",
       "    fig.push_to_output();\n",
       "    var dataURL = fig.canvas.toDataURL();\n",
       "    // Re-enable the keyboard manager in IPython - without this line, in FF,\n",
       "    // the notebook keyboard shortcuts fail.\n",
       "    IPython.keyboard_manager.enable()\n",
       "    $(fig.parent_element).html('<img src=\"' + dataURL + '\" width=\"' + width + '\">');\n",
       "    fig.close_ws(fig, msg);\n",
       "}\n",
       "\n",
       "mpl.figure.prototype.close_ws = function(fig, msg){\n",
       "    fig.send_message('closing', msg);\n",
       "    // fig.ws.close()\n",
       "}\n",
       "\n",
       "mpl.figure.prototype.push_to_output = function(remove_interactive) {\n",
       "    // Turn the data on the canvas into data in the output cell.\n",
       "    var width = this.canvas.width/mpl.ratio\n",
       "    var dataURL = this.canvas.toDataURL();\n",
       "    this.cell_info[1]['text/html'] = '<img src=\"' + dataURL + '\" width=\"' + width + '\">';\n",
       "}\n",
       "\n",
       "mpl.figure.prototype.updated_canvas_event = function() {\n",
       "    // Tell IPython that the notebook contents must change.\n",
       "    IPython.notebook.set_dirty(true);\n",
       "    this.send_message(\"ack\", {});\n",
       "    var fig = this;\n",
       "    // Wait a second, then push the new image to the DOM so\n",
       "    // that it is saved nicely (might be nice to debounce this).\n",
       "    setTimeout(function () { fig.push_to_output() }, 1000);\n",
       "}\n",
       "\n",
       "mpl.figure.prototype._init_toolbar = function() {\n",
       "    var fig = this;\n",
       "\n",
       "    var nav_element = $('<div/>');\n",
       "    nav_element.attr('style', 'width: 100%');\n",
       "    this.root.append(nav_element);\n",
       "\n",
       "    // Define a callback function for later on.\n",
       "    function toolbar_event(event) {\n",
       "        return fig.toolbar_button_onclick(event['data']);\n",
       "    }\n",
       "    function toolbar_mouse_event(event) {\n",
       "        return fig.toolbar_button_onmouseover(event['data']);\n",
       "    }\n",
       "\n",
       "    for(var toolbar_ind in mpl.toolbar_items){\n",
       "        var name = mpl.toolbar_items[toolbar_ind][0];\n",
       "        var tooltip = mpl.toolbar_items[toolbar_ind][1];\n",
       "        var image = mpl.toolbar_items[toolbar_ind][2];\n",
       "        var method_name = mpl.toolbar_items[toolbar_ind][3];\n",
       "\n",
       "        if (!name) { continue; };\n",
       "\n",
       "        var button = $('<button class=\"btn btn-default\" href=\"#\" title=\"' + name + '\"><i class=\"fa ' + image + ' fa-lg\"></i></button>');\n",
       "        button.click(method_name, toolbar_event);\n",
       "        button.mouseover(tooltip, toolbar_mouse_event);\n",
       "        nav_element.append(button);\n",
       "    }\n",
       "\n",
       "    // Add the status bar.\n",
       "    var status_bar = $('<span class=\"mpl-message\" style=\"text-align:right; float: right;\"/>');\n",
       "    nav_element.append(status_bar);\n",
       "    this.message = status_bar[0];\n",
       "\n",
       "    // Add the close button to the window.\n",
       "    var buttongrp = $('<div class=\"btn-group inline pull-right\"></div>');\n",
       "    var button = $('<button class=\"btn btn-mini btn-primary\" href=\"#\" title=\"Stop Interaction\"><i class=\"fa fa-power-off icon-remove icon-large\"></i></button>');\n",
       "    button.click(function (evt) { fig.handle_close(fig, {}); } );\n",
       "    button.mouseover('Stop Interaction', toolbar_mouse_event);\n",
       "    buttongrp.append(button);\n",
       "    var titlebar = this.root.find($('.ui-dialog-titlebar'));\n",
       "    titlebar.prepend(buttongrp);\n",
       "}\n",
       "\n",
       "mpl.figure.prototype._root_extra_style = function(el){\n",
       "    var fig = this\n",
       "    el.on(\"remove\", function(){\n",
       "\tfig.close_ws(fig, {});\n",
       "    });\n",
       "}\n",
       "\n",
       "mpl.figure.prototype._canvas_extra_style = function(el){\n",
       "    // this is important to make the div 'focusable\n",
       "    el.attr('tabindex', 0)\n",
       "    // reach out to IPython and tell the keyboard manager to turn it's self\n",
       "    // off when our div gets focus\n",
       "\n",
       "    // location in version 3\n",
       "    if (IPython.notebook.keyboard_manager) {\n",
       "        IPython.notebook.keyboard_manager.register_events(el);\n",
       "    }\n",
       "    else {\n",
       "        // location in version 2\n",
       "        IPython.keyboard_manager.register_events(el);\n",
       "    }\n",
       "\n",
       "}\n",
       "\n",
       "mpl.figure.prototype._key_event_extra = function(event, name) {\n",
       "    var manager = IPython.notebook.keyboard_manager;\n",
       "    if (!manager)\n",
       "        manager = IPython.keyboard_manager;\n",
       "\n",
       "    // Check for shift+enter\n",
       "    if (event.shiftKey && event.which == 13) {\n",
       "        this.canvas_div.blur();\n",
       "        // select the cell after this one\n",
       "        var index = IPython.notebook.find_cell_index(this.cell_info[0]);\n",
       "        IPython.notebook.select(index + 1);\n",
       "    }\n",
       "}\n",
       "\n",
       "mpl.figure.prototype.handle_save = function(fig, msg) {\n",
       "    fig.ondownload(fig, null);\n",
       "}\n",
       "\n",
       "\n",
       "mpl.find_output_cell = function(html_output) {\n",
       "    // Return the cell and output element which can be found *uniquely* in the notebook.\n",
       "    // Note - this is a bit hacky, but it is done because the \"notebook_saving.Notebook\"\n",
       "    // IPython event is triggered only after the cells have been serialised, which for\n",
       "    // our purposes (turning an active figure into a static one), is too late.\n",
       "    var cells = IPython.notebook.get_cells();\n",
       "    var ncells = cells.length;\n",
       "    for (var i=0; i<ncells; i++) {\n",
       "        var cell = cells[i];\n",
       "        if (cell.cell_type === 'code'){\n",
       "            for (var j=0; j<cell.output_area.outputs.length; j++) {\n",
       "                var data = cell.output_area.outputs[j];\n",
       "                if (data.data) {\n",
       "                    // IPython >= 3 moved mimebundle to data attribute of output\n",
       "                    data = data.data;\n",
       "                }\n",
       "                if (data['text/html'] == html_output) {\n",
       "                    return [cell, data, j];\n",
       "                }\n",
       "            }\n",
       "        }\n",
       "    }\n",
       "}\n",
       "\n",
       "// Register the function which deals with the matplotlib target/channel.\n",
       "// The kernel may be null if the page has been refreshed.\n",
       "if (IPython.notebook.kernel != null) {\n",
       "    IPython.notebook.kernel.comm_manager.register_target('matplotlib', mpl.mpl_figure_comm);\n",
       "}\n"
      ],
      "text/plain": [
       "<IPython.core.display.Javascript object>"
      ]
     },
     "metadata": {},
     "output_type": "display_data"
    },
    {
     "data": {
      "text/html": [
       "<img src=\"data:image/png;base64,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\" width=\"1200\">"
      ],
      "text/plain": [
       "<IPython.core.display.HTML object>"
      ]
     },
     "metadata": {},
     "output_type": "display_data"
    },
    {
     "name": "stderr",
     "output_type": "stream",
     "text": [
      "c:\\users\\gabriel wendell\\appdata\\local\\programs\\python\\python37\\lib\\site-packages\\matplotlib\\cbook\\__init__.py:1402: FutureWarning: Support for multi-dimensional indexing (e.g. `obj[:, None]`) is deprecated and will be removed in a future version.  Convert to a numpy array before indexing instead.\n",
      "  ndim = x[:, None].ndim\n",
      "c:\\users\\gabriel wendell\\appdata\\local\\programs\\python\\python37\\lib\\site-packages\\matplotlib\\axes\\_base.py:276: FutureWarning: Support for multi-dimensional indexing (e.g. `obj[:, None]`) is deprecated and will be removed in a future version.  Convert to a numpy array before indexing instead.\n",
      "  x = x[:, np.newaxis]\n",
      "c:\\users\\gabriel wendell\\appdata\\local\\programs\\python\\python37\\lib\\site-packages\\matplotlib\\axes\\_base.py:278: FutureWarning: Support for multi-dimensional indexing (e.g. `obj[:, None]`) is deprecated and will be removed in a future version.  Convert to a numpy array before indexing instead.\n",
      "  y = y[:, np.newaxis]\n"
     ]
    }
   ],
   "source": [
    "plt.style.use('dark_background')\n",
    "f, (ax1, ax2) = plt.subplots(1,2, sharex = True)\n",
    "f.set_size_inches(12, 5)\n",
    "\n",
    "f.suptitle(SNid, fontsize=20, family='serif')\n",
    "f.subplots_adjust(hspace=0)\n",
    "\n",
    "ax1.plot(df_g['MJD'], df_g['MAG'], 'o-g')\n",
    "ax1.invert_yaxis()\n",
    "ax1.set_title('Filtro g', fontsize=15, family='serif')\n",
    "ax1.set_xlabel('MJD', fontsize=15, family='serif')\n",
    "ax1.set_ylabel('MAG', fontsize=15, family='serif')\n",
    "ax1.grid(True, linestyle=':', color='0.50')\n",
    "ax1.minorticks_on()\n",
    "ax1.tick_params(axis='both',which='minor', direction = \"in\",\n",
    "                    top = True,right = True, length=5,width=1,labelsize=15)\n",
    "ax1.tick_params(axis='both',which='major', direction = \"in\",\n",
    "                    top = True,right = True, length=8,width=1,labelsize=15)\n",
    "\n",
    "ax2.plot(df_r['MJD'], df_r['MAG'], 'o-r')\n",
    "ax2.invert_yaxis()\n",
    "ax2.set_title('Filtro r', fontsize=15, family='serif')\n",
    "ax2.set_xlabel('MJD', fontsize=15, family='serif')\n",
    "ax2.set_ylabel('MAG', fontsize=15, family='serif')\n",
    "ax2.grid(True, linestyle=':', color='0.50')\n",
    "ax2.minorticks_on()\n",
    "ax2.tick_params(axis='both',which='minor', direction = \"in\",\n",
    "                    top = True,right = True, length=5,width=1,labelsize=15)\n",
    "ax2.tick_params(axis='both',which='major', direction = \"in\",\n",
    "                    top = True,right = True, length=8,width=1,labelsize=15)\n",
    "\n",
    "plt.savefig(SNid+' - Curva de luz - Filtros g e r.png')"
   ]
  },
  {
   "cell_type": "markdown",
   "metadata": {},
   "source": [
    "Este gráfico mostra muito bem o aumento do brilho aparente da supernova até atingir um máximo a partir do qual diminui mais lentamente. É nesse máximo que sua magnitude absoluta atinge um valor conhecido, que é o que nos permitirá estimar a distância que está de nós."
   ]
  },
  {
   "cell_type": "markdown",
   "metadata": {},
   "source": [
    "As datas estão no formato MJD (**M**odified **J**ulian **D**ate). As unidades são dias, então também podemos ter uma ideia da duração da supernova. O aumento repentino no brilho aparente seguido por sua queda abrupta é claramente perceptível em um périodo de apenas um mês. O período de tempo total registrado é de 90 dias."
   ]
  },
  {
   "cell_type": "markdown",
   "metadata": {},
   "source": [
    "### 2.5 Obtenção das magnitudes aparentes mínimas"
   ]
  },
  {
   "cell_type": "markdown",
   "metadata": {},
   "source": [
    "Uma vez de posso do dataframe com os dados de todas as curvas de luz, vamos construir o diagrama de Hubble para essas supernovas. Uma determinação rigorosa das distâncias exigiria a comparação das curvas de luz disponíveis com um conjunto de curvas \"padrão\" e a aplicação de correções para determinar a magnitude absoluta máxima. Neste `Notebook`, iremos nos limitar a criar um dataframe selecionando a observação do maior brilho aparente (isto é, o valor mínimo da magnitude aparente correspondente) nos filtros `g` r `r`, o valor de `Z` e o identidicador da supernova (`id`). "
   ]
  },
  {
   "cell_type": "code",
   "execution_count": 25,
   "metadata": {},
   "outputs": [],
   "source": [
    "b = df['FILT'] == 1                     # Seleciona o filtro 'g'\n",
    "dftemp1 = df.loc[b, ['MAG', 'Z', 'SN']]\n",
    "dftemp1.columns = ['g', 'Z', 'SN']\n",
    "grouped = dftemp1.groupby('SN')          # Agrupamento pelo 'id' da supernova\n",
    "df_g = grouped.min()                     # Seleciona os valores mínimo\n",
    "\n",
    "#######################################\n",
    "\n",
    "b = df['FILT'] == 2                      # Seleciona o filtro 'r'\n",
    "dftemp2 = df.loc[b, ['MAG', 'SN']]\n",
    "dftemp2.columns = ['r', 'SN']\n",
    "grouped = dftemp2.groupby('SN')          # Agrupamento pelo 'id' da supernova\n",
    "df_r = grouped.min()                     # Seleciona os valores mínimos da magnitude"
   ]
  },
  {
   "cell_type": "markdown",
   "metadata": {},
   "source": [
    "Finalmente, as colunas dos dois dataframes anteriores são concatenadas. O `Pandas` se encarregará de alinhar os valores correspondentes à mesma supernova:"
   ]
  },
  {
   "cell_type": "code",
   "execution_count": 26,
   "metadata": {},
   "outputs": [
    {
     "data": {
      "text/html": [
       "<div>\n",
       "<style scoped>\n",
       "    .dataframe tbody tr th:only-of-type {\n",
       "        vertical-align: middle;\n",
       "    }\n",
       "\n",
       "    .dataframe tbody tr th {\n",
       "        vertical-align: top;\n",
       "    }\n",
       "\n",
       "    .dataframe thead th {\n",
       "        text-align: right;\n",
       "    }\n",
       "</style>\n",
       "<table border=\"1\" class=\"dataframe\">\n",
       "  <thead>\n",
       "    <tr style=\"text-align: right;\">\n",
       "      <th></th>\n",
       "      <th>Z</th>\n",
       "      <th>g</th>\n",
       "      <th>r</th>\n",
       "    </tr>\n",
       "    <tr>\n",
       "      <th>SN</th>\n",
       "      <th></th>\n",
       "      <th></th>\n",
       "      <th></th>\n",
       "    </tr>\n",
       "  </thead>\n",
       "  <tbody>\n",
       "    <tr>\n",
       "      <th>SN10028</th>\n",
       "      <td>0.06533</td>\n",
       "      <td>18.292</td>\n",
       "      <td>18.354</td>\n",
       "    </tr>\n",
       "    <tr>\n",
       "      <th>SN10096</th>\n",
       "      <td>0.07775</td>\n",
       "      <td>20.323</td>\n",
       "      <td>19.904</td>\n",
       "    </tr>\n",
       "    <tr>\n",
       "      <th>SN10106</th>\n",
       "      <td>0.14720</td>\n",
       "      <td>20.844</td>\n",
       "      <td>20.665</td>\n",
       "    </tr>\n",
       "    <tr>\n",
       "      <th>SN1032</th>\n",
       "      <td>0.12975</td>\n",
       "      <td>20.410</td>\n",
       "      <td>20.205</td>\n",
       "    </tr>\n",
       "    <tr>\n",
       "      <th>SN10434</th>\n",
       "      <td>0.10430</td>\n",
       "      <td>19.432</td>\n",
       "      <td>19.369</td>\n",
       "    </tr>\n",
       "  </tbody>\n",
       "</table>\n",
       "</div>"
      ],
      "text/plain": [
       "               Z       g       r\n",
       "SN                              \n",
       "SN10028  0.06533  18.292  18.354\n",
       "SN10096  0.07775  20.323  19.904\n",
       "SN10106  0.14720  20.844  20.665\n",
       "SN1032   0.12975  20.410  20.205\n",
       "SN10434  0.10430  19.432  19.369"
      ]
     },
     "execution_count": 26,
     "metadata": {},
     "output_type": "execute_result"
    }
   ],
   "source": [
    "df_gr = pd.concat([df_g, df_r], axis=1)\n",
    "df_gr['g'] = df_gr['g'].astype(np.float)\n",
    "df_gr['r'] = df_gr['r'].astype(np.float)\n",
    "df_gr = df_gr[['Z', 'g', 'r']]\n",
    "df_gr.head()"
   ]
  },
  {
   "cell_type": "markdown",
   "metadata": {},
   "source": [
    "### 2.6 Correção da extinção"
   ]
  },
  {
   "cell_type": "markdown",
   "metadata": {},
   "source": [
    "O fenômeno da **extinção interestelar** é o escurecimento da luz que nos chega dos objetos celestes, devido à sua absorção e dipersão mais ou menos intensa pelas nuves de poeira cósmica existentes no meio interestelar. Consequentemente, os objetos celestes aparentam estar menos brilhantes para nós e, portanto, mais distantes do que corresponderia à distância em que eles estão relmente localizados."
   ]
  },
  {
   "cell_type": "markdown",
   "metadata": {},
   "source": [
    "Portanto, devemos aplicar uma correção aos valores das magnitudes aparentes em cada um dos filtros, subtraindo em cada caso uma constante $A_{\\lambda}<0$ cujo efeito será obter uma magnitude menor, ou seja, correspondente a um objeto mais brilhante, do que seria a magnitude aparente que observaríamos se a extinção não existisse. Podemos aplicar a fórmula do módulo da distância a esta nova magnitude para obter uma mehor aproximação da distância que o separa de nós."
   ]
  },
  {
   "cell_type": "markdown",
   "metadata": {},
   "source": [
    "Vejamos um exemplo: a supernova `SN722` tem sua magnitude mais baixa na banda do filtro `g` com um valor de `g = 19.394`. A correção de extinção para sua galáxia hospedeira nos comprimentos de onda desse filtro é $A_{g}=0,10$. Vamos estimar sua distância, sem e com a aplicação da correção."
   ]
  },
  {
   "cell_type": "code",
   "execution_count": 27,
   "metadata": {},
   "outputs": [
    {
     "data": {
      "text/plain": [
       "Z     0.08658\n",
       "g    19.39400\n",
       "r    19.19400\n",
       "Name: SN722, dtype: float64"
      ]
     },
     "execution_count": 27,
     "metadata": {},
     "output_type": "execute_result"
    }
   ],
   "source": [
    "df_gr.loc['SN722',:]"
   ]
  },
  {
   "cell_type": "code",
   "execution_count": 28,
   "metadata": {},
   "outputs": [
    {
     "name": "stdout",
     "output_type": "stream",
     "text": [
      "Distância sem correção: 548.02 Mpc\n",
      "Distância com correção: 523.36 Mpc\n"
     ]
    }
   ],
   "source": [
    "M = -19.3\n",
    "m = 19.394\n",
    "k = (m-M)/5 - 5\n",
    "d = 10**k\n",
    "print('Distância sem correção: %.2f Mpc' %d)\n",
    "\n",
    "A = 0.10\n",
    "m -= A\n",
    "k = (m-M)/5 - 5\n",
    "d = 10**k\n",
    "print('Distância com correção: %.2f Mpc' %d)"
   ]
  },
  {
   "cell_type": "markdown",
   "metadata": {},
   "source": [
    "Podemos ter certeza que essas correções ainda não foram aplicadas, pois no cabeçalho de cada arquivo de curva de luz há o comentário \"*NO extinction correction applied to mags or fluxes*\"."
   ]
  },
  {
   "cell_type": "markdown",
   "metadata": {},
   "source": [
    "O problema que temos que resolver agora pe obter as correções de extinnção para cada supernova e banda. Esses dados aparecem no cabeçalho de cada arquivo, na linha 11 (contando a partir de 1) existe uma linha do tipo:"
   ]
  },
  {
   "cell_type": "markdown",
   "metadata": {},
   "source": [
    "`SFD extinctions [ugriz] = [  0.13  0.10  0.07  0.05  0.04 ]`"
   ]
  },
  {
   "cell_type": "markdown",
   "metadata": {},
   "source": [
    "Então vamos ler cada arquivo e obter os valores de correção para cada supernova."
   ]
  },
  {
   "cell_type": "code",
   "execution_count": 29,
   "metadata": {},
   "outputs": [],
   "source": [
    "lc_files = !ls Dados/SDSS_Light_Curves\n",
    "lc_files = list(lc_files.n.split('\\n'))\n",
    "lc_files = lc_files[1:]"
   ]
  },
  {
   "cell_type": "markdown",
   "metadata": {},
   "source": [
    "Agora criamos uma lista com os nomes das supernovas obtidos da lista de nomes dos arquivos:"
   ]
  },
  {
   "cell_type": "code",
   "execution_count": 30,
   "metadata": {},
   "outputs": [],
   "source": [
    "SN = lambda filename: re.search(r'\\w+', filename).group()"
   ]
  },
  {
   "cell_type": "markdown",
   "metadata": {},
   "source": [
    "Criamos então uma lista com os valores do índice e as colunas do dataframe para criar com as extinções para cada SN e cada filtro:"
   ]
  },
  {
   "cell_type": "code",
   "execution_count": 31,
   "metadata": {},
   "outputs": [],
   "source": [
    "index = [SN(filename) for filename in lc_files]\n",
    "columns = ['Au', 'Ag', 'Ar', 'Ai', 'Az']"
   ]
  },
  {
   "cell_type": "markdown",
   "metadata": {},
   "source": [
    "Por fim, criamos um dataframe vazio, mas com a estrutura que precisamos:"
   ]
  },
  {
   "cell_type": "code",
   "execution_count": 32,
   "metadata": {},
   "outputs": [
    {
     "data": {
      "text/html": [
       "<div>\n",
       "<style scoped>\n",
       "    .dataframe tbody tr th:only-of-type {\n",
       "        vertical-align: middle;\n",
       "    }\n",
       "\n",
       "    .dataframe tbody tr th {\n",
       "        vertical-align: top;\n",
       "    }\n",
       "\n",
       "    .dataframe thead th {\n",
       "        text-align: right;\n",
       "    }\n",
       "</style>\n",
       "<table border=\"1\" class=\"dataframe\">\n",
       "  <thead>\n",
       "    <tr style=\"text-align: right;\">\n",
       "      <th></th>\n",
       "      <th>Au</th>\n",
       "      <th>Ag</th>\n",
       "      <th>Ar</th>\n",
       "      <th>Ai</th>\n",
       "      <th>Az</th>\n",
       "    </tr>\n",
       "  </thead>\n",
       "  <tbody>\n",
       "    <tr>\n",
       "      <th>SN10028</th>\n",
       "      <td>NaN</td>\n",
       "      <td>NaN</td>\n",
       "      <td>NaN</td>\n",
       "      <td>NaN</td>\n",
       "      <td>NaN</td>\n",
       "    </tr>\n",
       "    <tr>\n",
       "      <th>SN10096</th>\n",
       "      <td>NaN</td>\n",
       "      <td>NaN</td>\n",
       "      <td>NaN</td>\n",
       "      <td>NaN</td>\n",
       "      <td>NaN</td>\n",
       "    </tr>\n",
       "    <tr>\n",
       "      <th>SN10106</th>\n",
       "      <td>NaN</td>\n",
       "      <td>NaN</td>\n",
       "      <td>NaN</td>\n",
       "      <td>NaN</td>\n",
       "      <td>NaN</td>\n",
       "    </tr>\n",
       "    <tr>\n",
       "      <th>SN1032</th>\n",
       "      <td>NaN</td>\n",
       "      <td>NaN</td>\n",
       "      <td>NaN</td>\n",
       "      <td>NaN</td>\n",
       "      <td>NaN</td>\n",
       "    </tr>\n",
       "    <tr>\n",
       "      <th>SN10434</th>\n",
       "      <td>NaN</td>\n",
       "      <td>NaN</td>\n",
       "      <td>NaN</td>\n",
       "      <td>NaN</td>\n",
       "      <td>NaN</td>\n",
       "    </tr>\n",
       "  </tbody>\n",
       "</table>\n",
       "</div>"
      ],
      "text/plain": [
       "          Au   Ag   Ar   Ai   Az\n",
       "SN10028  NaN  NaN  NaN  NaN  NaN\n",
       "SN10096  NaN  NaN  NaN  NaN  NaN\n",
       "SN10106  NaN  NaN  NaN  NaN  NaN\n",
       "SN1032   NaN  NaN  NaN  NaN  NaN\n",
       "SN10434  NaN  NaN  NaN  NaN  NaN"
      ]
     },
     "execution_count": 32,
     "metadata": {},
     "output_type": "execute_result"
    }
   ],
   "source": [
    "df_ext = pd.DataFrame(index=index, columns=columns)\n",
    "df_ext.head()"
   ]
  },
  {
   "cell_type": "markdown",
   "metadata": {},
   "source": [
    "Finalmente todos os arquivos são percorridos extraindo os valores de extinção e preenchendo o dataframe `df_ext`:"
   ]
  },
  {
   "cell_type": "code",
   "execution_count": 33,
   "metadata": {},
   "outputs": [],
   "source": [
    "for filename in lc_files:\n",
    "    id = SN(filename)\n",
    "    with open('Dados/SDSS_Light_Curves/' + filename) as f:\n",
    "        for line in f:\n",
    "            if 'extinctions' in line:\n",
    "                l_field = line.split()\n",
    "                \n",
    "                df_ext.loc[id] = [float(a) for a in l_field[6:11]]\n",
    "                break"
   ]
  },
  {
   "cell_type": "markdown",
   "metadata": {},
   "source": [
    "Agora vamos a uma rápida comprovação:"
   ]
  },
  {
   "cell_type": "code",
   "execution_count": 34,
   "metadata": {},
   "outputs": [
    {
     "data": {
      "text/html": [
       "<div>\n",
       "<style scoped>\n",
       "    .dataframe tbody tr th:only-of-type {\n",
       "        vertical-align: middle;\n",
       "    }\n",
       "\n",
       "    .dataframe tbody tr th {\n",
       "        vertical-align: top;\n",
       "    }\n",
       "\n",
       "    .dataframe thead th {\n",
       "        text-align: right;\n",
       "    }\n",
       "</style>\n",
       "<table border=\"1\" class=\"dataframe\">\n",
       "  <thead>\n",
       "    <tr style=\"text-align: right;\">\n",
       "      <th></th>\n",
       "      <th>Au</th>\n",
       "      <th>Ag</th>\n",
       "      <th>Ar</th>\n",
       "      <th>Ai</th>\n",
       "      <th>Az</th>\n",
       "    </tr>\n",
       "  </thead>\n",
       "  <tbody>\n",
       "    <tr>\n",
       "      <th>SN10028</th>\n",
       "      <td>0.13</td>\n",
       "      <td>0.1</td>\n",
       "      <td>0.07</td>\n",
       "      <td>0.05</td>\n",
       "      <td>0.04</td>\n",
       "    </tr>\n",
       "    <tr>\n",
       "      <th>SN10096</th>\n",
       "      <td>0.14</td>\n",
       "      <td>0.1</td>\n",
       "      <td>0.07</td>\n",
       "      <td>0.06</td>\n",
       "      <td>0.04</td>\n",
       "    </tr>\n",
       "    <tr>\n",
       "      <th>SN10106</th>\n",
       "      <td>0.38</td>\n",
       "      <td>0.28</td>\n",
       "      <td>0.2</td>\n",
       "      <td>0.15</td>\n",
       "      <td>0.11</td>\n",
       "    </tr>\n",
       "    <tr>\n",
       "      <th>SN1032</th>\n",
       "      <td>0.38</td>\n",
       "      <td>0.28</td>\n",
       "      <td>0.2</td>\n",
       "      <td>0.15</td>\n",
       "      <td>0.11</td>\n",
       "    </tr>\n",
       "    <tr>\n",
       "      <th>SN10434</th>\n",
       "      <td>0.48</td>\n",
       "      <td>0.36</td>\n",
       "      <td>0.26</td>\n",
       "      <td>0.2</td>\n",
       "      <td>0.14</td>\n",
       "    </tr>\n",
       "  </tbody>\n",
       "</table>\n",
       "</div>"
      ],
      "text/plain": [
       "           Au    Ag    Ar    Ai    Az\n",
       "SN10028  0.13   0.1  0.07  0.05  0.04\n",
       "SN10096  0.14   0.1  0.07  0.06  0.04\n",
       "SN10106  0.38  0.28   0.2  0.15  0.11\n",
       "SN1032   0.38  0.28   0.2  0.15  0.11\n",
       "SN10434  0.48  0.36  0.26   0.2  0.14"
      ]
     },
     "execution_count": 34,
     "metadata": {},
     "output_type": "execute_result"
    }
   ],
   "source": [
    "df_ext.head()"
   ]
  },
  {
   "cell_type": "markdown",
   "metadata": {},
   "source": [
    "Assim que todas as correções de extinção estiverem disponíveis, as magnitudes aparentes dos filtros `g` e `r` serão corrigidas no dataframe `df_gr`, que era aquele que continha os valores mínimos da magnitude aparente em cada um desses dois filtros para cada supernova. A correção consitirá simplemente em subtrair de cada magnitude aparente o valor de correção para aquele filtro e supernova."
   ]
  },
  {
   "cell_type": "markdown",
   "metadata": {},
   "source": [
    "Façamos uma cópia \"profunda\" do dataframe original, isto é, com uma cópia dos dados:"
   ]
  },
  {
   "cell_type": "code",
   "execution_count": 35,
   "metadata": {},
   "outputs": [],
   "source": [
    "df_gr_ext = df_gr.copy()"
   ]
  },
  {
   "cell_type": "markdown",
   "metadata": {},
   "source": [
    "Agora aplicamos as correções de extinção:"
   ]
  },
  {
   "cell_type": "code",
   "execution_count": 36,
   "metadata": {},
   "outputs": [],
   "source": [
    "df_gr_ext['g'] = df_gr['g'] - df_ext['Ag']\n",
    "df_gr_ext['r'] = df_gr['r'] - df_ext['Ar']"
   ]
  },
  {
   "cell_type": "raw",
   "metadata": {},
   "source": [
    "Podemos visualizar uma amostra dos dados e comprovar que os valores obtidos são corretos:"
   ]
  },
  {
   "cell_type": "code",
   "execution_count": 37,
   "metadata": {},
   "outputs": [
    {
     "data": {
      "text/html": [
       "<div>\n",
       "<style scoped>\n",
       "    .dataframe tbody tr th:only-of-type {\n",
       "        vertical-align: middle;\n",
       "    }\n",
       "\n",
       "    .dataframe tbody tr th {\n",
       "        vertical-align: top;\n",
       "    }\n",
       "\n",
       "    .dataframe thead th {\n",
       "        text-align: right;\n",
       "    }\n",
       "</style>\n",
       "<table border=\"1\" class=\"dataframe\">\n",
       "  <thead>\n",
       "    <tr style=\"text-align: right;\">\n",
       "      <th></th>\n",
       "      <th>Z</th>\n",
       "      <th>g</th>\n",
       "      <th>r</th>\n",
       "    </tr>\n",
       "    <tr>\n",
       "      <th>SN</th>\n",
       "      <th></th>\n",
       "      <th></th>\n",
       "      <th></th>\n",
       "    </tr>\n",
       "  </thead>\n",
       "  <tbody>\n",
       "    <tr>\n",
       "      <th>SN10028</th>\n",
       "      <td>0.06533</td>\n",
       "      <td>18.192</td>\n",
       "      <td>18.284</td>\n",
       "    </tr>\n",
       "    <tr>\n",
       "      <th>SN10096</th>\n",
       "      <td>0.07775</td>\n",
       "      <td>20.223</td>\n",
       "      <td>19.834</td>\n",
       "    </tr>\n",
       "    <tr>\n",
       "      <th>SN10106</th>\n",
       "      <td>0.14720</td>\n",
       "      <td>20.564</td>\n",
       "      <td>20.465</td>\n",
       "    </tr>\n",
       "    <tr>\n",
       "      <th>SN1032</th>\n",
       "      <td>0.12975</td>\n",
       "      <td>20.13</td>\n",
       "      <td>20.005</td>\n",
       "    </tr>\n",
       "    <tr>\n",
       "      <th>SN10434</th>\n",
       "      <td>0.10430</td>\n",
       "      <td>19.072</td>\n",
       "      <td>19.109</td>\n",
       "    </tr>\n",
       "  </tbody>\n",
       "</table>\n",
       "</div>"
      ],
      "text/plain": [
       "               Z       g       r\n",
       "SN                              \n",
       "SN10028  0.06533  18.192  18.284\n",
       "SN10096  0.07775  20.223  19.834\n",
       "SN10106  0.14720  20.564  20.465\n",
       "SN1032   0.12975   20.13  20.005\n",
       "SN10434  0.10430  19.072  19.109"
      ]
     },
     "execution_count": 37,
     "metadata": {},
     "output_type": "execute_result"
    }
   ],
   "source": [
    "df_gr_ext.head()"
   ]
  },
  {
   "cell_type": "markdown",
   "metadata": {},
   "source": [
    "### 2.7 Correção devido ao sistema fotométrico utilizado"
   ]
  },
  {
   "cell_type": "markdown",
   "metadata": {},
   "source": [
    "Há ainda outra correção que iremos realizar. É devido ao fato de que serão utilizados os valores de magnitude absoluta máxima $M=-19,3$, que é um valor válido para os filtros $B$ ou $V$ do sistema fotométrico $UBV$ [2], mas aqui estamos usando o sistema de filtros do SDSS, que por sua vez é diferente."
   ]
  },
  {
   "cell_type": "markdown",
   "metadata": {},
   "source": [
    "Uma forma de levar em conta esse fato é fazer uma conversão entre as quantidades do sistema \"ugriz\" do SDSS e as quantidades do sistema UBV. Existem vários algoritmos que podem ser [consultados nesta página](http://classic.sdss.org/dr7/algorithms/sdssUBVRITransform.html) [14]. Iremos usar, por exemplo, a transformação de [Lupton (2005)](https://www.sdss.org/dr16/algorithms/sdssUBVRITransform/#Lupton2005), embora não esteja muito claro se está é a transformação mais adequada neste caso. Por outro lado, a realização desta conversçao tem a vantagem adicional de que no cálculo de, por exemplo, a magnitude no filtro $V$ as magnitudes aparentes dos filtros `g` e `r` do SDSS intervêm, com o qual estaremos pegando uma espécie de \"média\" entre os dois filtros. "
   ]
  },
  {
   "cell_type": "markdown",
   "metadata": {},
   "source": [
    "Aqui está a fórmula a ser usada:"
   ]
  },
  {
   "cell_type": "markdown",
   "metadata": {},
   "source": [
    "$$\\boxed{V = g - 0.5784\\cdot(g - r) - 0.0038}$$"
   ]
  },
  {
   "cell_type": "markdown",
   "metadata": {},
   "source": [
    "Agora vamos expandir o dataframe anterior `df_gr_ext`, que já tinha as correções de extinção integradas, criando uma nova coluna calculada com a fórmula acima:"
   ]
  },
  {
   "cell_type": "code",
   "execution_count": 38,
   "metadata": {},
   "outputs": [
    {
     "data": {
      "text/html": [
       "<div>\n",
       "<style scoped>\n",
       "    .dataframe tbody tr th:only-of-type {\n",
       "        vertical-align: middle;\n",
       "    }\n",
       "\n",
       "    .dataframe tbody tr th {\n",
       "        vertical-align: top;\n",
       "    }\n",
       "\n",
       "    .dataframe thead th {\n",
       "        text-align: right;\n",
       "    }\n",
       "</style>\n",
       "<table border=\"1\" class=\"dataframe\">\n",
       "  <thead>\n",
       "    <tr style=\"text-align: right;\">\n",
       "      <th></th>\n",
       "      <th>Z</th>\n",
       "      <th>g</th>\n",
       "      <th>r</th>\n",
       "      <th>V</th>\n",
       "    </tr>\n",
       "    <tr>\n",
       "      <th>SN</th>\n",
       "      <th></th>\n",
       "      <th></th>\n",
       "      <th></th>\n",
       "      <th></th>\n",
       "    </tr>\n",
       "  </thead>\n",
       "  <tbody>\n",
       "    <tr>\n",
       "      <th>SN10028</th>\n",
       "      <td>0.06533</td>\n",
       "      <td>18.192</td>\n",
       "      <td>18.284</td>\n",
       "      <td>18.241413</td>\n",
       "    </tr>\n",
       "    <tr>\n",
       "      <th>SN10096</th>\n",
       "      <td>0.07775</td>\n",
       "      <td>20.223</td>\n",
       "      <td>19.834</td>\n",
       "      <td>19.994202</td>\n",
       "    </tr>\n",
       "    <tr>\n",
       "      <th>SN10106</th>\n",
       "      <td>0.14720</td>\n",
       "      <td>20.564</td>\n",
       "      <td>20.465</td>\n",
       "      <td>20.502938</td>\n",
       "    </tr>\n",
       "    <tr>\n",
       "      <th>SN1032</th>\n",
       "      <td>0.12975</td>\n",
       "      <td>20.13</td>\n",
       "      <td>20.005</td>\n",
       "      <td>20.0539</td>\n",
       "    </tr>\n",
       "    <tr>\n",
       "      <th>SN10434</th>\n",
       "      <td>0.10430</td>\n",
       "      <td>19.072</td>\n",
       "      <td>19.109</td>\n",
       "      <td>19.089601</td>\n",
       "    </tr>\n",
       "  </tbody>\n",
       "</table>\n",
       "</div>"
      ],
      "text/plain": [
       "               Z       g       r          V\n",
       "SN                                         \n",
       "SN10028  0.06533  18.192  18.284  18.241413\n",
       "SN10096  0.07775  20.223  19.834  19.994202\n",
       "SN10106  0.14720  20.564  20.465  20.502938\n",
       "SN1032   0.12975   20.13  20.005    20.0539\n",
       "SN10434  0.10430  19.072  19.109  19.089601"
      ]
     },
     "execution_count": 38,
     "metadata": {},
     "output_type": "execute_result"
    }
   ],
   "source": [
    "df_gr_ext['V'] = df_gr_ext['g'] - 0.5784 * (df_gr_ext['g'] - df_gr_ext['r']) - 0.0038\n",
    "df_gr_ext.head()"
   ]
  },
  {
   "cell_type": "markdown",
   "metadata": {},
   "source": [
    "### 2.8 Obtenção do diagrama de Hubble"
   ]
  },
  {
   "cell_type": "markdown",
   "metadata": {},
   "source": [
    "#### 2.8.1 Determinação das velocidade de recessão"
   ]
  },
  {
   "cell_type": "markdown",
   "metadata": {},
   "source": [
    "Vamos primeiro examinar a faixa de valores de $z$ para supernovas na pesquisa do SDSS:"
   ]
  },
  {
   "cell_type": "code",
   "execution_count": 39,
   "metadata": {},
   "outputs": [
    {
     "data": {
      "text/plain": [
       "(0.01306, 0.422)"
      ]
     },
     "execution_count": 39,
     "metadata": {},
     "output_type": "execute_result"
    }
   ],
   "source": [
    "df_gr_ext['Z'].min(), df_gr_ext['Z'].max()"
   ]
  },
  {
   "cell_type": "markdown",
   "metadata": {},
   "source": [
    "Isso nos diz que existe pelo menos uma observação com valor de $z=0,42$, ou seja, se usarmos neste caso a aproximação $v=zc$ teríamos um objeto que se moveria a 42% da velocidade da luz, que constitui uma velocidade relativística. Isso significa que o uso desta aproximação não é válido em casos como este se interpretarmos o resultado como a velocidade de recessão real da supernova em relação a nós."
   ]
  },
  {
   "cell_type": "markdown",
   "metadata": {},
   "source": [
    "No entanto, como vimos, a constante de Hubble, para altos valores do parâmetro $z$, ainda é definida como:"
   ]
  },
  {
   "cell_type": "markdown",
   "metadata": {},
   "source": [
    "$$\\boxed{H_{0}=\\frac{cz}{d}}$$"
   ]
  },
  {
   "cell_type": "markdown",
   "metadata": {},
   "source": [
    "Portanto, usarei, como de costume, $cz$ na realização do diagrama de Hubble, embora essa magnitude não deva ser interpretada em geral como a velocidade real de recessão da supernova, mas apenas como uma aproximação dessa velocidade para $z$ pequeno. A relação exata entre a taxa de recessão devido à expansão do universo e a quantidade $z$ do *redshift* depende do modelo do universo que está sendo considerado e requer o uso da *Relatividade Geral*. A esse respeito, consulte o seguinte artigo: [Expanding Confusion: common misconceptions of cosmological horizons and the superluminal expansion of the Universe](https://arxiv.org/abs/astro-ph/0310808) [15] de Tamara M. Davis & Charles H. Lineweaver (2003)."
   ]
  },
  {
   "cell_type": "code",
   "execution_count": 40,
   "metadata": {},
   "outputs": [],
   "source": [
    "z = df_gr_ext['Z']\n",
    "v = z * pq.c.rescale(pq.km/pq.s).magnitude "
   ]
  },
  {
   "cell_type": "markdown",
   "metadata": {},
   "source": [
    "#### 2.8.2 Cálculo das distâncias"
   ]
  },
  {
   "cell_type": "markdown",
   "metadata": {},
   "source": [
    "Para as distâncias vamos utilizar a expressão do módulo de distância quando as distâncias $d$ são medidas em Mpc:"
   ]
  },
  {
   "cell_type": "markdown",
   "metadata": {},
   "source": [
    "$$\\boxed{\\mu=m-M=5\\log_{10}{d}+25}$$"
   ]
  },
  {
   "cell_type": "markdown",
   "metadata": {},
   "source": [
    "Tomando como a magnitude absoluta de qualquer supernova do tipo Ia: $M=-19,3$ e $m$ sendo o valor da magniude aparente máxima (o menor valor) retirado do dataframe:"
   ]
  },
  {
   "cell_type": "code",
   "execution_count": 41,
   "metadata": {},
   "outputs": [],
   "source": [
    "M = -19.3\n",
    "# m = df_gr_ext['V']\n",
    "m = df_gr_ext['V'].astype(np.float)\n",
    "k = (m-M)/5 - 5\n",
    "d = 10**k"
   ]
  },
  {
   "cell_type": "markdown",
   "metadata": {},
   "source": [
    "#### 2.8.3 Obteção de $H_{0}$ e o diagrama de Hubble"
   ]
  },
  {
   "cell_type": "markdown",
   "metadata": {},
   "source": [
    "Agora vamos ajustar uma linha por mínimos quadrados aos valores de distâncias e velocidades:"
   ]
  },
  {
   "cell_type": "code",
   "execution_count": 42,
   "metadata": {},
   "outputs": [
    {
     "name": "stdout",
     "output_type": "stream",
     "text": [
      "Coeficiente de determinação = 0.86\n",
      "H0 = 60.71\n"
     ]
    }
   ],
   "source": [
    "slope, intercept, r_value, p_value, std_err = s.linregress(d,v)\n",
    "\n",
    "print('Coeficiente de determinação = %.2f' %r_value**2)\n",
    "print('H0 = %.2f' %slope)"
   ]
  },
  {
   "cell_type": "markdown",
   "metadata": {},
   "source": [
    "Antes de proseguirmos para o diagrama, vamos definir uma função que irá melhorar um pouco a estética do mesmo (nós já aplicamos essa mesma função nos plots das curvas de luz):"
   ]
  },
  {
   "cell_type": "code",
   "execution_count": 43,
   "metadata": {},
   "outputs": [],
   "source": [
    "def opt_plot():\n",
    "    plt.style.use('dark_background')\n",
    "    plt.grid(True, linestyle=':', color='0.50')\n",
    "    plt.minorticks_on()\n",
    "    plt.tick_params(axis='both',which='minor', direction = \"in\",\n",
    "                        top = True,right = True, length=5,width=1,labelsize=15)\n",
    "    plt.tick_params(axis='both',which='major', direction = \"in\",\n",
    "                        top = True,right = True, length=8,width=1,labelsize=15)"
   ]
  },
  {
   "cell_type": "markdown",
   "metadata": {},
   "source": [
    "Finalmente, vamos ao diagrama de Hubble propriamente dito:"
   ]
  },
  {
   "cell_type": "code",
   "execution_count": 44,
   "metadata": {},
   "outputs": [
    {
     "data": {
      "application/javascript": [
       "/* Put everything inside the global mpl namespace */\n",
       "window.mpl = {};\n",
       "\n",
       "\n",
       "mpl.get_websocket_type = function() {\n",
       "    if (typeof(WebSocket) !== 'undefined') {\n",
       "        return WebSocket;\n",
       "    } else if (typeof(MozWebSocket) !== 'undefined') {\n",
       "        return MozWebSocket;\n",
       "    } else {\n",
       "        alert('Your browser does not have WebSocket support. ' +\n",
       "              'Please try Chrome, Safari or Firefox ≥ 6. ' +\n",
       "              'Firefox 4 and 5 are also supported but you ' +\n",
       "              'have to enable WebSockets in about:config.');\n",
       "    };\n",
       "}\n",
       "\n",
       "mpl.figure = function(figure_id, websocket, ondownload, parent_element) {\n",
       "    this.id = figure_id;\n",
       "\n",
       "    this.ws = websocket;\n",
       "\n",
       "    this.supports_binary = (this.ws.binaryType != undefined);\n",
       "\n",
       "    if (!this.supports_binary) {\n",
       "        var warnings = document.getElementById(\"mpl-warnings\");\n",
       "        if (warnings) {\n",
       "            warnings.style.display = 'block';\n",
       "            warnings.textContent = (\n",
       "                \"This browser does not support binary websocket messages. \" +\n",
       "                    \"Performance may be slow.\");\n",
       "        }\n",
       "    }\n",
       "\n",
       "    this.imageObj = new Image();\n",
       "\n",
       "    this.context = undefined;\n",
       "    this.message = undefined;\n",
       "    this.canvas = undefined;\n",
       "    this.rubberband_canvas = undefined;\n",
       "    this.rubberband_context = undefined;\n",
       "    this.format_dropdown = undefined;\n",
       "\n",
       "    this.image_mode = 'full';\n",
       "\n",
       "    this.root = $('<div/>');\n",
       "    this._root_extra_style(this.root)\n",
       "    this.root.attr('style', 'display: inline-block');\n",
       "\n",
       "    $(parent_element).append(this.root);\n",
       "\n",
       "    this._init_header(this);\n",
       "    this._init_canvas(this);\n",
       "    this._init_toolbar(this);\n",
       "\n",
       "    var fig = this;\n",
       "\n",
       "    this.waiting = false;\n",
       "\n",
       "    this.ws.onopen =  function () {\n",
       "            fig.send_message(\"supports_binary\", {value: fig.supports_binary});\n",
       "            fig.send_message(\"send_image_mode\", {});\n",
       "            if (mpl.ratio != 1) {\n",
       "                fig.send_message(\"set_dpi_ratio\", {'dpi_ratio': mpl.ratio});\n",
       "            }\n",
       "            fig.send_message(\"refresh\", {});\n",
       "        }\n",
       "\n",
       "    this.imageObj.onload = function() {\n",
       "            if (fig.image_mode == 'full') {\n",
       "                // Full images could contain transparency (where diff images\n",
       "                // almost always do), so we need to clear the canvas so that\n",
       "                // there is no ghosting.\n",
       "                fig.context.clearRect(0, 0, fig.canvas.width, fig.canvas.height);\n",
       "            }\n",
       "            fig.context.drawImage(fig.imageObj, 0, 0);\n",
       "        };\n",
       "\n",
       "    this.imageObj.onunload = function() {\n",
       "        fig.ws.close();\n",
       "    }\n",
       "\n",
       "    this.ws.onmessage = this._make_on_message_function(this);\n",
       "\n",
       "    this.ondownload = ondownload;\n",
       "}\n",
       "\n",
       "mpl.figure.prototype._init_header = function() {\n",
       "    var titlebar = $(\n",
       "        '<div class=\"ui-dialog-titlebar ui-widget-header ui-corner-all ' +\n",
       "        'ui-helper-clearfix\"/>');\n",
       "    var titletext = $(\n",
       "        '<div class=\"ui-dialog-title\" style=\"width: 100%; ' +\n",
       "        'text-align: center; padding: 3px;\"/>');\n",
       "    titlebar.append(titletext)\n",
       "    this.root.append(titlebar);\n",
       "    this.header = titletext[0];\n",
       "}\n",
       "\n",
       "\n",
       "\n",
       "mpl.figure.prototype._canvas_extra_style = function(canvas_div) {\n",
       "\n",
       "}\n",
       "\n",
       "\n",
       "mpl.figure.prototype._root_extra_style = function(canvas_div) {\n",
       "\n",
       "}\n",
       "\n",
       "mpl.figure.prototype._init_canvas = function() {\n",
       "    var fig = this;\n",
       "\n",
       "    var canvas_div = $('<div/>');\n",
       "\n",
       "    canvas_div.attr('style', 'position: relative; clear: both; outline: 0');\n",
       "\n",
       "    function canvas_keyboard_event(event) {\n",
       "        return fig.key_event(event, event['data']);\n",
       "    }\n",
       "\n",
       "    canvas_div.keydown('key_press', canvas_keyboard_event);\n",
       "    canvas_div.keyup('key_release', canvas_keyboard_event);\n",
       "    this.canvas_div = canvas_div\n",
       "    this._canvas_extra_style(canvas_div)\n",
       "    this.root.append(canvas_div);\n",
       "\n",
       "    var canvas = $('<canvas/>');\n",
       "    canvas.addClass('mpl-canvas');\n",
       "    canvas.attr('style', \"left: 0; top: 0; z-index: 0; outline: 0\")\n",
       "\n",
       "    this.canvas = canvas[0];\n",
       "    this.context = canvas[0].getContext(\"2d\");\n",
       "\n",
       "    var backingStore = this.context.backingStorePixelRatio ||\n",
       "\tthis.context.webkitBackingStorePixelRatio ||\n",
       "\tthis.context.mozBackingStorePixelRatio ||\n",
       "\tthis.context.msBackingStorePixelRatio ||\n",
       "\tthis.context.oBackingStorePixelRatio ||\n",
       "\tthis.context.backingStorePixelRatio || 1;\n",
       "\n",
       "    mpl.ratio = (window.devicePixelRatio || 1) / backingStore;\n",
       "\n",
       "    var rubberband = $('<canvas/>');\n",
       "    rubberband.attr('style', \"position: absolute; left: 0; top: 0; z-index: 1;\")\n",
       "\n",
       "    var pass_mouse_events = true;\n",
       "\n",
       "    canvas_div.resizable({\n",
       "        start: function(event, ui) {\n",
       "            pass_mouse_events = false;\n",
       "        },\n",
       "        resize: function(event, ui) {\n",
       "            fig.request_resize(ui.size.width, ui.size.height);\n",
       "        },\n",
       "        stop: function(event, ui) {\n",
       "            pass_mouse_events = true;\n",
       "            fig.request_resize(ui.size.width, ui.size.height);\n",
       "        },\n",
       "    });\n",
       "\n",
       "    function mouse_event_fn(event) {\n",
       "        if (pass_mouse_events)\n",
       "            return fig.mouse_event(event, event['data']);\n",
       "    }\n",
       "\n",
       "    rubberband.mousedown('button_press', mouse_event_fn);\n",
       "    rubberband.mouseup('button_release', mouse_event_fn);\n",
       "    // Throttle sequential mouse events to 1 every 20ms.\n",
       "    rubberband.mousemove('motion_notify', mouse_event_fn);\n",
       "\n",
       "    rubberband.mouseenter('figure_enter', mouse_event_fn);\n",
       "    rubberband.mouseleave('figure_leave', mouse_event_fn);\n",
       "\n",
       "    canvas_div.on(\"wheel\", function (event) {\n",
       "        event = event.originalEvent;\n",
       "        event['data'] = 'scroll'\n",
       "        if (event.deltaY < 0) {\n",
       "            event.step = 1;\n",
       "        } else {\n",
       "            event.step = -1;\n",
       "        }\n",
       "        mouse_event_fn(event);\n",
       "    });\n",
       "\n",
       "    canvas_div.append(canvas);\n",
       "    canvas_div.append(rubberband);\n",
       "\n",
       "    this.rubberband = rubberband;\n",
       "    this.rubberband_canvas = rubberband[0];\n",
       "    this.rubberband_context = rubberband[0].getContext(\"2d\");\n",
       "    this.rubberband_context.strokeStyle = \"#000000\";\n",
       "\n",
       "    this._resize_canvas = function(width, height) {\n",
       "        // Keep the size of the canvas, canvas container, and rubber band\n",
       "        // canvas in synch.\n",
       "        canvas_div.css('width', width)\n",
       "        canvas_div.css('height', height)\n",
       "\n",
       "        canvas.attr('width', width * mpl.ratio);\n",
       "        canvas.attr('height', height * mpl.ratio);\n",
       "        canvas.attr('style', 'width: ' + width + 'px; height: ' + height + 'px;');\n",
       "\n",
       "        rubberband.attr('width', width);\n",
       "        rubberband.attr('height', height);\n",
       "    }\n",
       "\n",
       "    // Set the figure to an initial 600x600px, this will subsequently be updated\n",
       "    // upon first draw.\n",
       "    this._resize_canvas(600, 600);\n",
       "\n",
       "    // Disable right mouse context menu.\n",
       "    $(this.rubberband_canvas).bind(\"contextmenu\",function(e){\n",
       "        return false;\n",
       "    });\n",
       "\n",
       "    function set_focus () {\n",
       "        canvas.focus();\n",
       "        canvas_div.focus();\n",
       "    }\n",
       "\n",
       "    window.setTimeout(set_focus, 100);\n",
       "}\n",
       "\n",
       "mpl.figure.prototype._init_toolbar = function() {\n",
       "    var fig = this;\n",
       "\n",
       "    var nav_element = $('<div/>');\n",
       "    nav_element.attr('style', 'width: 100%');\n",
       "    this.root.append(nav_element);\n",
       "\n",
       "    // Define a callback function for later on.\n",
       "    function toolbar_event(event) {\n",
       "        return fig.toolbar_button_onclick(event['data']);\n",
       "    }\n",
       "    function toolbar_mouse_event(event) {\n",
       "        return fig.toolbar_button_onmouseover(event['data']);\n",
       "    }\n",
       "\n",
       "    for(var toolbar_ind in mpl.toolbar_items) {\n",
       "        var name = mpl.toolbar_items[toolbar_ind][0];\n",
       "        var tooltip = mpl.toolbar_items[toolbar_ind][1];\n",
       "        var image = mpl.toolbar_items[toolbar_ind][2];\n",
       "        var method_name = mpl.toolbar_items[toolbar_ind][3];\n",
       "\n",
       "        if (!name) {\n",
       "            // put a spacer in here.\n",
       "            continue;\n",
       "        }\n",
       "        var button = $('<button/>');\n",
       "        button.addClass('ui-button ui-widget ui-state-default ui-corner-all ' +\n",
       "                        'ui-button-icon-only');\n",
       "        button.attr('role', 'button');\n",
       "        button.attr('aria-disabled', 'false');\n",
       "        button.click(method_name, toolbar_event);\n",
       "        button.mouseover(tooltip, toolbar_mouse_event);\n",
       "\n",
       "        var icon_img = $('<span/>');\n",
       "        icon_img.addClass('ui-button-icon-primary ui-icon');\n",
       "        icon_img.addClass(image);\n",
       "        icon_img.addClass('ui-corner-all');\n",
       "\n",
       "        var tooltip_span = $('<span/>');\n",
       "        tooltip_span.addClass('ui-button-text');\n",
       "        tooltip_span.html(tooltip);\n",
       "\n",
       "        button.append(icon_img);\n",
       "        button.append(tooltip_span);\n",
       "\n",
       "        nav_element.append(button);\n",
       "    }\n",
       "\n",
       "    var fmt_picker_span = $('<span/>');\n",
       "\n",
       "    var fmt_picker = $('<select/>');\n",
       "    fmt_picker.addClass('mpl-toolbar-option ui-widget ui-widget-content');\n",
       "    fmt_picker_span.append(fmt_picker);\n",
       "    nav_element.append(fmt_picker_span);\n",
       "    this.format_dropdown = fmt_picker[0];\n",
       "\n",
       "    for (var ind in mpl.extensions) {\n",
       "        var fmt = mpl.extensions[ind];\n",
       "        var option = $(\n",
       "            '<option/>', {selected: fmt === mpl.default_extension}).html(fmt);\n",
       "        fmt_picker.append(option);\n",
       "    }\n",
       "\n",
       "    // Add hover states to the ui-buttons\n",
       "    $( \".ui-button\" ).hover(\n",
       "        function() { $(this).addClass(\"ui-state-hover\");},\n",
       "        function() { $(this).removeClass(\"ui-state-hover\");}\n",
       "    );\n",
       "\n",
       "    var status_bar = $('<span class=\"mpl-message\"/>');\n",
       "    nav_element.append(status_bar);\n",
       "    this.message = status_bar[0];\n",
       "}\n",
       "\n",
       "mpl.figure.prototype.request_resize = function(x_pixels, y_pixels) {\n",
       "    // Request matplotlib to resize the figure. Matplotlib will then trigger a resize in the client,\n",
       "    // which will in turn request a refresh of the image.\n",
       "    this.send_message('resize', {'width': x_pixels, 'height': y_pixels});\n",
       "}\n",
       "\n",
       "mpl.figure.prototype.send_message = function(type, properties) {\n",
       "    properties['type'] = type;\n",
       "    properties['figure_id'] = this.id;\n",
       "    this.ws.send(JSON.stringify(properties));\n",
       "}\n",
       "\n",
       "mpl.figure.prototype.send_draw_message = function() {\n",
       "    if (!this.waiting) {\n",
       "        this.waiting = true;\n",
       "        this.ws.send(JSON.stringify({type: \"draw\", figure_id: this.id}));\n",
       "    }\n",
       "}\n",
       "\n",
       "\n",
       "mpl.figure.prototype.handle_save = function(fig, msg) {\n",
       "    var format_dropdown = fig.format_dropdown;\n",
       "    var format = format_dropdown.options[format_dropdown.selectedIndex].value;\n",
       "    fig.ondownload(fig, format);\n",
       "}\n",
       "\n",
       "\n",
       "mpl.figure.prototype.handle_resize = function(fig, msg) {\n",
       "    var size = msg['size'];\n",
       "    if (size[0] != fig.canvas.width || size[1] != fig.canvas.height) {\n",
       "        fig._resize_canvas(size[0], size[1]);\n",
       "        fig.send_message(\"refresh\", {});\n",
       "    };\n",
       "}\n",
       "\n",
       "mpl.figure.prototype.handle_rubberband = function(fig, msg) {\n",
       "    var x0 = msg['x0'] / mpl.ratio;\n",
       "    var y0 = (fig.canvas.height - msg['y0']) / mpl.ratio;\n",
       "    var x1 = msg['x1'] / mpl.ratio;\n",
       "    var y1 = (fig.canvas.height - msg['y1']) / mpl.ratio;\n",
       "    x0 = Math.floor(x0) + 0.5;\n",
       "    y0 = Math.floor(y0) + 0.5;\n",
       "    x1 = Math.floor(x1) + 0.5;\n",
       "    y1 = Math.floor(y1) + 0.5;\n",
       "    var min_x = Math.min(x0, x1);\n",
       "    var min_y = Math.min(y0, y1);\n",
       "    var width = Math.abs(x1 - x0);\n",
       "    var height = Math.abs(y1 - y0);\n",
       "\n",
       "    fig.rubberband_context.clearRect(\n",
       "        0, 0, fig.canvas.width / mpl.ratio, fig.canvas.height / mpl.ratio);\n",
       "\n",
       "    fig.rubberband_context.strokeRect(min_x, min_y, width, height);\n",
       "}\n",
       "\n",
       "mpl.figure.prototype.handle_figure_label = function(fig, msg) {\n",
       "    // Updates the figure title.\n",
       "    fig.header.textContent = msg['label'];\n",
       "}\n",
       "\n",
       "mpl.figure.prototype.handle_cursor = function(fig, msg) {\n",
       "    var cursor = msg['cursor'];\n",
       "    switch(cursor)\n",
       "    {\n",
       "    case 0:\n",
       "        cursor = 'pointer';\n",
       "        break;\n",
       "    case 1:\n",
       "        cursor = 'default';\n",
       "        break;\n",
       "    case 2:\n",
       "        cursor = 'crosshair';\n",
       "        break;\n",
       "    case 3:\n",
       "        cursor = 'move';\n",
       "        break;\n",
       "    }\n",
       "    fig.rubberband_canvas.style.cursor = cursor;\n",
       "}\n",
       "\n",
       "mpl.figure.prototype.handle_message = function(fig, msg) {\n",
       "    fig.message.textContent = msg['message'];\n",
       "}\n",
       "\n",
       "mpl.figure.prototype.handle_draw = function(fig, msg) {\n",
       "    // Request the server to send over a new figure.\n",
       "    fig.send_draw_message();\n",
       "}\n",
       "\n",
       "mpl.figure.prototype.handle_image_mode = function(fig, msg) {\n",
       "    fig.image_mode = msg['mode'];\n",
       "}\n",
       "\n",
       "mpl.figure.prototype.updated_canvas_event = function() {\n",
       "    // Called whenever the canvas gets updated.\n",
       "    this.send_message(\"ack\", {});\n",
       "}\n",
       "\n",
       "// A function to construct a web socket function for onmessage handling.\n",
       "// Called in the figure constructor.\n",
       "mpl.figure.prototype._make_on_message_function = function(fig) {\n",
       "    return function socket_on_message(evt) {\n",
       "        if (evt.data instanceof Blob) {\n",
       "            /* FIXME: We get \"Resource interpreted as Image but\n",
       "             * transferred with MIME type text/plain:\" errors on\n",
       "             * Chrome.  But how to set the MIME type?  It doesn't seem\n",
       "             * to be part of the websocket stream */\n",
       "            evt.data.type = \"image/png\";\n",
       "\n",
       "            /* Free the memory for the previous frames */\n",
       "            if (fig.imageObj.src) {\n",
       "                (window.URL || window.webkitURL).revokeObjectURL(\n",
       "                    fig.imageObj.src);\n",
       "            }\n",
       "\n",
       "            fig.imageObj.src = (window.URL || window.webkitURL).createObjectURL(\n",
       "                evt.data);\n",
       "            fig.updated_canvas_event();\n",
       "            fig.waiting = false;\n",
       "            return;\n",
       "        }\n",
       "        else if (typeof evt.data === 'string' && evt.data.slice(0, 21) == \"data:image/png;base64\") {\n",
       "            fig.imageObj.src = evt.data;\n",
       "            fig.updated_canvas_event();\n",
       "            fig.waiting = false;\n",
       "            return;\n",
       "        }\n",
       "\n",
       "        var msg = JSON.parse(evt.data);\n",
       "        var msg_type = msg['type'];\n",
       "\n",
       "        // Call the  \"handle_{type}\" callback, which takes\n",
       "        // the figure and JSON message as its only arguments.\n",
       "        try {\n",
       "            var callback = fig[\"handle_\" + msg_type];\n",
       "        } catch (e) {\n",
       "            console.log(\"No handler for the '\" + msg_type + \"' message type: \", msg);\n",
       "            return;\n",
       "        }\n",
       "\n",
       "        if (callback) {\n",
       "            try {\n",
       "                // console.log(\"Handling '\" + msg_type + \"' message: \", msg);\n",
       "                callback(fig, msg);\n",
       "            } catch (e) {\n",
       "                console.log(\"Exception inside the 'handler_\" + msg_type + \"' callback:\", e, e.stack, msg);\n",
       "            }\n",
       "        }\n",
       "    };\n",
       "}\n",
       "\n",
       "// from http://stackoverflow.com/questions/1114465/getting-mouse-location-in-canvas\n",
       "mpl.findpos = function(e) {\n",
       "    //this section is from http://www.quirksmode.org/js/events_properties.html\n",
       "    var targ;\n",
       "    if (!e)\n",
       "        e = window.event;\n",
       "    if (e.target)\n",
       "        targ = e.target;\n",
       "    else if (e.srcElement)\n",
       "        targ = e.srcElement;\n",
       "    if (targ.nodeType == 3) // defeat Safari bug\n",
       "        targ = targ.parentNode;\n",
       "\n",
       "    // jQuery normalizes the pageX and pageY\n",
       "    // pageX,Y are the mouse positions relative to the document\n",
       "    // offset() returns the position of the element relative to the document\n",
       "    var x = e.pageX - $(targ).offset().left;\n",
       "    var y = e.pageY - $(targ).offset().top;\n",
       "\n",
       "    return {\"x\": x, \"y\": y};\n",
       "};\n",
       "\n",
       "/*\n",
       " * return a copy of an object with only non-object keys\n",
       " * we need this to avoid circular references\n",
       " * http://stackoverflow.com/a/24161582/3208463\n",
       " */\n",
       "function simpleKeys (original) {\n",
       "  return Object.keys(original).reduce(function (obj, key) {\n",
       "    if (typeof original[key] !== 'object')\n",
       "        obj[key] = original[key]\n",
       "    return obj;\n",
       "  }, {});\n",
       "}\n",
       "\n",
       "mpl.figure.prototype.mouse_event = function(event, name) {\n",
       "    var canvas_pos = mpl.findpos(event)\n",
       "\n",
       "    if (name === 'button_press')\n",
       "    {\n",
       "        this.canvas.focus();\n",
       "        this.canvas_div.focus();\n",
       "    }\n",
       "\n",
       "    var x = canvas_pos.x * mpl.ratio;\n",
       "    var y = canvas_pos.y * mpl.ratio;\n",
       "\n",
       "    this.send_message(name, {x: x, y: y, button: event.button,\n",
       "                             step: event.step,\n",
       "                             guiEvent: simpleKeys(event)});\n",
       "\n",
       "    /* This prevents the web browser from automatically changing to\n",
       "     * the text insertion cursor when the button is pressed.  We want\n",
       "     * to control all of the cursor setting manually through the\n",
       "     * 'cursor' event from matplotlib */\n",
       "    event.preventDefault();\n",
       "    return false;\n",
       "}\n",
       "\n",
       "mpl.figure.prototype._key_event_extra = function(event, name) {\n",
       "    // Handle any extra behaviour associated with a key event\n",
       "}\n",
       "\n",
       "mpl.figure.prototype.key_event = function(event, name) {\n",
       "\n",
       "    // Prevent repeat events\n",
       "    if (name == 'key_press')\n",
       "    {\n",
       "        if (event.which === this._key)\n",
       "            return;\n",
       "        else\n",
       "            this._key = event.which;\n",
       "    }\n",
       "    if (name == 'key_release')\n",
       "        this._key = null;\n",
       "\n",
       "    var value = '';\n",
       "    if (event.ctrlKey && event.which != 17)\n",
       "        value += \"ctrl+\";\n",
       "    if (event.altKey && event.which != 18)\n",
       "        value += \"alt+\";\n",
       "    if (event.shiftKey && event.which != 16)\n",
       "        value += \"shift+\";\n",
       "\n",
       "    value += 'k';\n",
       "    value += event.which.toString();\n",
       "\n",
       "    this._key_event_extra(event, name);\n",
       "\n",
       "    this.send_message(name, {key: value,\n",
       "                             guiEvent: simpleKeys(event)});\n",
       "    return false;\n",
       "}\n",
       "\n",
       "mpl.figure.prototype.toolbar_button_onclick = function(name) {\n",
       "    if (name == 'download') {\n",
       "        this.handle_save(this, null);\n",
       "    } else {\n",
       "        this.send_message(\"toolbar_button\", {name: name});\n",
       "    }\n",
       "};\n",
       "\n",
       "mpl.figure.prototype.toolbar_button_onmouseover = function(tooltip) {\n",
       "    this.message.textContent = tooltip;\n",
       "};\n",
       "mpl.toolbar_items = [[\"Home\", \"Reset original view\", \"fa fa-home icon-home\", \"home\"], [\"Back\", \"Back to previous view\", \"fa fa-arrow-left icon-arrow-left\", \"back\"], [\"Forward\", \"Forward to next view\", \"fa fa-arrow-right icon-arrow-right\", \"forward\"], [\"\", \"\", \"\", \"\"], [\"Pan\", \"Pan axes with left mouse, zoom with right\", \"fa fa-arrows icon-move\", \"pan\"], [\"Zoom\", \"Zoom to rectangle\", \"fa fa-square-o icon-check-empty\", \"zoom\"], [\"\", \"\", \"\", \"\"], [\"Download\", \"Download plot\", \"fa fa-floppy-o icon-save\", \"download\"]];\n",
       "\n",
       "mpl.extensions = [\"eps\", \"jpeg\", \"pdf\", \"png\", \"ps\", \"raw\", \"svg\", \"tif\"];\n",
       "\n",
       "mpl.default_extension = \"png\";var comm_websocket_adapter = function(comm) {\n",
       "    // Create a \"websocket\"-like object which calls the given IPython comm\n",
       "    // object with the appropriate methods. Currently this is a non binary\n",
       "    // socket, so there is still some room for performance tuning.\n",
       "    var ws = {};\n",
       "\n",
       "    ws.close = function() {\n",
       "        comm.close()\n",
       "    };\n",
       "    ws.send = function(m) {\n",
       "        //console.log('sending', m);\n",
       "        comm.send(m);\n",
       "    };\n",
       "    // Register the callback with on_msg.\n",
       "    comm.on_msg(function(msg) {\n",
       "        //console.log('receiving', msg['content']['data'], msg);\n",
       "        // Pass the mpl event to the overridden (by mpl) onmessage function.\n",
       "        ws.onmessage(msg['content']['data'])\n",
       "    });\n",
       "    return ws;\n",
       "}\n",
       "\n",
       "mpl.mpl_figure_comm = function(comm, msg) {\n",
       "    // This is the function which gets called when the mpl process\n",
       "    // starts-up an IPython Comm through the \"matplotlib\" channel.\n",
       "\n",
       "    var id = msg.content.data.id;\n",
       "    // Get hold of the div created by the display call when the Comm\n",
       "    // socket was opened in Python.\n",
       "    var element = $(\"#\" + id);\n",
       "    var ws_proxy = comm_websocket_adapter(comm)\n",
       "\n",
       "    function ondownload(figure, format) {\n",
       "        window.open(figure.imageObj.src);\n",
       "    }\n",
       "\n",
       "    var fig = new mpl.figure(id, ws_proxy,\n",
       "                           ondownload,\n",
       "                           element.get(0));\n",
       "\n",
       "    // Call onopen now - mpl needs it, as it is assuming we've passed it a real\n",
       "    // web socket which is closed, not our websocket->open comm proxy.\n",
       "    ws_proxy.onopen();\n",
       "\n",
       "    fig.parent_element = element.get(0);\n",
       "    fig.cell_info = mpl.find_output_cell(\"<div id='\" + id + \"'></div>\");\n",
       "    if (!fig.cell_info) {\n",
       "        console.error(\"Failed to find cell for figure\", id, fig);\n",
       "        return;\n",
       "    }\n",
       "\n",
       "    var output_index = fig.cell_info[2]\n",
       "    var cell = fig.cell_info[0];\n",
       "\n",
       "};\n",
       "\n",
       "mpl.figure.prototype.handle_close = function(fig, msg) {\n",
       "    var width = fig.canvas.width/mpl.ratio\n",
       "    fig.root.unbind('remove')\n",
       "\n",
       "    // Update the output cell to use the data from the current canvas.\n",
       "    fig.push_to_output();\n",
       "    var dataURL = fig.canvas.toDataURL();\n",
       "    // Re-enable the keyboard manager in IPython - without this line, in FF,\n",
       "    // the notebook keyboard shortcuts fail.\n",
       "    IPython.keyboard_manager.enable()\n",
       "    $(fig.parent_element).html('<img src=\"' + dataURL + '\" width=\"' + width + '\">');\n",
       "    fig.close_ws(fig, msg);\n",
       "}\n",
       "\n",
       "mpl.figure.prototype.close_ws = function(fig, msg){\n",
       "    fig.send_message('closing', msg);\n",
       "    // fig.ws.close()\n",
       "}\n",
       "\n",
       "mpl.figure.prototype.push_to_output = function(remove_interactive) {\n",
       "    // Turn the data on the canvas into data in the output cell.\n",
       "    var width = this.canvas.width/mpl.ratio\n",
       "    var dataURL = this.canvas.toDataURL();\n",
       "    this.cell_info[1]['text/html'] = '<img src=\"' + dataURL + '\" width=\"' + width + '\">';\n",
       "}\n",
       "\n",
       "mpl.figure.prototype.updated_canvas_event = function() {\n",
       "    // Tell IPython that the notebook contents must change.\n",
       "    IPython.notebook.set_dirty(true);\n",
       "    this.send_message(\"ack\", {});\n",
       "    var fig = this;\n",
       "    // Wait a second, then push the new image to the DOM so\n",
       "    // that it is saved nicely (might be nice to debounce this).\n",
       "    setTimeout(function () { fig.push_to_output() }, 1000);\n",
       "}\n",
       "\n",
       "mpl.figure.prototype._init_toolbar = function() {\n",
       "    var fig = this;\n",
       "\n",
       "    var nav_element = $('<div/>');\n",
       "    nav_element.attr('style', 'width: 100%');\n",
       "    this.root.append(nav_element);\n",
       "\n",
       "    // Define a callback function for later on.\n",
       "    function toolbar_event(event) {\n",
       "        return fig.toolbar_button_onclick(event['data']);\n",
       "    }\n",
       "    function toolbar_mouse_event(event) {\n",
       "        return fig.toolbar_button_onmouseover(event['data']);\n",
       "    }\n",
       "\n",
       "    for(var toolbar_ind in mpl.toolbar_items){\n",
       "        var name = mpl.toolbar_items[toolbar_ind][0];\n",
       "        var tooltip = mpl.toolbar_items[toolbar_ind][1];\n",
       "        var image = mpl.toolbar_items[toolbar_ind][2];\n",
       "        var method_name = mpl.toolbar_items[toolbar_ind][3];\n",
       "\n",
       "        if (!name) { continue; };\n",
       "\n",
       "        var button = $('<button class=\"btn btn-default\" href=\"#\" title=\"' + name + '\"><i class=\"fa ' + image + ' fa-lg\"></i></button>');\n",
       "        button.click(method_name, toolbar_event);\n",
       "        button.mouseover(tooltip, toolbar_mouse_event);\n",
       "        nav_element.append(button);\n",
       "    }\n",
       "\n",
       "    // Add the status bar.\n",
       "    var status_bar = $('<span class=\"mpl-message\" style=\"text-align:right; float: right;\"/>');\n",
       "    nav_element.append(status_bar);\n",
       "    this.message = status_bar[0];\n",
       "\n",
       "    // Add the close button to the window.\n",
       "    var buttongrp = $('<div class=\"btn-group inline pull-right\"></div>');\n",
       "    var button = $('<button class=\"btn btn-mini btn-primary\" href=\"#\" title=\"Stop Interaction\"><i class=\"fa fa-power-off icon-remove icon-large\"></i></button>');\n",
       "    button.click(function (evt) { fig.handle_close(fig, {}); } );\n",
       "    button.mouseover('Stop Interaction', toolbar_mouse_event);\n",
       "    buttongrp.append(button);\n",
       "    var titlebar = this.root.find($('.ui-dialog-titlebar'));\n",
       "    titlebar.prepend(buttongrp);\n",
       "}\n",
       "\n",
       "mpl.figure.prototype._root_extra_style = function(el){\n",
       "    var fig = this\n",
       "    el.on(\"remove\", function(){\n",
       "\tfig.close_ws(fig, {});\n",
       "    });\n",
       "}\n",
       "\n",
       "mpl.figure.prototype._canvas_extra_style = function(el){\n",
       "    // this is important to make the div 'focusable\n",
       "    el.attr('tabindex', 0)\n",
       "    // reach out to IPython and tell the keyboard manager to turn it's self\n",
       "    // off when our div gets focus\n",
       "\n",
       "    // location in version 3\n",
       "    if (IPython.notebook.keyboard_manager) {\n",
       "        IPython.notebook.keyboard_manager.register_events(el);\n",
       "    }\n",
       "    else {\n",
       "        // location in version 2\n",
       "        IPython.keyboard_manager.register_events(el);\n",
       "    }\n",
       "\n",
       "}\n",
       "\n",
       "mpl.figure.prototype._key_event_extra = function(event, name) {\n",
       "    var manager = IPython.notebook.keyboard_manager;\n",
       "    if (!manager)\n",
       "        manager = IPython.keyboard_manager;\n",
       "\n",
       "    // Check for shift+enter\n",
       "    if (event.shiftKey && event.which == 13) {\n",
       "        this.canvas_div.blur();\n",
       "        // select the cell after this one\n",
       "        var index = IPython.notebook.find_cell_index(this.cell_info[0]);\n",
       "        IPython.notebook.select(index + 1);\n",
       "    }\n",
       "}\n",
       "\n",
       "mpl.figure.prototype.handle_save = function(fig, msg) {\n",
       "    fig.ondownload(fig, null);\n",
       "}\n",
       "\n",
       "\n",
       "mpl.find_output_cell = function(html_output) {\n",
       "    // Return the cell and output element which can be found *uniquely* in the notebook.\n",
       "    // Note - this is a bit hacky, but it is done because the \"notebook_saving.Notebook\"\n",
       "    // IPython event is triggered only after the cells have been serialised, which for\n",
       "    // our purposes (turning an active figure into a static one), is too late.\n",
       "    var cells = IPython.notebook.get_cells();\n",
       "    var ncells = cells.length;\n",
       "    for (var i=0; i<ncells; i++) {\n",
       "        var cell = cells[i];\n",
       "        if (cell.cell_type === 'code'){\n",
       "            for (var j=0; j<cell.output_area.outputs.length; j++) {\n",
       "                var data = cell.output_area.outputs[j];\n",
       "                if (data.data) {\n",
       "                    // IPython >= 3 moved mimebundle to data attribute of output\n",
       "                    data = data.data;\n",
       "                }\n",
       "                if (data['text/html'] == html_output) {\n",
       "                    return [cell, data, j];\n",
       "                }\n",
       "            }\n",
       "        }\n",
       "    }\n",
       "}\n",
       "\n",
       "// Register the function which deals with the matplotlib target/channel.\n",
       "// The kernel may be null if the page has been refreshed.\n",
       "if (IPython.notebook.kernel != null) {\n",
       "    IPython.notebook.kernel.comm_manager.register_target('matplotlib', mpl.mpl_figure_comm);\n",
       "}\n"
      ],
      "text/plain": [
       "<IPython.core.display.Javascript object>"
      ]
     },
     "metadata": {},
     "output_type": "display_data"
    },
    {
     "data": {
      "text/html": [
       "<img src=\"data:image/png;base64,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\" width=\"1200\">"
      ],
      "text/plain": [
       "<IPython.core.display.HTML object>"
      ]
     },
     "metadata": {},
     "output_type": "display_data"
    }
   ],
   "source": [
    "plt.figure(figsize=(12,8))\n",
    "\n",
    "plt.scatter(d, v, color='blue', edgecolors='black')\n",
    "plt.xlim(0, 2500)\n",
    "plt.ylim(0, 140000)\n",
    "\n",
    "plt.title('Diagrama de Hubble:\\n Levantamento de supernovas do tipo Ia do SDSS-II', fontsize=20, family='serif')\n",
    "plt.xlabel('Distância [Mpc]', fontsize=15, family='serif')\n",
    "plt.ylabel(r'$cz$  [Km s$^{-1}]$', fontsize=15, family='serif')\n",
    "\n",
    "plt.plot([0, 3000], [intercept, slope * 3000 + intercept], '-k', lw=2)\n",
    "plt.text(1000, 15000, 'Valor obtido: $H_{0}=%.2f$ Km s$^{-1}$ Mpc$^{-1}$' %slope,\n",
    "        fontsize=15, family='serif', rotation=39)\n",
    "\n",
    "plt.plot([0,3000], [intercept, 67.80 * 3000 + intercept], ':r', lw=2)\n",
    "plt.text(450, 60000, 'Melhor valor atual: $H_{0}=67.80$ Km s$^{-1}$ Mpc$^{-1}$',\n",
    "        fontsize=15, rotation = 41, color='r')\n",
    "\n",
    "opt_plot()\n",
    "plt.savefig('Diagrama de Hubble Levantamento de supernovas do tipo Ia do SDSS-II.png')"
   ]
  },
  {
   "cell_type": "markdown",
   "metadata": {},
   "source": [
    "Como pode ser visto, u  valor inferior ao melhor valor atual foi obtido em aproximadamente 10%, o que considero uma boa aproximação dado que o método muito básico que tem sido usado para obter a magnitude aparente correspondente ao momento de radiação máxima das supernovas estudadas. A este respeito, pode ser interessante ler a história agitada da determinação de $H_{0}$ no artigo [*The Ups and Downs of the Hubble Constant*](https://arxiv.org/abs/astro-ph/0512584) de G.A. Tammann (2005) [16]. Demorou cerca de 75 anos para se obter um valor de $H_{0}$ com uma incerteza de menos de 10%."
   ]
  },
  {
   "cell_type": "markdown",
   "metadata": {},
   "source": [
    "---"
   ]
  },
  {
   "cell_type": "markdown",
   "metadata": {},
   "source": [
    "## Referências"
   ]
  },
  {
   "cell_type": "markdown",
   "metadata": {},
   "source": [
    "- [1] *Sloan Digital Sky Survey* : http://skyserver.sdss.org/dr10/en/home.aspx"
   ]
  },
  {
   "cell_type": "markdown",
   "metadata": {},
   "source": [
    "- [2] *A cor dos objetos celestes* : https://github.com/GabrielWendell/PET.py/blob/main/Notebooks/A%20cor%20dos%20objetos%20celestes.ipynb"
   ]
  },
  {
   "cell_type": "markdown",
   "metadata": {},
   "source": [
    "- [3] *Astronomia & Astrofísica / Kepler de Souza Oliveira Filho, Maria de Fátima Oliveira Saraiva - 4.ed.* : Capítulos 20 (p.157), 21 (p.175), 22 (p.193) & 23 (p.231);"
   ]
  },
  {
   "cell_type": "markdown",
   "metadata": {},
   "source": [
    "- [4] *Astronomia & Astrofísica / Kepler de Souza Oliveira Filho, Maria de Fátima Oliveira Saraiva - 4.ed.* : Capítulos 24 (p.453), 25 (p.455), 26 (p.475) & 27 (p.501);"
   ]
  },
  {
   "cell_type": "markdown",
   "metadata": {},
   "source": [
    "- [5] *Extragalactic Astronomy and Cosmology - An Introduction / Peter Schneider - Springer (2006)*: https://link.springer.com/book/10.1007/978-3-642-54083-7"
   ]
  },
  {
   "cell_type": "markdown",
   "metadata": {},
   "source": [
    "- [6] *The SDSS Supernova Survey - Publications*: http://classic.sdss.org/supernova/"
   ]
  },
  {
   "cell_type": "markdown",
   "metadata": {},
   "source": [
    "- [7] *SDSS-II Supernova Survey Data*: http://www.sdss3.org/dr10/data_access/supernovae.php"
   ]
  },
  {
   "cell_type": "markdown",
   "metadata": {},
   "source": [
    "- [8] *Confirmed SDSS-II Supernovae*: http://classic.sdss.org/supernova/snlist_confirmed.html"
   ]
  },
  {
   "cell_type": "markdown",
   "metadata": {},
   "source": [
    "- [9] *What Is a Supernova?*: https://spaceplace.nasa.gov/supernova/en/"
   ]
  },
  {
   "cell_type": "markdown",
   "metadata": {},
   "source": [
    "- [10] *Classifying Supernovae*: https://astrobites.org/2016/12/02/classifying-supernovae/"
   ]
  },
  {
   "cell_type": "markdown",
   "metadata": {},
   "source": [
    "- [11] *Phillips, M. M.; The Absolute Magnitudes of Type Ia Supernovae; ApJ: 1993, Aug, Vol. 413, L105*: http://articles.adsabs.harvard.edu/pdf/1993ApJ...413L.105P"
   ]
  },
  {
   "cell_type": "markdown",
   "metadata": {},
   "source": [
    "- [12] *Jon. A. Holtzman et al; The Sloan Digital Sky Survey-II: Photometry and Supernova Ia Light Curves from the 2005 data; AJ, Aug. 2009, 136, 2306*: https://arxiv.org/abs/0908.4277"
   ]
  },
  {
   "cell_type": "markdown",
   "metadata": {},
   "source": [
    "- [13] *The SDSS Supernova Survey: Light Curves*: http://classic.sdss.org/supernova/lightcurves.html"
   ]
  },
  {
   "cell_type": "markdown",
   "metadata": {},
   "source": [
    "- [14] *Transformations between SDSS magnitudes and other systems*: http://classic.sdss.org/dr7/algorithms/sdssUBVRITransform.html"
   ]
  },
  {
   "cell_type": "markdown",
   "metadata": {},
   "source": [
    "- [15] *Tamara M. Davis, Charles H. Lineweaver; Expanding Confusion: common misconceptions of cosmological horizons and the superluminal expansion of the Universe, Astrophysics (astro-ph), Nov. 2003*: https://arxiv.org/abs/astro-ph/0310808"
   ]
  },
  {
   "cell_type": "markdown",
   "metadata": {},
   "source": [
    "- [16] *G.A. Tammann; The Ups and Downs of the Hubble Constant; Astrophysics (astro-ph), Dec. 2005* : https://arxiv.org/abs/astro-ph/0512584"
   ]
  }
 ],
 "metadata": {
  "kernelspec": {
   "display_name": "Python 3",
   "language": "python",
   "name": "python3"
  },
  "language_info": {
   "codemirror_mode": {
    "name": "ipython",
    "version": 3
   },
   "file_extension": ".py",
   "mimetype": "text/x-python",
   "name": "python",
   "nbconvert_exporter": "python",
   "pygments_lexer": "ipython3",
   "version": "3.7.5"
  }
 },
 "nbformat": 4,
 "nbformat_minor": 2
}
