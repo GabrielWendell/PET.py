{
 "cells": [
  {
   "cell_type": "markdown",
   "metadata": {
    "slideshow": {
     "slide_type": "slide"
    }
   },
   "source": [
    "# O diagrama de Hubble e as supernovas"
   ]
  },
  {
   "cell_type": "markdown",
   "metadata": {},
   "source": [
    "- PET - Física\n",
    "- Petiano: Gabriel Wendell Celestino Rocha\n",
    "- Data: "
   ]
  },
  {
   "cell_type": "markdown",
   "metadata": {
    "slideshow": {
     "slide_type": "slide"
    }
   },
   "source": [
    "O objetivo deste `Notebook` é em um primeiro momento construir um diagrama de Hubble e obter um valor aproximado para a constante de Hubble. Para isso, vamos explorar o banco de dados do [SDSS](http://skyserver.sdss.org/dr10/en/home.aspx) *Sloan Digital Sky Survey*, cujo sistema fotométrico é diferente do UBV, o qual se está mais acostumado (e que foi utilizado no `Notebook` [a cor dos objetos celestes](https://github.com/GabrielWendell/PET.py/blob/main/Notebooks/A%20cor%20dos%20objetos%20celestes.ipynb) [2])."
   ]
  },
  {
   "cell_type": "markdown",
   "metadata": {},
   "source": [
    "Desta forma, para uma melhor organização deste `Notebook` como um todo, este será dividido em duas seções:\n",
    "- **Introdução teórica**;\n",
    "- **Trabalhando com dados reais**."
   ]
  },
  {
   "cell_type": "markdown",
   "metadata": {},
   "source": [
    "Na primeira seção iremos realizar uma não tão breve introdução teórica acerca de alguns fundamentos básicos de Cosmologia. Iremos apresentar os conceitos teóricos que iremos utilizar aos longo deste `Notebook` e servirá apenas como um breve resumo do assunto abordado na referência [4]."
   ]
  },
  {
   "cell_type": "markdown",
   "metadata": {},
   "source": [
    "Já na segunda seção, iremos aplicar os conceitos explorados na seção anterior ao banco de dados do SDSS e com base nisso construir um diagrama de Hubble e então estimar o valor da constante de Hubble."
   ]
  },
  {
   "cell_type": "markdown",
   "metadata": {},
   "source": [
    "## Pré-requisitos"
   ]
  },
  {
   "cell_type": "markdown",
   "metadata": {},
   "source": [
    "Para a primeira seção deste `Notebook`, é recomendável que o leitor seja conhecedor dos fundamentos básicos de Astrofísica e de Cosmologia. Tais fundamentos podem ser encontrados nas referências [3] e [4] para Astrofísica e Cosmologia, respectivamente. Além disso, é recomendável que o leitor já tenha lido o `Notebook` intitulado [a cor dos objetos celetes](https://github.com/GabrielWendell/PET.py/blob/main/Notebooks/A%20cor%20dos%20objetos%20celestes.ipynb) [2]. "
   ]
  },
  {
   "cell_type": "markdown",
   "metadata": {},
   "source": [
    "### Importando as bibliotecas"
   ]
  },
  {
   "cell_type": "code",
   "execution_count": 1,
   "metadata": {},
   "outputs": [],
   "source": [
    "import matplotlib.pyplot as plt\n",
    "import quantities as pq\n",
    "import scipy.stats as s\n",
    "import pandas as pd\n",
    "import numpy as np\n",
    "import re                           \n",
    "\n",
    "%matplotlib notebook"
   ]
  },
  {
   "cell_type": "markdown",
   "metadata": {},
   "source": [
    "Note que dessa vez importamos algumas bibliotecas um tanto quanto \"diferentes\". Vamos por partes. A biblioteca [`quantities`](https://pythonhosted.org/quantities/) já é conhecida nossa (basicamente, essa biblioteca está presente em todos os `Notebooks` relacionados à Astronomia que eu escrevo) e nos permite trabalhar com diversas unidades físicas em Python. Já a biblioteca [`re`](https://docs.python.org/3/library/re.html) nos fornecerá operações de correspondência de expressões regulares (para aqueles que já se aventuraram pelo [Perl](https://www.perl.org), a ideia dessa biblioteca é estabelecer um análogo em Python para essas mesmas operações de correspondência que são encontradas no Perl)."
   ]
  },
  {
   "cell_type": "markdown",
   "metadata": {},
   "source": [
    "Para instalar tais bibliotecas (o módulo `re` é nativo do Python), basta executar uma das seguintes linhas de comando em um terminal de sua preferência:"
   ]
  },
  {
   "cell_type": "markdown",
   "metadata": {},
   "source": [
    "- **PIP**: `pip install <biblioteca>`\n",
    "- **Anaconda**: `conda install <biblioteca>`"
   ]
  },
  {
   "cell_type": "markdown",
   "metadata": {},
   "source": [
    "#### Detalhes das bibliotecas:"
   ]
  },
  {
   "cell_type": "code",
   "execution_count": 2,
   "metadata": {},
   "outputs": [
    {
     "data": {
      "application/json": {
       "Software versions": [
        {
         "module": "Python",
         "version": "3.7.5 64bit [MSC v.1916 64 bit (AMD64)]"
        },
        {
         "module": "IPython",
         "version": "7.10.0"
        },
        {
         "module": "OS",
         "version": "Windows 10 10.0.19041 SP0"
        },
        {
         "module": "Matplotlib",
         "version": "3.1.2"
        },
        {
         "module": "Numpy",
         "version": "1.19.0"
        },
        {
         "module": "Pandas",
         "version": "1.2.3"
        },
        {
         "module": "Quantities",
         "version": "0.12.4"
        },
        {
         "module": "re",
         "version": "2.2.1"
        },
        {
         "module": "Scipy",
         "version": "1.4.1"
        }
       ]
      },
      "text/html": [
       "<table><tr><th>Software</th><th>Version</th></tr><tr><td>Python</td><td>3.7.5 64bit [MSC v.1916 64 bit (AMD64)]</td></tr><tr><td>IPython</td><td>7.10.0</td></tr><tr><td>OS</td><td>Windows 10 10.0.19041 SP0</td></tr><tr><td>Matplotlib</td><td>3.1.2</td></tr><tr><td>Numpy</td><td>1.19.0</td></tr><tr><td>Pandas</td><td>1.2.3</td></tr><tr><td>Quantities</td><td>0.12.4</td></tr><tr><td>re</td><td>2.2.1</td></tr><tr><td>Scipy</td><td>1.4.1</td></tr><tr><td colspan='2'>Sat Sep 18 11:54:14 2021 Hora Padrão de Buenos Aires</td></tr></table>"
      ],
      "text/latex": [
       "\\begin{tabular}{|l|l|}\\hline\n",
       "{\\bf Software} & {\\bf Version} \\\\ \\hline\\hline\n",
       "Python & 3.7.5 64bit [MSC v.1916 64 bit (AMD64)] \\\\ \\hline\n",
       "IPython & 7.10.0 \\\\ \\hline\n",
       "OS & Windows 10 10.0.19041 SP0 \\\\ \\hline\n",
       "Matplotlib & 3.1.2 \\\\ \\hline\n",
       "Numpy & 1.19.0 \\\\ \\hline\n",
       "Pandas & 1.2.3 \\\\ \\hline\n",
       "Quantities & 0.12.4 \\\\ \\hline\n",
       "re & 2.2.1 \\\\ \\hline\n",
       "Scipy & 1.4.1 \\\\ \\hline\n",
       "\\hline \\multicolumn{2}{|l|}{Sat Sep 18 11:54:14 2021 Hora Padrão de Buenos Aires} \\\\ \\hline\n",
       "\\end{tabular}\n"
      ],
      "text/plain": [
       "Software versions\n",
       "Python 3.7.5 64bit [MSC v.1916 64 bit (AMD64)]\n",
       "IPython 7.10.0\n",
       "OS Windows 10 10.0.19041 SP0\n",
       "Matplotlib 3.1.2\n",
       "Numpy 1.19.0\n",
       "Pandas 1.2.3\n",
       "Quantities 0.12.4\n",
       "re 2.2.1\n",
       "Scipy 1.4.1\n",
       "Sat Sep 18 11:54:14 2021 Hora Padrão de Buenos Aires"
      ]
     },
     "execution_count": 2,
     "metadata": {},
     "output_type": "execute_result"
    }
   ],
   "source": [
    "%load_ext version_information\n",
    "%version_information Matplotlib, Numpy, Pandas, Quantities, re, Scipy"
   ]
  },
  {
   "cell_type": "markdown",
   "metadata": {},
   "source": [
    "Para instalar a magic extension `%version_information` do `IPython` usando o `pip`, execute a seguinte linha de comando em um terminal de sua preferência:"
   ]
  },
  {
   "cell_type": "markdown",
   "metadata": {},
   "source": [
    "`pip install version_information`"
   ]
  },
  {
   "cell_type": "markdown",
   "metadata": {},
   "source": [
    "Feito todas essas explicações, vamos ao `Notebook` propriamente dito."
   ]
  },
  {
   "cell_type": "markdown",
   "metadata": {},
   "source": [
    "#### Definindo algumas constantes:"
   ]
  },
  {
   "cell_type": "code",
   "execution_count": 3,
   "metadata": {},
   "outputs": [],
   "source": [
    "earth_radius = 6378160.0 * pq.m\n",
    "moon_radius = 1740000.0 * pq.m\n",
    "sun_earth = 695000000.0 * pq.m\n",
    "\n",
    "earth_mass = 5.97219e24 * pq.kg\n",
    "sun_mass = 332946 * earth_mass\n",
    "\n",
    "Hubble_constant = 67.80 * (pq.km/pq.s)/(1e6*pq.pc)"
   ]
  },
  {
   "cell_type": "markdown",
   "metadata": {},
   "source": [
    "#### Definindo algumas unidades:"
   ]
  },
  {
   "cell_type": "code",
   "execution_count": 4,
   "metadata": {},
   "outputs": [],
   "source": [
    "Mly = pq.UnitQuantity('megalight_year', 1e6*pq.ly, symbol = 'Mly')\n",
    "Mpc = pq.UnitQuantity('megaparsec', 1e6*pq.pc, symbol = 'Mpc')"
   ]
  },
  {
   "cell_type": "markdown",
   "metadata": {},
   "source": [
    "## 1. Introdução teórica"
   ]
  },
  {
   "cell_type": "markdown",
   "metadata": {},
   "source": [
    "O fenômeno da expansão do universo, que separa uns dos outros todos aqueles objetos cósmicos que não estão unidos pela força da gravitação, é um fato conhecido pelas observações de [Hubble](https://www.biography.com/scientist/edwin-hubble#personal-life) em 1929. A taxa dessa expansão é governada pela chamada **Lei de Hubble**, que relaciona o valor do desvio para o vermelho observado no espectro de galáxias distantes, com a distância que nos separa delas."
   ]
  },
  {
   "cell_type": "markdown",
   "metadata": {},
   "source": [
    "A lei de Hubble é geralmente mostrada através de um diagrama que representa esse desvio para o vermelho, em forma de magnitude com unidades de velocidade ($cz$) em $\\text{km s}^{-1}$ em relação às distancias medidas em Megaparsec. Obviamente, a maior dificuldade em fazer um diagrama desse tipo é saber as distâncias que nos separam de tais objetos distantes. Nessa determinação, os objetos conhecidos como **supernovas** desempenham, como veremos mais adiante, um papel fundamental. Uma vez que este diagrama é construído, uma relação aproximadamente linear entre ambas as magnitudes pode ser vista, a constante de proporcionalidade $H_{0}$ é chamada então de constante de Hubble. O índice $0$ indica que nos referimos aqui ao seu valor atual, pois este pode variar ao longo do tempo dependendo do mode de evolução do Universo que for adotado. O melhor valor desta constante é $H_{0}=67.8$ $\\text{km s}^{-1}$ $\\text{Mpc}^{-1}$."
   ]
  },
  {
   "cell_type": "markdown",
   "metadata": {},
   "source": [
    "### 1.1 A expansão homogênea e isotrópica do Universo"
   ]
  },
  {
   "cell_type": "markdown",
   "metadata": {},
   "source": [
    "Uma característica da expansão do universo é que ele é homogêneo (igual em todos os pontos) e isotrópico (igual em todas as direções). Essa expansão preserva a forma dos objetos. Por exemplo, um triângulo se tornaria, depois de um certo tempo, um triângulo maior, mas semelhante (ou congruente) ao primeiro. A razão de similaridade, chamada de *fator de escala*, dependerá do instante $t$ considerado e, portanto, é designada por $a(t)$. "
   ]
  },
  {
   "cell_type": "markdown",
   "metadata": {},
   "source": [
    "Consideremos, potanto, duas galáxias, e seja $\\overrightarrow{r}(t_{0})$ o vetor que as une no tempo $t_{0}$, que podemos supor, por exemplo, ser o momento atual. Em outro instante, o vetor que une esses mesmos dois objetos será:"
   ]
  },
  {
   "cell_type": "markdown",
   "metadata": {},
   "source": [
    "$$\\overrightarrow{r}(t)=a(t)\\overrightarrow{r}(t_{0})$$"
   ]
  },
  {
   "cell_type": "markdown",
   "metadata": {},
   "source": [
    "A velocidade de retrocesso das dias galáxias será então (representando a derivada em relação ao tempo com um ponto):"
   ]
  },
  {
   "cell_type": "markdown",
   "metadata": {},
   "source": [
    "$$\\overrightarrow{v_{r}}(t)=\\dot{a}(t)\\overrightarrow{r}(t_{0})\\implies\\overrightarrow{v_{r}}(t)=\\dot{a}(t)\\frac{\\overrightarrow{r}(t)}{a(t)}$$"
   ]
  },
  {
   "cell_type": "markdown",
   "metadata": {},
   "source": [
    "Ou seja:"
   ]
  },
  {
   "cell_type": "markdown",
   "metadata": {},
   "source": [
    "$$\\overrightarrow{v_{r}}=\\frac{\\dot{a}}{a}\\overrightarrow{r}$$"
   ]
  },
  {
   "cell_type": "markdown",
   "metadata": {},
   "source": [
    "Definindo $H(t)=\\frac{\\dot{a}(t)}{a(t)}$ obtemos finalmente:"
   ]
  },
  {
   "cell_type": "markdown",
   "metadata": {},
   "source": [
    "$$\\boxed{\\overrightarrow{v_{r}}=H\\overrightarrow{r}\\overset{|\\cdot|}{\\implies}v=Hr}$$"
   ]
  },
  {
   "cell_type": "markdown",
   "metadata": {},
   "source": [
    "Onde o resultado apresentado à direita foi obtido ao tomar o módulo das grandezas vetoriais em questão."
   ]
  },
  {
   "cell_type": "markdown",
   "metadata": {},
   "source": [
    "Ou seja, a velocidade de recessão mútua das galáxias é proporcional à distância que as separa. O fator de proporcionalidade, $H$, pode variar ao longo do tempo, mas a cada instante é o mesmo em todos os pontos do universo. $H=H(t)$ é conhecido como *parâmetro de Hubble* e, como mencionamos, não é constante, pois pode mudar com o tempo. Mas o mais importante é ter em mente que esta relação entre velocidades é uma propriedade fundamental, exata, uma consequência matemática de uma expansão homogênea e isotrópica do universo, e não deve ser confundida com a lei de Hubble que como veremos a seguir que possui um caráter observacional."
   ]
  },
  {
   "cell_type": "markdown",
   "metadata": {},
   "source": [
    "### 1.2 *Redshift* cósmico"
   ]
  },
  {
   "cell_type": "markdown",
   "metadata": {},
   "source": [
    "Quando observamos a luz emitida em qualquer comprimento de onda por um objeto distante, encontramos uma diferença entre o comprimento de onda medido pelo observador e o da luz emitida pelo objeto. Esta discrepância é conhecida como *redshift* (desvio para o vermelho, em português) e é caracterizada pela quantidade adimensional $z$ definida como:"
   ]
  },
  {
   "cell_type": "markdown",
   "metadata": {},
   "source": [
    "$$z=\\frac{\\lambda_{obs}-\\lambda_{emit}}{\\lambda_{emit}}\\implies z=\\frac{\\Delta\\lambda}{\\lambda_{emit}}$$"
   ]
  },
  {
   "cell_type": "markdown",
   "metadata": {},
   "source": [
    "Que por sua vez também pode ser expressa como:"
   ]
  },
  {
   "cell_type": "markdown",
   "metadata": {},
   "source": [
    "$$z+1=\\frac{\\lambda_{obs}}{\\lambda_{emit}}$$"
   ]
  },
  {
   "cell_type": "markdown",
   "metadata": {},
   "source": [
    "Agora, vamos apenas considerar que o *redshift* é uma consequência da expansão do universo. Se imaginarmos o universo como uma grade em expansão, estaríamos no caso em que tanto a fonte emissora quanto o observador ocupam o nó dessa grade. Ou seja, assumimos que não existem movimentos peculiares típicos de cada objeto (na realidade eles sempre existirão, mas dadas as grandes distâncias consideradas, seu efeito será desprezível em uma primeira aproximação)."
   ]
  },
  {
   "cell_type": "markdown",
   "metadata": {},
   "source": [
    "Bem, neste caso pode ser mostrado que o comprimento de onda instantâneo $\\lambda(t)$ é proporcional ao fator de escala, e pode ser escrito da seguinte forma:"
   ]
  },
  {
   "cell_type": "markdown",
   "metadata": {},
   "source": [
    "$$\\lambda=k\\cdot a\\implies\\lambda\\propto a$$"
   ]
  },
  {
   "cell_type": "markdown",
   "metadata": {},
   "source": [
    "Ou seja, conforme o espaço se expande, o comprimento de onda se expande na mesma proporção e, medindo o comprimento de onda recebido e comparando-o com o emitido, é possível saber o quanto o universo se expandiu enquanto a luz viajava para chegar até nós. É como se a expansão do universo \"esticasse\" as ondas de luz que o atravessam."
   ]
  },
  {
   "cell_type": "markdown",
   "metadata": {},
   "source": [
    "Por exemplo, se no instante $t_{emis}$ um pulso luminoso é emitido e o recebemos no instante $t_{atual}$, podemos escrever:"
   ]
  },
  {
   "cell_type": "markdown",
   "metadata": {},
   "source": [
    "$$\\boxed{1+z=\\frac{\\lambda_{atual}}{\\lambda_{emit}}=\\frac{a(t_{atual})}{a(t_{emit})}}$$"
   ]
  },
  {
   "cell_type": "markdown",
   "metadata": {},
   "source": [
    "Este *redshift*, que **não é uma manifestação do efeito Doppler**, mas exclusivamente uma consequência da expansão do universo, e está, como foi visto anteriormente, intimamente relacionado ao fator de escada da expansão, é chamado de **redshift cósmico**, e é aquele ao qual iremos nos referir neste `Notebook`."
   ]
  },
  {
   "cell_type": "markdown",
   "metadata": {},
   "source": [
    "### 1.3 Lei de Hubble"
   ]
  },
  {
   "cell_type": "markdown",
   "metadata": {},
   "source": [
    "Como já mencionamos, em 1920 Hubble formulou sua famosa lei que afirma a proporcionalidade entre a quantidade de *redshift* medida no espectro de luz que observamos vindo das galáxias, e sua distância obtida por vários métodos, embora principalmente pelo uso do módulo de distância resultante da comparação entre a magnitude absolta e a magnitude aparente do objeto:"
   ]
  },
  {
   "cell_type": "markdown",
   "metadata": {},
   "source": [
    "$$z=\\frac{H_{0}}{c}d$$"
   ]
  },
  {
   "cell_type": "markdown",
   "metadata": {},
   "source": [
    "Na época, Hubble interpretou o *redshift* das galáxias como uma manifestação do efeito Doppler como consequência de sua distância até nós. Uma vez que, por outro lado, para pequenos valores de $z$, o efeito Doppler admite a aproximação $v\\approx cz$, onde $v$ é a velocidade de partida da fonte, a lei de Hubble é frequentemente escrita como $v=H_{0}d$, embora, para deixar claro o método de obtenção dessa velocidade, é preferível escrever a lei de Hubble como:"
   ]
  },
  {
   "cell_type": "markdown",
   "metadata": {},
   "source": [
    "$$\\boxed{cz=H_{0}d}$$"
   ]
  },
  {
   "cell_type": "markdown",
   "metadata": {},
   "source": [
    "Sobre isso é necessário fazer uma série de esclarecimentos:"
   ]
  },
  {
   "cell_type": "markdown",
   "metadata": {},
   "source": [
    "- Ao contrário da lei teórica $v=H(t)r$, a lei de Hubble $cz=H_{0}d$ é puramente experimental, sendo o resultado de múltiplas observações. Na verdade, esta relação linear deixa de ser válida para altos valores de $z$;"
   ]
  },
  {
   "cell_type": "markdown",
   "metadata": {},
   "source": [
    "- A distância $r$ que aparece na relação teórica entre velocidades de recuo e distâncias é a distância adequada exata que nos separa do objeto, medida em um **referencial inercial do observador**. Ou seja, seria a distância que mediríamos colocando uma após a outra réguas que não se expandem com o universo; "
   ]
  },
  {
   "cell_type": "markdown",
   "metadata": {},
   "source": [
    "- Em contraste, $d$ (observe a mudança na notação) é a distância estimada por diferentes métodos de observação. Na maioria das vezes, $d$ é a \"*distância de brilho*\" $d_{L}$ calculada usando o módulo de distância que, por exemplo, foi vista neste [`Notebook`](https://github.com/GabrielWendell/PET.py/blob/main/Notebooks/A%20cor%20dos%20objetos%20celestes.ipynb) [2]. A distância de brilho fornece uma boa aproximação da distância adequada $r$ para objetos \"próximos\", mas se desvia dela para objetos mais distantes;"
   ]
  },
  {
   "cell_type": "markdown",
   "metadata": {},
   "source": [
    "- A lei $v=H(t)r$ relaciona velocidades e distâncias no momento \"atual\", ou sjea, são velocidades e distâncias agora, no momento no qual se faz a observação, medidas no **próprio tempo do observador**. Em vez disso, $z$ e $d$ referem-se ao momento em que a luz foi emitida pelo objeto observado."
   ]
  },
  {
   "cell_type": "markdown",
   "metadata": {},
   "source": [
    "- Devido à coincidência da velocidade $v$ com a magnitude $cz$ para pequenos valores de $z$, podemos escrever: $H(t_{atual})=H_{0}$. A constante de Hubble é o valor que o parâmetro de Hubble assume no momento."
   ]
  },
  {
   "cell_type": "markdown",
   "metadata": {},
   "source": [
    "Uma excelente explicação de todas essas sutilezas em relação à lei de Hubble pode ser encontrada no excelente livro *Extragalactic Astronomy and Cosmology - An Introduction* [5] de Peter Schneider (você pode encontrar tal livro disponível para *donwload* gratuíto na [*Library Genesis*](https://www.libgen.is/search.php?req=Extragalactic+Astronomy+and+Cosmology+-+An+Introduction&lg_topic=libgen&open=0&view=simple&res=25&phrase=1&column=def))."
   ]
  },
  {
   "cell_type": "markdown",
   "metadata": {},
   "source": [
    "Após esta introdução teórica, vamos tentar obter o diagrama de Hubble correspondente às supernovas do tipo Ia do levantamento de supernovas do SDSS."
   ]
  },
  {
   "cell_type": "markdown",
   "metadata": {},
   "source": [
    "---"
   ]
  },
  {
   "cell_type": "markdown",
   "metadata": {},
   "source": [
    "## 2. Trabalhando com dados reais"
   ]
  },
  {
   "cell_type": "markdown",
   "metadata": {},
   "source": [
    "### 2.1 *Sloan Digital Sky Survey*"
   ]
  },
  {
   "cell_type": "markdown",
   "metadata": {},
   "source": [
    "Os objetos com os quais vamos construir o diagrama de Hubble serão as supernovas do tipo Ia obtidas no levantamento de supernovas do **Sloan Digital Sky Survey** (SDSS). A [página principal](http://classic.sdss.org/supernova/) desta pesquisa pode ser consultada na referência [6]. Um resumo com links para a documentação mais relevante para este exercício pode ser encontrado [aqui](http://www.sdss3.org/dr10/data_access/supernovae.php) ou consultando a referência [7]."
   ]
  },
  {
   "cell_type": "markdown",
   "metadata": {},
   "source": [
    "Em particular, esta é a [tabela de supernovas](http://classic.sdss.org/supernova/snlist_confirmed.html) [8] encontradas pelo SDSS nesta pesquisa."
   ]
  },
  {
   "cell_type": "markdown",
   "metadata": {},
   "source": [
    "Este é um artigo da [NASA](https://spaceplace.nasa.gov/supernova/en/) [9] onde você pode conferir um resumo sobre as supernovas. E aqui você pode conferir um excelente artigo da revista eletrônica [Astrobites](https://astrobites.org/2016/12/02/classifying-supernovae/) [10] sobre a classificação das supernovas."
   ]
  },
  {
   "cell_type": "markdown",
   "metadata": {},
   "source": [
    "### 2.2 Cálculo da distânca a uma supernova"
   ]
  },
  {
   "cell_type": "markdown",
   "metadata": {},
   "source": [
    "Conforme discutido, iremos concentrar nossa atenção nas supernovas do tipo Ia. Suas principais características tendo em vista o seu uso na elaboração de um diagrama de Hubble são as seguintes:"
   ]
  },
  {
   "cell_type": "markdown",
   "metadata": {},
   "source": [
    "- Sua magnitude absoluta máxima nos filtros azul (B) e visual (V) no sistema fotométrico UBV de Johnson é:"
   ]
  },
  {
   "cell_type": "markdown",
   "metadata": {},
   "source": [
    "$$\\boxed{M_{U}\\approx M_{V}=-19.3\\pm 0.3}$$"
   ]
  },
  {
   "cell_type": "markdown",
   "metadata": {},
   "source": [
    "- A magnitude aparente $m$ é determinada examinando sua curva de luz, que é uma curva que representa a evolução de sua magnitude $m$ em função do tempo."
   ]
  },
  {
   "cell_type": "markdown",
   "metadata": {},
   "source": [
    "- Uma ver que sua magnitude absoluta $M$ é (aproximadamente) fixa, as supernovas do tipo Ia são chamadas de \"*velas padrão*\"."
   ]
  },
  {
   "cell_type": "markdown",
   "metadata": {},
   "source": [
    "- Uma vez que termos os dados de magnitude relativa $m$, podemos calcular a distância usando o **módulo de distância**, que expressa a distância $d_{Mpc}$ em Megaparsec, cuja relação é formulada da seguinte forma:"
   ]
  },
  {
   "cell_type": "markdown",
   "metadata": {},
   "source": [
    "$$\\boxed{\\mu=m-M=5\\log_{10}{d_{Mpc}}+25}$$"
   ]
  },
  {
   "cell_type": "markdown",
   "metadata": {},
   "source": [
    "##### Exemplo: "
   ]
  },
  {
   "cell_type": "markdown",
   "metadata": {},
   "source": [
    "Suponha que na curva de luz da supernova Ia medimos uma magnitude aparente com o filtro V de 19,5. Dessa forma:"
   ]
  },
  {
   "cell_type": "code",
   "execution_count": 5,
   "metadata": {},
   "outputs": [
    {
     "name": "stdout",
     "output_type": "stream",
     "text": [
      "A distância de brilho é de 575 Mpc\n"
     ]
    }
   ],
   "source": [
    "m = 19.5\n",
    "M = -19.3\n",
    "k = (m-M)/5 - 5\n",
    "d = 10**k\n",
    "\n",
    "print('A distância de brilho é de %d Mpc' %d)"
   ]
  },
  {
   "cell_type": "markdown",
   "metadata": {},
   "source": [
    "Correções adicionais podem ser aplicadas para calcular a magnitude máxima, provavelmente a mais importante sendo a *relação de Phillips*, exposta no artigo [*The Absolute Magnitudes of Type Ia Supernovae*](http://articles.adsabs.harvard.edu/pdf/1993ApJ...413L.105P) de [Mark M. Phillips](https://carnegiescience.edu/scientist/mark-phillips) *et al* 1993, ApJ, Vol. 413, L105 [11]. Tal relação não será utilizada neste `Notebook`."
   ]
  },
  {
   "cell_type": "markdown",
   "metadata": {},
   "source": [
    "### 2.3 Leituras das curvas de luz"
   ]
  },
  {
   "cell_type": "markdown",
   "metadata": {},
   "source": [
    "Para avançar em nosso estudo, precisaremos das curvas de luz das supernovas do tipo Ia identificadas pela pesquisa SDSS. Estes foram publiados no seguinte artigo: [*The Sloan Digital Sky Survey-II: Photometry and Supernova Ia Light Curves from the 2005 data*](https://arxiv.org/abs/0908.4277), de Holtzman *et al* 2009, AH, 136, 2306 [12]."
   ]
  },
  {
   "cell_type": "markdown",
   "metadata": {},
   "source": [
    "O que realmente nos interessa são as próprias curvas de luz em formato eletrônico, que podem ser baixadas da própria página do [SDSS Supernova Survey](http://classic.sdss.org/supernova/lightcurves.html) [13]."
   ]
  },
  {
   "cell_type": "markdown",
   "metadata": {},
   "source": [
    "Portanto, a primeira coisa que deve ser é feita é baixar todos esses arquivos e armazená-los em um subdiretório de nosso diretório de trabalho. No meu caso, esse subdiretório irá se chamar `SDSS_Light_Curves`. O seguinte trecho de código assume que as curvas de luz já foram baixadas para esse diretório."
   ]
  },
  {
   "cell_type": "markdown",
   "metadata": {},
   "source": [
    "Comecemos definindo uma lista com os nomes de todos os arquivos no subdiretório:"
   ]
  },
  {
   "cell_type": "code",
   "execution_count": 6,
   "metadata": {},
   "outputs": [],
   "source": [
    "lc_files = !ls Dados/SDSS_Light_Curves\n",
    "lc_files = list(lc_files.n.split('\\n'))"
   ]
  },
  {
   "cell_type": "markdown",
   "metadata": {},
   "source": [
    "Eliminamos da lista o arquivo [`ReadMe`](https://github.com/GabrielWendell/PET.py/blob/main/Dados/ReadMe%20-%20SDSS_Light_Curves) (este arquivo apresenta uma descrição detalhada de todas as entradas presentes nos arquivos das curvas de luz):"
   ]
  },
  {
   "cell_type": "code",
   "execution_count": 7,
   "metadata": {},
   "outputs": [],
   "source": [
    "lc_files = lc_files[1:]"
   ]
  },
  {
   "cell_type": "markdown",
   "metadata": {},
   "source": [
    "Vamos dar uma pequena visualizada nos arquivos:"
   ]
  },
  {
   "cell_type": "code",
   "execution_count": 8,
   "metadata": {},
   "outputs": [
    {
     "data": {
      "text/plain": [
       "['SN10028.snphot-5.04.sum',\n",
       " 'SN10096.snphot-5.04.sum',\n",
       " 'SN10106.snphot-5.04.sum']"
      ]
     },
     "execution_count": 8,
     "metadata": {},
     "output_type": "execute_result"
    }
   ],
   "source": [
    "lc_files[0:3]"
   ]
  },
  {
   "cell_type": "markdown",
   "metadata": {},
   "source": [
    "A abertura de qualquer um desses arquivos com um editor de texto mostrará que as primeiras 18 linhas contêm uma descrição dos diferentes campos de dados. A linha 19 é uma linha de cabeçalho com os nomes das colunas de dados e, em seguida, há uma série de linhas com dados separados por espaço em branco. A seguir, o primeiro dos arquivos será lido criando um dataframe do `Pandas` com os campos que interessam. Uma vez que o dataframe foi criado com os dados do primeiro arquivo, passarei por todos os arquivos do subdiretório adicionando ao dataframe os dados da curva de luz de cada supernova."
   ]
  },
  {
   "cell_type": "code",
   "execution_count": 9,
   "metadata": {},
   "outputs": [
    {
     "data": {
      "text/plain": [
       "Index(['#FLAG', 'MJD', 'FILT', 'MAG', 'MERR', 'MSKYERR', 'MGALERR', 'FLUX',\n",
       "       'FLUXERR', 'SKYERR', 'GALERR', 'NPRE', 'TELE', 'RUN', 'STRIP'],\n",
       "      dtype='object')"
      ]
     },
     "execution_count": 9,
     "metadata": {},
     "output_type": "execute_result"
    }
   ],
   "source": [
    "filename = lc_files[0]\n",
    "df = pd.read_table('Dados/SDSS_Light_Curves/' + filename,\n",
    "                  skiprows=18, sep=r'\\s+')\n",
    "df.columns"
   ]
  },
  {
   "cell_type": "markdown",
   "metadata": {},
   "source": [
    "Utilizaremos apenas as quatro primeiras colunas:"
   ]
  },
  {
   "cell_type": "code",
   "execution_count": 10,
   "metadata": {},
   "outputs": [],
   "source": [
    "df = df.iloc[:,0:4]"
   ]
  },
  {
   "cell_type": "markdown",
   "metadata": {},
   "source": [
    "Alteramos o nome da primeira coluna:"
   ]
  },
  {
   "cell_type": "code",
   "execution_count": 11,
   "metadata": {},
   "outputs": [
    {
     "data": {
      "text/html": [
       "<div>\n",
       "<style scoped>\n",
       "    .dataframe tbody tr th:only-of-type {\n",
       "        vertical-align: middle;\n",
       "    }\n",
       "\n",
       "    .dataframe tbody tr th {\n",
       "        vertical-align: top;\n",
       "    }\n",
       "\n",
       "    .dataframe thead th {\n",
       "        text-align: right;\n",
       "    }\n",
       "</style>\n",
       "<table border=\"1\" class=\"dataframe\">\n",
       "  <thead>\n",
       "    <tr style=\"text-align: right;\">\n",
       "      <th></th>\n",
       "      <th>FLAG</th>\n",
       "      <th>MJD</th>\n",
       "      <th>FILT</th>\n",
       "      <th>MAG</th>\n",
       "    </tr>\n",
       "  </thead>\n",
       "  <tbody>\n",
       "    <tr>\n",
       "      <th>0</th>\n",
       "      <td>0</td>\n",
       "      <td>53616.363706</td>\n",
       "      <td>1</td>\n",
       "      <td>25.659</td>\n",
       "    </tr>\n",
       "    <tr>\n",
       "      <th>1</th>\n",
       "      <td>32</td>\n",
       "      <td>53616.360389</td>\n",
       "      <td>2</td>\n",
       "      <td>22.739</td>\n",
       "    </tr>\n",
       "    <tr>\n",
       "      <th>2</th>\n",
       "      <td>0</td>\n",
       "      <td>53616.361218</td>\n",
       "      <td>3</td>\n",
       "      <td>27.020</td>\n",
       "    </tr>\n",
       "    <tr>\n",
       "      <th>3</th>\n",
       "      <td>32</td>\n",
       "      <td>53616.362877</td>\n",
       "      <td>4</td>\n",
       "      <td>21.498</td>\n",
       "    </tr>\n",
       "    <tr>\n",
       "      <th>4</th>\n",
       "      <td>4</td>\n",
       "      <td>53616.362048</td>\n",
       "      <td>0</td>\n",
       "      <td>25.049</td>\n",
       "    </tr>\n",
       "  </tbody>\n",
       "</table>\n",
       "</div>"
      ],
      "text/plain": [
       "   FLAG           MJD  FILT     MAG\n",
       "0     0  53616.363706     1  25.659\n",
       "1    32  53616.360389     2  22.739\n",
       "2     0  53616.361218     3  27.020\n",
       "3    32  53616.362877     4  21.498\n",
       "4     4  53616.362048     0  25.049"
      ]
     },
     "execution_count": 11,
     "metadata": {},
     "output_type": "execute_result"
    }
   ],
   "source": [
    "df = df.rename(columns = {'#FLAG': 'FLAG'})\n",
    "df.head()"
   ]
  },
  {
   "cell_type": "markdown",
   "metadata": {},
   "source": [
    "A seguir, com relação ao valor do *redshift* `Z` encontrado na segunda linha do arquivo extraído:"
   ]
  },
  {
   "cell_type": "code",
   "execution_count": 12,
   "metadata": {},
   "outputs": [
    {
     "name": "stdout",
     "output_type": "stream",
     "text": [
      "# Z:  0.06533 ZERR:  0.00016 SDSS TYPE:  120\n",
      "\n",
      "<class 'str'> 0.06533\n"
     ]
    }
   ],
   "source": [
    "with open('Dados/SDSS_Light_Curves/' + filename) as f:\n",
    "    f.readline()\n",
    "    scndline = f.readline()\n",
    "\n",
    "resp = re.search(r'[\\d.]+', scndline)\n",
    "Z = resp.group()\n",
    "\n",
    "print(scndline)\n",
    "print(type(Z), Z)"
   ]
  },
  {
   "cell_type": "markdown",
   "metadata": {},
   "source": [
    "E adicionamos ao nosso dataframe uma coluna com o valor de `Z`, convertendo-o em um número flutuante:"
   ]
  },
  {
   "cell_type": "code",
   "execution_count": 13,
   "metadata": {},
   "outputs": [
    {
     "data": {
      "text/html": [
       "<div>\n",
       "<style scoped>\n",
       "    .dataframe tbody tr th:only-of-type {\n",
       "        vertical-align: middle;\n",
       "    }\n",
       "\n",
       "    .dataframe tbody tr th {\n",
       "        vertical-align: top;\n",
       "    }\n",
       "\n",
       "    .dataframe thead th {\n",
       "        text-align: right;\n",
       "    }\n",
       "</style>\n",
       "<table border=\"1\" class=\"dataframe\">\n",
       "  <thead>\n",
       "    <tr style=\"text-align: right;\">\n",
       "      <th></th>\n",
       "      <th>FLAG</th>\n",
       "      <th>MJD</th>\n",
       "      <th>FILT</th>\n",
       "      <th>MAG</th>\n",
       "      <th>Z</th>\n",
       "    </tr>\n",
       "  </thead>\n",
       "  <tbody>\n",
       "    <tr>\n",
       "      <th>0</th>\n",
       "      <td>0</td>\n",
       "      <td>53616.363706</td>\n",
       "      <td>1</td>\n",
       "      <td>25.659</td>\n",
       "      <td>0.06533</td>\n",
       "    </tr>\n",
       "    <tr>\n",
       "      <th>1</th>\n",
       "      <td>32</td>\n",
       "      <td>53616.360389</td>\n",
       "      <td>2</td>\n",
       "      <td>22.739</td>\n",
       "      <td>0.06533</td>\n",
       "    </tr>\n",
       "    <tr>\n",
       "      <th>2</th>\n",
       "      <td>0</td>\n",
       "      <td>53616.361218</td>\n",
       "      <td>3</td>\n",
       "      <td>27.020</td>\n",
       "      <td>0.06533</td>\n",
       "    </tr>\n",
       "    <tr>\n",
       "      <th>3</th>\n",
       "      <td>32</td>\n",
       "      <td>53616.362877</td>\n",
       "      <td>4</td>\n",
       "      <td>21.498</td>\n",
       "      <td>0.06533</td>\n",
       "    </tr>\n",
       "    <tr>\n",
       "      <th>4</th>\n",
       "      <td>4</td>\n",
       "      <td>53616.362048</td>\n",
       "      <td>0</td>\n",
       "      <td>25.049</td>\n",
       "      <td>0.06533</td>\n",
       "    </tr>\n",
       "  </tbody>\n",
       "</table>\n",
       "</div>"
      ],
      "text/plain": [
       "   FLAG           MJD  FILT     MAG        Z\n",
       "0     0  53616.363706     1  25.659  0.06533\n",
       "1    32  53616.360389     2  22.739  0.06533\n",
       "2     0  53616.361218     3  27.020  0.06533\n",
       "3    32  53616.362877     4  21.498  0.06533\n",
       "4     4  53616.362048     0  25.049  0.06533"
      ]
     },
     "execution_count": 13,
     "metadata": {},
     "output_type": "execute_result"
    }
   ],
   "source": [
    "df['Z'] = float(Z)\n",
    "df.head()"
   ]
  },
  {
   "cell_type": "markdown",
   "metadata": {},
   "source": [
    "Também teremos que incluir no dataframe o `id` da supernova, que pode ser extraído do nome do arquivo:"
   ]
  },
  {
   "cell_type": "code",
   "execution_count": 14,
   "metadata": {},
   "outputs": [
    {
     "name": "stdout",
     "output_type": "stream",
     "text": [
      "SN10028.snphot-5.04.sum\n"
     ]
    }
   ],
   "source": [
    "print(filename)"
   ]
  },
  {
   "cell_type": "markdown",
   "metadata": {},
   "source": [
    "Vamos obter o `id` da supernova a partir do nome do arquivo usando um expressão regular (`re`):"
   ]
  },
  {
   "cell_type": "code",
   "execution_count": 15,
   "metadata": {},
   "outputs": [
    {
     "name": "stdout",
     "output_type": "stream",
     "text": [
      "SN10028\n"
     ]
    }
   ],
   "source": [
    "resp = re.search(r'\\w+', filename)\n",
    "SN = resp.group()\n",
    "\n",
    "print(SN)"
   ]
  },
  {
   "cell_type": "markdown",
   "metadata": {},
   "source": [
    "Em seguida, uma coluna será adicionada ao dataframe com o `id` da supernova:"
   ]
  },
  {
   "cell_type": "code",
   "execution_count": 16,
   "metadata": {},
   "outputs": [
    {
     "data": {
      "text/html": [
       "<div>\n",
       "<style scoped>\n",
       "    .dataframe tbody tr th:only-of-type {\n",
       "        vertical-align: middle;\n",
       "    }\n",
       "\n",
       "    .dataframe tbody tr th {\n",
       "        vertical-align: top;\n",
       "    }\n",
       "\n",
       "    .dataframe thead th {\n",
       "        text-align: right;\n",
       "    }\n",
       "</style>\n",
       "<table border=\"1\" class=\"dataframe\">\n",
       "  <thead>\n",
       "    <tr style=\"text-align: right;\">\n",
       "      <th></th>\n",
       "      <th>FLAG</th>\n",
       "      <th>MJD</th>\n",
       "      <th>FILT</th>\n",
       "      <th>MAG</th>\n",
       "      <th>Z</th>\n",
       "      <th>SN</th>\n",
       "    </tr>\n",
       "  </thead>\n",
       "  <tbody>\n",
       "    <tr>\n",
       "      <th>0</th>\n",
       "      <td>0</td>\n",
       "      <td>53616.363706</td>\n",
       "      <td>1</td>\n",
       "      <td>25.659</td>\n",
       "      <td>0.06533</td>\n",
       "      <td>SN10028</td>\n",
       "    </tr>\n",
       "    <tr>\n",
       "      <th>1</th>\n",
       "      <td>32</td>\n",
       "      <td>53616.360389</td>\n",
       "      <td>2</td>\n",
       "      <td>22.739</td>\n",
       "      <td>0.06533</td>\n",
       "      <td>SN10028</td>\n",
       "    </tr>\n",
       "    <tr>\n",
       "      <th>2</th>\n",
       "      <td>0</td>\n",
       "      <td>53616.361218</td>\n",
       "      <td>3</td>\n",
       "      <td>27.020</td>\n",
       "      <td>0.06533</td>\n",
       "      <td>SN10028</td>\n",
       "    </tr>\n",
       "    <tr>\n",
       "      <th>3</th>\n",
       "      <td>32</td>\n",
       "      <td>53616.362877</td>\n",
       "      <td>4</td>\n",
       "      <td>21.498</td>\n",
       "      <td>0.06533</td>\n",
       "      <td>SN10028</td>\n",
       "    </tr>\n",
       "    <tr>\n",
       "      <th>4</th>\n",
       "      <td>4</td>\n",
       "      <td>53616.362048</td>\n",
       "      <td>0</td>\n",
       "      <td>25.049</td>\n",
       "      <td>0.06533</td>\n",
       "      <td>SN10028</td>\n",
       "    </tr>\n",
       "  </tbody>\n",
       "</table>\n",
       "</div>"
      ],
      "text/plain": [
       "   FLAG           MJD  FILT     MAG        Z       SN\n",
       "0     0  53616.363706     1  25.659  0.06533  SN10028\n",
       "1    32  53616.360389     2  22.739  0.06533  SN10028\n",
       "2     0  53616.361218     3  27.020  0.06533  SN10028\n",
       "3    32  53616.362877     4  21.498  0.06533  SN10028\n",
       "4     4  53616.362048     0  25.049  0.06533  SN10028"
      ]
     },
     "execution_count": 16,
     "metadata": {},
     "output_type": "execute_result"
    }
   ],
   "source": [
    "df['SN'] = SN\n",
    "df.head()"
   ]
  },
  {
   "cell_type": "markdown",
   "metadata": {},
   "source": [
    "Este é o modelo de dataframe que desejamos. Agora vamos examinar os nomes de arquivo restantes, adicionando linhas."
   ]
  },
  {
   "cell_type": "code",
   "execution_count": 17,
   "metadata": {},
   "outputs": [],
   "source": [
    "for filename in lc_files[1:]:\n",
    "    dftemp = pd.read_table('Dados/SDSS_Light_Curves/' + filename,\n",
    "                          skiprows=18, sep=r'\\s+')\n",
    "    dftemp = dftemp.iloc[:,0:4]\n",
    "    dftemp = dftemp.rename(columns = {'#FLAG':'FLAG'})\n",
    "    \n",
    "    with open('Dados/SDSS_Light_Curves/' + filename) as f:\n",
    "        f.readline()\n",
    "        scndline = f.readline()\n",
    "        \n",
    "    resp =  re.search(r'[\\d.]+', scndline)\n",
    "    Z = resp.group()\n",
    "    dftemp['Z'] = float(Z)\n",
    "    resp = re.search(r'\\w+', filename)\n",
    "    SN = resp.group()\n",
    "    dftemp['SN'] = SN\n",
    "    df = pd.concat([df, dftemp], ignore_index = True)"
   ]
  },
  {
   "cell_type": "markdown",
   "metadata": {},
   "source": [
    "Vamos dar uma olhada mais detalhada em nosso dataframe:"
   ]
  },
  {
   "cell_type": "code",
   "execution_count": 18,
   "metadata": {},
   "outputs": [
    {
     "name": "stdout",
     "output_type": "stream",
     "text": [
      "<class 'pandas.core.frame.DataFrame'>\n",
      "RangeIndex: 16708 entries, 0 to 16707\n",
      "Data columns (total 6 columns):\n",
      " #   Column  Non-Null Count  Dtype  \n",
      "---  ------  --------------  -----  \n",
      " 0   FLAG    16708 non-null  int64  \n",
      " 1   MJD     16708 non-null  float64\n",
      " 2   FILT    16708 non-null  int64  \n",
      " 3   MAG     16708 non-null  float64\n",
      " 4   Z       16708 non-null  float64\n",
      " 5   SN      16708 non-null  object \n",
      "dtypes: float64(3), int64(2), object(1)\n",
      "memory usage: 783.3+ KB\n"
     ]
    }
   ],
   "source": [
    "df.info()"
   ]
  },
  {
   "cell_type": "markdown",
   "metadata": {},
   "source": [
    "Vamos dar uma olhada em uma amostra de dados do dataframe:"
   ]
  },
  {
   "cell_type": "code",
   "execution_count": 19,
   "metadata": {},
   "outputs": [
    {
     "data": {
      "text/html": [
       "<div>\n",
       "<style scoped>\n",
       "    .dataframe tbody tr th:only-of-type {\n",
       "        vertical-align: middle;\n",
       "    }\n",
       "\n",
       "    .dataframe tbody tr th {\n",
       "        vertical-align: top;\n",
       "    }\n",
       "\n",
       "    .dataframe thead th {\n",
       "        text-align: right;\n",
       "    }\n",
       "</style>\n",
       "<table border=\"1\" class=\"dataframe\">\n",
       "  <thead>\n",
       "    <tr style=\"text-align: right;\">\n",
       "      <th></th>\n",
       "      <th>FLAG</th>\n",
       "      <th>MJD</th>\n",
       "      <th>FILT</th>\n",
       "      <th>MAG</th>\n",
       "      <th>Z</th>\n",
       "      <th>SN</th>\n",
       "    </tr>\n",
       "  </thead>\n",
       "  <tbody>\n",
       "    <tr>\n",
       "      <th>100</th>\n",
       "      <td>32</td>\n",
       "      <td>53704.265479</td>\n",
       "      <td>1</td>\n",
       "      <td>18.955</td>\n",
       "      <td>0.06533</td>\n",
       "      <td>SN10028</td>\n",
       "    </tr>\n",
       "    <tr>\n",
       "      <th>101</th>\n",
       "      <td>1184</td>\n",
       "      <td>53704.262162</td>\n",
       "      <td>2</td>\n",
       "      <td>18.825</td>\n",
       "      <td>0.06533</td>\n",
       "      <td>SN10028</td>\n",
       "    </tr>\n",
       "    <tr>\n",
       "      <th>102</th>\n",
       "      <td>32</td>\n",
       "      <td>53704.262991</td>\n",
       "      <td>3</td>\n",
       "      <td>19.032</td>\n",
       "      <td>0.06533</td>\n",
       "      <td>SN10028</td>\n",
       "    </tr>\n",
       "    <tr>\n",
       "      <th>103</th>\n",
       "      <td>160</td>\n",
       "      <td>53704.264650</td>\n",
       "      <td>4</td>\n",
       "      <td>19.148</td>\n",
       "      <td>0.06533</td>\n",
       "      <td>SN10028</td>\n",
       "    </tr>\n",
       "    <tr>\n",
       "      <th>104</th>\n",
       "      <td>32</td>\n",
       "      <td>53704.263820</td>\n",
       "      <td>0</td>\n",
       "      <td>20.735</td>\n",
       "      <td>0.06533</td>\n",
       "      <td>SN10028</td>\n",
       "    </tr>\n",
       "    <tr>\n",
       "      <th>105</th>\n",
       "      <td>8</td>\n",
       "      <td>53616.395290</td>\n",
       "      <td>1</td>\n",
       "      <td>25.260</td>\n",
       "      <td>0.07775</td>\n",
       "      <td>SN10096</td>\n",
       "    </tr>\n",
       "    <tr>\n",
       "      <th>106</th>\n",
       "      <td>0</td>\n",
       "      <td>53616.391972</td>\n",
       "      <td>2</td>\n",
       "      <td>26.469</td>\n",
       "      <td>0.07775</td>\n",
       "      <td>SN10096</td>\n",
       "    </tr>\n",
       "    <tr>\n",
       "      <th>107</th>\n",
       "      <td>32</td>\n",
       "      <td>53616.392802</td>\n",
       "      <td>3</td>\n",
       "      <td>23.493</td>\n",
       "      <td>0.07775</td>\n",
       "      <td>SN10096</td>\n",
       "    </tr>\n",
       "    <tr>\n",
       "      <th>108</th>\n",
       "      <td>32</td>\n",
       "      <td>53616.394460</td>\n",
       "      <td>4</td>\n",
       "      <td>21.202</td>\n",
       "      <td>0.07775</td>\n",
       "      <td>SN10096</td>\n",
       "    </tr>\n",
       "    <tr>\n",
       "      <th>109</th>\n",
       "      <td>128</td>\n",
       "      <td>53616.393631</td>\n",
       "      <td>0</td>\n",
       "      <td>26.155</td>\n",
       "      <td>0.07775</td>\n",
       "      <td>SN10096</td>\n",
       "    </tr>\n",
       "  </tbody>\n",
       "</table>\n",
       "</div>"
      ],
      "text/plain": [
       "     FLAG           MJD  FILT     MAG        Z       SN\n",
       "100    32  53704.265479     1  18.955  0.06533  SN10028\n",
       "101  1184  53704.262162     2  18.825  0.06533  SN10028\n",
       "102    32  53704.262991     3  19.032  0.06533  SN10028\n",
       "103   160  53704.264650     4  19.148  0.06533  SN10028\n",
       "104    32  53704.263820     0  20.735  0.06533  SN10028\n",
       "105     8  53616.395290     1  25.260  0.07775  SN10096\n",
       "106     0  53616.391972     2  26.469  0.07775  SN10096\n",
       "107    32  53616.392802     3  23.493  0.07775  SN10096\n",
       "108    32  53616.394460     4  21.202  0.07775  SN10096\n",
       "109   128  53616.393631     0  26.155  0.07775  SN10096"
      ]
     },
     "execution_count": 19,
     "metadata": {},
     "output_type": "execute_result"
    }
   ],
   "source": [
    "df[100:110]"
   ]
  },
  {
   "cell_type": "markdown",
   "metadata": {},
   "source": [
    "Conforme indicado no cabeçalho dos arquivos de dados da curva de luz, as medições com um sinalizador maior que 1024 (`flag > 1024`) não são confiáveis. Vamos limpar nosso dataframe removendo os valores com um sinalizador maior ou igual a 1024 (`flag` $\\geq$ `1024`):"
   ]
  },
  {
   "cell_type": "code",
   "execution_count": 20,
   "metadata": {},
   "outputs": [
    {
     "name": "stdout",
     "output_type": "stream",
     "text": [
      "<class 'pandas.core.frame.DataFrame'>\n",
      "Int64Index: 15838 entries, 0 to 16707\n",
      "Data columns (total 6 columns):\n",
      " #   Column  Non-Null Count  Dtype  \n",
      "---  ------  --------------  -----  \n",
      " 0   FLAG    15838 non-null  int64  \n",
      " 1   MJD     15838 non-null  float64\n",
      " 2   FILT    15838 non-null  int64  \n",
      " 3   MAG     15838 non-null  float64\n",
      " 4   Z       15838 non-null  float64\n",
      " 5   SN      15838 non-null  object \n",
      "dtypes: float64(3), int64(2), object(1)\n",
      "memory usage: 866.1+ KB\n"
     ]
    }
   ],
   "source": [
    "b = df['FLAG'] < 1024\n",
    "df = df[b]\n",
    "\n",
    "df.info()"
   ]
  },
  {
   "cell_type": "markdown",
   "metadata": {},
   "source": [
    "### 2.4 Representação das curvas de luz"
   ]
  },
  {
   "cell_type": "markdown",
   "metadata": {},
   "source": [
    "Embora não seja essencial para o propósito de representar um diagrama de Hubble, vamos gerar uma representação gráfica da curva de luz de uma das supernovas cujos dados foram lidos, o que ajudará a entender melhor todo o processo."
   ]
  },
  {
   "cell_type": "markdown",
   "metadata": {},
   "source": [
    "Começamos criando uma lista com todos os identificadores de supernovas e escolhemos um deles (aqui optaremos por escolher a supernova `SN2031`):"
   ]
  },
  {
   "cell_type": "code",
   "execution_count": 21,
   "metadata": {
    "scrolled": true
   },
   "outputs": [],
   "source": [
    "list_SN = list(df['SN'].unique())\n",
    "SNid = list_SN[30]"
   ]
  },
  {
   "cell_type": "markdown",
   "metadata": {},
   "source": [
    "Selecionamos somente valores do filtro 1 (`g`):"
   ]
  },
  {
   "cell_type": "code",
   "execution_count": 22,
   "metadata": {},
   "outputs": [],
   "source": [
    "b = (df['SN'] == SNid) & (df['FILT'] == 1)\n",
    "df_g = df[b].sort_values('MJD', axis = 0)"
   ]
  },
  {
   "cell_type": "markdown",
   "metadata": {},
   "source": [
    "A seguir, selecionamos somente valores do filtro 2 (`r`):"
   ]
  },
  {
   "cell_type": "code",
   "execution_count": 23,
   "metadata": {},
   "outputs": [],
   "source": [
    "b = (df['SN'] == SNid) & (df['FILT'] == 2)\n",
    "df_r = df[b].sort_values('MJD', axis = 0)"
   ]
  },
  {
   "cell_type": "markdown",
   "metadata": {},
   "source": [
    "Agora vamos representar graficamente a curva de luz correspondente nos filtro `g` e `r`:"
   ]
  },
  {
   "cell_type": "code",
   "execution_count": 24,
   "metadata": {},
   "outputs": [
    {
     "data": {
      "application/javascript": [
       "/* Put everything inside the global mpl namespace */\n",
       "window.mpl = {};\n",
       "\n",
       "\n",
       "mpl.get_websocket_type = function() {\n",
       "    if (typeof(WebSocket) !== 'undefined') {\n",
       "        return WebSocket;\n",
       "    } else if (typeof(MozWebSocket) !== 'undefined') {\n",
       "        return MozWebSocket;\n",
       "    } else {\n",
       "        alert('Your browser does not have WebSocket support. ' +\n",
       "              'Please try Chrome, Safari or Firefox ≥ 6. ' +\n",
       "              'Firefox 4 and 5 are also supported but you ' +\n",
       "              'have to enable WebSockets in about:config.');\n",
       "    };\n",
       "}\n",
       "\n",
       "mpl.figure = function(figure_id, websocket, ondownload, parent_element) {\n",
       "    this.id = figure_id;\n",
       "\n",
       "    this.ws = websocket;\n",
       "\n",
       "    this.supports_binary = (this.ws.binaryType != undefined);\n",
       "\n",
       "    if (!this.supports_binary) {\n",
       "        var warnings = document.getElementById(\"mpl-warnings\");\n",
       "        if (warnings) {\n",
       "            warnings.style.display = 'block';\n",
       "            warnings.textContent = (\n",
       "                \"This browser does not support binary websocket messages. \" +\n",
       "                    \"Performance may be slow.\");\n",
       "        }\n",
       "    }\n",
       "\n",
       "    this.imageObj = new Image();\n",
       "\n",
       "    this.context = undefined;\n",
       "    this.message = undefined;\n",
       "    this.canvas = undefined;\n",
       "    this.rubberband_canvas = undefined;\n",
       "    this.rubberband_context = undefined;\n",
       "    this.format_dropdown = undefined;\n",
       "\n",
       "    this.image_mode = 'full';\n",
       "\n",
       "    this.root = $('<div/>');\n",
       "    this._root_extra_style(this.root)\n",
       "    this.root.attr('style', 'display: inline-block');\n",
       "\n",
       "    $(parent_element).append(this.root);\n",
       "\n",
       "    this._init_header(this);\n",
       "    this._init_canvas(this);\n",
       "    this._init_toolbar(this);\n",
       "\n",
       "    var fig = this;\n",
       "\n",
       "    this.waiting = false;\n",
       "\n",
       "    this.ws.onopen =  function () {\n",
       "            fig.send_message(\"supports_binary\", {value: fig.supports_binary});\n",
       "            fig.send_message(\"send_image_mode\", {});\n",
       "            if (mpl.ratio != 1) {\n",
       "                fig.send_message(\"set_dpi_ratio\", {'dpi_ratio': mpl.ratio});\n",
       "            }\n",
       "            fig.send_message(\"refresh\", {});\n",
       "        }\n",
       "\n",
       "    this.imageObj.onload = function() {\n",
       "            if (fig.image_mode == 'full') {\n",
       "                // Full images could contain transparency (where diff images\n",
       "                // almost always do), so we need to clear the canvas so that\n",
       "                // there is no ghosting.\n",
       "                fig.context.clearRect(0, 0, fig.canvas.width, fig.canvas.height);\n",
       "            }\n",
       "            fig.context.drawImage(fig.imageObj, 0, 0);\n",
       "        };\n",
       "\n",
       "    this.imageObj.onunload = function() {\n",
       "        fig.ws.close();\n",
       "    }\n",
       "\n",
       "    this.ws.onmessage = this._make_on_message_function(this);\n",
       "\n",
       "    this.ondownload = ondownload;\n",
       "}\n",
       "\n",
       "mpl.figure.prototype._init_header = function() {\n",
       "    var titlebar = $(\n",
       "        '<div class=\"ui-dialog-titlebar ui-widget-header ui-corner-all ' +\n",
       "        'ui-helper-clearfix\"/>');\n",
       "    var titletext = $(\n",
       "        '<div class=\"ui-dialog-title\" style=\"width: 100%; ' +\n",
       "        'text-align: center; padding: 3px;\"/>');\n",
       "    titlebar.append(titletext)\n",
       "    this.root.append(titlebar);\n",
       "    this.header = titletext[0];\n",
       "}\n",
       "\n",
       "\n",
       "\n",
       "mpl.figure.prototype._canvas_extra_style = function(canvas_div) {\n",
       "\n",
       "}\n",
       "\n",
       "\n",
       "mpl.figure.prototype._root_extra_style = function(canvas_div) {\n",
       "\n",
       "}\n",
       "\n",
       "mpl.figure.prototype._init_canvas = function() {\n",
       "    var fig = this;\n",
       "\n",
       "    var canvas_div = $('<div/>');\n",
       "\n",
       "    canvas_div.attr('style', 'position: relative; clear: both; outline: 0');\n",
       "\n",
       "    function canvas_keyboard_event(event) {\n",
       "        return fig.key_event(event, event['data']);\n",
       "    }\n",
       "\n",
       "    canvas_div.keydown('key_press', canvas_keyboard_event);\n",
       "    canvas_div.keyup('key_release', canvas_keyboard_event);\n",
       "    this.canvas_div = canvas_div\n",
       "    this._canvas_extra_style(canvas_div)\n",
       "    this.root.append(canvas_div);\n",
       "\n",
       "    var canvas = $('<canvas/>');\n",
       "    canvas.addClass('mpl-canvas');\n",
       "    canvas.attr('style', \"left: 0; top: 0; z-index: 0; outline: 0\")\n",
       "\n",
       "    this.canvas = canvas[0];\n",
       "    this.context = canvas[0].getContext(\"2d\");\n",
       "\n",
       "    var backingStore = this.context.backingStorePixelRatio ||\n",
       "\tthis.context.webkitBackingStorePixelRatio ||\n",
       "\tthis.context.mozBackingStorePixelRatio ||\n",
       "\tthis.context.msBackingStorePixelRatio ||\n",
       "\tthis.context.oBackingStorePixelRatio ||\n",
       "\tthis.context.backingStorePixelRatio || 1;\n",
       "\n",
       "    mpl.ratio = (window.devicePixelRatio || 1) / backingStore;\n",
       "\n",
       "    var rubberband = $('<canvas/>');\n",
       "    rubberband.attr('style', \"position: absolute; left: 0; top: 0; z-index: 1;\")\n",
       "\n",
       "    var pass_mouse_events = true;\n",
       "\n",
       "    canvas_div.resizable({\n",
       "        start: function(event, ui) {\n",
       "            pass_mouse_events = false;\n",
       "        },\n",
       "        resize: function(event, ui) {\n",
       "            fig.request_resize(ui.size.width, ui.size.height);\n",
       "        },\n",
       "        stop: function(event, ui) {\n",
       "            pass_mouse_events = true;\n",
       "            fig.request_resize(ui.size.width, ui.size.height);\n",
       "        },\n",
       "    });\n",
       "\n",
       "    function mouse_event_fn(event) {\n",
       "        if (pass_mouse_events)\n",
       "            return fig.mouse_event(event, event['data']);\n",
       "    }\n",
       "\n",
       "    rubberband.mousedown('button_press', mouse_event_fn);\n",
       "    rubberband.mouseup('button_release', mouse_event_fn);\n",
       "    // Throttle sequential mouse events to 1 every 20ms.\n",
       "    rubberband.mousemove('motion_notify', mouse_event_fn);\n",
       "\n",
       "    rubberband.mouseenter('figure_enter', mouse_event_fn);\n",
       "    rubberband.mouseleave('figure_leave', mouse_event_fn);\n",
       "\n",
       "    canvas_div.on(\"wheel\", function (event) {\n",
       "        event = event.originalEvent;\n",
       "        event['data'] = 'scroll'\n",
       "        if (event.deltaY < 0) {\n",
       "            event.step = 1;\n",
       "        } else {\n",
       "            event.step = -1;\n",
       "        }\n",
       "        mouse_event_fn(event);\n",
       "    });\n",
       "\n",
       "    canvas_div.append(canvas);\n",
       "    canvas_div.append(rubberband);\n",
       "\n",
       "    this.rubberband = rubberband;\n",
       "    this.rubberband_canvas = rubberband[0];\n",
       "    this.rubberband_context = rubberband[0].getContext(\"2d\");\n",
       "    this.rubberband_context.strokeStyle = \"#000000\";\n",
       "\n",
       "    this._resize_canvas = function(width, height) {\n",
       "        // Keep the size of the canvas, canvas container, and rubber band\n",
       "        // canvas in synch.\n",
       "        canvas_div.css('width', width)\n",
       "        canvas_div.css('height', height)\n",
       "\n",
       "        canvas.attr('width', width * mpl.ratio);\n",
       "        canvas.attr('height', height * mpl.ratio);\n",
       "        canvas.attr('style', 'width: ' + width + 'px; height: ' + height + 'px;');\n",
       "\n",
       "        rubberband.attr('width', width);\n",
       "        rubberband.attr('height', height);\n",
       "    }\n",
       "\n",
       "    // Set the figure to an initial 600x600px, this will subsequently be updated\n",
       "    // upon first draw.\n",
       "    this._resize_canvas(600, 600);\n",
       "\n",
       "    // Disable right mouse context menu.\n",
       "    $(this.rubberband_canvas).bind(\"contextmenu\",function(e){\n",
       "        return false;\n",
       "    });\n",
       "\n",
       "    function set_focus () {\n",
       "        canvas.focus();\n",
       "        canvas_div.focus();\n",
       "    }\n",
       "\n",
       "    window.setTimeout(set_focus, 100);\n",
       "}\n",
       "\n",
       "mpl.figure.prototype._init_toolbar = function() {\n",
       "    var fig = this;\n",
       "\n",
       "    var nav_element = $('<div/>');\n",
       "    nav_element.attr('style', 'width: 100%');\n",
       "    this.root.append(nav_element);\n",
       "\n",
       "    // Define a callback function for later on.\n",
       "    function toolbar_event(event) {\n",
       "        return fig.toolbar_button_onclick(event['data']);\n",
       "    }\n",
       "    function toolbar_mouse_event(event) {\n",
       "        return fig.toolbar_button_onmouseover(event['data']);\n",
       "    }\n",
       "\n",
       "    for(var toolbar_ind in mpl.toolbar_items) {\n",
       "        var name = mpl.toolbar_items[toolbar_ind][0];\n",
       "        var tooltip = mpl.toolbar_items[toolbar_ind][1];\n",
       "        var image = mpl.toolbar_items[toolbar_ind][2];\n",
       "        var method_name = mpl.toolbar_items[toolbar_ind][3];\n",
       "\n",
       "        if (!name) {\n",
       "            // put a spacer in here.\n",
       "            continue;\n",
       "        }\n",
       "        var button = $('<button/>');\n",
       "        button.addClass('ui-button ui-widget ui-state-default ui-corner-all ' +\n",
       "                        'ui-button-icon-only');\n",
       "        button.attr('role', 'button');\n",
       "        button.attr('aria-disabled', 'false');\n",
       "        button.click(method_name, toolbar_event);\n",
       "        button.mouseover(tooltip, toolbar_mouse_event);\n",
       "\n",
       "        var icon_img = $('<span/>');\n",
       "        icon_img.addClass('ui-button-icon-primary ui-icon');\n",
       "        icon_img.addClass(image);\n",
       "        icon_img.addClass('ui-corner-all');\n",
       "\n",
       "        var tooltip_span = $('<span/>');\n",
       "        tooltip_span.addClass('ui-button-text');\n",
       "        tooltip_span.html(tooltip);\n",
       "\n",
       "        button.append(icon_img);\n",
       "        button.append(tooltip_span);\n",
       "\n",
       "        nav_element.append(button);\n",
       "    }\n",
       "\n",
       "    var fmt_picker_span = $('<span/>');\n",
       "\n",
       "    var fmt_picker = $('<select/>');\n",
       "    fmt_picker.addClass('mpl-toolbar-option ui-widget ui-widget-content');\n",
       "    fmt_picker_span.append(fmt_picker);\n",
       "    nav_element.append(fmt_picker_span);\n",
       "    this.format_dropdown = fmt_picker[0];\n",
       "\n",
       "    for (var ind in mpl.extensions) {\n",
       "        var fmt = mpl.extensions[ind];\n",
       "        var option = $(\n",
       "            '<option/>', {selected: fmt === mpl.default_extension}).html(fmt);\n",
       "        fmt_picker.append(option);\n",
       "    }\n",
       "\n",
       "    // Add hover states to the ui-buttons\n",
       "    $( \".ui-button\" ).hover(\n",
       "        function() { $(this).addClass(\"ui-state-hover\");},\n",
       "        function() { $(this).removeClass(\"ui-state-hover\");}\n",
       "    );\n",
       "\n",
       "    var status_bar = $('<span class=\"mpl-message\"/>');\n",
       "    nav_element.append(status_bar);\n",
       "    this.message = status_bar[0];\n",
       "}\n",
       "\n",
       "mpl.figure.prototype.request_resize = function(x_pixels, y_pixels) {\n",
       "    // Request matplotlib to resize the figure. Matplotlib will then trigger a resize in the client,\n",
       "    // which will in turn request a refresh of the image.\n",
       "    this.send_message('resize', {'width': x_pixels, 'height': y_pixels});\n",
       "}\n",
       "\n",
       "mpl.figure.prototype.send_message = function(type, properties) {\n",
       "    properties['type'] = type;\n",
       "    properties['figure_id'] = this.id;\n",
       "    this.ws.send(JSON.stringify(properties));\n",
       "}\n",
       "\n",
       "mpl.figure.prototype.send_draw_message = function() {\n",
       "    if (!this.waiting) {\n",
       "        this.waiting = true;\n",
       "        this.ws.send(JSON.stringify({type: \"draw\", figure_id: this.id}));\n",
       "    }\n",
       "}\n",
       "\n",
       "\n",
       "mpl.figure.prototype.handle_save = function(fig, msg) {\n",
       "    var format_dropdown = fig.format_dropdown;\n",
       "    var format = format_dropdown.options[format_dropdown.selectedIndex].value;\n",
       "    fig.ondownload(fig, format);\n",
       "}\n",
       "\n",
       "\n",
       "mpl.figure.prototype.handle_resize = function(fig, msg) {\n",
       "    var size = msg['size'];\n",
       "    if (size[0] != fig.canvas.width || size[1] != fig.canvas.height) {\n",
       "        fig._resize_canvas(size[0], size[1]);\n",
       "        fig.send_message(\"refresh\", {});\n",
       "    };\n",
       "}\n",
       "\n",
       "mpl.figure.prototype.handle_rubberband = function(fig, msg) {\n",
       "    var x0 = msg['x0'] / mpl.ratio;\n",
       "    var y0 = (fig.canvas.height - msg['y0']) / mpl.ratio;\n",
       "    var x1 = msg['x1'] / mpl.ratio;\n",
       "    var y1 = (fig.canvas.height - msg['y1']) / mpl.ratio;\n",
       "    x0 = Math.floor(x0) + 0.5;\n",
       "    y0 = Math.floor(y0) + 0.5;\n",
       "    x1 = Math.floor(x1) + 0.5;\n",
       "    y1 = Math.floor(y1) + 0.5;\n",
       "    var min_x = Math.min(x0, x1);\n",
       "    var min_y = Math.min(y0, y1);\n",
       "    var width = Math.abs(x1 - x0);\n",
       "    var height = Math.abs(y1 - y0);\n",
       "\n",
       "    fig.rubberband_context.clearRect(\n",
       "        0, 0, fig.canvas.width / mpl.ratio, fig.canvas.height / mpl.ratio);\n",
       "\n",
       "    fig.rubberband_context.strokeRect(min_x, min_y, width, height);\n",
       "}\n",
       "\n",
       "mpl.figure.prototype.handle_figure_label = function(fig, msg) {\n",
       "    // Updates the figure title.\n",
       "    fig.header.textContent = msg['label'];\n",
       "}\n",
       "\n",
       "mpl.figure.prototype.handle_cursor = function(fig, msg) {\n",
       "    var cursor = msg['cursor'];\n",
       "    switch(cursor)\n",
       "    {\n",
       "    case 0:\n",
       "        cursor = 'pointer';\n",
       "        break;\n",
       "    case 1:\n",
       "        cursor = 'default';\n",
       "        break;\n",
       "    case 2:\n",
       "        cursor = 'crosshair';\n",
       "        break;\n",
       "    case 3:\n",
       "        cursor = 'move';\n",
       "        break;\n",
       "    }\n",
       "    fig.rubberband_canvas.style.cursor = cursor;\n",
       "}\n",
       "\n",
       "mpl.figure.prototype.handle_message = function(fig, msg) {\n",
       "    fig.message.textContent = msg['message'];\n",
       "}\n",
       "\n",
       "mpl.figure.prototype.handle_draw = function(fig, msg) {\n",
       "    // Request the server to send over a new figure.\n",
       "    fig.send_draw_message();\n",
       "}\n",
       "\n",
       "mpl.figure.prototype.handle_image_mode = function(fig, msg) {\n",
       "    fig.image_mode = msg['mode'];\n",
       "}\n",
       "\n",
       "mpl.figure.prototype.updated_canvas_event = function() {\n",
       "    // Called whenever the canvas gets updated.\n",
       "    this.send_message(\"ack\", {});\n",
       "}\n",
       "\n",
       "// A function to construct a web socket function for onmessage handling.\n",
       "// Called in the figure constructor.\n",
       "mpl.figure.prototype._make_on_message_function = function(fig) {\n",
       "    return function socket_on_message(evt) {\n",
       "        if (evt.data instanceof Blob) {\n",
       "            /* FIXME: We get \"Resource interpreted as Image but\n",
       "             * transferred with MIME type text/plain:\" errors on\n",
       "             * Chrome.  But how to set the MIME type?  It doesn't seem\n",
       "             * to be part of the websocket stream */\n",
       "            evt.data.type = \"image/png\";\n",
       "\n",
       "            /* Free the memory for the previous frames */\n",
       "            if (fig.imageObj.src) {\n",
       "                (window.URL || window.webkitURL).revokeObjectURL(\n",
       "                    fig.imageObj.src);\n",
       "            }\n",
       "\n",
       "            fig.imageObj.src = (window.URL || window.webkitURL).createObjectURL(\n",
       "                evt.data);\n",
       "            fig.updated_canvas_event();\n",
       "            fig.waiting = false;\n",
       "            return;\n",
       "        }\n",
       "        else if (typeof evt.data === 'string' && evt.data.slice(0, 21) == \"data:image/png;base64\") {\n",
       "            fig.imageObj.src = evt.data;\n",
       "            fig.updated_canvas_event();\n",
       "            fig.waiting = false;\n",
       "            return;\n",
       "        }\n",
       "\n",
       "        var msg = JSON.parse(evt.data);\n",
       "        var msg_type = msg['type'];\n",
       "\n",
       "        // Call the  \"handle_{type}\" callback, which takes\n",
       "        // the figure and JSON message as its only arguments.\n",
       "        try {\n",
       "            var callback = fig[\"handle_\" + msg_type];\n",
       "        } catch (e) {\n",
       "            console.log(\"No handler for the '\" + msg_type + \"' message type: \", msg);\n",
       "            return;\n",
       "        }\n",
       "\n",
       "        if (callback) {\n",
       "            try {\n",
       "                // console.log(\"Handling '\" + msg_type + \"' message: \", msg);\n",
       "                callback(fig, msg);\n",
       "            } catch (e) {\n",
       "                console.log(\"Exception inside the 'handler_\" + msg_type + \"' callback:\", e, e.stack, msg);\n",
       "            }\n",
       "        }\n",
       "    };\n",
       "}\n",
       "\n",
       "// from http://stackoverflow.com/questions/1114465/getting-mouse-location-in-canvas\n",
       "mpl.findpos = function(e) {\n",
       "    //this section is from http://www.quirksmode.org/js/events_properties.html\n",
       "    var targ;\n",
       "    if (!e)\n",
       "        e = window.event;\n",
       "    if (e.target)\n",
       "        targ = e.target;\n",
       "    else if (e.srcElement)\n",
       "        targ = e.srcElement;\n",
       "    if (targ.nodeType == 3) // defeat Safari bug\n",
       "        targ = targ.parentNode;\n",
       "\n",
       "    // jQuery normalizes the pageX and pageY\n",
       "    // pageX,Y are the mouse positions relative to the document\n",
       "    // offset() returns the position of the element relative to the document\n",
       "    var x = e.pageX - $(targ).offset().left;\n",
       "    var y = e.pageY - $(targ).offset().top;\n",
       "\n",
       "    return {\"x\": x, \"y\": y};\n",
       "};\n",
       "\n",
       "/*\n",
       " * return a copy of an object with only non-object keys\n",
       " * we need this to avoid circular references\n",
       " * http://stackoverflow.com/a/24161582/3208463\n",
       " */\n",
       "function simpleKeys (original) {\n",
       "  return Object.keys(original).reduce(function (obj, key) {\n",
       "    if (typeof original[key] !== 'object')\n",
       "        obj[key] = original[key]\n",
       "    return obj;\n",
       "  }, {});\n",
       "}\n",
       "\n",
       "mpl.figure.prototype.mouse_event = function(event, name) {\n",
       "    var canvas_pos = mpl.findpos(event)\n",
       "\n",
       "    if (name === 'button_press')\n",
       "    {\n",
       "        this.canvas.focus();\n",
       "        this.canvas_div.focus();\n",
       "    }\n",
       "\n",
       "    var x = canvas_pos.x * mpl.ratio;\n",
       "    var y = canvas_pos.y * mpl.ratio;\n",
       "\n",
       "    this.send_message(name, {x: x, y: y, button: event.button,\n",
       "                             step: event.step,\n",
       "                             guiEvent: simpleKeys(event)});\n",
       "\n",
       "    /* This prevents the web browser from automatically changing to\n",
       "     * the text insertion cursor when the button is pressed.  We want\n",
       "     * to control all of the cursor setting manually through the\n",
       "     * 'cursor' event from matplotlib */\n",
       "    event.preventDefault();\n",
       "    return false;\n",
       "}\n",
       "\n",
       "mpl.figure.prototype._key_event_extra = function(event, name) {\n",
       "    // Handle any extra behaviour associated with a key event\n",
       "}\n",
       "\n",
       "mpl.figure.prototype.key_event = function(event, name) {\n",
       "\n",
       "    // Prevent repeat events\n",
       "    if (name == 'key_press')\n",
       "    {\n",
       "        if (event.which === this._key)\n",
       "            return;\n",
       "        else\n",
       "            this._key = event.which;\n",
       "    }\n",
       "    if (name == 'key_release')\n",
       "        this._key = null;\n",
       "\n",
       "    var value = '';\n",
       "    if (event.ctrlKey && event.which != 17)\n",
       "        value += \"ctrl+\";\n",
       "    if (event.altKey && event.which != 18)\n",
       "        value += \"alt+\";\n",
       "    if (event.shiftKey && event.which != 16)\n",
       "        value += \"shift+\";\n",
       "\n",
       "    value += 'k';\n",
       "    value += event.which.toString();\n",
       "\n",
       "    this._key_event_extra(event, name);\n",
       "\n",
       "    this.send_message(name, {key: value,\n",
       "                             guiEvent: simpleKeys(event)});\n",
       "    return false;\n",
       "}\n",
       "\n",
       "mpl.figure.prototype.toolbar_button_onclick = function(name) {\n",
       "    if (name == 'download') {\n",
       "        this.handle_save(this, null);\n",
       "    } else {\n",
       "        this.send_message(\"toolbar_button\", {name: name});\n",
       "    }\n",
       "};\n",
       "\n",
       "mpl.figure.prototype.toolbar_button_onmouseover = function(tooltip) {\n",
       "    this.message.textContent = tooltip;\n",
       "};\n",
       "mpl.toolbar_items = [[\"Home\", \"Reset original view\", \"fa fa-home icon-home\", \"home\"], [\"Back\", \"Back to previous view\", \"fa fa-arrow-left icon-arrow-left\", \"back\"], [\"Forward\", \"Forward to next view\", \"fa fa-arrow-right icon-arrow-right\", \"forward\"], [\"\", \"\", \"\", \"\"], [\"Pan\", \"Pan axes with left mouse, zoom with right\", \"fa fa-arrows icon-move\", \"pan\"], [\"Zoom\", \"Zoom to rectangle\", \"fa fa-square-o icon-check-empty\", \"zoom\"], [\"\", \"\", \"\", \"\"], [\"Download\", \"Download plot\", \"fa fa-floppy-o icon-save\", \"download\"]];\n",
       "\n",
       "mpl.extensions = [\"eps\", \"jpeg\", \"pdf\", \"png\", \"ps\", \"raw\", \"svg\", \"tif\"];\n",
       "\n",
       "mpl.default_extension = \"png\";var comm_websocket_adapter = function(comm) {\n",
       "    // Create a \"websocket\"-like object which calls the given IPython comm\n",
       "    // object with the appropriate methods. Currently this is a non binary\n",
       "    // socket, so there is still some room for performance tuning.\n",
       "    var ws = {};\n",
       "\n",
       "    ws.close = function() {\n",
       "        comm.close()\n",
       "    };\n",
       "    ws.send = function(m) {\n",
       "        //console.log('sending', m);\n",
       "        comm.send(m);\n",
       "    };\n",
       "    // Register the callback with on_msg.\n",
       "    comm.on_msg(function(msg) {\n",
       "        //console.log('receiving', msg['content']['data'], msg);\n",
       "        // Pass the mpl event to the overridden (by mpl) onmessage function.\n",
       "        ws.onmessage(msg['content']['data'])\n",
       "    });\n",
       "    return ws;\n",
       "}\n",
       "\n",
       "mpl.mpl_figure_comm = function(comm, msg) {\n",
       "    // This is the function which gets called when the mpl process\n",
       "    // starts-up an IPython Comm through the \"matplotlib\" channel.\n",
       "\n",
       "    var id = msg.content.data.id;\n",
       "    // Get hold of the div created by the display call when the Comm\n",
       "    // socket was opened in Python.\n",
       "    var element = $(\"#\" + id);\n",
       "    var ws_proxy = comm_websocket_adapter(comm)\n",
       "\n",
       "    function ondownload(figure, format) {\n",
       "        window.open(figure.imageObj.src);\n",
       "    }\n",
       "\n",
       "    var fig = new mpl.figure(id, ws_proxy,\n",
       "                           ondownload,\n",
       "                           element.get(0));\n",
       "\n",
       "    // Call onopen now - mpl needs it, as it is assuming we've passed it a real\n",
       "    // web socket which is closed, not our websocket->open comm proxy.\n",
       "    ws_proxy.onopen();\n",
       "\n",
       "    fig.parent_element = element.get(0);\n",
       "    fig.cell_info = mpl.find_output_cell(\"<div id='\" + id + \"'></div>\");\n",
       "    if (!fig.cell_info) {\n",
       "        console.error(\"Failed to find cell for figure\", id, fig);\n",
       "        return;\n",
       "    }\n",
       "\n",
       "    var output_index = fig.cell_info[2]\n",
       "    var cell = fig.cell_info[0];\n",
       "\n",
       "};\n",
       "\n",
       "mpl.figure.prototype.handle_close = function(fig, msg) {\n",
       "    var width = fig.canvas.width/mpl.ratio\n",
       "    fig.root.unbind('remove')\n",
       "\n",
       "    // Update the output cell to use the data from the current canvas.\n",
       "    fig.push_to_output();\n",
       "    var dataURL = fig.canvas.toDataURL();\n",
       "    // Re-enable the keyboard manager in IPython - without this line, in FF,\n",
       "    // the notebook keyboard shortcuts fail.\n",
       "    IPython.keyboard_manager.enable()\n",
       "    $(fig.parent_element).html('<img src=\"' + dataURL + '\" width=\"' + width + '\">');\n",
       "    fig.close_ws(fig, msg);\n",
       "}\n",
       "\n",
       "mpl.figure.prototype.close_ws = function(fig, msg){\n",
       "    fig.send_message('closing', msg);\n",
       "    // fig.ws.close()\n",
       "}\n",
       "\n",
       "mpl.figure.prototype.push_to_output = function(remove_interactive) {\n",
       "    // Turn the data on the canvas into data in the output cell.\n",
       "    var width = this.canvas.width/mpl.ratio\n",
       "    var dataURL = this.canvas.toDataURL();\n",
       "    this.cell_info[1]['text/html'] = '<img src=\"' + dataURL + '\" width=\"' + width + '\">';\n",
       "}\n",
       "\n",
       "mpl.figure.prototype.updated_canvas_event = function() {\n",
       "    // Tell IPython that the notebook contents must change.\n",
       "    IPython.notebook.set_dirty(true);\n",
       "    this.send_message(\"ack\", {});\n",
       "    var fig = this;\n",
       "    // Wait a second, then push the new image to the DOM so\n",
       "    // that it is saved nicely (might be nice to debounce this).\n",
       "    setTimeout(function () { fig.push_to_output() }, 1000);\n",
       "}\n",
       "\n",
       "mpl.figure.prototype._init_toolbar = function() {\n",
       "    var fig = this;\n",
       "\n",
       "    var nav_element = $('<div/>');\n",
       "    nav_element.attr('style', 'width: 100%');\n",
       "    this.root.append(nav_element);\n",
       "\n",
       "    // Define a callback function for later on.\n",
       "    function toolbar_event(event) {\n",
       "        return fig.toolbar_button_onclick(event['data']);\n",
       "    }\n",
       "    function toolbar_mouse_event(event) {\n",
       "        return fig.toolbar_button_onmouseover(event['data']);\n",
       "    }\n",
       "\n",
       "    for(var toolbar_ind in mpl.toolbar_items){\n",
       "        var name = mpl.toolbar_items[toolbar_ind][0];\n",
       "        var tooltip = mpl.toolbar_items[toolbar_ind][1];\n",
       "        var image = mpl.toolbar_items[toolbar_ind][2];\n",
       "        var method_name = mpl.toolbar_items[toolbar_ind][3];\n",
       "\n",
       "        if (!name) { continue; };\n",
       "\n",
       "        var button = $('<button class=\"btn btn-default\" href=\"#\" title=\"' + name + '\"><i class=\"fa ' + image + ' fa-lg\"></i></button>');\n",
       "        button.click(method_name, toolbar_event);\n",
       "        button.mouseover(tooltip, toolbar_mouse_event);\n",
       "        nav_element.append(button);\n",
       "    }\n",
       "\n",
       "    // Add the status bar.\n",
       "    var status_bar = $('<span class=\"mpl-message\" style=\"text-align:right; float: right;\"/>');\n",
       "    nav_element.append(status_bar);\n",
       "    this.message = status_bar[0];\n",
       "\n",
       "    // Add the close button to the window.\n",
       "    var buttongrp = $('<div class=\"btn-group inline pull-right\"></div>');\n",
       "    var button = $('<button class=\"btn btn-mini btn-primary\" href=\"#\" title=\"Stop Interaction\"><i class=\"fa fa-power-off icon-remove icon-large\"></i></button>');\n",
       "    button.click(function (evt) { fig.handle_close(fig, {}); } );\n",
       "    button.mouseover('Stop Interaction', toolbar_mouse_event);\n",
       "    buttongrp.append(button);\n",
       "    var titlebar = this.root.find($('.ui-dialog-titlebar'));\n",
       "    titlebar.prepend(buttongrp);\n",
       "}\n",
       "\n",
       "mpl.figure.prototype._root_extra_style = function(el){\n",
       "    var fig = this\n",
       "    el.on(\"remove\", function(){\n",
       "\tfig.close_ws(fig, {});\n",
       "    });\n",
       "}\n",
       "\n",
       "mpl.figure.prototype._canvas_extra_style = function(el){\n",
       "    // this is important to make the div 'focusable\n",
       "    el.attr('tabindex', 0)\n",
       "    // reach out to IPython and tell the keyboard manager to turn it's self\n",
       "    // off when our div gets focus\n",
       "\n",
       "    // location in version 3\n",
       "    if (IPython.notebook.keyboard_manager) {\n",
       "        IPython.notebook.keyboard_manager.register_events(el);\n",
       "    }\n",
       "    else {\n",
       "        // location in version 2\n",
       "        IPython.keyboard_manager.register_events(el);\n",
       "    }\n",
       "\n",
       "}\n",
       "\n",
       "mpl.figure.prototype._key_event_extra = function(event, name) {\n",
       "    var manager = IPython.notebook.keyboard_manager;\n",
       "    if (!manager)\n",
       "        manager = IPython.keyboard_manager;\n",
       "\n",
       "    // Check for shift+enter\n",
       "    if (event.shiftKey && event.which == 13) {\n",
       "        this.canvas_div.blur();\n",
       "        // select the cell after this one\n",
       "        var index = IPython.notebook.find_cell_index(this.cell_info[0]);\n",
       "        IPython.notebook.select(index + 1);\n",
       "    }\n",
       "}\n",
       "\n",
       "mpl.figure.prototype.handle_save = function(fig, msg) {\n",
       "    fig.ondownload(fig, null);\n",
       "}\n",
       "\n",
       "\n",
       "mpl.find_output_cell = function(html_output) {\n",
       "    // Return the cell and output element which can be found *uniquely* in the notebook.\n",
       "    // Note - this is a bit hacky, but it is done because the \"notebook_saving.Notebook\"\n",
       "    // IPython event is triggered only after the cells have been serialised, which for\n",
       "    // our purposes (turning an active figure into a static one), is too late.\n",
       "    var cells = IPython.notebook.get_cells();\n",
       "    var ncells = cells.length;\n",
       "    for (var i=0; i<ncells; i++) {\n",
       "        var cell = cells[i];\n",
       "        if (cell.cell_type === 'code'){\n",
       "            for (var j=0; j<cell.output_area.outputs.length; j++) {\n",
       "                var data = cell.output_area.outputs[j];\n",
       "                if (data.data) {\n",
       "                    // IPython >= 3 moved mimebundle to data attribute of output\n",
       "                    data = data.data;\n",
       "                }\n",
       "                if (data['text/html'] == html_output) {\n",
       "                    return [cell, data, j];\n",
       "                }\n",
       "            }\n",
       "        }\n",
       "    }\n",
       "}\n",
       "\n",
       "// Register the function which deals with the matplotlib target/channel.\n",
       "// The kernel may be null if the page has been refreshed.\n",
       "if (IPython.notebook.kernel != null) {\n",
       "    IPython.notebook.kernel.comm_manager.register_target('matplotlib', mpl.mpl_figure_comm);\n",
       "}\n"
      ],
      "text/plain": [
       "<IPython.core.display.Javascript object>"
      ]
     },
     "metadata": {},
     "output_type": "display_data"
    },
    {
     "data": {
      "text/html": [
       "<img src=\"data:image/png;base64,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\" width=\"1200\">"
      ],
      "text/plain": [
       "<IPython.core.display.HTML object>"
      ]
     },
     "metadata": {},
     "output_type": "display_data"
    },
    {
     "name": "stderr",
     "output_type": "stream",
     "text": [
      "c:\\users\\gabriel wendell\\appdata\\local\\programs\\python\\python37\\lib\\site-packages\\matplotlib\\cbook\\__init__.py:1402: FutureWarning: Support for multi-dimensional indexing (e.g. `obj[:, None]`) is deprecated and will be removed in a future version.  Convert to a numpy array before indexing instead.\n",
      "  ndim = x[:, None].ndim\n",
      "c:\\users\\gabriel wendell\\appdata\\local\\programs\\python\\python37\\lib\\site-packages\\matplotlib\\axes\\_base.py:276: FutureWarning: Support for multi-dimensional indexing (e.g. `obj[:, None]`) is deprecated and will be removed in a future version.  Convert to a numpy array before indexing instead.\n",
      "  x = x[:, np.newaxis]\n",
      "c:\\users\\gabriel wendell\\appdata\\local\\programs\\python\\python37\\lib\\site-packages\\matplotlib\\axes\\_base.py:278: FutureWarning: Support for multi-dimensional indexing (e.g. `obj[:, None]`) is deprecated and will be removed in a future version.  Convert to a numpy array before indexing instead.\n",
      "  y = y[:, np.newaxis]\n"
     ]
    }
   ],
   "source": [
    "plt.style.use('dark_background')\n",
    "f, (ax1, ax2) = plt.subplots(1,2, sharex = True)\n",
    "f.set_size_inches(12, 5)\n",
    "\n",
    "f.suptitle(SNid, fontsize=20, family='serif')\n",
    "f.subplots_adjust(hspace=0)\n",
    "\n",
    "ax1.plot(df_g['MJD'], df_g['MAG'], 'o-g')\n",
    "ax1.invert_yaxis()\n",
    "ax1.set_title('Filtro g', fontsize=15, family='serif')\n",
    "ax1.set_xlabel('MJD', fontsize=15, family='serif')\n",
    "ax1.set_ylabel('MAG', fontsize=15, family='serif')\n",
    "ax1.grid(True, linestyle=':', color='0.50')\n",
    "ax1.minorticks_on()\n",
    "ax1.tick_params(axis='both',which='minor', direction = \"in\",\n",
    "                    top = True,right = True, length=5,width=1,labelsize=15)\n",
    "ax1.tick_params(axis='both',which='major', direction = \"in\",\n",
    "                    top = True,right = True, length=8,width=1,labelsize=15)\n",
    "\n",
    "ax2.plot(df_r['MJD'], df_r['MAG'], 'o-r')\n",
    "ax2.invert_yaxis()\n",
    "ax2.set_title('Filtro r', fontsize=15, family='serif')\n",
    "ax2.set_xlabel('MJD', fontsize=15, family='serif')\n",
    "ax2.set_ylabel('MAG', fontsize=15, family='serif')\n",
    "ax2.grid(True, linestyle=':', color='0.50')\n",
    "ax2.minorticks_on()\n",
    "ax2.tick_params(axis='both',which='minor', direction = \"in\",\n",
    "                    top = True,right = True, length=5,width=1,labelsize=15)\n",
    "ax2.tick_params(axis='both',which='major', direction = \"in\",\n",
    "                    top = True,right = True, length=8,width=1,labelsize=15)\n",
    "\n",
    "plt.savefig(SNid+' Curva de luz - Filtros g e r.png')"
   ]
  },
  {
   "cell_type": "markdown",
   "metadata": {},
   "source": [
    "Este gráfico mostra muito bem o aumento do brilho aparente da supernova até atingir um máximo a partir do qual diminui mais lentamente. É nesse máximo que sua magnitude absoluta atinge um valor conhecido, que é o que nos permitirá estimar a distância que está de nós."
   ]
  },
  {
   "cell_type": "markdown",
   "metadata": {},
   "source": [
    "As datas estão no formato MJD (**M**odified **J**ulian **D**ate). As unidades são dias, então também podemos ter uma ideia da duração da supernova. O aumento repentino no brilho aparente seguido por sua queda abrupta é claramente perceptível em um périodo de apenas um mês. O período de tempo total registrado é de 90 dias."
   ]
  },
  {
   "cell_type": "markdown",
   "metadata": {},
   "source": [
    "### 2.5 Obtenção das magnitudes aparentes mínimas"
   ]
  },
  {
   "cell_type": "markdown",
   "metadata": {},
   "source": [
    "Uma vez de posso do dataframe com os dados de todas as curvas de luz, vamos construir o diagrama de Hubble para essas supernovas. Uma determinação rigorosa das distâncias exigiria a comparação das curvas de luz disponíveis com um conjunto de curvas \"padrão\" e a aplicação de correções para determinar a magnitude absoluta máxima. Neste `Notebook`, iremos nos limitar a criar um dataframe selecionando a observação do maior brilho aparente (isto é, o valor mínimo da magnitude aparente correspondente) nos filtros `g` r `r`, o valor de `Z` e o identidicador da supernova (`id`). "
   ]
  },
  {
   "cell_type": "code",
   "execution_count": 25,
   "metadata": {},
   "outputs": [],
   "source": [
    "b = df['FILT'] == 1                     # Seleciona o filtro 'g'\n",
    "dftemp1 = df.loc[b, ['MAG', 'Z', 'SN']]\n",
    "dftemp1.columns = ['g', 'Z', 'SN']\n",
    "grouped = dftemp1.groupby('SN')          # Agrupamento pelo 'id' da supernova\n",
    "df_g = grouped.min()                     # Seleciona os valores mínimo\n",
    "\n",
    "#######################################\n",
    "\n",
    "b = df['FILT'] == 2                      # Seleciona o filtro 'r'\n",
    "dftemp2 = df.loc[b, ['MAG', 'SN']]\n",
    "dftemp2.columns = ['r', 'SN']\n",
    "grouped = dftemp2.groupby('SN')          # Agrupamento pelo 'id' da supernova\n",
    "df_r = grouped.min()                     # Seleciona os valores mínimos da magnitude"
   ]
  },
  {
   "cell_type": "markdown",
   "metadata": {},
   "source": [
    "Finalmente, as colunas dos dois dataframes anteriores são concatenadas. O `Pandas` se encarregará de alinhar os valores correspondentes à mesma supernova:"
   ]
  },
  {
   "cell_type": "code",
   "execution_count": 26,
   "metadata": {},
   "outputs": [
    {
     "data": {
      "text/html": [
       "<div>\n",
       "<style scoped>\n",
       "    .dataframe tbody tr th:only-of-type {\n",
       "        vertical-align: middle;\n",
       "    }\n",
       "\n",
       "    .dataframe tbody tr th {\n",
       "        vertical-align: top;\n",
       "    }\n",
       "\n",
       "    .dataframe thead th {\n",
       "        text-align: right;\n",
       "    }\n",
       "</style>\n",
       "<table border=\"1\" class=\"dataframe\">\n",
       "  <thead>\n",
       "    <tr style=\"text-align: right;\">\n",
       "      <th></th>\n",
       "      <th>Z</th>\n",
       "      <th>g</th>\n",
       "      <th>r</th>\n",
       "    </tr>\n",
       "    <tr>\n",
       "      <th>SN</th>\n",
       "      <th></th>\n",
       "      <th></th>\n",
       "      <th></th>\n",
       "    </tr>\n",
       "  </thead>\n",
       "  <tbody>\n",
       "    <tr>\n",
       "      <th>SN10028</th>\n",
       "      <td>0.06533</td>\n",
       "      <td>18.292</td>\n",
       "      <td>18.354</td>\n",
       "    </tr>\n",
       "    <tr>\n",
       "      <th>SN10096</th>\n",
       "      <td>0.07775</td>\n",
       "      <td>20.323</td>\n",
       "      <td>19.904</td>\n",
       "    </tr>\n",
       "    <tr>\n",
       "      <th>SN10106</th>\n",
       "      <td>0.14720</td>\n",
       "      <td>20.844</td>\n",
       "      <td>20.665</td>\n",
       "    </tr>\n",
       "    <tr>\n",
       "      <th>SN1032</th>\n",
       "      <td>0.12975</td>\n",
       "      <td>20.410</td>\n",
       "      <td>20.205</td>\n",
       "    </tr>\n",
       "    <tr>\n",
       "      <th>SN10434</th>\n",
       "      <td>0.10430</td>\n",
       "      <td>19.432</td>\n",
       "      <td>19.369</td>\n",
       "    </tr>\n",
       "  </tbody>\n",
       "</table>\n",
       "</div>"
      ],
      "text/plain": [
       "               Z       g       r\n",
       "SN                              \n",
       "SN10028  0.06533  18.292  18.354\n",
       "SN10096  0.07775  20.323  19.904\n",
       "SN10106  0.14720  20.844  20.665\n",
       "SN1032   0.12975  20.410  20.205\n",
       "SN10434  0.10430  19.432  19.369"
      ]
     },
     "execution_count": 26,
     "metadata": {},
     "output_type": "execute_result"
    }
   ],
   "source": [
    "df_gr = pd.concat([df_g, df_r], axis=1)\n",
    "df_gr['g'] = df_gr['g'].astype(np.float)\n",
    "df_gr['r'] = df_gr['r'].astype(np.float)\n",
    "df_gr = df_gr[['Z', 'g', 'r']]\n",
    "df_gr.head()"
   ]
  },
  {
   "cell_type": "markdown",
   "metadata": {},
   "source": [
    "### 2.6 Correção da extinção"
   ]
  },
  {
   "cell_type": "markdown",
   "metadata": {},
   "source": [
    "O fenômeno da **extinção interestelar** é o escurecimento da luz que nos chega dos objetos celestes, devido à sua absorção e dipersão mais ou menos intensa pelas nuves de poeira cósmica existentes no meio interestelar. Consequentemente, os objetos celestes aparentam estar menos brilhantes para nós e, portanto, mais distantes do que corresponderia à distância em que eles estão relmente localizados."
   ]
  },
  {
   "cell_type": "markdown",
   "metadata": {},
   "source": [
    "Portanto, devemos aplicar uma correção aos valores das magnitudes aparentes em cada um dos filtros, subtraindo em cada caso uma constante $A_{\\lambda}<0$ cujo efeito será obter uma magnitude menor, ou seja, correspondente a um objeto mais brilhante, do que seria a magnitude aparente que observaríamos se a extinção não existisse. Podemos aplicar a fórmula do módulo da distância a esta nova magnitude para obter uma mehor aproximação da distância que o separa de nós."
   ]
  },
  {
   "cell_type": "markdown",
   "metadata": {},
   "source": [
    "Vejamos um exemplo: a supernova `SN722` tem sua magnitude mais baixa na banda do filtro `g` com um valor de `g = 19.394`. A correção de extinção para sua galáxia hospedeira nos comprimentos de onda desse filtro é $A_{g}=0,10$. Vamos estimar sua distância, sem e com a aplicação da correção."
   ]
  },
  {
   "cell_type": "code",
   "execution_count": 27,
   "metadata": {},
   "outputs": [
    {
     "data": {
      "text/plain": [
       "Z     0.08658\n",
       "g    19.39400\n",
       "r    19.19400\n",
       "Name: SN722, dtype: float64"
      ]
     },
     "execution_count": 27,
     "metadata": {},
     "output_type": "execute_result"
    }
   ],
   "source": [
    "df_gr.loc['SN722',:]"
   ]
  },
  {
   "cell_type": "code",
   "execution_count": 28,
   "metadata": {},
   "outputs": [
    {
     "name": "stdout",
     "output_type": "stream",
     "text": [
      "Distância sem correção: 548.02 Mpc\n",
      "Distância com correção: 523.36 Mpc\n"
     ]
    }
   ],
   "source": [
    "M = -19.3\n",
    "m = 19.394\n",
    "k = (m-M)/5 - 5\n",
    "d = 10**k\n",
    "print('Distância sem correção: %.2f Mpc' %d)\n",
    "\n",
    "A = 0.10\n",
    "m -= A\n",
    "k = (m-M)/5 - 5\n",
    "d = 10**k\n",
    "print('Distância com correção: %.2f Mpc' %d)"
   ]
  },
  {
   "cell_type": "markdown",
   "metadata": {},
   "source": [
    "Podemos ter certeza que essas correções ainda não foram aplicadas, pois no cabeçalho de cada arquivo de curva de luz há o comentário \"*NO extinction correction applied to mags or fluxes*\"."
   ]
  },
  {
   "cell_type": "markdown",
   "metadata": {},
   "source": [
    "O problema que temos que resolver agora pe obter as correções de extinnção para cada supernova e banda. Esses dados aparecem no cabeçalho de cada arquivo, na linha 11 (contando a partir de 1) existe uma linha do tipo:"
   ]
  },
  {
   "cell_type": "markdown",
   "metadata": {},
   "source": [
    "`SFD extinctions [ugriz] = [  0.13  0.10  0.07  0.05  0.04 ]`"
   ]
  },
  {
   "cell_type": "markdown",
   "metadata": {},
   "source": [
    "Então vamos ler cada arquivo e obter os valores de correção para cada supernova."
   ]
  },
  {
   "cell_type": "code",
   "execution_count": 29,
   "metadata": {},
   "outputs": [],
   "source": [
    "lc_files = !ls Dados/SDSS_Light_Curves\n",
    "lc_files = list(lc_files.n.split('\\n'))\n",
    "lc_files = lc_files[1:]"
   ]
  },
  {
   "cell_type": "markdown",
   "metadata": {},
   "source": [
    "Agora criamos uma lista com os nomes das supernovas obtidos da lista de nomes dos arquivos:"
   ]
  },
  {
   "cell_type": "code",
   "execution_count": 30,
   "metadata": {},
   "outputs": [],
   "source": [
    "SN = lambda filename: re.search(r'\\w+', filename).group()"
   ]
  },
  {
   "cell_type": "markdown",
   "metadata": {},
   "source": [
    "Criamos então uma lista com os valores do índice e as colunas do dataframe para criar com as extinções para cada SN e cada filtro:"
   ]
  },
  {
   "cell_type": "code",
   "execution_count": 31,
   "metadata": {},
   "outputs": [],
   "source": [
    "index = [SN(filename) for filename in lc_files]\n",
    "columns = ['Au', 'Ag', 'Ar', 'Ai', 'Az']"
   ]
  },
  {
   "cell_type": "markdown",
   "metadata": {},
   "source": [
    "Por fim, criamos um dataframe vazio, mas com a estrutura que precisamos:"
   ]
  },
  {
   "cell_type": "code",
   "execution_count": 32,
   "metadata": {},
   "outputs": [
    {
     "data": {
      "text/html": [
       "<div>\n",
       "<style scoped>\n",
       "    .dataframe tbody tr th:only-of-type {\n",
       "        vertical-align: middle;\n",
       "    }\n",
       "\n",
       "    .dataframe tbody tr th {\n",
       "        vertical-align: top;\n",
       "    }\n",
       "\n",
       "    .dataframe thead th {\n",
       "        text-align: right;\n",
       "    }\n",
       "</style>\n",
       "<table border=\"1\" class=\"dataframe\">\n",
       "  <thead>\n",
       "    <tr style=\"text-align: right;\">\n",
       "      <th></th>\n",
       "      <th>Au</th>\n",
       "      <th>Ag</th>\n",
       "      <th>Ar</th>\n",
       "      <th>Ai</th>\n",
       "      <th>Az</th>\n",
       "    </tr>\n",
       "  </thead>\n",
       "  <tbody>\n",
       "    <tr>\n",
       "      <th>SN10028</th>\n",
       "      <td>NaN</td>\n",
       "      <td>NaN</td>\n",
       "      <td>NaN</td>\n",
       "      <td>NaN</td>\n",
       "      <td>NaN</td>\n",
       "    </tr>\n",
       "    <tr>\n",
       "      <th>SN10096</th>\n",
       "      <td>NaN</td>\n",
       "      <td>NaN</td>\n",
       "      <td>NaN</td>\n",
       "      <td>NaN</td>\n",
       "      <td>NaN</td>\n",
       "    </tr>\n",
       "    <tr>\n",
       "      <th>SN10106</th>\n",
       "      <td>NaN</td>\n",
       "      <td>NaN</td>\n",
       "      <td>NaN</td>\n",
       "      <td>NaN</td>\n",
       "      <td>NaN</td>\n",
       "    </tr>\n",
       "    <tr>\n",
       "      <th>SN1032</th>\n",
       "      <td>NaN</td>\n",
       "      <td>NaN</td>\n",
       "      <td>NaN</td>\n",
       "      <td>NaN</td>\n",
       "      <td>NaN</td>\n",
       "    </tr>\n",
       "    <tr>\n",
       "      <th>SN10434</th>\n",
       "      <td>NaN</td>\n",
       "      <td>NaN</td>\n",
       "      <td>NaN</td>\n",
       "      <td>NaN</td>\n",
       "      <td>NaN</td>\n",
       "    </tr>\n",
       "  </tbody>\n",
       "</table>\n",
       "</div>"
      ],
      "text/plain": [
       "          Au   Ag   Ar   Ai   Az\n",
       "SN10028  NaN  NaN  NaN  NaN  NaN\n",
       "SN10096  NaN  NaN  NaN  NaN  NaN\n",
       "SN10106  NaN  NaN  NaN  NaN  NaN\n",
       "SN1032   NaN  NaN  NaN  NaN  NaN\n",
       "SN10434  NaN  NaN  NaN  NaN  NaN"
      ]
     },
     "execution_count": 32,
     "metadata": {},
     "output_type": "execute_result"
    }
   ],
   "source": [
    "df_ext = pd.DataFrame(index=index, columns=columns)\n",
    "df_ext.head()"
   ]
  },
  {
   "cell_type": "markdown",
   "metadata": {},
   "source": [
    "Finalmente todos os arquivos são percorridos extraindo os valores de extinção e preenchendo o dataframe `df_ext`:"
   ]
  },
  {
   "cell_type": "code",
   "execution_count": 33,
   "metadata": {},
   "outputs": [],
   "source": [
    "for filename in lc_files:\n",
    "    id = SN(filename)\n",
    "    with open('Dados/SDSS_Light_Curves/' + filename) as f:\n",
    "        for line in f:\n",
    "            if 'extinctions' in line:\n",
    "                l_field = line.split()\n",
    "                \n",
    "                df_ext.loc[id] = [float(a) for a in l_field[6:11]]\n",
    "                break"
   ]
  },
  {
   "cell_type": "markdown",
   "metadata": {},
   "source": [
    "Agora vamos a uma rápida comprovação:"
   ]
  },
  {
   "cell_type": "code",
   "execution_count": 34,
   "metadata": {},
   "outputs": [
    {
     "data": {
      "text/html": [
       "<div>\n",
       "<style scoped>\n",
       "    .dataframe tbody tr th:only-of-type {\n",
       "        vertical-align: middle;\n",
       "    }\n",
       "\n",
       "    .dataframe tbody tr th {\n",
       "        vertical-align: top;\n",
       "    }\n",
       "\n",
       "    .dataframe thead th {\n",
       "        text-align: right;\n",
       "    }\n",
       "</style>\n",
       "<table border=\"1\" class=\"dataframe\">\n",
       "  <thead>\n",
       "    <tr style=\"text-align: right;\">\n",
       "      <th></th>\n",
       "      <th>Au</th>\n",
       "      <th>Ag</th>\n",
       "      <th>Ar</th>\n",
       "      <th>Ai</th>\n",
       "      <th>Az</th>\n",
       "    </tr>\n",
       "  </thead>\n",
       "  <tbody>\n",
       "    <tr>\n",
       "      <th>SN10028</th>\n",
       "      <td>0.13</td>\n",
       "      <td>0.1</td>\n",
       "      <td>0.07</td>\n",
       "      <td>0.05</td>\n",
       "      <td>0.04</td>\n",
       "    </tr>\n",
       "    <tr>\n",
       "      <th>SN10096</th>\n",
       "      <td>0.14</td>\n",
       "      <td>0.1</td>\n",
       "      <td>0.07</td>\n",
       "      <td>0.06</td>\n",
       "      <td>0.04</td>\n",
       "    </tr>\n",
       "    <tr>\n",
       "      <th>SN10106</th>\n",
       "      <td>0.38</td>\n",
       "      <td>0.28</td>\n",
       "      <td>0.2</td>\n",
       "      <td>0.15</td>\n",
       "      <td>0.11</td>\n",
       "    </tr>\n",
       "    <tr>\n",
       "      <th>SN1032</th>\n",
       "      <td>0.38</td>\n",
       "      <td>0.28</td>\n",
       "      <td>0.2</td>\n",
       "      <td>0.15</td>\n",
       "      <td>0.11</td>\n",
       "    </tr>\n",
       "    <tr>\n",
       "      <th>SN10434</th>\n",
       "      <td>0.48</td>\n",
       "      <td>0.36</td>\n",
       "      <td>0.26</td>\n",
       "      <td>0.2</td>\n",
       "      <td>0.14</td>\n",
       "    </tr>\n",
       "  </tbody>\n",
       "</table>\n",
       "</div>"
      ],
      "text/plain": [
       "           Au    Ag    Ar    Ai    Az\n",
       "SN10028  0.13   0.1  0.07  0.05  0.04\n",
       "SN10096  0.14   0.1  0.07  0.06  0.04\n",
       "SN10106  0.38  0.28   0.2  0.15  0.11\n",
       "SN1032   0.38  0.28   0.2  0.15  0.11\n",
       "SN10434  0.48  0.36  0.26   0.2  0.14"
      ]
     },
     "execution_count": 34,
     "metadata": {},
     "output_type": "execute_result"
    }
   ],
   "source": [
    "df_ext.head()"
   ]
  },
  {
   "cell_type": "markdown",
   "metadata": {},
   "source": [
    "Assim que todas as correções de extinção estiverem disponíveis, as magnitudes aparentes dos filtros `g` e `r` serão corrigidas no dataframe `df_gr`, que era aquele que continha os valores mínimos da magnitude aparente em cada um desses dois filtros para cada supernova. A correção consitirá simplemente em subtrair de cada magnitude aparente o valor de correção para aquele filtro e supernova."
   ]
  },
  {
   "cell_type": "markdown",
   "metadata": {},
   "source": [
    "Façamos uma cópia \"profunda\" do dataframe original, isto é, com uma cópia dos dados:"
   ]
  },
  {
   "cell_type": "code",
   "execution_count": 35,
   "metadata": {},
   "outputs": [],
   "source": [
    "df_gr_ext = df_gr.copy()"
   ]
  },
  {
   "cell_type": "markdown",
   "metadata": {},
   "source": [
    "Agora aplicamos as correções de extinção:"
   ]
  },
  {
   "cell_type": "code",
   "execution_count": 36,
   "metadata": {},
   "outputs": [],
   "source": [
    "df_gr_ext['g'] = df_gr['g'] - df_ext['Ag']\n",
    "df_gr_ext['r'] = df_gr['r'] - df_ext['Ar']"
   ]
  },
  {
   "cell_type": "raw",
   "metadata": {},
   "source": [
    "Podemos visualizar uma amostra dos dados e comprovar que os valores obtidos são corretos:"
   ]
  },
  {
   "cell_type": "code",
   "execution_count": 37,
   "metadata": {},
   "outputs": [
    {
     "data": {
      "text/html": [
       "<div>\n",
       "<style scoped>\n",
       "    .dataframe tbody tr th:only-of-type {\n",
       "        vertical-align: middle;\n",
       "    }\n",
       "\n",
       "    .dataframe tbody tr th {\n",
       "        vertical-align: top;\n",
       "    }\n",
       "\n",
       "    .dataframe thead th {\n",
       "        text-align: right;\n",
       "    }\n",
       "</style>\n",
       "<table border=\"1\" class=\"dataframe\">\n",
       "  <thead>\n",
       "    <tr style=\"text-align: right;\">\n",
       "      <th></th>\n",
       "      <th>Z</th>\n",
       "      <th>g</th>\n",
       "      <th>r</th>\n",
       "    </tr>\n",
       "    <tr>\n",
       "      <th>SN</th>\n",
       "      <th></th>\n",
       "      <th></th>\n",
       "      <th></th>\n",
       "    </tr>\n",
       "  </thead>\n",
       "  <tbody>\n",
       "    <tr>\n",
       "      <th>SN10028</th>\n",
       "      <td>0.06533</td>\n",
       "      <td>18.192</td>\n",
       "      <td>18.284</td>\n",
       "    </tr>\n",
       "    <tr>\n",
       "      <th>SN10096</th>\n",
       "      <td>0.07775</td>\n",
       "      <td>20.223</td>\n",
       "      <td>19.834</td>\n",
       "    </tr>\n",
       "    <tr>\n",
       "      <th>SN10106</th>\n",
       "      <td>0.14720</td>\n",
       "      <td>20.564</td>\n",
       "      <td>20.465</td>\n",
       "    </tr>\n",
       "    <tr>\n",
       "      <th>SN1032</th>\n",
       "      <td>0.12975</td>\n",
       "      <td>20.13</td>\n",
       "      <td>20.005</td>\n",
       "    </tr>\n",
       "    <tr>\n",
       "      <th>SN10434</th>\n",
       "      <td>0.10430</td>\n",
       "      <td>19.072</td>\n",
       "      <td>19.109</td>\n",
       "    </tr>\n",
       "  </tbody>\n",
       "</table>\n",
       "</div>"
      ],
      "text/plain": [
       "               Z       g       r\n",
       "SN                              \n",
       "SN10028  0.06533  18.192  18.284\n",
       "SN10096  0.07775  20.223  19.834\n",
       "SN10106  0.14720  20.564  20.465\n",
       "SN1032   0.12975   20.13  20.005\n",
       "SN10434  0.10430  19.072  19.109"
      ]
     },
     "execution_count": 37,
     "metadata": {},
     "output_type": "execute_result"
    }
   ],
   "source": [
    "df_gr_ext.head()"
   ]
  },
  {
   "cell_type": "markdown",
   "metadata": {},
   "source": [
    "### 2.7 Correção devido ao sistema fotométrico utilizado"
   ]
  },
  {
   "cell_type": "markdown",
   "metadata": {},
   "source": [
    "Há ainda outra correção que iremos realizar. É devido ao fato de que serão utilizados os valores de magnitude absoluta máxima $M=-19,3$, que é um valor válido para os filtros $B$ ou $V$ do sistema fotométrico $UBV$ [2], mas aqui estamos usando o sistema de filtros do SDSS, que por sua vez é diferente."
   ]
  },
  {
   "cell_type": "markdown",
   "metadata": {},
   "source": [
    "Uma forma de levar em conta esse fato é fazer uma conversão entre as quantidades do sistema \"ugriz\" do SDSS e as quantidades do sistema UBV. Existem vários algoritmos que podem ser [consultados nesta página](http://classic.sdss.org/dr7/algorithms/sdssUBVRITransform.html) [14]. Iremos usar, por exemplo, a transformação de [Lupton (2005)](https://www.sdss.org/dr16/algorithms/sdssUBVRITransform/#Lupton2005), embora não esteja muito claro se está é a transformação mais adequada neste caso. Por outro lado, a realização desta conversçao tem a vantagem adicional de que no cálculo de, por exemplo, a magnitude no filtro $V$ as magnitudes aparentes dos filtros `g` e `r` do SDSS intervêm, com o qual estaremos pegando uma espécie de \"média\" entre os dois filtros. "
   ]
  },
  {
   "cell_type": "markdown",
   "metadata": {},
   "source": [
    "Aqui está a fórmula a ser usada:"
   ]
  },
  {
   "cell_type": "markdown",
   "metadata": {},
   "source": [
    "$$\\boxed{V = g - 0.5784\\cdot(g - r) - 0.0038}$$"
   ]
  },
  {
   "cell_type": "markdown",
   "metadata": {},
   "source": [
    "Agora vamos expandir o dataframe anterior `df_gr_ext`, que já tinha as correções de extinção integradas, criando uma nova coluna calculada com a fórmula acima:"
   ]
  },
  {
   "cell_type": "code",
   "execution_count": 38,
   "metadata": {},
   "outputs": [
    {
     "data": {
      "text/html": [
       "<div>\n",
       "<style scoped>\n",
       "    .dataframe tbody tr th:only-of-type {\n",
       "        vertical-align: middle;\n",
       "    }\n",
       "\n",
       "    .dataframe tbody tr th {\n",
       "        vertical-align: top;\n",
       "    }\n",
       "\n",
       "    .dataframe thead th {\n",
       "        text-align: right;\n",
       "    }\n",
       "</style>\n",
       "<table border=\"1\" class=\"dataframe\">\n",
       "  <thead>\n",
       "    <tr style=\"text-align: right;\">\n",
       "      <th></th>\n",
       "      <th>Z</th>\n",
       "      <th>g</th>\n",
       "      <th>r</th>\n",
       "      <th>V</th>\n",
       "    </tr>\n",
       "    <tr>\n",
       "      <th>SN</th>\n",
       "      <th></th>\n",
       "      <th></th>\n",
       "      <th></th>\n",
       "      <th></th>\n",
       "    </tr>\n",
       "  </thead>\n",
       "  <tbody>\n",
       "    <tr>\n",
       "      <th>SN10028</th>\n",
       "      <td>0.06533</td>\n",
       "      <td>18.192</td>\n",
       "      <td>18.284</td>\n",
       "      <td>18.241413</td>\n",
       "    </tr>\n",
       "    <tr>\n",
       "      <th>SN10096</th>\n",
       "      <td>0.07775</td>\n",
       "      <td>20.223</td>\n",
       "      <td>19.834</td>\n",
       "      <td>19.994202</td>\n",
       "    </tr>\n",
       "    <tr>\n",
       "      <th>SN10106</th>\n",
       "      <td>0.14720</td>\n",
       "      <td>20.564</td>\n",
       "      <td>20.465</td>\n",
       "      <td>20.502938</td>\n",
       "    </tr>\n",
       "    <tr>\n",
       "      <th>SN1032</th>\n",
       "      <td>0.12975</td>\n",
       "      <td>20.13</td>\n",
       "      <td>20.005</td>\n",
       "      <td>20.0539</td>\n",
       "    </tr>\n",
       "    <tr>\n",
       "      <th>SN10434</th>\n",
       "      <td>0.10430</td>\n",
       "      <td>19.072</td>\n",
       "      <td>19.109</td>\n",
       "      <td>19.089601</td>\n",
       "    </tr>\n",
       "  </tbody>\n",
       "</table>\n",
       "</div>"
      ],
      "text/plain": [
       "               Z       g       r          V\n",
       "SN                                         \n",
       "SN10028  0.06533  18.192  18.284  18.241413\n",
       "SN10096  0.07775  20.223  19.834  19.994202\n",
       "SN10106  0.14720  20.564  20.465  20.502938\n",
       "SN1032   0.12975   20.13  20.005    20.0539\n",
       "SN10434  0.10430  19.072  19.109  19.089601"
      ]
     },
     "execution_count": 38,
     "metadata": {},
     "output_type": "execute_result"
    }
   ],
   "source": [
    "df_gr_ext['V'] = df_gr_ext['g'] - 0.5784 * (df_gr_ext['g'] - df_gr_ext['r']) - 0.0038\n",
    "df_gr_ext.head()"
   ]
  },
  {
   "cell_type": "markdown",
   "metadata": {},
   "source": [
    "### 2.8 Obtenção do diagrama de Hubble"
   ]
  },
  {
   "cell_type": "markdown",
   "metadata": {},
   "source": [
    "#### 2.8.1 Determinação das velocidade de recessão"
   ]
  },
  {
   "cell_type": "markdown",
   "metadata": {},
   "source": [
    "Vamos primeiro examinar a faixa de valores de $z$ para supernovas na pesquisa do SDSS:"
   ]
  },
  {
   "cell_type": "code",
   "execution_count": 39,
   "metadata": {},
   "outputs": [
    {
     "data": {
      "text/plain": [
       "(0.01306, 0.422)"
      ]
     },
     "execution_count": 39,
     "metadata": {},
     "output_type": "execute_result"
    }
   ],
   "source": [
    "df_gr_ext['Z'].min(), df_gr_ext['Z'].max()"
   ]
  },
  {
   "cell_type": "markdown",
   "metadata": {},
   "source": [
    "Isso nos diz que existe pelo menos uma observação com valor de $z=0,42$, ou seja, se usarmos neste caso a aproximação $v=zc$ teríamos um objeto que se moveria a 42% da velocidade da luz, que constitui uma velocidade relativística. Isso significa que o uso desta aproximação não é válido em casos como este se interpretarmos o resultado como a velocidade de recessão real da supernova em relação a nós."
   ]
  },
  {
   "cell_type": "markdown",
   "metadata": {},
   "source": [
    "No entanto, como vimos, a constante de Hubble, para altos valores do parâmetro $z$, ainda é definida como:"
   ]
  },
  {
   "cell_type": "markdown",
   "metadata": {},
   "source": [
    "$$\\boxed{H_{0}=\\frac{cz}{d}}$$"
   ]
  },
  {
   "cell_type": "markdown",
   "metadata": {},
   "source": [
    "Portanto, usarei, como de costume, $cz$ na realização do diagrama de Hubble, embora essa magnitude não deva ser interpretada em geral como a velocidade real de recessão da supernova, mas apenas como uma aproximação dessa velocidade para $z$ pequeno. A relação exata entre a taxa de recessão devido à expansão do universo e a quantidade $z$ do *redshift* depende do modelo do universo que está sendo considerado e requer o uso da *Relatividade Geral*. A esse respeito, consulte o seguinte artigo: [Expanding Confusion: common misconceptions of cosmological horizons and the superluminal expansion of the Universe](https://arxiv.org/abs/astro-ph/0310808) [15] de Tamara M. Davis & Charles H. Lineweaver (2003)."
   ]
  },
  {
   "cell_type": "code",
   "execution_count": 40,
   "metadata": {},
   "outputs": [],
   "source": [
    "z = df_gr_ext['Z']\n",
    "v = z * pq.c.rescale(pq.km/pq.s).magnitude "
   ]
  },
  {
   "cell_type": "markdown",
   "metadata": {},
   "source": [
    "#### 2.8.2 Cálculo das distâncias"
   ]
  },
  {
   "cell_type": "markdown",
   "metadata": {},
   "source": [
    "Para as distâncias vamos utilizar a expressão do módulo de distância quando as distâncias $d$ são medidas em Mpc:"
   ]
  },
  {
   "cell_type": "markdown",
   "metadata": {},
   "source": [
    "$$\\boxed{\\mu=m-M=5\\log_{10}{d}+25}$$"
   ]
  },
  {
   "cell_type": "markdown",
   "metadata": {},
   "source": [
    "Tomando como a magnitude absoluta de qualquer supernova do tipo Ia: $M=-19,3$ e $m$ sendo o valor da magniude aparente máxima (o menor valor) retirado do dataframe:"
   ]
  },
  {
   "cell_type": "code",
   "execution_count": 41,
   "metadata": {},
   "outputs": [],
   "source": [
    "M = -19.3\n",
    "# m = df_gr_ext['V']\n",
    "m = df_gr_ext['V'].astype(np.float)\n",
    "k = (m-M)/5 - 5\n",
    "d = 10**k"
   ]
  },
  {
   "cell_type": "markdown",
   "metadata": {},
   "source": [
    "#### 2.8.3 Obteção de $H_{0}$ e o diagrama de Hubble"
   ]
  },
  {
   "cell_type": "markdown",
   "metadata": {},
   "source": [
    "Agora vamos ajustar uma linha por mínimos quadrados aos valores de distâncias e velocidades:"
   ]
  },
  {
   "cell_type": "code",
   "execution_count": 42,
   "metadata": {},
   "outputs": [
    {
     "name": "stdout",
     "output_type": "stream",
     "text": [
      "Coeficiente de determinação = 0.86\n",
      "H0 = 60.71\n"
     ]
    }
   ],
   "source": [
    "slope, intercept, r_value, p_value, std_err = s.linregress(d,v)\n",
    "\n",
    "print('Coeficiente de determinação = %.2f' %r_value**2)\n",
    "print('H0 = %.2f' %slope)"
   ]
  },
  {
   "cell_type": "markdown",
   "metadata": {},
   "source": [
    "Antes de proseguirmos para o diagrama, vamos definir uma função que irá melhorar um pouco a estética do mesmo (nós já aplicamos essa mesma função nos plots das curvas de luz):"
   ]
  },
  {
   "cell_type": "code",
   "execution_count": 43,
   "metadata": {},
   "outputs": [],
   "source": [
    "def opt_plot():\n",
    "    plt.style.use('dark_background')\n",
    "    plt.grid(True, linestyle=':', color='0.50')\n",
    "    plt.minorticks_on()\n",
    "    plt.tick_params(axis='both',which='minor', direction = \"in\",\n",
    "                        top = True,right = True, length=5,width=1,labelsize=15)\n",
    "    plt.tick_params(axis='both',which='major', direction = \"in\",\n",
    "                        top = True,right = True, length=8,width=1,labelsize=15)"
   ]
  },
  {
   "cell_type": "markdown",
   "metadata": {},
   "source": [
    "Finalmente, vamos ao diagrama de Hubble propriamente dito:"
   ]
  },
  {
   "cell_type": "code",
   "execution_count": 44,
   "metadata": {},
   "outputs": [
    {
     "data": {
      "application/javascript": [
       "/* Put everything inside the global mpl namespace */\n",
       "window.mpl = {};\n",
       "\n",
       "\n",
       "mpl.get_websocket_type = function() {\n",
       "    if (typeof(WebSocket) !== 'undefined') {\n",
       "        return WebSocket;\n",
       "    } else if (typeof(MozWebSocket) !== 'undefined') {\n",
       "        return MozWebSocket;\n",
       "    } else {\n",
       "        alert('Your browser does not have WebSocket support. ' +\n",
       "              'Please try Chrome, Safari or Firefox ≥ 6. ' +\n",
       "              'Firefox 4 and 5 are also supported but you ' +\n",
       "              'have to enable WebSockets in about:config.');\n",
       "    };\n",
       "}\n",
       "\n",
       "mpl.figure = function(figure_id, websocket, ondownload, parent_element) {\n",
       "    this.id = figure_id;\n",
       "\n",
       "    this.ws = websocket;\n",
       "\n",
       "    this.supports_binary = (this.ws.binaryType != undefined);\n",
       "\n",
       "    if (!this.supports_binary) {\n",
       "        var warnings = document.getElementById(\"mpl-warnings\");\n",
       "        if (warnings) {\n",
       "            warnings.style.display = 'block';\n",
       "            warnings.textContent = (\n",
       "                \"This browser does not support binary websocket messages. \" +\n",
       "                    \"Performance may be slow.\");\n",
       "        }\n",
       "    }\n",
       "\n",
       "    this.imageObj = new Image();\n",
       "\n",
       "    this.context = undefined;\n",
       "    this.message = undefined;\n",
       "    this.canvas = undefined;\n",
       "    this.rubberband_canvas = undefined;\n",
       "    this.rubberband_context = undefined;\n",
       "    this.format_dropdown = undefined;\n",
       "\n",
       "    this.image_mode = 'full';\n",
       "\n",
       "    this.root = $('<div/>');\n",
       "    this._root_extra_style(this.root)\n",
       "    this.root.attr('style', 'display: inline-block');\n",
       "\n",
       "    $(parent_element).append(this.root);\n",
       "\n",
       "    this._init_header(this);\n",
       "    this._init_canvas(this);\n",
       "    this._init_toolbar(this);\n",
       "\n",
       "    var fig = this;\n",
       "\n",
       "    this.waiting = false;\n",
       "\n",
       "    this.ws.onopen =  function () {\n",
       "            fig.send_message(\"supports_binary\", {value: fig.supports_binary});\n",
       "            fig.send_message(\"send_image_mode\", {});\n",
       "            if (mpl.ratio != 1) {\n",
       "                fig.send_message(\"set_dpi_ratio\", {'dpi_ratio': mpl.ratio});\n",
       "            }\n",
       "            fig.send_message(\"refresh\", {});\n",
       "        }\n",
       "\n",
       "    this.imageObj.onload = function() {\n",
       "            if (fig.image_mode == 'full') {\n",
       "                // Full images could contain transparency (where diff images\n",
       "                // almost always do), so we need to clear the canvas so that\n",
       "                // there is no ghosting.\n",
       "                fig.context.clearRect(0, 0, fig.canvas.width, fig.canvas.height);\n",
       "            }\n",
       "            fig.context.drawImage(fig.imageObj, 0, 0);\n",
       "        };\n",
       "\n",
       "    this.imageObj.onunload = function() {\n",
       "        fig.ws.close();\n",
       "    }\n",
       "\n",
       "    this.ws.onmessage = this._make_on_message_function(this);\n",
       "\n",
       "    this.ondownload = ondownload;\n",
       "}\n",
       "\n",
       "mpl.figure.prototype._init_header = function() {\n",
       "    var titlebar = $(\n",
       "        '<div class=\"ui-dialog-titlebar ui-widget-header ui-corner-all ' +\n",
       "        'ui-helper-clearfix\"/>');\n",
       "    var titletext = $(\n",
       "        '<div class=\"ui-dialog-title\" style=\"width: 100%; ' +\n",
       "        'text-align: center; padding: 3px;\"/>');\n",
       "    titlebar.append(titletext)\n",
       "    this.root.append(titlebar);\n",
       "    this.header = titletext[0];\n",
       "}\n",
       "\n",
       "\n",
       "\n",
       "mpl.figure.prototype._canvas_extra_style = function(canvas_div) {\n",
       "\n",
       "}\n",
       "\n",
       "\n",
       "mpl.figure.prototype._root_extra_style = function(canvas_div) {\n",
       "\n",
       "}\n",
       "\n",
       "mpl.figure.prototype._init_canvas = function() {\n",
       "    var fig = this;\n",
       "\n",
       "    var canvas_div = $('<div/>');\n",
       "\n",
       "    canvas_div.attr('style', 'position: relative; clear: both; outline: 0');\n",
       "\n",
       "    function canvas_keyboard_event(event) {\n",
       "        return fig.key_event(event, event['data']);\n",
       "    }\n",
       "\n",
       "    canvas_div.keydown('key_press', canvas_keyboard_event);\n",
       "    canvas_div.keyup('key_release', canvas_keyboard_event);\n",
       "    this.canvas_div = canvas_div\n",
       "    this._canvas_extra_style(canvas_div)\n",
       "    this.root.append(canvas_div);\n",
       "\n",
       "    var canvas = $('<canvas/>');\n",
       "    canvas.addClass('mpl-canvas');\n",
       "    canvas.attr('style', \"left: 0; top: 0; z-index: 0; outline: 0\")\n",
       "\n",
       "    this.canvas = canvas[0];\n",
       "    this.context = canvas[0].getContext(\"2d\");\n",
       "\n",
       "    var backingStore = this.context.backingStorePixelRatio ||\n",
       "\tthis.context.webkitBackingStorePixelRatio ||\n",
       "\tthis.context.mozBackingStorePixelRatio ||\n",
       "\tthis.context.msBackingStorePixelRatio ||\n",
       "\tthis.context.oBackingStorePixelRatio ||\n",
       "\tthis.context.backingStorePixelRatio || 1;\n",
       "\n",
       "    mpl.ratio = (window.devicePixelRatio || 1) / backingStore;\n",
       "\n",
       "    var rubberband = $('<canvas/>');\n",
       "    rubberband.attr('style', \"position: absolute; left: 0; top: 0; z-index: 1;\")\n",
       "\n",
       "    var pass_mouse_events = true;\n",
       "\n",
       "    canvas_div.resizable({\n",
       "        start: function(event, ui) {\n",
       "            pass_mouse_events = false;\n",
       "        },\n",
       "        resize: function(event, ui) {\n",
       "            fig.request_resize(ui.size.width, ui.size.height);\n",
       "        },\n",
       "        stop: function(event, ui) {\n",
       "            pass_mouse_events = true;\n",
       "            fig.request_resize(ui.size.width, ui.size.height);\n",
       "        },\n",
       "    });\n",
       "\n",
       "    function mouse_event_fn(event) {\n",
       "        if (pass_mouse_events)\n",
       "            return fig.mouse_event(event, event['data']);\n",
       "    }\n",
       "\n",
       "    rubberband.mousedown('button_press', mouse_event_fn);\n",
       "    rubberband.mouseup('button_release', mouse_event_fn);\n",
       "    // Throttle sequential mouse events to 1 every 20ms.\n",
       "    rubberband.mousemove('motion_notify', mouse_event_fn);\n",
       "\n",
       "    rubberband.mouseenter('figure_enter', mouse_event_fn);\n",
       "    rubberband.mouseleave('figure_leave', mouse_event_fn);\n",
       "\n",
       "    canvas_div.on(\"wheel\", function (event) {\n",
       "        event = event.originalEvent;\n",
       "        event['data'] = 'scroll'\n",
       "        if (event.deltaY < 0) {\n",
       "            event.step = 1;\n",
       "        } else {\n",
       "            event.step = -1;\n",
       "        }\n",
       "        mouse_event_fn(event);\n",
       "    });\n",
       "\n",
       "    canvas_div.append(canvas);\n",
       "    canvas_div.append(rubberband);\n",
       "\n",
       "    this.rubberband = rubberband;\n",
       "    this.rubberband_canvas = rubberband[0];\n",
       "    this.rubberband_context = rubberband[0].getContext(\"2d\");\n",
       "    this.rubberband_context.strokeStyle = \"#000000\";\n",
       "\n",
       "    this._resize_canvas = function(width, height) {\n",
       "        // Keep the size of the canvas, canvas container, and rubber band\n",
       "        // canvas in synch.\n",
       "        canvas_div.css('width', width)\n",
       "        canvas_div.css('height', height)\n",
       "\n",
       "        canvas.attr('width', width * mpl.ratio);\n",
       "        canvas.attr('height', height * mpl.ratio);\n",
       "        canvas.attr('style', 'width: ' + width + 'px; height: ' + height + 'px;');\n",
       "\n",
       "        rubberband.attr('width', width);\n",
       "        rubberband.attr('height', height);\n",
       "    }\n",
       "\n",
       "    // Set the figure to an initial 600x600px, this will subsequently be updated\n",
       "    // upon first draw.\n",
       "    this._resize_canvas(600, 600);\n",
       "\n",
       "    // Disable right mouse context menu.\n",
       "    $(this.rubberband_canvas).bind(\"contextmenu\",function(e){\n",
       "        return false;\n",
       "    });\n",
       "\n",
       "    function set_focus () {\n",
       "        canvas.focus();\n",
       "        canvas_div.focus();\n",
       "    }\n",
       "\n",
       "    window.setTimeout(set_focus, 100);\n",
       "}\n",
       "\n",
       "mpl.figure.prototype._init_toolbar = function() {\n",
       "    var fig = this;\n",
       "\n",
       "    var nav_element = $('<div/>');\n",
       "    nav_element.attr('style', 'width: 100%');\n",
       "    this.root.append(nav_element);\n",
       "\n",
       "    // Define a callback function for later on.\n",
       "    function toolbar_event(event) {\n",
       "        return fig.toolbar_button_onclick(event['data']);\n",
       "    }\n",
       "    function toolbar_mouse_event(event) {\n",
       "        return fig.toolbar_button_onmouseover(event['data']);\n",
       "    }\n",
       "\n",
       "    for(var toolbar_ind in mpl.toolbar_items) {\n",
       "        var name = mpl.toolbar_items[toolbar_ind][0];\n",
       "        var tooltip = mpl.toolbar_items[toolbar_ind][1];\n",
       "        var image = mpl.toolbar_items[toolbar_ind][2];\n",
       "        var method_name = mpl.toolbar_items[toolbar_ind][3];\n",
       "\n",
       "        if (!name) {\n",
       "            // put a spacer in here.\n",
       "            continue;\n",
       "        }\n",
       "        var button = $('<button/>');\n",
       "        button.addClass('ui-button ui-widget ui-state-default ui-corner-all ' +\n",
       "                        'ui-button-icon-only');\n",
       "        button.attr('role', 'button');\n",
       "        button.attr('aria-disabled', 'false');\n",
       "        button.click(method_name, toolbar_event);\n",
       "        button.mouseover(tooltip, toolbar_mouse_event);\n",
       "\n",
       "        var icon_img = $('<span/>');\n",
       "        icon_img.addClass('ui-button-icon-primary ui-icon');\n",
       "        icon_img.addClass(image);\n",
       "        icon_img.addClass('ui-corner-all');\n",
       "\n",
       "        var tooltip_span = $('<span/>');\n",
       "        tooltip_span.addClass('ui-button-text');\n",
       "        tooltip_span.html(tooltip);\n",
       "\n",
       "        button.append(icon_img);\n",
       "        button.append(tooltip_span);\n",
       "\n",
       "        nav_element.append(button);\n",
       "    }\n",
       "\n",
       "    var fmt_picker_span = $('<span/>');\n",
       "\n",
       "    var fmt_picker = $('<select/>');\n",
       "    fmt_picker.addClass('mpl-toolbar-option ui-widget ui-widget-content');\n",
       "    fmt_picker_span.append(fmt_picker);\n",
       "    nav_element.append(fmt_picker_span);\n",
       "    this.format_dropdown = fmt_picker[0];\n",
       "\n",
       "    for (var ind in mpl.extensions) {\n",
       "        var fmt = mpl.extensions[ind];\n",
       "        var option = $(\n",
       "            '<option/>', {selected: fmt === mpl.default_extension}).html(fmt);\n",
       "        fmt_picker.append(option);\n",
       "    }\n",
       "\n",
       "    // Add hover states to the ui-buttons\n",
       "    $( \".ui-button\" ).hover(\n",
       "        function() { $(this).addClass(\"ui-state-hover\");},\n",
       "        function() { $(this).removeClass(\"ui-state-hover\");}\n",
       "    );\n",
       "\n",
       "    var status_bar = $('<span class=\"mpl-message\"/>');\n",
       "    nav_element.append(status_bar);\n",
       "    this.message = status_bar[0];\n",
       "}\n",
       "\n",
       "mpl.figure.prototype.request_resize = function(x_pixels, y_pixels) {\n",
       "    // Request matplotlib to resize the figure. Matplotlib will then trigger a resize in the client,\n",
       "    // which will in turn request a refresh of the image.\n",
       "    this.send_message('resize', {'width': x_pixels, 'height': y_pixels});\n",
       "}\n",
       "\n",
       "mpl.figure.prototype.send_message = function(type, properties) {\n",
       "    properties['type'] = type;\n",
       "    properties['figure_id'] = this.id;\n",
       "    this.ws.send(JSON.stringify(properties));\n",
       "}\n",
       "\n",
       "mpl.figure.prototype.send_draw_message = function() {\n",
       "    if (!this.waiting) {\n",
       "        this.waiting = true;\n",
       "        this.ws.send(JSON.stringify({type: \"draw\", figure_id: this.id}));\n",
       "    }\n",
       "}\n",
       "\n",
       "\n",
       "mpl.figure.prototype.handle_save = function(fig, msg) {\n",
       "    var format_dropdown = fig.format_dropdown;\n",
       "    var format = format_dropdown.options[format_dropdown.selectedIndex].value;\n",
       "    fig.ondownload(fig, format);\n",
       "}\n",
       "\n",
       "\n",
       "mpl.figure.prototype.handle_resize = function(fig, msg) {\n",
       "    var size = msg['size'];\n",
       "    if (size[0] != fig.canvas.width || size[1] != fig.canvas.height) {\n",
       "        fig._resize_canvas(size[0], size[1]);\n",
       "        fig.send_message(\"refresh\", {});\n",
       "    };\n",
       "}\n",
       "\n",
       "mpl.figure.prototype.handle_rubberband = function(fig, msg) {\n",
       "    var x0 = msg['x0'] / mpl.ratio;\n",
       "    var y0 = (fig.canvas.height - msg['y0']) / mpl.ratio;\n",
       "    var x1 = msg['x1'] / mpl.ratio;\n",
       "    var y1 = (fig.canvas.height - msg['y1']) / mpl.ratio;\n",
       "    x0 = Math.floor(x0) + 0.5;\n",
       "    y0 = Math.floor(y0) + 0.5;\n",
       "    x1 = Math.floor(x1) + 0.5;\n",
       "    y1 = Math.floor(y1) + 0.5;\n",
       "    var min_x = Math.min(x0, x1);\n",
       "    var min_y = Math.min(y0, y1);\n",
       "    var width = Math.abs(x1 - x0);\n",
       "    var height = Math.abs(y1 - y0);\n",
       "\n",
       "    fig.rubberband_context.clearRect(\n",
       "        0, 0, fig.canvas.width / mpl.ratio, fig.canvas.height / mpl.ratio);\n",
       "\n",
       "    fig.rubberband_context.strokeRect(min_x, min_y, width, height);\n",
       "}\n",
       "\n",
       "mpl.figure.prototype.handle_figure_label = function(fig, msg) {\n",
       "    // Updates the figure title.\n",
       "    fig.header.textContent = msg['label'];\n",
       "}\n",
       "\n",
       "mpl.figure.prototype.handle_cursor = function(fig, msg) {\n",
       "    var cursor = msg['cursor'];\n",
       "    switch(cursor)\n",
       "    {\n",
       "    case 0:\n",
       "        cursor = 'pointer';\n",
       "        break;\n",
       "    case 1:\n",
       "        cursor = 'default';\n",
       "        break;\n",
       "    case 2:\n",
       "        cursor = 'crosshair';\n",
       "        break;\n",
       "    case 3:\n",
       "        cursor = 'move';\n",
       "        break;\n",
       "    }\n",
       "    fig.rubberband_canvas.style.cursor = cursor;\n",
       "}\n",
       "\n",
       "mpl.figure.prototype.handle_message = function(fig, msg) {\n",
       "    fig.message.textContent = msg['message'];\n",
       "}\n",
       "\n",
       "mpl.figure.prototype.handle_draw = function(fig, msg) {\n",
       "    // Request the server to send over a new figure.\n",
       "    fig.send_draw_message();\n",
       "}\n",
       "\n",
       "mpl.figure.prototype.handle_image_mode = function(fig, msg) {\n",
       "    fig.image_mode = msg['mode'];\n",
       "}\n",
       "\n",
       "mpl.figure.prototype.updated_canvas_event = function() {\n",
       "    // Called whenever the canvas gets updated.\n",
       "    this.send_message(\"ack\", {});\n",
       "}\n",
       "\n",
       "// A function to construct a web socket function for onmessage handling.\n",
       "// Called in the figure constructor.\n",
       "mpl.figure.prototype._make_on_message_function = function(fig) {\n",
       "    return function socket_on_message(evt) {\n",
       "        if (evt.data instanceof Blob) {\n",
       "            /* FIXME: We get \"Resource interpreted as Image but\n",
       "             * transferred with MIME type text/plain:\" errors on\n",
       "             * Chrome.  But how to set the MIME type?  It doesn't seem\n",
       "             * to be part of the websocket stream */\n",
       "            evt.data.type = \"image/png\";\n",
       "\n",
       "            /* Free the memory for the previous frames */\n",
       "            if (fig.imageObj.src) {\n",
       "                (window.URL || window.webkitURL).revokeObjectURL(\n",
       "                    fig.imageObj.src);\n",
       "            }\n",
       "\n",
       "            fig.imageObj.src = (window.URL || window.webkitURL).createObjectURL(\n",
       "                evt.data);\n",
       "            fig.updated_canvas_event();\n",
       "            fig.waiting = false;\n",
       "            return;\n",
       "        }\n",
       "        else if (typeof evt.data === 'string' && evt.data.slice(0, 21) == \"data:image/png;base64\") {\n",
       "            fig.imageObj.src = evt.data;\n",
       "            fig.updated_canvas_event();\n",
       "            fig.waiting = false;\n",
       "            return;\n",
       "        }\n",
       "\n",
       "        var msg = JSON.parse(evt.data);\n",
       "        var msg_type = msg['type'];\n",
       "\n",
       "        // Call the  \"handle_{type}\" callback, which takes\n",
       "        // the figure and JSON message as its only arguments.\n",
       "        try {\n",
       "            var callback = fig[\"handle_\" + msg_type];\n",
       "        } catch (e) {\n",
       "            console.log(\"No handler for the '\" + msg_type + \"' message type: \", msg);\n",
       "            return;\n",
       "        }\n",
       "\n",
       "        if (callback) {\n",
       "            try {\n",
       "                // console.log(\"Handling '\" + msg_type + \"' message: \", msg);\n",
       "                callback(fig, msg);\n",
       "            } catch (e) {\n",
       "                console.log(\"Exception inside the 'handler_\" + msg_type + \"' callback:\", e, e.stack, msg);\n",
       "            }\n",
       "        }\n",
       "    };\n",
       "}\n",
       "\n",
       "// from http://stackoverflow.com/questions/1114465/getting-mouse-location-in-canvas\n",
       "mpl.findpos = function(e) {\n",
       "    //this section is from http://www.quirksmode.org/js/events_properties.html\n",
       "    var targ;\n",
       "    if (!e)\n",
       "        e = window.event;\n",
       "    if (e.target)\n",
       "        targ = e.target;\n",
       "    else if (e.srcElement)\n",
       "        targ = e.srcElement;\n",
       "    if (targ.nodeType == 3) // defeat Safari bug\n",
       "        targ = targ.parentNode;\n",
       "\n",
       "    // jQuery normalizes the pageX and pageY\n",
       "    // pageX,Y are the mouse positions relative to the document\n",
       "    // offset() returns the position of the element relative to the document\n",
       "    var x = e.pageX - $(targ).offset().left;\n",
       "    var y = e.pageY - $(targ).offset().top;\n",
       "\n",
       "    return {\"x\": x, \"y\": y};\n",
       "};\n",
       "\n",
       "/*\n",
       " * return a copy of an object with only non-object keys\n",
       " * we need this to avoid circular references\n",
       " * http://stackoverflow.com/a/24161582/3208463\n",
       " */\n",
       "function simpleKeys (original) {\n",
       "  return Object.keys(original).reduce(function (obj, key) {\n",
       "    if (typeof original[key] !== 'object')\n",
       "        obj[key] = original[key]\n",
       "    return obj;\n",
       "  }, {});\n",
       "}\n",
       "\n",
       "mpl.figure.prototype.mouse_event = function(event, name) {\n",
       "    var canvas_pos = mpl.findpos(event)\n",
       "\n",
       "    if (name === 'button_press')\n",
       "    {\n",
       "        this.canvas.focus();\n",
       "        this.canvas_div.focus();\n",
       "    }\n",
       "\n",
       "    var x = canvas_pos.x * mpl.ratio;\n",
       "    var y = canvas_pos.y * mpl.ratio;\n",
       "\n",
       "    this.send_message(name, {x: x, y: y, button: event.button,\n",
       "                             step: event.step,\n",
       "                             guiEvent: simpleKeys(event)});\n",
       "\n",
       "    /* This prevents the web browser from automatically changing to\n",
       "     * the text insertion cursor when the button is pressed.  We want\n",
       "     * to control all of the cursor setting manually through the\n",
       "     * 'cursor' event from matplotlib */\n",
       "    event.preventDefault();\n",
       "    return false;\n",
       "}\n",
       "\n",
       "mpl.figure.prototype._key_event_extra = function(event, name) {\n",
       "    // Handle any extra behaviour associated with a key event\n",
       "}\n",
       "\n",
       "mpl.figure.prototype.key_event = function(event, name) {\n",
       "\n",
       "    // Prevent repeat events\n",
       "    if (name == 'key_press')\n",
       "    {\n",
       "        if (event.which === this._key)\n",
       "            return;\n",
       "        else\n",
       "            this._key = event.which;\n",
       "    }\n",
       "    if (name == 'key_release')\n",
       "        this._key = null;\n",
       "\n",
       "    var value = '';\n",
       "    if (event.ctrlKey && event.which != 17)\n",
       "        value += \"ctrl+\";\n",
       "    if (event.altKey && event.which != 18)\n",
       "        value += \"alt+\";\n",
       "    if (event.shiftKey && event.which != 16)\n",
       "        value += \"shift+\";\n",
       "\n",
       "    value += 'k';\n",
       "    value += event.which.toString();\n",
       "\n",
       "    this._key_event_extra(event, name);\n",
       "\n",
       "    this.send_message(name, {key: value,\n",
       "                             guiEvent: simpleKeys(event)});\n",
       "    return false;\n",
       "}\n",
       "\n",
       "mpl.figure.prototype.toolbar_button_onclick = function(name) {\n",
       "    if (name == 'download') {\n",
       "        this.handle_save(this, null);\n",
       "    } else {\n",
       "        this.send_message(\"toolbar_button\", {name: name});\n",
       "    }\n",
       "};\n",
       "\n",
       "mpl.figure.prototype.toolbar_button_onmouseover = function(tooltip) {\n",
       "    this.message.textContent = tooltip;\n",
       "};\n",
       "mpl.toolbar_items = [[\"Home\", \"Reset original view\", \"fa fa-home icon-home\", \"home\"], [\"Back\", \"Back to previous view\", \"fa fa-arrow-left icon-arrow-left\", \"back\"], [\"Forward\", \"Forward to next view\", \"fa fa-arrow-right icon-arrow-right\", \"forward\"], [\"\", \"\", \"\", \"\"], [\"Pan\", \"Pan axes with left mouse, zoom with right\", \"fa fa-arrows icon-move\", \"pan\"], [\"Zoom\", \"Zoom to rectangle\", \"fa fa-square-o icon-check-empty\", \"zoom\"], [\"\", \"\", \"\", \"\"], [\"Download\", \"Download plot\", \"fa fa-floppy-o icon-save\", \"download\"]];\n",
       "\n",
       "mpl.extensions = [\"eps\", \"jpeg\", \"pdf\", \"png\", \"ps\", \"raw\", \"svg\", \"tif\"];\n",
       "\n",
       "mpl.default_extension = \"png\";var comm_websocket_adapter = function(comm) {\n",
       "    // Create a \"websocket\"-like object which calls the given IPython comm\n",
       "    // object with the appropriate methods. Currently this is a non binary\n",
       "    // socket, so there is still some room for performance tuning.\n",
       "    var ws = {};\n",
       "\n",
       "    ws.close = function() {\n",
       "        comm.close()\n",
       "    };\n",
       "    ws.send = function(m) {\n",
       "        //console.log('sending', m);\n",
       "        comm.send(m);\n",
       "    };\n",
       "    // Register the callback with on_msg.\n",
       "    comm.on_msg(function(msg) {\n",
       "        //console.log('receiving', msg['content']['data'], msg);\n",
       "        // Pass the mpl event to the overridden (by mpl) onmessage function.\n",
       "        ws.onmessage(msg['content']['data'])\n",
       "    });\n",
       "    return ws;\n",
       "}\n",
       "\n",
       "mpl.mpl_figure_comm = function(comm, msg) {\n",
       "    // This is the function which gets called when the mpl process\n",
       "    // starts-up an IPython Comm through the \"matplotlib\" channel.\n",
       "\n",
       "    var id = msg.content.data.id;\n",
       "    // Get hold of the div created by the display call when the Comm\n",
       "    // socket was opened in Python.\n",
       "    var element = $(\"#\" + id);\n",
       "    var ws_proxy = comm_websocket_adapter(comm)\n",
       "\n",
       "    function ondownload(figure, format) {\n",
       "        window.open(figure.imageObj.src);\n",
       "    }\n",
       "\n",
       "    var fig = new mpl.figure(id, ws_proxy,\n",
       "                           ondownload,\n",
       "                           element.get(0));\n",
       "\n",
       "    // Call onopen now - mpl needs it, as it is assuming we've passed it a real\n",
       "    // web socket which is closed, not our websocket->open comm proxy.\n",
       "    ws_proxy.onopen();\n",
       "\n",
       "    fig.parent_element = element.get(0);\n",
       "    fig.cell_info = mpl.find_output_cell(\"<div id='\" + id + \"'></div>\");\n",
       "    if (!fig.cell_info) {\n",
       "        console.error(\"Failed to find cell for figure\", id, fig);\n",
       "        return;\n",
       "    }\n",
       "\n",
       "    var output_index = fig.cell_info[2]\n",
       "    var cell = fig.cell_info[0];\n",
       "\n",
       "};\n",
       "\n",
       "mpl.figure.prototype.handle_close = function(fig, msg) {\n",
       "    var width = fig.canvas.width/mpl.ratio\n",
       "    fig.root.unbind('remove')\n",
       "\n",
       "    // Update the output cell to use the data from the current canvas.\n",
       "    fig.push_to_output();\n",
       "    var dataURL = fig.canvas.toDataURL();\n",
       "    // Re-enable the keyboard manager in IPython - without this line, in FF,\n",
       "    // the notebook keyboard shortcuts fail.\n",
       "    IPython.keyboard_manager.enable()\n",
       "    $(fig.parent_element).html('<img src=\"' + dataURL + '\" width=\"' + width + '\">');\n",
       "    fig.close_ws(fig, msg);\n",
       "}\n",
       "\n",
       "mpl.figure.prototype.close_ws = function(fig, msg){\n",
       "    fig.send_message('closing', msg);\n",
       "    // fig.ws.close()\n",
       "}\n",
       "\n",
       "mpl.figure.prototype.push_to_output = function(remove_interactive) {\n",
       "    // Turn the data on the canvas into data in the output cell.\n",
       "    var width = this.canvas.width/mpl.ratio\n",
       "    var dataURL = this.canvas.toDataURL();\n",
       "    this.cell_info[1]['text/html'] = '<img src=\"' + dataURL + '\" width=\"' + width + '\">';\n",
       "}\n",
       "\n",
       "mpl.figure.prototype.updated_canvas_event = function() {\n",
       "    // Tell IPython that the notebook contents must change.\n",
       "    IPython.notebook.set_dirty(true);\n",
       "    this.send_message(\"ack\", {});\n",
       "    var fig = this;\n",
       "    // Wait a second, then push the new image to the DOM so\n",
       "    // that it is saved nicely (might be nice to debounce this).\n",
       "    setTimeout(function () { fig.push_to_output() }, 1000);\n",
       "}\n",
       "\n",
       "mpl.figure.prototype._init_toolbar = function() {\n",
       "    var fig = this;\n",
       "\n",
       "    var nav_element = $('<div/>');\n",
       "    nav_element.attr('style', 'width: 100%');\n",
       "    this.root.append(nav_element);\n",
       "\n",
       "    // Define a callback function for later on.\n",
       "    function toolbar_event(event) {\n",
       "        return fig.toolbar_button_onclick(event['data']);\n",
       "    }\n",
       "    function toolbar_mouse_event(event) {\n",
       "        return fig.toolbar_button_onmouseover(event['data']);\n",
       "    }\n",
       "\n",
       "    for(var toolbar_ind in mpl.toolbar_items){\n",
       "        var name = mpl.toolbar_items[toolbar_ind][0];\n",
       "        var tooltip = mpl.toolbar_items[toolbar_ind][1];\n",
       "        var image = mpl.toolbar_items[toolbar_ind][2];\n",
       "        var method_name = mpl.toolbar_items[toolbar_ind][3];\n",
       "\n",
       "        if (!name) { continue; };\n",
       "\n",
       "        var button = $('<button class=\"btn btn-default\" href=\"#\" title=\"' + name + '\"><i class=\"fa ' + image + ' fa-lg\"></i></button>');\n",
       "        button.click(method_name, toolbar_event);\n",
       "        button.mouseover(tooltip, toolbar_mouse_event);\n",
       "        nav_element.append(button);\n",
       "    }\n",
       "\n",
       "    // Add the status bar.\n",
       "    var status_bar = $('<span class=\"mpl-message\" style=\"text-align:right; float: right;\"/>');\n",
       "    nav_element.append(status_bar);\n",
       "    this.message = status_bar[0];\n",
       "\n",
       "    // Add the close button to the window.\n",
       "    var buttongrp = $('<div class=\"btn-group inline pull-right\"></div>');\n",
       "    var button = $('<button class=\"btn btn-mini btn-primary\" href=\"#\" title=\"Stop Interaction\"><i class=\"fa fa-power-off icon-remove icon-large\"></i></button>');\n",
       "    button.click(function (evt) { fig.handle_close(fig, {}); } );\n",
       "    button.mouseover('Stop Interaction', toolbar_mouse_event);\n",
       "    buttongrp.append(button);\n",
       "    var titlebar = this.root.find($('.ui-dialog-titlebar'));\n",
       "    titlebar.prepend(buttongrp);\n",
       "}\n",
       "\n",
       "mpl.figure.prototype._root_extra_style = function(el){\n",
       "    var fig = this\n",
       "    el.on(\"remove\", function(){\n",
       "\tfig.close_ws(fig, {});\n",
       "    });\n",
       "}\n",
       "\n",
       "mpl.figure.prototype._canvas_extra_style = function(el){\n",
       "    // this is important to make the div 'focusable\n",
       "    el.attr('tabindex', 0)\n",
       "    // reach out to IPython and tell the keyboard manager to turn it's self\n",
       "    // off when our div gets focus\n",
       "\n",
       "    // location in version 3\n",
       "    if (IPython.notebook.keyboard_manager) {\n",
       "        IPython.notebook.keyboard_manager.register_events(el);\n",
       "    }\n",
       "    else {\n",
       "        // location in version 2\n",
       "        IPython.keyboard_manager.register_events(el);\n",
       "    }\n",
       "\n",
       "}\n",
       "\n",
       "mpl.figure.prototype._key_event_extra = function(event, name) {\n",
       "    var manager = IPython.notebook.keyboard_manager;\n",
       "    if (!manager)\n",
       "        manager = IPython.keyboard_manager;\n",
       "\n",
       "    // Check for shift+enter\n",
       "    if (event.shiftKey && event.which == 13) {\n",
       "        this.canvas_div.blur();\n",
       "        // select the cell after this one\n",
       "        var index = IPython.notebook.find_cell_index(this.cell_info[0]);\n",
       "        IPython.notebook.select(index + 1);\n",
       "    }\n",
       "}\n",
       "\n",
       "mpl.figure.prototype.handle_save = function(fig, msg) {\n",
       "    fig.ondownload(fig, null);\n",
       "}\n",
       "\n",
       "\n",
       "mpl.find_output_cell = function(html_output) {\n",
       "    // Return the cell and output element which can be found *uniquely* in the notebook.\n",
       "    // Note - this is a bit hacky, but it is done because the \"notebook_saving.Notebook\"\n",
       "    // IPython event is triggered only after the cells have been serialised, which for\n",
       "    // our purposes (turning an active figure into a static one), is too late.\n",
       "    var cells = IPython.notebook.get_cells();\n",
       "    var ncells = cells.length;\n",
       "    for (var i=0; i<ncells; i++) {\n",
       "        var cell = cells[i];\n",
       "        if (cell.cell_type === 'code'){\n",
       "            for (var j=0; j<cell.output_area.outputs.length; j++) {\n",
       "                var data = cell.output_area.outputs[j];\n",
       "                if (data.data) {\n",
       "                    // IPython >= 3 moved mimebundle to data attribute of output\n",
       "                    data = data.data;\n",
       "                }\n",
       "                if (data['text/html'] == html_output) {\n",
       "                    return [cell, data, j];\n",
       "                }\n",
       "            }\n",
       "        }\n",
       "    }\n",
       "}\n",
       "\n",
       "// Register the function which deals with the matplotlib target/channel.\n",
       "// The kernel may be null if the page has been refreshed.\n",
       "if (IPython.notebook.kernel != null) {\n",
       "    IPython.notebook.kernel.comm_manager.register_target('matplotlib', mpl.mpl_figure_comm);\n",
       "}\n"
      ],
      "text/plain": [
       "<IPython.core.display.Javascript object>"
      ]
     },
     "metadata": {},
     "output_type": "display_data"
    },
    {
     "data": {
      "text/html": [
       "<img src=\"data:image/png;base64,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\" width=\"1200\">"
      ],
      "text/plain": [
       "<IPython.core.display.HTML object>"
      ]
     },
     "metadata": {},
     "output_type": "display_data"
    }
   ],
   "source": [
    "plt.figure(figsize=(12,8))\n",
    "\n",
    "plt.scatter(d, v, color='blue', edgecolors='black')\n",
    "plt.xlim(0, 2500)\n",
    "plt.ylim(0, 140000)\n",
    "\n",
    "plt.title('Diagrama de Hubble:\\n Levantamento de supernovas do tipo Ia do SDSS-II', fontsize=20, family='serif')\n",
    "plt.xlabel('Distância [Mpc]', fontsize=15, family='serif')\n",
    "plt.ylabel(r'$cz$  [Km s$^{-1}]$', fontsize=15, family='serif')\n",
    "\n",
    "plt.plot([0, 3000], [intercept, slope * 3000 + intercept], '-k', lw=2)\n",
    "plt.text(1000, 15000, 'Valor obtido: $H_{0}=%.2f$ Km s$^{-1}$ Mpc$^{-1}$' %slope,\n",
    "        fontsize=15, family='serif', rotation=39)\n",
    "\n",
    "plt.plot([0,3000], [intercept, 67.80 * 3000 + intercept], ':r', lw=2)\n",
    "plt.text(500, 67000, 'Melhor valor atual: $H_{0}=67.80$ Km s$^{-1}$ Mpc$^{-1}$',\n",
    "        fontsize=15, rotation = 41, color='r')\n",
    "\n",
    "opt_plot()\n",
    "plt.savefig('Diagrama de Hubble Levantamento de supernovas do tipo Ia do SDSS-II.png')"
   ]
  },
  {
   "cell_type": "markdown",
   "metadata": {},
   "source": [
    "Como pode ser visto, u  valor inferior ao melhor valor atual foi obtido em aproximadamente 10%, o que considero uma boa aproximação dado que o método muito básico que tem sido usado para obter a magnitude aparente correspondente ao momento de radiação máxima das supernovas estudadas. A este respeito, pode ser interessante ler a história agitada da determinação de $H_{0}$ no artigo [*The Ups and Downs of the Hubble Constant*](https://arxiv.org/abs/astro-ph/0512584) de G.A. Tammann (2005) [16]. Demorou cerca de 75 anos para se obter um valor de $H_{0}$ com uma incerteza de menos de 10%."
   ]
  },
  {
   "cell_type": "markdown",
   "metadata": {},
   "source": [
    "---"
   ]
  },
  {
   "cell_type": "markdown",
   "metadata": {},
   "source": [
    "## Referências"
   ]
  },
  {
   "cell_type": "markdown",
   "metadata": {},
   "source": [
    "- [1] *Sloan Digital Sky Survey* : http://skyserver.sdss.org/dr10/en/home.aspx"
   ]
  },
  {
   "cell_type": "markdown",
   "metadata": {},
   "source": [
    "- [2] *A cor dos objetos celestes* : https://github.com/GabrielWendell/PET.py/blob/main/Notebooks/A%20cor%20dos%20objetos%20celestes.ipynb"
   ]
  },
  {
   "cell_type": "markdown",
   "metadata": {},
   "source": [
    "- [3] *Astronomia & Astrofísica / Kepler de Souza Oliveira Filho, Maria de Fátima Oliveira Saraiva - 4.ed.* : Capítulos 20 (p.157), 21 (p.175), 22 (p.193) & 23 (p.231);"
   ]
  },
  {
   "cell_type": "markdown",
   "metadata": {},
   "source": [
    "- [4] *Astronomia & Astrofísica / Kepler de Souza Oliveira Filho, Maria de Fátima Oliveira Saraiva - 4.ed.* : Capítulos 24 (p.453), 25 (p.455), 26 (p.475) & 27 (p.501);"
   ]
  },
  {
   "cell_type": "markdown",
   "metadata": {},
   "source": [
    "- [5] *Extragalactic Astronomy and Cosmology - An Introduction / Peter Schneider - Springer (2006)*: https://link.springer.com/book/10.1007/978-3-642-54083-7"
   ]
  },
  {
   "cell_type": "markdown",
   "metadata": {},
   "source": [
    "- [6] *The SDSS Supernova Survey - Publications*: http://classic.sdss.org/supernova/"
   ]
  },
  {
   "cell_type": "markdown",
   "metadata": {},
   "source": [
    "- [7] *SDSS-II Supernova Survey Data*: http://www.sdss3.org/dr10/data_access/supernovae.php"
   ]
  },
  {
   "cell_type": "markdown",
   "metadata": {},
   "source": [
    "- [8] *Confirmed SDSS-II Supernovae*: http://classic.sdss.org/supernova/snlist_confirmed.html"
   ]
  },
  {
   "cell_type": "markdown",
   "metadata": {},
   "source": [
    "- [9] *What Is a Supernova?*: https://spaceplace.nasa.gov/supernova/en/"
   ]
  },
  {
   "cell_type": "markdown",
   "metadata": {},
   "source": [
    "- [10] *Classifying Supernovae*: https://astrobites.org/2016/12/02/classifying-supernovae/"
   ]
  },
  {
   "cell_type": "markdown",
   "metadata": {},
   "source": [
    "- [11] *Phillips, M. M.; The Absolute Magnitudes of Type Ia Supernovae; ApJ: 1993, Aug, Vol. 413, L105*: http://articles.adsabs.harvard.edu/pdf/1993ApJ...413L.105P"
   ]
  },
  {
   "cell_type": "markdown",
   "metadata": {},
   "source": [
    "- [12] *Jon. A. Holtzman et al; The Sloan Digital Sky Survey-II: Photometry and Supernova Ia Light Curves from the 2005 data; AJ, Aug. 2009, 136, 2306*: https://arxiv.org/abs/0908.4277"
   ]
  },
  {
   "cell_type": "markdown",
   "metadata": {},
   "source": [
    "- [13] *The SDSS Supernova Survey: Light Curves*: http://classic.sdss.org/supernova/lightcurves.html"
   ]
  },
  {
   "cell_type": "markdown",
   "metadata": {},
   "source": [
    "- [14] *Transformations between SDSS magnitudes and other systems*: http://classic.sdss.org/dr7/algorithms/sdssUBVRITransform.html"
   ]
  },
  {
   "cell_type": "markdown",
   "metadata": {},
   "source": [
    "- [15] *Tamara M. Davis, Charles H. Lineweaver; Expanding Confusion: common misconceptions of cosmological horizons and the superluminal expansion of the Universe, Astrophysics (astro-ph), Nov. 2003*: https://arxiv.org/abs/astro-ph/0310808"
   ]
  },
  {
   "cell_type": "markdown",
   "metadata": {},
   "source": [
    "- [16] *G.A. Tammann; The Ups and Downs of the Hubble Constant; Astrophysics (astro-ph), Dec. 2005* : https://arxiv.org/abs/astro-ph/0512584"
   ]
  }
 ],
 "metadata": {
  "kernelspec": {
   "display_name": "Python 3",
   "language": "python",
   "name": "python3"
  },
  "language_info": {
   "codemirror_mode": {
    "name": "ipython",
    "version": 3
   },
   "file_extension": ".py",
   "mimetype": "text/x-python",
   "name": "python",
   "nbconvert_exporter": "python",
   "pygments_lexer": "ipython3",
   "version": "3.7.5"
  }
 },
 "nbformat": 4,
 "nbformat_minor": 2
}
