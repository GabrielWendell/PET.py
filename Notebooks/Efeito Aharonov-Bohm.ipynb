{
 "cells": [
  {
   "cell_type": "markdown",
   "id": "15c5f3ff",
   "metadata": {},
   "source": [
    "# Efeito Aharonov-Bohm"
   ]
  },
  {
   "cell_type": "markdown",
   "id": "31e14dc9",
   "metadata": {},
   "source": [
    "- PET - Física\n",
    "- Ex-Petiano: Gabriel Wendell Celestino Rocha\n",
    "- Data: 05 de Maio de 2023"
   ]
  },
  {
   "cell_type": "markdown",
   "id": "bd0ec7b5",
   "metadata": {},
   "source": [
    "O objetivo deste `Notebook` é apresentar uma material introdutório sobre o efeito Aharonov-Bohm e anéis quânticos, assim como, desenvolver códigos para simulação do efeito Aharonov-Bohm em anéis quânticos. Este efeito quântico é importante conceitualmente porque consiste em três problemas (a existência física de potenciais, a fundamentalidade do princípio da mínima ação e o princípio da localidade) que aparecem na teoria eletromagnética clássica como uma teoria de calibre (*gauge*), a qual antes do advento da Mecânica Quântica era tratado apenas como uma formulação matemática sem consequências físicas (apenas filosóficas). Devido a sua importância, o efeito Aharonov-Bohm foi escolhido pela revista *New Scientist* como umas das *sete maravilhas do mundo quântico*. "
   ]
  },
  {
   "cell_type": "markdown",
   "id": "24514340",
   "metadata": {},
   "source": [
    "Para uma melhor organização deste `Notebook` como um todo, este foi dividido em **3** seções:"
   ]
  },
  {
   "cell_type": "markdown",
   "id": "8bc5af64",
   "metadata": {},
   "source": [
    "1. **Efeito Aharonov-Bohm**;\n",
    "2. **Anéis Quânticos**;\n",
    "3. **Simulação de um Anel Quântico**."
   ]
  },
  {
   "cell_type": "markdown",
   "id": "8e98f6e1",
   "metadata": {},
   "source": [
    "## Pré-requisitos"
   ]
  },
  {
   "cell_type": "markdown",
   "id": "297efe86",
   "metadata": {},
   "source": [
    "Este `Notebook` assume que o leitor tenha um conhecimento básico de Mecânica Quântica a nível de graduação, uma vez que o assunto aqui abordado geralmente só é apresentado em cursos avançados de pós-graduação em Mecânica Quântica ou em Trabalhos de Conclusão de Curso (TCCs) de estudantes que fazem pesquisa em áreas correlacionadas ou derivadas da Mecânica Quântica. Diante disso, é necessário que o leitor tenha conhecimento da área de Mecânica Quântica no nível apresentado no livro *Modern Quantum Mechanics* de J. J. Sakurai **[1]**. Note que esse `Notebook` serve como uma introdução ao efeito Aharanov-Bohm e como um possível tema a ser explorado em uma iniciação científica (IC)."
   ]
  },
  {
   "cell_type": "markdown",
   "id": "068df2e6",
   "metadata": {},
   "source": [
    "### Importando as bibliotecas"
   ]
  },
  {
   "cell_type": "code",
   "execution_count": 2,
   "id": "63da6f87",
   "metadata": {},
   "outputs": [],
   "source": [
    "from mpl_toolkits.axes_grid1 import make_axes_locatable\n",
    "from numpy.random import default_rng\n",
    "import matplotlib.pyplot as plt\n",
    "import numpy as np\n",
    "import kwant\n",
    "\n",
    "%matplotlib inline\n",
    "\n",
    "def opt_plot():\n",
    "    # plt.style.use('dark_background')\n",
    "    plt.grid(True, linestyle = ':', color = '0.50')\n",
    "    plt.rcParams['text.usetex'] = True\n",
    "    # plt.rcParams['font.family'] = 'monospace'\n",
    "    plt.rcParams['font.size'] = 15\n",
    "    plt.minorticks_on()\n",
    "    plt.tick_params(axis = 'both', which = 'minor', direction = \"in\",\n",
    "                        top = True, right = True, length = 5, width = 1, labelsize = 15)\n",
    "    plt.tick_params(axis = 'both', which = 'major', direction = \"in\",\n",
    "                        top = True, right = True, length = 8, width = 1, labelsize = 15)\n",
    "    \n",
    "import warnings\n",
    "warnings.filterwarnings('ignore')"
   ]
  },
  {
   "cell_type": "markdown",
   "id": "e4c5fbb7",
   "metadata": {},
   "source": [
    "#### Detalhes das bibliotecas:"
   ]
  },
  {
   "cell_type": "code",
   "execution_count": 3,
   "id": "463464b7",
   "metadata": {},
   "outputs": [
    {
     "data": {
      "application/json": {
       "Software versions": [
        {
         "module": "Python",
         "version": "3.9.8 64bit [MSC v.1929 64 bit (AMD64)]"
        },
        {
         "module": "IPython",
         "version": "8.0.1"
        },
        {
         "module": "OS",
         "version": "Windows 10 10.0.19044"
        },
        {
         "module": "Kwant",
         "version": "1.4.3"
        },
        {
         "module": "Matplotlib",
         "version": "3.6.0"
        },
        {
         "module": "Numpy",
         "version": "1.21.6"
        }
       ]
      },
      "text/html": [
       "<table><tr><th>Software</th><th>Version</th></tr><tr><td>Python</td><td>3.9.8 64bit [MSC v.1929 64 bit (AMD64)]</td></tr><tr><td>IPython</td><td>8.0.1</td></tr><tr><td>OS</td><td>Windows 10 10.0.19044</td></tr><tr><td>Kwant</td><td>1.4.3</td></tr><tr><td>Matplotlib</td><td>3.6.0</td></tr><tr><td>Numpy</td><td>1.21.6</td></tr><tr><td colspan='2'>Fri Apr 21 19:30:53 2023 Hora Padrão de Buenos Aires</td></tr></table>"
      ],
      "text/latex": [
       "\\begin{tabular}{|l|l|}\\hline\n",
       "{\\bf Software} & {\\bf Version} \\\\ \\hline\\hline\n",
       "Python & 3.9.8 64bit [MSC v.1929 64 bit (AMD64)] \\\\ \\hline\n",
       "IPython & 8.0.1 \\\\ \\hline\n",
       "OS & Windows 10 10.0.19044 \\\\ \\hline\n",
       "Kwant & 1.4.3 \\\\ \\hline\n",
       "Matplotlib & 3.6.0 \\\\ \\hline\n",
       "Numpy & 1.21.6 \\\\ \\hline\n",
       "\\hline \\multicolumn{2}{|l|}{Fri Apr 21 19:30:53 2023 Hora Padrão de Buenos Aires} \\\\ \\hline\n",
       "\\end{tabular}\n"
      ],
      "text/plain": [
       "Software versions\n",
       "Python 3.9.8 64bit [MSC v.1929 64 bit (AMD64)]\n",
       "IPython 8.0.1\n",
       "OS Windows 10 10.0.19044\n",
       "Kwant 1.4.3\n",
       "Matplotlib 3.6.0\n",
       "Numpy 1.21.6\n",
       "Fri Apr 21 19:30:53 2023 Hora Padrão de Buenos Aires"
      ]
     },
     "execution_count": 3,
     "metadata": {},
     "output_type": "execute_result"
    }
   ],
   "source": [
    "%load_ext version_information\n",
    "%version_information Kwant, Matplotlib, Numpy"
   ]
  },
  {
   "cell_type": "markdown",
   "id": "67ed3c77",
   "metadata": {},
   "source": [
    "---"
   ]
  },
  {
   "cell_type": "markdown",
   "id": "20c23418",
   "metadata": {},
   "source": [
    "## 1. Efeito Aharonov-Bohm"
   ]
  },
  {
   "cell_type": "markdown",
   "id": "72f2104a",
   "metadata": {},
   "source": [
    "O efeito Aharonov-Bohm é um fenômeno de interferência que demonstra a influência do potencial eletromagnético sobre a fase da função de onda de uma partícula carregada mesmo em uma região onde os campos eletromagnéticos são nulos."
   ]
  },
  {
   "cell_type": "markdown",
   "id": "80abf76e",
   "metadata": {},
   "source": [
    "### 1.1 Deslocamento do padrão de interferência devido à presença de um solenóide"
   ]
  },
  {
   "cell_type": "markdown",
   "id": "9c4c8c51",
   "metadata": {},
   "source": [
    "Um solenoide infinito possui um campo magnético nulo em seu exterior, e em seu interior, esse campo é dado por"
   ]
  },
  {
   "cell_type": "markdown",
   "id": "c419f211",
   "metadata": {},
   "source": [
    "$$\\tag{1.1}\n",
    "\\boldsymbol{B}=\\frac{4\\pi}{c}\\nu I\\boldsymbol{e}_{z}\\quad,\n",
    "$$"
   ]
  },
  {
   "cell_type": "markdown",
   "id": "ce467a99",
   "metadata": {},
   "source": [
    "em que $I$ é a corrente circulando nas espiras do solenoide e $\\nu$ é o número de de espiras por\n",
    "unidade de comprimento."
   ]
  },
  {
   "cell_type": "markdown",
   "id": "7554df12",
   "metadata": {},
   "source": [
    "Se $r$ é a distância radial até o centro do solenoide e $\\boldsymbol{e}_{\\phi}$ é o versor azimutal em coordendas polares, e dado um solenoide de raio da seção transversal igual a $R$, o potencial vetor produzido é"
   ]
  },
  {
   "cell_type": "markdown",
   "id": "6127bd94",
   "metadata": {},
   "source": [
    "$$\\tag{1.2}\n",
    "\\boldsymbol{A}\\left(\\boldsymbol{r}\\right)=\\begin{cases}\n",
    "\\frac{\\Phi}{2\\pi R^{2}}r\\boldsymbol{e}_{\\phi} & \\text{para }r\\leq R\\quad;\\\\\n",
    "\\frac{\\Phi}{2\\pi}\\frac{1}{r}\\boldsymbol{e}_{\\phi} & \\text{para }r>R\\quad.\n",
    "\\end{cases}\n",
    "$$"
   ]
  },
  {
   "cell_type": "markdown",
   "id": "4efac15d",
   "metadata": {},
   "source": [
    "Como os elétrons atravessam uma região em que os campos eletromagnéticos são nulos, não há atuação da força de Lorentz sobre eles. Todavia, a localização dos máximos do padrão de interferência dos elétrons depende do campo magnético confinado ao solenóide, conforme mostrado na equação"
   ]
  },
  {
   "cell_type": "markdown",
   "id": "2787f8dd",
   "metadata": {},
   "source": [
    "$$\\tag{1.3}\n",
    "Y_{n}=Y'_{n}+\\frac{L\\tilde{\\lambda}}{d}\\frac{e}{c\\hbar}\\Phi\\quad.\n",
    "$$"
   ]
  },
  {
   "cell_type": "markdown",
   "id": "470646df",
   "metadata": {},
   "source": [
    "O fenômeno descrito nesta seção, em que o potencial altera a fase da função de onda, é o efeito Aharonov-Bohm, o qual foi previsto por Yakir Aharonov e David Bohm em 1959 [(**AHARONOV; BOHM, 1959**)](https://journals.aps.org/pr/abstract/10.1103/PhysRev.115.485) **[2]**. A primeira comprovação experimental foi publicada no ano seguinte [(**CHAMBERS, 1960**)](https://link.aps.org/doi/10.1103/PhysRevLett.5.3) **[3]**. Também é possível obter o efeito de alteração da fase da função de onda via fluxo elétrico [(**BROMLEY; GREINER, 2012**)](https://books.google.com.br/books?id=Ei7vCAAAQBAJ) **[4]**."
   ]
  },
  {
   "cell_type": "markdown",
   "id": "c02ff8fd",
   "metadata": {},
   "source": [
    "### 1.2 Incorporação de Efeitos Macroscópicos ao Efeito Aharonov-Bohm"
   ]
  },
  {
   "cell_type": "markdown",
   "id": "b2b379c4",
   "metadata": {},
   "source": [
    "O desvio de fase que resulta no deslocamento dos máximos do padrão de interferência, mostrado em $(1.3)$, não é devido à força de Lorentz, haja vista o campo elétrico ser nulo na região atravessada pelo elétron, estando o campo magnético confinado ao interior do solenoide."
   ]
  },
  {
   "cell_type": "markdown",
   "id": "80d7d806",
   "metadata": {},
   "source": [
    "O efeito macroscópico de deslocamento do padrão de interferência também pode ser calculado pela equação $(1.3)$. A figura abaixo ilustra o caso em que o campo magnético de intensidade B não está confinado ao interior de um solenoide, fazendo com que uma força de Lorentz de módulo $F=\\left(e/c\\right)vB$ atue sobre um elétron com velocidade $v$. Se essa força for aplicada ao elétron por um tempo $\\tau$, o momento linear produzido será de $p_{y}=\\tau F=\\tau(e/c)vB$, com ângulo de deflexão $\\tan\\left(\\theta\\right)=p_{y}/p=\\Delta Y/L$, resultando em"
   ]
  },
  {
   "cell_type": "markdown",
   "id": "52580d3c",
   "metadata": {},
   "source": [
    "$$\\tag{1.4}\n",
    "\\Delta Y=L\\frac{p_{y}}{p}=DL\\frac{eB}{pc}\\quad.\n",
    "$$"
   ]
  },
  {
   "cell_type": "markdown",
   "id": "985944f4",
   "metadata": {},
   "source": [
    "Observando a figura abaixo, nota-se que o fluxo magnético $\\Phi$ é dado pela relação abaixo. Substituindo $\\Phi$ em $(1.3)$ obtemos"
   ]
  },
  {
   "cell_type": "markdown",
   "id": "cd979879",
   "metadata": {},
   "source": [
    "$$\\tag{1.5}\n",
    "\\Phi=\\oint\\text{d}\\boldsymbol{S}\\cdot\\boldsymbol{B}=BDd\\quad\\therefore\\quad \\boxed{Y=\\frac{L\\tilde{\\lambda}}{d}\\frac{e}{c\\hbar}\\Phi=DL\\frac{eB}{pc}}\\quad.\n",
    "$$"
   ]
  },
  {
   "cell_type": "markdown",
   "id": "6764fbc1",
   "metadata": {},
   "source": [
    "$\\blacksquare$"
   ]
  },
  {
   "cell_type": "markdown",
   "id": "60796c21",
   "metadata": {},
   "source": [
    "Esse resultado está de acordo com o previsto pela equação $(1.4)$. Isso corrobora o fato de que o efeito macroscópico de deslocamento do padrão de interferência também pode ser calculado pela equação $(1.3)$."
   ]
  },
  {
   "cell_type": "markdown",
   "id": "4311cecd",
   "metadata": {},
   "source": [
    "![Figura 1](img/Aharanov-Bohm/img1.png)"
   ]
  },
  {
   "cell_type": "markdown",
   "id": "83e2fc27",
   "metadata": {},
   "source": [
    "---"
   ]
  },
  {
   "cell_type": "markdown",
   "id": "b1da2b48",
   "metadata": {},
   "source": [
    "## 2. Anéis Quânticos"
   ]
  },
  {
   "cell_type": "markdown",
   "id": "fc6d9948",
   "metadata": {},
   "source": [
    "Nesse capítulo será estudada a aparência da fase de Aharonov-Bohm para o caso em que um elétron tem o seu movimento restrito a um caminho circular ao redor de um fluxo magnético. Apresentações mais detalhadas dos tópicos abordados nesse capítulo podem ser encontradas em [(**IHN, 2010**)](https://books.google.com.br/books?id=UdgVDAAAQBAJ) **[5]** e [(**NAZAROV; BLANTER, 2009**)](https://books.google.com.br/books?id=bjmXJOFmqZIC) **[6]**."
   ]
  },
  {
   "cell_type": "markdown",
   "id": "089538f1",
   "metadata": {},
   "source": [
    "### 2.1 Transmissão em um Anel Aberto"
   ]
  },
  {
   "cell_type": "markdown",
   "id": "0baaeaad",
   "metadata": {},
   "source": [
    "O hamiltoniano que descreve o movimento de uma carga $e$ que interage com um potencial vetor $\\boldsymbol{A}$ é"
   ]
  },
  {
   "cell_type": "markdown",
   "id": "233116c3",
   "metadata": {},
   "source": [
    "$$\\tag{2.1}\n",
    "\\hat{H}=\\frac{1}{2m}\\left(\\hat{p}-\\frac{e}{c}\\boldsymbol{A}\\right)^{2}+V\\left(r\\right)\\quad.\n",
    "$$"
   ]
  },
  {
   "cell_type": "markdown",
   "id": "2c4460ed",
   "metadata": {},
   "source": [
    "A uma distância $r$ do centro do anel (em que o fluxo está confinado), o potencial vetor é dado por"
   ]
  },
  {
   "cell_type": "markdown",
   "id": "72b73347",
   "metadata": {},
   "source": [
    "$$\\tag{2.2}\n",
    "\\boldsymbol{A}=\\frac{\\phi}{2\\pi r}\\boldsymbol{e}_{\\varphi}\\quad.\n",
    "$$"
   ]
  },
  {
   "cell_type": "markdown",
   "id": "ac35ba35",
   "metadata": {},
   "source": [
    "O _quantum_ de fluxo magnético é dado por"
   ]
  },
  {
   "cell_type": "markdown",
   "id": "756013fd",
   "metadata": {},
   "source": [
    "$$\n",
    "\\phi_{0}=\\frac{hc}{e}=\\frac{2\\pi hc}{2\\pi e}=\\frac{2\\pi\\hbar c}{e}\\implies \\boldsymbol{A}=\\frac{\\phi}{2\\pi r}\\boldsymbol{e}_{\\varphi}=\\frac{\\frac{2\\pi\\hbar c}{e}}{\\phi_{0}}\\frac{\\phi}{2\\pi r}\\boldsymbol{e}_{\\varphi}=\\frac{\\hbar c}{e}\\frac{\\phi}{\\phi_{0}}\\frac{1}{r}\\boldsymbol{e}_{\\varphi}\n",
    "$$"
   ]
  },
  {
   "cell_type": "markdown",
   "id": "5bf58966",
   "metadata": {},
   "source": [
    "$$\\tag{2.3}\n",
    "\\therefore\\quad\\hat{H}=\\frac{1}{2m}\\left(-i\\hbar\\nabla-\\frac{e}{c}\\frac{\\hbar c}{e}\\frac{\\phi}{\\phi_{0}}\\frac{1}{r}\\boldsymbol{e}_{\\varphi}\\right)^{2}+V\\left(r\\right)\\text{ }.\n",
    "$$"
   ]
  },
  {
   "cell_type": "markdown",
   "id": "77089c3d",
   "metadata": {},
   "source": [
    "Se o movimento do elétron estiver restrito à circunferência de raio $r=r_0$ no plano $z=0$, então $\\nabla = \\hat{e}_{r}\\left(\\partial/\\partial r\\right) + \\hat{e}_{\\varphi}\\left(1/r\\right)\\partial/\\partial\\varphi + \\hat{e}_{z}\\left(\\partial/\\partial z\\right)$ resume-se ao operador $\\left(1/r\\right)\\partial/\\partial\\varphi$, portanto,"
   ]
  },
  {
   "cell_type": "markdown",
   "id": "ce0b456b",
   "metadata": {},
   "source": [
    "$$\\tag{2.4}\n",
    "\\hat{H}=\\frac{1}{2m}\\left(-i\\hbar\\frac{1}{r_{0}}\\frac{\\partial}{\\partial\\varphi}-\\frac{e}{c}\\frac{\\hbar c}{e}\\frac{\\phi}{\\phi_{0}}\\frac{1}{r_{0}}\\right)^{2}=\\frac{\\hbar^{2}}{2mr_{0}^{2}}\\left(-i\\frac{\\partial}{\\partial\\varphi}-\\frac{\\phi}{\\phi_{0}}\\right)^{2}\\quad,\n",
    "$$"
   ]
  },
  {
   "cell_type": "markdown",
   "id": "94c34499",
   "metadata": {},
   "source": [
    "com $V\\left(r_0\\right)=0$. A solução da equação de autovalores $\\hat{H}\\Psi=E\\Psi$ pode ser dada por $\\Psi_{\\ell}=e^{i\\ell\\varphi}$. Substituindo $\\Psi_{\\ell}$ em $(2.4)$ chega-se a"
   ]
  },
  {
   "cell_type": "markdown",
   "id": "fad78931",
   "metadata": {},
   "source": [
    "$$\n",
    "\\left(-i\\frac{\\partial}{\\partial\\varphi}-\\frac{\\phi}{\\phi_{0}}\\right)e^{i\\ell\\varphi}=-i\\frac{\\partial}{\\partial\\varphi}e^{i\\ell\\varphi}-\\frac{\\phi}{\\phi_{0}}e^{i\\ell\\varphi}=\\ell e^{i\\ell\\varphi}-\\frac{\\phi}{\\phi_{0}}e^{i\\ell\\varphi}=\\left(\\ell-\\frac{\\phi}{\\phi_{0}}\\right)\\Psi_{\\ell}\n",
    "$$"
   ]
  },
  {
   "cell_type": "markdown",
   "id": "ff507bd1",
   "metadata": {},
   "source": [
    "$$\n",
    "\\left(-i\\frac{\\partial}{\\partial\\varphi}-\\frac{\\phi}{\\phi_{0}}\\right)^{2}\\Psi_{\\ell}=\\left(\\ell-\\frac{\\phi}{\\phi_{0}}\\right)^{2}\\Psi_{\\ell}\\implies\\hat{H}\\Psi_{\\ell}=\\frac{\\hbar^{2}}{2mr_{0}^{2}}\\left(\\ell-\\frac{\\phi}{\\phi_{0}}\\right)^{2}\\Psi_{\\ell}=E_{\\ell}\\Psi_{\\ell}\n",
    "$$"
   ]
  },
  {
   "cell_type": "markdown",
   "id": "97bd9e86",
   "metadata": {},
   "source": [
    "$$\\tag{2.5}\n",
    "\\implies\\ell-\\frac{\\phi}{\\phi_{0}}=\\pm\\sqrt{\\frac{2mr_{0}^{2}}{\\hbar^{2}}E_{\\ell}}\\implies\\ell=\\pm\\sqrt{\\frac{2mE_{\\ell}}{\\hbar^{2}}r_{0}^{2}}+\\frac{\\phi}{\\phi_{0}}\\quad\\therefore\\quad\\boxed{\\ell=\\pm kr_{0}+\\frac{\\phi}{\\phi_{0}}}\\quad,\n",
    "$$"
   ]
  },
  {
   "cell_type": "markdown",
   "id": "bd751335",
   "metadata": {},
   "source": [
    "onde $k=\\sqrt{2mE_{\\ell}}/\\hbar$ é o número de onda. Há dois estados possíveis para o elétron, que correspondem a circular o anel em sentido horário ou anti-horário, conforme ilustrado na figura abaixo:"
   ]
  },
  {
   "cell_type": "markdown",
   "id": "60b71040",
   "metadata": {},
   "source": [
    "![Figura 2](img/Aharanov-Bohm/img2.png)"
   ]
  },
  {
   "cell_type": "markdown",
   "id": "69cb036f",
   "metadata": {},
   "source": [
    "O terminal de entrada pode ser modelado com fase $\\varphi=0$. O elétron pode chegar ao terminal de saída percorrendo o anel em sentido horário até a fase $\\varphi=\\pi$ ou em sentido anti-horário até a fase $\\varphi=−\\pi$. Dessa forma, a função de onda que descreve o elétron transmitido é"
   ]
  },
  {
   "cell_type": "markdown",
   "id": "07349eed",
   "metadata": {},
   "source": [
    "$$\\tag{2.6}\n",
    "\\Psi=\\left[\\frac{1}{\\sqrt{2}}e^{i\\left(kr_{0}+\\frac{\\phi}{\\phi_{0}}\\right)\\pi}+\\frac{1}{\\sqrt{2}}e^{i\\left(-kr_{0}+\\frac{\\phi}{\\phi_{0}}\\right)\\left(-\\pi\\right)}\\right]\\frac{1}{\\sqrt{2}}\\quad,\n",
    "$$"
   ]
  },
  {
   "cell_type": "markdown",
   "id": "5e8ffd0b",
   "metadata": {},
   "source": [
    "onde um dos fatores $1/\\sqrt{2}$ é devido a entrada do elétron no anel e o outro fator $1/\\sqrt{2}$ é devido a saída. Dessa forma, a transmissão $T$ é dada por"
   ]
  },
  {
   "cell_type": "markdown",
   "id": "315d27ed",
   "metadata": {},
   "source": [
    "$$\n",
    "T=\\left|\\Psi\\right|^{2}=\\frac{1}{4}\\left|e^{i\\left(kr_{0}+\\frac{\\phi}{\\phi_{0}}\\right)\\pi}+e^{i\\left(-kr_{0}+\\frac{\\phi}{\\phi_{0}}\\right)\\left(-\\pi\\right)}\\right|^{2}=\\frac{\\left|e^{i\\left(kr_{0}\\pi\\right)}\\right|^{2}}{4}\\cdot\\left[2\\cos\\left(\\frac{\\phi}{\\phi_{0}}\\pi\\right)\\right]^{2}\n",
    "$$"
   ]
  },
  {
   "cell_type": "markdown",
   "id": "5b819619",
   "metadata": {},
   "source": [
    "$$\\tag{2.7}\n",
    "\\implies T=\\cos^{2}\\left(\\frac{\\phi}{\\phi_{0}}\\pi\\right)=\\frac{1}{2}+\\frac{1}{2}\\cos\\left(\\frac{\\phi}{\\phi_{0}}2\\pi\\right)\\quad\\therefore\\quad\\boxed{T=\\frac{1}{2}\\left[1+\\cos\\left(\\frac{\\phi}{\\phi_{0}}2\\pi\\right)\\right]}\\quad.\n",
    "$$"
   ]
  },
  {
   "cell_type": "markdown",
   "id": "439e073d",
   "metadata": {},
   "source": [
    "$\\blacksquare$"
   ]
  },
  {
   "cell_type": "code",
   "execution_count": 5,
   "id": "88cd1562",
   "metadata": {},
   "outputs": [
    {
     "data": {
      "image/png": "[encoded data removed]",
      "text/plain": [
       "<Figure size 800x500 with 1 Axes>"
      ]
     },
     "metadata": {},
     "output_type": "display_data"
    }
   ],
   "source": [
    "ratio_phi = np.linspace(0, 4, 1000)\n",
    "T = 0.5 + 0.5*np.cos(ratio_phi*2*np.pi)\n",
    "\n",
    "\n",
    "plt.figure(figsize = (8,5))\n",
    "plt.plot(ratio_phi, T, color = 'indigo', label = r'$T=\\frac{1}{2}+\\frac{1}{2}\\cos\\left(\\frac{\\phi}{\\phi_{0}}\\cdot2\\pi\\right)$')\n",
    "plt.title('Transmissão em um Anel Quântico')\n",
    "plt.xlabel(r'$\\phi/\\phi_0$')\n",
    "plt.ylabel(r'$T$')\n",
    "\n",
    "plt.legend(loc = 'best')\n",
    "opt_plot()\n",
    "plt.savefig('Transmissão_Anel-Quântico.png', dpi = 400)"
   ]
  },
  {
   "cell_type": "markdown",
   "id": "3170aaaa",
   "metadata": {},
   "source": [
    "A transmissão possui também um termo independente do fluxo, associado com probabilidades clássicas de reflexão (elétrons refletidos na entrada do anel). Há ainda um outro termo da transmissão, associado com as oscilações *Altshuler-Aronov-Spivak* (elétrons refletidos após circular completamente o anel). As oscilações de efeito Aharonov-Bohm acentuam-se com a redução da temperatura, e geralmente não são observadas à temperatura ambiente."
   ]
  },
  {
   "cell_type": "markdown",
   "id": "4d5f717c",
   "metadata": {},
   "source": [
    "---"
   ]
  },
  {
   "cell_type": "markdown",
   "id": "d0a6924a",
   "metadata": {},
   "source": [
    "## 3. Simulação de um Anel Quântico"
   ]
  },
  {
   "cell_type": "markdown",
   "id": "ade62521",
   "metadata": {},
   "source": [
    "Nesta seção vamos simular um anel quântico utilizando o módulo `kwant` da linguagem Python. O objetivo dessa seção não é descrever os métodos que serviram de base para a criação do pacote `kwant`, porém, será necessário apresentar alguns poucos conhecimentos sobre modelos de ligações fortes e representação matricial do Hamiltoniano. Na primeira seção é apresentado o caso unidimensional. Na segunda seção é apresentado o caso bidimensional. Finalmente, na última seção, é apresentada a descrição detalhada do código Python utilizado na simulação do anel quântico, sendo obtida a curva de condutância em função do fluxo magnético."
   ]
  },
  {
   "cell_type": "markdown",
   "id": "24af6f37",
   "metadata": {},
   "source": [
    "### 3.1  Representação Matricial do Hamiltoniano"
   ]
  },
  {
   "cell_type": "markdown",
   "id": "334d0049",
   "metadata": {},
   "source": [
    "A figura abaixo, ilustra uma cadeia unidimensional formada por cinco sítios atômicos, com índices $i$ variando de $0$ a $4$."
   ]
  },
  {
   "cell_type": "markdown",
   "id": "d250f2b5",
   "metadata": {},
   "source": [
    "![Figura 3](img/Aharanov-Bohm/img3.png)"
   ]
  },
  {
   "cell_type": "markdown",
   "id": "91fa0cb8",
   "metadata": {},
   "source": [
    "Para uma cadeia unidimensional com constante de rede $a$, a discretização do Hamiltoniano $H$ da equação de Schrödinger será,"
   ]
  },
  {
   "cell_type": "markdown",
   "id": "5d92d3b2",
   "metadata": {},
   "source": [
    "$$\\tag{3.1}\n",
    "E\\Psi=\\left(-\\frac{\\hbar^{2}}{2m}\\frac{\\text{d}^{2}}{\\text{d}x^{2}}+U\\right)\\Psi=\\hat{H}\\Psi\\quad,\n",
    "$$"
   ]
  },
  {
   "cell_type": "markdown",
   "id": "53533559",
   "metadata": {},
   "source": [
    "utilizando uma diferença finita centrada, resulta em:"
   ]
  },
  {
   "cell_type": "markdown",
   "id": "d6da5fec",
   "metadata": {},
   "source": [
    "$$\\tag{3.2}\n",
    "E\\Psi_{i}=-\\frac{\\hbar^{2}}{2m}\\frac{\\Psi_{i+1}+\\Psi_{i-1}-2\\Psi_{i}}{a^{2}}+U\\Psi_{i}\\quad.\n",
    "$$"
   ]
  },
  {
   "cell_type": "markdown",
   "id": "dd025688",
   "metadata": {},
   "source": [
    "Fazendo $t=\\frac{\\hbar^{2}}{2ma^{2}}$, e $U=0$, tem-se"
   ]
  },
  {
   "cell_type": "markdown",
   "id": "5f773965",
   "metadata": {},
   "source": [
    "$$\\tag{3.3}\n",
    "E\\Psi_{i}=-t\\Psi_{i-1}+2t\\Psi_{i}-t\\Psi_{i+1}\\quad.\n",
    "$$"
   ]
  },
  {
   "cell_type": "markdown",
   "id": "7ab1d5d6",
   "metadata": {},
   "source": [
    "Para o caso da cadeia mostrada na figura acima, chega-se as expressões"
   ]
  },
  {
   "cell_type": "markdown",
   "id": "46399811",
   "metadata": {},
   "source": [
    "\\begin{cases}\\tag{3.4}\n",
    "E\\Psi_{0}= & -t\\Psi_{-1}+2t\\Psi_{0}-t\\Psi_{1}\\quad,\\\\\n",
    "E\\Psi_{1}= & -t\\Psi_{0}+2t\\Psi_{1}-t\\Psi_{2}\\quad,\\\\\n",
    "E\\Psi_{2}= & -t\\Psi_{1}+2t\\Psi_{2}-t\\Psi_{3}\\quad,\\\\\n",
    "E\\Psi_{3}= & -t\\Psi_{2}+2t\\Psi_{3}-t\\Psi_{4}\\quad,\\\\\n",
    "E\\Psi_{4}= & -t\\Psi_{3}+2t\\Psi_{4}-t\\Psi_{5}\\quad.\n",
    "\\end{cases}"
   ]
  },
  {
   "cell_type": "markdown",
   "id": "4d344e4b",
   "metadata": {},
   "source": [
    "Utilizando as condições de contorno $\\Psi_{i}\\left(-1\\right)=\\Psi_{i}\\left(5\\right)=0$, obtém-se a matriz Hamiltoniana"
   ]
  },
  {
   "cell_type": "markdown",
   "id": "cc34717b",
   "metadata": {},
   "source": [
    "$$\\tag{3.5}\n",
    "H=\\left(\\begin{array}{ccccc}\n",
    "2t & -t & 0 & 0 & 0\\\\\n",
    "-t & 2t & -t & 0 & 0\\\\\n",
    "0 & -t & 2t & -t & 0\\\\\n",
    "0 & 0 & -t & 2t & -t\\\\\n",
    "0 & 0 & 0 & -t & 2t\n",
    "\\end{array}\\right)\\quad.\n",
    "$$"
   ]
  },
  {
   "cell_type": "markdown",
   "id": "7247b9cd",
   "metadata": {},
   "source": [
    "$\\blacksquare$"
   ]
  },
  {
   "cell_type": "markdown",
   "id": "ba89b4d4",
   "metadata": {},
   "source": [
    "### 3.2 Modelo de Ligações Fortes"
   ]
  },
  {
   "cell_type": "markdown",
   "id": "c800167e",
   "metadata": {},
   "source": [
    "Uma rede de Bravais bidimensional é o conjunto de pontos que possuem vetores posição $\\boldsymbol{R}$ da forma"
   ]
  },
  {
   "cell_type": "markdown",
   "id": "8e51839c",
   "metadata": {},
   "source": [
    "$$\\tag{3.6}\n",
    "\\boldsymbol{R}=n_{x}\\boldsymbol{a}_{x}+n_{y}\\boldsymbol{a}_{y}\\quad,\n",
    "$$"
   ]
  },
  {
   "cell_type": "markdown",
   "id": "a1bd3b6a",
   "metadata": {},
   "source": [
    "em que $\\boldsymbol{a}_{x}$ e $\\boldsymbol{a}_{y}$ são vetores no plano da rede e $n_{x},n_{y}\\in\\mathbb{Z}$. Na figura abaixo, é mostrada uma rede de Bravais quadrada."
   ]
  },
  {
   "cell_type": "markdown",
   "id": "0860a0a1",
   "metadata": {},
   "source": [
    "Os pontos da rede de Bravais podem ser preenchidos com um mesmo conjunto de átomos, denominado de base. Uma rede de Bravais com uma base forma uma estrutura cristalina, que caracteriza os sólidos cristalinos."
   ]
  },
  {
   "cell_type": "markdown",
   "id": "8f1c49e2",
   "metadata": {},
   "source": [
    "A periodicidade da rede de Bravais quadrada com $\\boldsymbol{R}=n_{x}\\boldsymbol{a}_{x}+n_{y}\\boldsymbol{a}_{y}$ mostrada na figura abaixo resulta na periodicidade do potencial $U\\left(\\boldsymbol{r}\\right)$, dado por"
   ]
  },
  {
   "cell_type": "markdown",
   "id": "80689d74",
   "metadata": {},
   "source": [
    "$$\\tag{3.7}\n",
    "U\\left(\\boldsymbol{r}\\right)=U\\left(\\boldsymbol{r}+\\boldsymbol{R}\\right)\\quad.\n",
    "$$"
   ]
  },
  {
   "cell_type": "markdown",
   "id": "5a09e005",
   "metadata": {},
   "source": [
    "![Figura 4](img/Aharanov-Bohm/img4.png)"
   ]
  },
  {
   "cell_type": "markdown",
   "id": "009146bc",
   "metadata": {},
   "source": [
    "O teorema de Bloch afirma que num potencial periódico a função de onda $\\psi_{\\boldsymbol{k}}\\left(\\boldsymbol{r}\\right)$de um elétron independente, que não interage com os demais elétrons, é dada pelo produto de uma onda plana por uma função periódica da rede $u_{\\boldsymbol{k}}\\left(\\boldsymbol{k}\\right)$, isto é,"
   ]
  },
  {
   "cell_type": "markdown",
   "id": "7fdac8e1",
   "metadata": {},
   "source": [
    "$$\\tag{3.8}\n",
    "\\psi_{\\boldsymbol{k}}\\left(\\boldsymbol{r}\\right)=\\exp\\left(i\\boldsymbol{k}\\cdot\\boldsymbol{r}\\right)\\cdot u_{\\boldsymbol{k}}\\left(\\boldsymbol{r}\\right),\\quad\\text{com:}\\quad u_{\\boldsymbol{k}}\\left(\\boldsymbol{r}\\right)=u_{\\boldsymbol{k}}\\left(\\boldsymbol{r}+\\boldsymbol{R}\\right)\\quad.\n",
    "$$"
   ]
  },
  {
   "cell_type": "markdown",
   "id": "442698f5",
   "metadata": {},
   "source": [
    "Levando em conta a interação entre os elétrons, a função de onda $\\Psi\\left(\\boldsymbol{r}\\right)$ de um elétron em qualquer ponto da rede pode ser obtida através da **combinação linear de orbitais atômicos** ou LCAO (*Linear Combinations of Atomic Orbitals*), sendo expressa como"
   ]
  },
  {
   "cell_type": "markdown",
   "id": "1b86dae4",
   "metadata": {},
   "source": [
    "$$\\tag{3.9}\n",
    "\\Psi_{\\boldsymbol{k}}\\left(\\boldsymbol{r}\\right)=\\sum_{m}c_{m}\\cdot\\psi_{\\boldsymbol{k}}\\left(\\boldsymbol{r}_{m}\\right)=\\frac{1}{\\sqrt{N}}\\sum_{m}\\exp\\left(i\\boldsymbol{k}\\cdot\\boldsymbol{r}_{m}\\right)\\cdot u_{\\boldsymbol{k}}\\left(\\boldsymbol{r}_{m}\\right)=\\sum_{m}C_{m}\\cdot u_{\\boldsymbol{k}}\\left(\\boldsymbol{r}_{m}\\right)\\quad\\therefore\\quad C_{m}=\\frac{1}{\\sqrt{N}}\\cdot\\exp\\left(i\\boldsymbol{k}\\cdot\\boldsymbol{r}_{m}\\right)\\quad,\n",
    "$$"
   ]
  },
  {
   "cell_type": "markdown",
   "id": "f6b841b8",
   "metadata": {},
   "source": [
    "onde $\\boldsymbol{r}_{m}$ é a posição do $m$-ésimo átomo e $N$ é o número total de sítios atômicos (pontos da rede de Bravais quadrada contendo um único átomo). Resolvendo a equação de Schrödinger independente do tempo para $(3.8)$, tem-se"
   ]
  },
  {
   "cell_type": "markdown",
   "id": "79f67b28",
   "metadata": {},
   "source": [
    "$$\n",
    "H\\Psi_{\\boldsymbol{k}}=E\\Psi_{\\boldsymbol{k}}\\iff u^{*}_{\\boldsymbol{k}}\\left(\\boldsymbol{r}_{n}\\right)H\\Psi_{\\boldsymbol{k}}=u^{*}_{\\boldsymbol{k}}\\left(\\boldsymbol{r}_{n}\\right)E\\Psi_{\\boldsymbol{k}}=E u^{*}_{\\boldsymbol{k}}\\left(\\boldsymbol{r}_{n}\\right)\\Psi_{\\boldsymbol{k}}\\quad,\n",
    "$$"
   ]
  },
  {
   "cell_type": "markdown",
   "id": "016fa444",
   "metadata": {},
   "source": [
    "$$\\tag{3.10}\n",
    "\\implies u_{\\boldsymbol{k}}^{*}\\left(\\boldsymbol{r}_{n}\\right)H\\sum_{m}C_{m}u_{\\boldsymbol{k}}\\left(\\boldsymbol{r}_{m}\\right)=Eu_{\\boldsymbol{k}}^{*}\\left(\\boldsymbol{r}_{n}\\right)\\left[\\sum_{m}C_{m}u_{\\boldsymbol{k}}\\left(\\boldsymbol{r}_{m}\\right)\\right]\\quad \\therefore \\quad \\sum_{m}u_{\\boldsymbol{k}}^{*}\\left(\\boldsymbol{r}_{n}\\right)Hu_{\\boldsymbol{k}}\\left(\\boldsymbol{r}_{m}\\right)C_{m}=E\\sum_{m}u_{\\boldsymbol{k}}^{*}\\left(\\boldsymbol{r}_{n}\\right)u_{\\boldsymbol{k}}\\left(\\boldsymbol{r}_{m}\\right)C_{m}\\quad.\n",
    "$$"
   ]
  },
  {
   "cell_type": "markdown",
   "id": "e070e88b",
   "metadata": {},
   "source": [
    "Integrando a equação anterior em todo o espaço e definindo"
   ]
  },
  {
   "cell_type": "markdown",
   "id": "767ddf2b",
   "metadata": {},
   "source": [
    "$$\n",
    "\\begin{cases}\\tag{3.11}\n",
    "H_{nm} = & \\int u_{\\boldsymbol{k}}^{*}\\left(\\boldsymbol{r}_{n}\\right)Hu_{\\boldsymbol{k}}\\left(\\boldsymbol{r}_{m}\\right)\\text{d}\\boldsymbol{r}\\quad,\\\\\n",
    "S_{nm} = & \\int u_{\\boldsymbol{k}}^{*}\\left(\\boldsymbol{r}_{n}\\right)u_{\\boldsymbol{k}}\\left(\\boldsymbol{r}_{m}\\right)\\text{d}\\boldsymbol{r}\\quad, \n",
    "\\end{cases}\n",
    "\\implies\\sum_{m}H_{nm}C_{m}=E\\sum_{m}S_{nm}C_{m}\\quad.\n",
    "$$"
   ]
  },
  {
   "cell_type": "markdown",
   "id": "c1c17a0b",
   "metadata": {},
   "source": [
    "Da definição de $S_{nm}$, vê-se que, se $u_{\\boldsymbol{k}}\\left(\\boldsymbol{r}_{m}\\right)$ for ortonormal, então $S_{nm}=1$ para $n=m$ e $S_{nm}=0$ para $n\\neq m$, portanto,"
   ]
  },
  {
   "cell_type": "markdown",
   "id": "cc79cf90",
   "metadata": {},
   "source": [
    "$$\\tag{3.12}\n",
    "EC_{n}=\\sum_{m}H_{nm}C_{m}\\implies E=\\sum_{m}H_{nm}\\frac{C_{m}}{C_{n}}\\implies E=\\sum_{m}H_{nm}\\frac{\\frac{1}{\\sqrt{N}}\\cdot e^{\\left(i\\boldsymbol{k}\\cdot\\boldsymbol{r}_{m}\\right)}}{\\frac{1}{\\sqrt{N}}\\cdot e^{\\left(i\\boldsymbol{k}\\cdot\\boldsymbol{r}_{n}\\right)}}\\quad\\therefore\\quad\\boxed{E\\left(\\boldsymbol{k}\\right)=\\sum_{m}H_{nm}\\cdot\\exp\\left[i\\boldsymbol{k}\\cdot\\left(\\boldsymbol{r}_{m}-\\boldsymbol{r}_{n}\\right)\\right]}\\quad,\n",
    "$$"
   ]
  },
  {
   "cell_type": "markdown",
   "id": "0487950d",
   "metadata": {},
   "source": [
    "$\\blacksquare$"
   ]
  },
  {
   "cell_type": "markdown",
   "id": "12795e55",
   "metadata": {},
   "source": [
    "que é a relação de dispersão para um elétron na rede cristalina."
   ]
  },
  {
   "cell_type": "markdown",
   "id": "8da42874",
   "metadata": {},
   "source": [
    "Para uma constante de rede $||\\boldsymbol{a}_{x}||=||\\boldsymbol{a}_{y}||=a$, utilizando um modelo de ligações fortes (*tight binding*), em que $\\varepsilon$ é o elemento da matriz Hamiltoniana correspondente ao sítio atômico e $−t$ é o elemento de salto (*hopping*) entre átomos que são primeiros vizinhos, conforme ilustrado na figura abaixo, tem-se $H_{mm}=\\varepsilon$, $H_{nm}=−t$ para $\\boldsymbol{r}_{m}−\\boldsymbol{r}_{n}=\\boldsymbol{a}_{x}$, $\\boldsymbol{r}_{m}−\\boldsymbol{r}_{n}=\\boldsymbol{a}_{y}$, $\\boldsymbol{r}_{m}−\\boldsymbol{r}_{n}=−\\boldsymbol{a}_{x}$, $\\boldsymbol{r}_{m}−\\boldsymbol{r}_{n}=−\\boldsymbol{a}_{y}$, e $H_{nm}=0$ para outros valores de $\\boldsymbol{r}_{m}−\\boldsymbol{r}_{n}$. Daí resulta que"
   ]
  },
  {
   "cell_type": "markdown",
   "id": "594ab294",
   "metadata": {},
   "source": [
    "$$\\tag{3.13}\n",
    "E\\left(\\boldsymbol{k}\\right)=\\varepsilon-t\\cdot e^{ik_{x}a}-t\\cdot e^{ik_{y}a}-t\\cdot e^{-ik_{x}a}-t\\cdot e^{-ik_{y}a}\\quad\\therefore\\quad \\boxed{E\\left(\\boldsymbol{k}\\right)=\\varepsilon-2t\\cos\\left(k_{x}a\\right)-2t\\cos\\left(k_{y}a\\right)}\\quad.\n",
    "$$"
   ]
  },
  {
   "cell_type": "markdown",
   "id": "54d84aff",
   "metadata": {},
   "source": [
    "Se $E\\left(0\\right)=0$, temos então"
   ]
  },
  {
   "cell_type": "markdown",
   "id": "d35861da",
   "metadata": {},
   "source": [
    "$$\\tag{3.14}\n",
    "E\\left(0\\right)=\\varepsilon-2t-2t=\\varepsilon-4t=0\\implies\\varepsilon=4t\\quad.\n",
    "$$"
   ]
  },
  {
   "cell_type": "markdown",
   "id": "71756784",
   "metadata": {},
   "source": [
    "Dessa forma, se a matriz hamiltoniana $H$ for discretizada nos sítios atômicos identificados pelas coordenadas espaciais inteiras $\\left(i,j\\right)$ de uma rede com constante de rede $a$, então"
   ]
  },
  {
   "cell_type": "markdown",
   "id": "19ce44f9",
   "metadata": {},
   "source": [
    "\\begin{cases}\\tag{3.15}\n",
    "H_{n_{\\left(i,j\\right)}m_{\\left(i,j\\right)}} = & 4t\\quad,\\\\\n",
    "H_{n_{\\left(i,j\\right)}m_{\\left(i,j-1\\right)}} = & H_{n_{\\left(i,j\\right)}m_{\\left(i-1,j\\right)}}=-t\\quad.\n",
    "\\end{cases}"
   ]
  },
  {
   "cell_type": "markdown",
   "id": "6b2360d6",
   "metadata": {},
   "source": [
    "![Figura 5](img/Aharanov-Bohm/img5.png)"
   ]
  },
  {
   "cell_type": "markdown",
   "id": "2f936451",
   "metadata": {},
   "source": [
    "$\\blacksquare$"
   ]
  },
  {
   "cell_type": "markdown",
   "id": "f6ab9e9c",
   "metadata": {},
   "source": [
    "---"
   ]
  },
  {
   "cell_type": "markdown",
   "id": "52909198",
   "metadata": {},
   "source": [
    "### 3.3 Simulação do Efeito Aharonov-Bohm"
   ]
  },
  {
   "cell_type": "markdown",
   "id": "f4ef17ba",
   "metadata": {},
   "source": [
    "O efeito Aharonov-Bohm em um anel condutor pode ser simulado através de um script escrito em linguagem python com o pacote [`kwant`](https://kwant-project.org/doc/1/). "
   ]
  },
  {
   "cell_type": "markdown",
   "id": "cc5865b7",
   "metadata": {},
   "source": [
    "Primeiro, criamos a matriz Hamitoniana da região de espalhamento através do construtor [`Builder()`](https://kwant-project.org/doc/1/reference/generated/kwant.builder.Builder) do módulo `kwant`. Em seguida, utilizamos o método [`lattice.square()`](https://kwant-project.org/doc/1.0/reference/generated/kwant.lattice.square) para criar uma rede quadrada. Nesse método devemos fornecer como argumento a constante da rede $a$. Aqui, vamos definir uma rede quadrada com constante de rede unitária, ou seja, $a=1$:"
   ]
  },
  {
   "cell_type": "code",
   "execution_count": 6,
   "id": "4842e2f4",
   "metadata": {},
   "outputs": [],
   "source": [
    "H = kwant.Builder()\n",
    "\n",
    "a = 1\n",
    "lattice = kwant.lattice.square(a)"
   ]
  },
  {
   "cell_type": "markdown",
   "id": "154557a9",
   "metadata": {},
   "source": [
    "Vamos utilizar um sistema de unidades tal que $t=\\hbar^{2}/2ma^{2}$ para definir o raio externo do anel, o raio interno do anel e a largura de contato, respectivamente:"
   ]
  },
  {
   "cell_type": "code",
   "execution_count": 7,
   "id": "8d79cf89",
   "metadata": {},
   "outputs": [],
   "source": [
    "t = 1.0\n",
    "r_ext = 20*a\n",
    "r_int = 10*a\n",
    "cont_width = 8*a"
   ]
  },
  {
   "cell_type": "markdown",
   "id": "c6b6e7ad",
   "metadata": {},
   "source": [
    "A matriz Hamiltoniana é definida de maneira que $\\varepsilon=4t$ e o elemento de salto entre átomos que são primeiros vizinhos seja $−t$. Para isso, são criados dois laços do tipo `for` que varrem todos os pontos da rede, os quais foram aqui identificados como `lattice(i, j)`. Para preencher a matriz Hamiltoniana, atribui-se diretamente seus valores ao array `H` criado, utilizando como índices o sítio atômico `[lattice(i, j)]`, para o elemento no sítio, e `[lattice(i1, j1), lattice(i2, j2)]`, para o potencial de salto entre primeiros vizinhos. A matriz Hamiltoniana da região de espalhamento é definida como:"
   ]
  },
  {
   "cell_type": "code",
   "execution_count": 8,
   "id": "6c119738",
   "metadata": {},
   "outputs": [],
   "source": [
    "for i in range(2*r_ext):\n",
    "    for j in range(2*r_ext):\n",
    "        if ((i - r_ext)**2+(j - r_ext)**2 > (r_int)**2) \\\n",
    "            and ((i - r_ext)**2 + (j - r_ext)**2<(r_ext)**2):\n",
    "            H[lattice(i - r_ext, j - r_ext)] = 4 * t\n",
    "            \n",
    "            if ((i - r_ext)**2 + (j-1 - r_ext)**2 > (r_int)**2) \\\n",
    "                and ((i - r_ext)**2 + (j-1 - r_ext)**2 < (r_ext)**2):\n",
    "                H[lattice(i - r_ext,j - r_ext), lattice(i - r_ext, j\\\n",
    "                    - r_ext - 1)] = -t\n",
    "                \n",
    "            if ((i-1 - r_ext)**2 + (j - r_ext)**2 > (r_int)**2) \\\n",
    "                and ((i-1  -r_ext)**2+(j - r_ext)**2 < (r_ext)**2):\n",
    "                    H[lattice(i - r_ext, j - r_ext), lattice(i - r_ext-1, j\\\n",
    "                        - r_ext)] = -t"
   ]
  },
  {
   "cell_type": "markdown",
   "id": "b09146de",
   "metadata": {},
   "source": [
    "Os elétrons são modelados como ondas planas que entram na região de espalhamento através de um contato semi-infinito, e saem dela por outro contato semi-infinito. Para definir o Hamiltoniano de um contato, utiliza-se o construtor `Builder()`, cujo argumento deve ser um objeto que define a simetria do contato, criado pelo construtor [`TranslationalSymmetry()`](https://kwant-project.org/doc/1/reference/generated/kwant.lattice.TranslationalSymmetry), que pode ter como argumento um vetor $\\boldsymbol{v}$, indicando o módulo e o sentido da translação espacial em que o contato será infinitamente estendido. O vetor $\\boldsymbol{v}$ deve ser $(−a,0)$ e $(a, 0)$, respectivamente, nos contatos esquerdo e direito. Os contatos são então construídos:"
   ]
  },
  {
   "cell_type": "code",
   "execution_count": 9,
   "id": "2c0f07ae",
   "metadata": {},
   "outputs": [],
   "source": [
    "left_cont_symmetry = kwant.TranslationalSymmetry((-a, 0))\n",
    "left_cont_H = kwant.Builder(left_cont_symmetry)\n",
    "\n",
    "right_cont_symmetry = kwant.TranslationalSymmetry((a, 0))\n",
    "right_cont_H = kwant.Builder(right_cont_symmetry)"
   ]
  },
  {
   "cell_type": "markdown",
   "id": "876b5dc2",
   "metadata": {},
   "source": [
    "Os Hamiltonianos dos contatos são preenchidos da seguinte forma:"
   ]
  },
  {
   "cell_type": "code",
   "execution_count": 10,
   "id": "3a11e551",
   "metadata": {},
   "outputs": [],
   "source": [
    "for j in range(2*r_ext):\n",
    "    if j >= r_ext - cont_width/2 \\\n",
    "        and j <= r_ext + cont_width/2:\n",
    "        left_cont_H[lattice(0 - r_ext, j - r_ext)] = 4*t\n",
    "        left_cont_H\\\n",
    "            [lattice(1 - r_ext, j - r_ext), lattice(0 - r_ext, j\\\n",
    "                - r_ext)] = -t\n",
    "        if j > r_ext - cont_width/2:\n",
    "            left_cont_H\\\n",
    "                [lattice(0 - r_ext, j - r_ext), lattice(0 - r_ext, j - 1\\\n",
    "                    - r_ext)] = -t\n",
    "            \n",
    "    for j in range(2*r_ext):\n",
    "        if j >= r_ext - cont_width/2 \\\n",
    "            and j <= r_ext + cont_width/2:\n",
    "            right_cont_H[lattice(0 - r_ext, j - r_ext)] = 4*t\n",
    "            right_cont_H\\\n",
    "                [lattice(2*r_ext+1 - r_ext, j - r_ext), lattice(2*r_ext\\\n",
    "                    - r_ext, j - r_ext)] = -t\n",
    "            if j > r_ext - cont_width/2:\n",
    "                right_cont_H\\\n",
    "                    [lattice(2*r_ext - r_ext, j - r_ext), \\\n",
    "                        lattice(2*r_ext - r_ext, j-1 - r_ext)] = -t"
   ]
  },
  {
   "cell_type": "markdown",
   "id": "d73dcaf4",
   "metadata": {},
   "source": [
    "O método `attach_lead()` tem a função de anexar um contato ao objeto da classe `Builder()`. Os Hamiltonianos dos contatos foram anexados ao Hamiltoniano do sistema. O método `plot()` do pacote `kwant` plota o modelo da estrutura que está sendo simulada. A seu turno, esse método utiliza o método `pyplot` do módulo `matplotlib`, sendo necessário, portanto, importá-lo para o programa. Para visualizar o sistema, escrevemos o seguinte:"
   ]
  },
  {
   "cell_type": "code",
   "execution_count": 11,
   "id": "f284d9d1",
   "metadata": {},
   "outputs": [
    {
     "data": {
      "image/png": "[encoded data removed]",
      "text/plain": [
       "<Figure size 640x480 with 1 Axes>"
      ]
     },
     "metadata": {},
     "output_type": "display_data"
    },
    {
     "data": {
      "image/png": "[encoded data removed]",
      "text/plain": [
       "<Figure size 640x480 with 1 Axes>"
      ]
     },
     "execution_count": 11,
     "metadata": {},
     "output_type": "execute_result"
    }
   ],
   "source": [
    "H.attach_lead(left_cont_H)\n",
    "H.attach_lead(right_cont_H)\n",
    "\n",
    "kwant.plotter.plot(H, site_color = 'black')"
   ]
  },
  {
   "cell_type": "markdown",
   "id": "68ba9b61",
   "metadata": {},
   "source": [
    "Criamos um array `conductance`, inicializado com valores iguais a zero. Criamos também um array `phi`, inicializando com os valores dos fluxos magnéticos no interior do anel em unidades $h/e$."
   ]
  },
  {
   "cell_type": "code",
   "execution_count": 12,
   "id": "a0ecb1cf",
   "metadata": {},
   "outputs": [],
   "source": [
    "conductance = [0 for i in range(200)]\n",
    "phi = [4.0*0.005*i for i in range(200)]"
   ]
  },
  {
   "cell_type": "markdown",
   "id": "0a3297bb",
   "metadata": {},
   "source": [
    "Em virtude da simetria do anel quântico, tem-se $\\Psi\\left(\\theta+2\\pi\\right)=\\Psi\\left(\\theta\\right)$. No entanto, o efeito do fluxo $\\phi_{B}$ é o de criar uma diferença de fase de Aharonov-Bohm igual a $2\\pi\\left(\\phi_{B}/\\phi_{0}\\right)$:"
   ]
  },
  {
   "cell_type": "markdown",
   "id": "0ec4b97d",
   "metadata": {},
   "source": [
    "$$\\tag{3.16}\n",
    "\\Psi\\left(\\theta+2\\pi\\right)=\\exp{\\left(i\\cdot 2\\pi\\frac{\\phi_B}{\\phi_0}\\right)}\\cdot\\Psi\\left(\\theta\\right)\\quad,\n",
    "$$"
   ]
  },
  {
   "cell_type": "markdown",
   "id": "c384969d",
   "metadata": {},
   "source": [
    "satisfazendo uma condição de contorno torcida, a qual está associada a um ramo de corte, como ilustrado na figura abaixo retirada de ([**SANTOS; WANG, 2014**](https://link.aps.org/doi/10.1103/PhysRevB.89.195122)) **[7]**."
   ]
  },
  {
   "cell_type": "markdown",
   "id": "3c9c9611",
   "metadata": {},
   "source": [
    "![Figura 6](img/Aharanov-Bohm/img6.png)"
   ]
  },
  {
   "cell_type": "markdown",
   "id": "60214a04",
   "metadata": {},
   "source": [
    "Vamos criar um laço do tipo `for` varrendo todos os valores de fluxo magnético do array `phi`. Modificamos o Hamiltoniano dos sítios atômicos sob o ramo de corte ilustrado na figura abaixo. Para cada valor de fluxo magnético repetiu-se as tarefas: finalizar o Hamiltoniano do sistema, calcular a matriz de espalhamento e calcular a probabilidade de transmissão:"
   ]
  },
  {
   "cell_type": "markdown",
   "id": "91120a83",
   "metadata": {},
   "source": [
    "![Figura 7](img/Aharanov-Bohm/img7.png)"
   ]
  },
  {
   "cell_type": "code",
   "execution_count": 13,
   "id": "d429db3d",
   "metadata": {},
   "outputs": [],
   "source": [
    "for i in range(200):\n",
    "    for j in range(1,10):\n",
    "        H[lattice(1, j - r_ext), lattice(0, j - r_ext)] \\\n",
    "            = -t*np.exp(2j*np.pi*phi[i])\n",
    "    Hf = H.finalized()\n",
    "    scatter_matrix = kwant.smatrix(Hf, 0.15*t)\n",
    "    conductance[i] =\\\n",
    "        scatter_matrix.transmission(1, 0)"
   ]
  },
  {
   "cell_type": "markdown",
   "id": "e3acd1ab",
   "metadata": {},
   "source": [
    "Vamos obter o gráfico da condutância em unidades de $e^{2}/h$ em função do fluxo magnético em unidades de $\\left(h/e\\right)$ da seguinte forma:"
   ]
  },
  {
   "cell_type": "code",
   "execution_count": 14,
   "id": "399eb719",
   "metadata": {
    "scrolled": false
   },
   "outputs": [
    {
     "data": {
      "image/png": "[encoded data removed]",
      "text/plain": [
       "<Figure size 800x500 with 1 Axes>"
      ]
     },
     "metadata": {},
     "output_type": "display_data"
    }
   ],
   "source": [
    "plt.figure(figsize = (8,5))\n",
    "\n",
    "plt.plot(phi, conductance, color = 'deeppink', label = 'Simulação')\n",
    "plt.plot(ratio_phi, T, color = 'indigo', label = 'Teórico')\n",
    "plt.title('Efeito de Aharonov-Bohm')\n",
    "plt.xlabel(r'$\\phi = BS/(h/e)$')\n",
    "plt.ylabel(r'$g$ em unidades de $(e^2/h)$')\n",
    "\n",
    "plt.legend(loc = 'best')\n",
    "opt_plot()\n",
    "plt.savefig('Efeito de Aharonov-Bohm.png', dpi = 400)"
   ]
  },
  {
   "cell_type": "markdown",
   "id": "2d07b89c",
   "metadata": {},
   "source": [
    "$\\blacksquare$"
   ]
  },
  {
   "cell_type": "markdown",
   "id": "2a0c21ea",
   "metadata": {},
   "source": [
    "Comparando a curva obtida acima com o gráfico das oscilações de Aharonov-Bohm em um anel quântico obtidas no seção anterior, nota-se que são muito semelhantes, o que demonstra que para os parâmetros utilizados, essas oscilações são mais relevantes\n",
    "que os demais efeitos possíveis."
   ]
  },
  {
   "cell_type": "markdown",
   "id": "46a2158e",
   "metadata": {},
   "source": [
    "---"
   ]
  },
  {
   "cell_type": "markdown",
   "id": "397a702a",
   "metadata": {},
   "source": [
    "## Referências"
   ]
  },
  {
   "cell_type": "markdown",
   "id": "f05c1ba2",
   "metadata": {},
   "source": [
    "**[1]** J.J. SAKURAI, *Modern Quantum Mechanics* (Addison-Wesley Publis Comp, New York, 1994). Disponível em: https://books.google.com.br/books/about/Modern_Quantum_Mechanics.html?id=N4I-AQAACAAJ&redir_esc=y"
   ]
  },
  {
   "cell_type": "markdown",
   "id": "d58eb4e9",
   "metadata": {},
   "source": [
    "**[2]** AHARONOV, Y.; BOHM, D. *Significance of electromagnetic potentials in the quantum theory*. Phys. Rev., American Physical Society, v. **115**, p. 485–491, Aug 1959. Disponível em: <https://link.aps.org/doi/10.1103/PhysRev.115.485>."
   ]
  },
  {
   "cell_type": "markdown",
   "id": "f854cef1",
   "metadata": {},
   "source": [
    "**[3]** CHAMBERS, R. G. *Shift of an electron interference pattern by enclosed magnetic flux*. Phys. Rev. Lett., American Physical Society, v. **5**, p. 3–5, Jul 1960. Disponível em:<https://link.aps.org/doi/10.1103/PhysRevLett.5.3>. "
   ]
  },
  {
   "cell_type": "markdown",
   "id": "d0ab5673",
   "metadata": {},
   "source": [
    "**[4]** BROMLEY, D.; GREINER, W. *Quantum Mechanics: Special Chapters*. Springer Berlin Heidelberg, 2012. ISBN 9783642588471. Disponível em: <https://books.google.com.br/books?id=Ei7vCAAAQBAJ>. "
   ]
  },
  {
   "cell_type": "markdown",
   "id": "a04128cb",
   "metadata": {},
   "source": [
    "**[5]** IHN, T. *Semiconductor Nanostructures: Quantum States and Electronic Transport*. OUP Oxford, 2010. ISBN 9780199534425. Disponível em: <https://books.google.com.br/books?id=UdgVDAAAQBAJ>. "
   ]
  },
  {
   "cell_type": "markdown",
   "id": "793c0767",
   "metadata": {},
   "source": [
    "**[6]** NAZAROV, Y.; BLANTER, Y. *Quantum Transport: Introduction to Nanoscience*. Cambridge University Press, 2009. ISBN 9781139478175. Disponível em: <https://books.google.com.br/books?id=bjmXJOFmqZIC>. "
   ]
  },
  {
   "cell_type": "markdown",
   "id": "242ce38f",
   "metadata": {},
   "source": [
    "**[7]** SANTOS, L. H.; WANG, J. *Symmetry-protected many-body aharonov-bohm effect*. Phys. Rev. B, American Physical Society, v. **89**, p. 195122, May 2014. Disponível em: <https://link.aps.org/doi/10.1103/PhysRevB.89.195122>."
   ]
  },
  {
   "cell_type": "markdown",
   "id": "f3c1ce58",
   "metadata": {},
   "source": [
    "---"
   ]
  }
 ],
 "metadata": {
  "kernelspec": {
   "display_name": "Python 3 (ipykernel)",
   "language": "python",
   "name": "python3"
  },
  "language_info": {
   "codemirror_mode": {
    "name": "ipython",
    "version": 3
   },
   "file_extension": ".py",
   "mimetype": "text/x-python",
   "name": "python",
   "nbconvert_exporter": "python",
   "pygments_lexer": "ipython3",
   "version": "3.9.8"
  }
 },
 "nbformat": 4,
 "nbformat_minor": 5
}
