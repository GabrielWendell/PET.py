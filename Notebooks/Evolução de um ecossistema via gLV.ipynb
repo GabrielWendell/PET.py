{
 "cells": [
  {
   "cell_type": "markdown",
   "id": "c10fca9e",
   "metadata": {},
   "source": [
    "# Evolução de um ecossistema via modelo generalizado de Lotka-Volterra"
   ]
  },
  {
   "cell_type": "markdown",
   "id": "13aba9dc",
   "metadata": {},
   "source": [
    "- PET - Física\n",
    "- Ex-Petiano: Gabriel Wendell Celestino Rocha\n",
    "- Data: 23 de Junho de 2023"
   ]
  },
  {
   "cell_type": "markdown",
   "id": "cea44783",
   "metadata": {},
   "source": [
    "O objetivo deste `Notebook` é simular computacionalmente a evolução de um ecossistema utilizando o modelo generalizado de Lotka-Volterra (gLV) através dos métodos apresentados em May, R. **[8]** e Allesina, S., e Tang, S. **[15]**. O modelo generalizado de Lotka-Volterra visa apresentar um conjunto de equações matemáticas que generalizem a relação predador-presa em sistemas biológicos do tipo Lotka-Volterra."
   ]
  },
  {
   "cell_type": "markdown",
   "id": "9a3384b8",
   "metadata": {},
   "source": [
    "Para uma melhor organização deste `Notebook` como um todo, este foi dividido em **2** seções:"
   ]
  },
  {
   "cell_type": "markdown",
   "id": "9383fdc4",
   "metadata": {},
   "source": [
    "1. **Introdução teórica**\n",
    "2. **Modelos e Métodos.**"
   ]
  },
  {
   "cell_type": "markdown",
   "id": "9a304851",
   "metadata": {},
   "source": [
    "## Pré-requisitos"
   ]
  },
  {
   "cell_type": "markdown",
   "id": "bb839a8e",
   "metadata": {},
   "source": [
    "Este `Notebook` assume que o leitor esteja familiarizado com o formulação do modelo de Lotka-Volterra. Dessa forma, é recomendável que o leitor tenha ao menos estudado o Notebook [Explorando o modelo generalizado de Lotka-Volterra](https://github.com/GabrielWendell/PET.py/blob/main/Notebooks/Explorando%20o%20modelo%20generalizado%20de%20Lotka-Volterra.ipynb) **[1]** que é de vital importância para o que será estudado aqui, uma vez que aqui adotaremos uma metodolia \"direta ao ponto\". Diante disso, é de suma importância que o leitor tenha conhecimento ao menos intermediário do modelo generalizado de Lotka-Volterra. Além disso, recomenda-se fortemente que o leitor estude os artigos de May, R. **[8]** e Allesina, S., and Tang, S. **[15]** cujos modelos estão sendo explorados e implementados aqui. Além disso, o presente `Notebook` foi desenvolvido e escrito tendo em mente estudantes de graduação em Física ou Matemática que estejam desenvolvendo pesquisa (IC pelo menos) na área de Sistemas Dinâmicos aplicado em sistemas biológicos."
   ]
  },
  {
   "cell_type": "markdown",
   "id": "f944cac4",
   "metadata": {},
   "source": [
    "### Importando as bibliotecas"
   ]
  },
  {
   "cell_type": "code",
   "execution_count": 1,
   "id": "0b770bbf",
   "metadata": {},
   "outputs": [],
   "source": [
    "from mpl_toolkits.axes_grid1 import make_axes_locatable\n",
    "from numpy.random import default_rng\n",
    "import matplotlib.pyplot as plt\n",
    "import numpy as np\n",
    "\n",
    "%matplotlib inline\n",
    "\n",
    "def opt_plot():\n",
    "    # plt.style.use('dark_background')\n",
    "    plt.grid(True, linestyle = ':', color = '0.50')\n",
    "    plt.rcParams['font.family'] = 'monospace'\n",
    "    plt.rcParams['font.size'] = 15\n",
    "    plt.minorticks_on()\n",
    "    plt.tick_params(axis = 'both', which = 'minor', direction = \"in\",\n",
    "                        top = True, right = True, length = 5, width = 1, labelsize = 15)\n",
    "    plt.tick_params(axis = 'both', which = 'major', direction = \"in\",\n",
    "                        top = True, right = True, length = 8, width = 1, labelsize = 15)\n",
    "    \n",
    "import warnings\n",
    "warnings.filterwarnings('ignore')"
   ]
  },
  {
   "cell_type": "markdown",
   "id": "4de0e4de",
   "metadata": {},
   "source": [
    "#### Detalhes das bibliotecas:"
   ]
  },
  {
   "cell_type": "code",
   "execution_count": 2,
   "id": "b59bf7c1",
   "metadata": {},
   "outputs": [
    {
     "data": {
      "application/json": {
       "Software versions": [
        {
         "module": "Python",
         "version": "3.9.8 64bit [MSC v.1929 64 bit (AMD64)]"
        },
        {
         "module": "IPython",
         "version": "8.0.1"
        },
        {
         "module": "OS",
         "version": "Windows 10 10.0.19044"
        },
        {
         "module": "Matplotlib",
         "version": "3.6.0"
        },
        {
         "module": "Numpy",
         "version": "1.21.6"
        }
       ]
      },
      "text/html": [
       "<table><tr><th>Software</th><th>Version</th></tr><tr><td>Python</td><td>3.9.8 64bit [MSC v.1929 64 bit (AMD64)]</td></tr><tr><td>IPython</td><td>8.0.1</td></tr><tr><td>OS</td><td>Windows 10 10.0.19044</td></tr><tr><td>Matplotlib</td><td>3.6.0</td></tr><tr><td>Numpy</td><td>1.21.6</td></tr><tr><td colspan='2'>Fri Apr 21 19:22:30 2023 Hora Padrão de Buenos Aires</td></tr></table>"
      ],
      "text/latex": [
       "\\begin{tabular}{|l|l|}\\hline\n",
       "{\\bf Software} & {\\bf Version} \\\\ \\hline\\hline\n",
       "Python & 3.9.8 64bit [MSC v.1929 64 bit (AMD64)] \\\\ \\hline\n",
       "IPython & 8.0.1 \\\\ \\hline\n",
       "OS & Windows 10 10.0.19044 \\\\ \\hline\n",
       "Matplotlib & 3.6.0 \\\\ \\hline\n",
       "Numpy & 1.21.6 \\\\ \\hline\n",
       "\\hline \\multicolumn{2}{|l|}{Fri Apr 21 19:22:30 2023 Hora Padrão de Buenos Aires} \\\\ \\hline\n",
       "\\end{tabular}\n"
      ],
      "text/plain": [
       "Software versions\n",
       "Python 3.9.8 64bit [MSC v.1929 64 bit (AMD64)]\n",
       "IPython 8.0.1\n",
       "OS Windows 10 10.0.19044\n",
       "Matplotlib 3.6.0\n",
       "Numpy 1.21.6\n",
       "Fri Apr 21 19:22:30 2023 Hora Padrão de Buenos Aires"
      ]
     },
     "execution_count": 2,
     "metadata": {},
     "output_type": "execute_result"
    }
   ],
   "source": [
    "%load_ext version_information\n",
    "%version_information Matplotlib, Numpy"
   ]
  },
  {
   "cell_type": "markdown",
   "id": "2aa8d339",
   "metadata": {},
   "source": [
    "---"
   ]
  },
  {
   "cell_type": "markdown",
   "id": "663d7fad",
   "metadata": {},
   "source": [
    "## 1. Introdução teórica"
   ]
  },
  {
   "cell_type": "markdown",
   "id": "8243e3e6",
   "metadata": {},
   "source": [
    "Capturar e quantificar o comportamento de sistemas em evolução é um desafio único na Biologia-Matemática. No campo da dinâmica evolutiva, as populações constituídas por organismos são as menores unidades em evolução **[2]**. O processo evolutivo prossegue pela aquisição aleatória de novas mutações. Este mutante está então sujeito às forças da seleção natural e à deriva aleatória. Se a mutação for vantajosa para o organismo, então a seleção favorecerá seu estabelecimento, enquanto o oposto é verdadeiro para mutações desvantajosas. No entanto, nenhum resultado determinístico é garantido, pois fatores aleatórios podem eliminar o mutante."
   ]
  },
  {
   "cell_type": "markdown",
   "id": "95ea7ee4",
   "metadata": {},
   "source": [
    "### 1.1 Modelos para o processo evolutivo"
   ]
  },
  {
   "cell_type": "markdown",
   "id": "c3bb3c8a",
   "metadata": {},
   "source": [
    "Muitas abordagens formais bem-sucedidas dentro do campo enquadram a evolução de um único organismo como seleção natural agindo apenas na população mista do precursor do tipo selvagem e um novo mutante. O *processo de Moran* é uma dessas abordagens **[3]**. O processo é uma cadeia de Markov de tempo discreto na qual um único indivíduo mutante surge e compete com sua fonte ou população precursora. A cada intervalo de tempo, um indivíduo é escolhido para reprodução e um indivíduo é escolhido para morte, com probabilidades proporcionais ao tamanho relativo da população. É importante ressaltar que esse modelo pode prever analiticamente a probabilidade de que o mutante ultrapasse a população de origem inicial ou a probabilidade de fixação. Esta quantidade é particularmente importante, pois quantifica a taxa de evolução (para mais detalhes, consulte os artigos de Desai, Fisher $\\&$ Murray **[4]** e Kimura **[5]**). Para aptidão relativa do mutante $r$, a probabilidade de fixação $p$ é:"
   ]
  },
  {
   "cell_type": "markdown",
   "id": "25158a99",
   "metadata": {},
   "source": [
    "$$\n",
    "p=\\frac{1-\\frac{1}{r}}{1-\\frac{1}{r^{N}}}=\\frac{r-1}{r}\\cdot\\frac{r^{N}}{r^{N}-1}=\\left(r-1\\right)\\cdot\\frac{r^{N-1}}{\\left(r-1\\right)\\left(r^{N-1}+r^{N-2}+\\ldots+1\\right)}\\quad\\therefore\n",
    "$$"
   ]
  },
  {
   "cell_type": "markdown",
   "id": "7ea58188",
   "metadata": {},
   "source": [
    "$$\\tag{1.1}\n",
    "\\therefore\\quad\\boxed{p=r^{N-1}\\cdot\\left[\\sum_{k=1}^{N}r^{N-k}\\right]^{-1}}\n",
    "$$"
   ]
  },
  {
   "cell_type": "markdown",
   "id": "8a168214",
   "metadata": {},
   "source": [
    "$\\blacksquare$"
   ]
  },
  {
   "cell_type": "markdown",
   "id": "47f2abc8",
   "metadata": {},
   "source": [
    "Uma grande quantidade de trabalho foi feita para estender as ideias centrais do processo de Moran a qualquer estrutura populacional arbitrária por meio da teoria dos grafos evolutivos (consulte os artigos de Lieberman, Hauert $\\&$ Nowak 2005 **[6]** e Tkadlec, Pavlogiannis,  Chatterjee $\\&$ Nowak 2021 **[7]** para mais detalhes), na qual os organismos são representados por vértices e suas interações por arestas. Embora essas ferramentas sejam úteis para considerar um organismo no vácuo, as espécies naturais interagem com uma variedade de outros organismos em ecossistemas complexos (May, R. 1988 **[8]**). Como tal, é imperativo estender os modelos existentes para encapsular as interações de espécies reais para testar os efeitos na probabilidade de fixação, bem como para determinar se os mesmos princípios orientadores continuam a se aplicar ou devem ser revisados com a introdução da complexidade."
   ]
  },
  {
   "cell_type": "markdown",
   "id": "8527c84a",
   "metadata": {},
   "source": [
    "### 1.2 Interação entre espécies com o modelo Lotka-Volterra"
   ]
  },
  {
   "cell_type": "markdown",
   "id": "d8128762",
   "metadata": {},
   "source": [
    "O modelo Lotka-Volterra é um modelo de Equação Diferencial Ordinária (EDO) que é usado para descrever a dinâmica predador-presa em um ambiente isolado (as duas espécies são as únicas espécies presentes) e foi apresentado originalmente nos trabalhos de Lotka (1920) **[9]** e Volterra (1931) **[10]**. Tomando $x$ para ser a população da presa e $y$ para a população do predador, o modelo é tipicamente apresentado como:"
   ]
  },
  {
   "cell_type": "markdown",
   "id": "3ff9561f",
   "metadata": {},
   "source": [
    "$$\\tag{1.2}\n",
    "\\frac{\\text{d}x}{\\text{d}t}=\\alpha x-\\beta xy\\quad\\wedge\\quad\\frac{\\text{d}y}{\\text{d}y}=\\delta xy-\\gamma y\\quad.\n",
    "$$"
   ]
  },
  {
   "cell_type": "markdown",
   "id": "add2815c",
   "metadata": {},
   "source": [
    "O modelo pode ser generalizado para encapsular as interações de um total de espécies $S$ com uma matriz de interação $\\boldsymbol{A}$ que descreve o impacto que cada espécie tem sobre as outras espécies e um vetor $\\boldsymbol{r}$ de taxas de crescimento intrínsecas para cada espécie na ausência de outras espécies. Uma formulação comum das equações generalizadas é considerar $\\boldsymbol{x}(t)$ as densidades de cada uma das espécies. O modelo generalizado pode ser resumido como descrito em Allesina (2020) **[11]**:"
   ]
  },
  {
   "cell_type": "markdown",
   "id": "270ea0b1",
   "metadata": {},
   "source": [
    "$$\\tag{1.3}\n",
    "\\frac{\\text{d}\\boldsymbol{x}(t)}{\\text{d}t}=D\\left[\\boldsymbol{x}\\left(t\\right)\\right]\\left[\\boldsymbol{r}+\\boldsymbol{A}\\boldsymbol{x}\\left(t\\right)\\right]\\quad,\n",
    "$$"
   ]
  },
  {
   "cell_type": "markdown",
   "id": "2033cfd1",
   "metadata": {},
   "source": [
    "onde $D$ representa a diagonal da matriz de interação $\\boldsymbol{A}$."
   ]
  },
  {
   "cell_type": "markdown",
   "id": "fddfdecc",
   "metadata": {},
   "source": [
    "Embora o modelo generalizado de Lotka-Volterra (gLV, do inglês *generalized Lotka-Volterra*) possa capturar adequadamente uma ampla variedade de dinâmicas para muitas espécies que interagem (consulte os artigos de Hirsch 1982 **[12]** e Smale 1976 **[13]**), o modelo assume inerentemente que a matriz de interação é estática e, portanto, que as populações não evoluem. Embora essa suposição simplificadora possa ser útil para estudar populações no presente, os mutantes podem surgir e alterar o estado de um ecossistema com interações apenas ligeiramente perturbadas em comparação com sua fonte de tipo selvagem. Ao reunir as duas ideias-chave nesses modelos separados, propomos um modelo que captura a evolução como o processo Moran e considera as interações entre todas as espécies dentro do ambiente por meio do modelo gLV."
   ]
  },
  {
   "cell_type": "markdown",
   "id": "a345b15d",
   "metadata": {},
   "source": [
    "---"
   ]
  },
  {
   "cell_type": "markdown",
   "id": "9837ea19",
   "metadata": {},
   "source": [
    "## 2. Modelos e Métodos"
   ]
  },
  {
   "cell_type": "markdown",
   "id": "7803e928",
   "metadata": {},
   "source": [
    "### 2.1 Modelo de Lotka-Volterra generalizado estocástico com evolução"
   ]
  },
  {
   "cell_type": "markdown",
   "id": "74bf1334",
   "metadata": {},
   "source": [
    "Vamos abordar o modelo gLV sob uma estrutura estocástica, modelando ecossistemas como um processo Moran multi-espécies, população fixa e tempo contínuo. Este processo particular é um subconjunto de cadeias de Markov de tempo contínuo (CTMCs, do inglês *Continuous-Time Markov Chains*) chamado processo de nascimento-morte para cada espécie individual, em que um indivíduo de uma única espécie é escolhido para replicar proporcionalmente à taxa de natalidade ajustada por espécies em interação e outro indivíduo de uma espécie espécies diferentes – para manter este sistema como um CTMC – é escolhido para perecer proporcionalmente à taxa de mortalidade ajustada por espécies em interação. As taxas intrínsecas de nascimento e morte de cada espécie são moduladas de acordo com uma matriz de interação, ou matriz de comunidade ecológica. Os efeitos positivos de uma espécie para outra aumentam a taxa de natalidade de uma espécie, enquanto os efeitos negativos aumentam a taxa de mortalidade de uma espécie."
   ]
  },
  {
   "cell_type": "markdown",
   "id": "c9186b82",
   "metadata": {},
   "source": [
    "Para considerar a evolução como em um processo clássico de Moran, um mutante de uma única espécie de interesse é introduzido no ecossistema no tempo $t=0$. A taxa intrínseca de nascimento e morte e os parâmetros de interação interespécies são gerados perturbando os parâmetros relevantes do ambiente selvagem. tipo como descrito abaixo. Em suma, pretendemos criar uma cópia altamente correlacionada, mas ruidosa, da espécie selvagem, capturando um mutante realista. Definindo aptidão como a diferença entre as taxas de nascimento e morte, podemos comparar a aptidão relativa do tipo selvagem e das espécies mutantes de interesse e usar os resultados analíticos do processo de Moran para derivar uma probabilidade de fixação teórica para o mutante na ausência de interação espécies. Em seguida, simulamos o modelo gLV muitas vezes, conforme descrito abaixo, até que as espécies selvagens ou mutantes de interesse sejam fixadas e, em seguida, estimamos a probabilidade de fixação do mutante a partir dessas trajetórias."
   ]
  },
  {
   "cell_type": "markdown",
   "id": "f9e8212f",
   "metadata": {},
   "source": [
    "### 2.2 Gerando parâmetros de taxa de natalidade e mortalidade"
   ]
  },
  {
   "cell_type": "markdown",
   "id": "95605c33",
   "metadata": {},
   "source": [
    "Cada espécie no modelo tem uma taxa intrínseca de nascimento e morte, ambas extraídas independentemente de uma distribuição Semi-normal com variância unitária; ou seja, a taxa de natalidade $b$ e a taxa de mortalidade $d$ são amostradas da seguinte forma:"
   ]
  },
  {
   "cell_type": "markdown",
   "id": "3f3fa24c",
   "metadata": {},
   "source": [
    "$$\\tag{2.1}\n",
    "\\left(b,d\\right)\\propto\\big(\\left|Z_{1}\\right|,\\left|Z_{2}\\right|\\big)\\text{ ,}\\quad\\text{onde}: \\quad Z_{1},Z_{2}\\stackrel{\\text{i.i.d}}{\\propto}\\mathcal{N}\\left(0,1\\right)\\quad.\n",
    "$$"
   ]
  },
  {
   "cell_type": "markdown",
   "id": "3b9c32fe",
   "metadata": {},
   "source": [
    "Para codificar esse modelo definimos uma função que gera as taxas de nascimento $b$ e morte $d$, que por sua vez são indistinguíveis e identicamente distribuídas, segundo a distribuição apresentada em $(2.1)$:"
   ]
  },
  {
   "cell_type": "markdown",
   "id": "00fab2cb",
   "metadata": {},
   "source": [
    "Para gerar as taxas de nascimento e morte do mutante, duas perturbações independentes são extraídas de uma distribuição uniforme em $[-0.1, 0.1]$, produzindo taxas de nascimento e morte altamente correlacionadas, mas ligeiramente alteradas, para as espécies selvagens e mutantes de interesse. Com base na distribuição meia-normal inicial, aproximadamente $95\\%$ dos sorteios caem abaixo de $2$, portanto, consideramos o intervalo escolhido considerável e razoável para perturbação. Para contabilizar possíveis taxas de nascimento e morte perturbadas menores que $0$, usamos o máximo do valor perturbado e $0$, então $b_{\\text{mutante}}=\\max{\\{0, b_{\\text{tipo-selvagem}}\\}}$ e $d_{\\text{mutante}}=\\max{\\{0, d_{\\text{tipo-selvagem}}\\}}$."
   ]
  },
  {
   "cell_type": "markdown",
   "id": "fb2294c4",
   "metadata": {},
   "source": [
    "$$\\diamond\\qquad\\diamond\\qquad\\diamond\\qquad\\diamond\\qquad\\diamond\\qquad\\diamond\\qquad\\diamond\\qquad\\diamond\\qquad\\diamond\\qquad\\diamond\\qquad\\diamond\\qquad\\diamond\\qquad\\diamond\\qquad\\diamond\\qquad\\diamond\\qquad\\diamond\\qquad\\diamond\\qquad\\diamond\\qquad\\diamond$$"
   ]
  },
  {
   "cell_type": "markdown",
   "id": "2f6ea43d",
   "metadata": {},
   "source": [
    "- **Taxas de natalidade e mortalidade**"
   ]
  },
  {
   "cell_type": "code",
   "execution_count": 3,
   "id": "5118fe81",
   "metadata": {},
   "outputs": [],
   "source": [
    "def generate_birth_death_rates(\n",
    "        S: int, \n",
    "        seed: int\n",
    "    ): \n",
    "    '''\n",
    "    Gere um par de taxas positivas de nascimento e morte para cada espécie\n",
    "    \n",
    "    Parâmetros: \n",
    "    -----------\n",
    "    - int S: número total de espécies; o número de nascimentos e taxas de mortalidade para gerar\n",
    "    - int seed: inteiro de semente aleatória\n",
    "    \n",
    "    Retorna: \n",
    "    --------\n",
    "    - np.array: matriz de taxas de nascimento (coluna 1) e morte (coluna 2) para cada espécie \n",
    "    (shape: (S, 2))\n",
    "    '''\n",
    "\n",
    "    # Define um objeto rng\n",
    "    rng = default_rng(seed)\n",
    "\n",
    "    return np.abs(rng.normal(loc = 0, scale = 1, size = (S, 2)))"
   ]
  },
  {
   "cell_type": "markdown",
   "id": "429b1e98",
   "metadata": {},
   "source": [
    "- **Taxa de natalidade e mortalidade para os mutantes**"
   ]
  },
  {
   "cell_type": "code",
   "execution_count": 4,
   "id": "8a67e39d",
   "metadata": {},
   "outputs": [],
   "source": [
    "def mutant_birth_death_rate(\n",
    "        birth_death: np.array, \n",
    "        seed: int\n",
    "    ): \n",
    "    '''\n",
    "    Perturbe as taxas de natalidade e mortalidade dadas a partir de sorteios de uma \n",
    "    distribuição uniforme no intervalo [-0,1, 0,1]\n",
    "    \n",
    "    Parâmetros: \n",
    "    -----------\n",
    "    - np.array birth_death: taxas de nascimento e morte das espécies de interesse; \n",
    "    taxas de natalidade e mortalidade serão perturbadas \n",
    "    - int seed: inteiro de semente aleatória\n",
    "    \n",
    "    Retorna: \n",
    "    --------\n",
    "    - np.array: matriz de taxas perturbadas de nascimento e morte para as \n",
    "    espécies mutantes de interesse (shape: (1, 2))\n",
    "    '''\n",
    "\n",
    "    # Define a rng object\n",
    "    rng = default_rng(seed)\n",
    "\n",
    "    return birth_death + rng.uniform(low = -0.1, high = 0.1, size = (1,2))"
   ]
  },
  {
   "cell_type": "markdown",
   "id": "d580e64f",
   "metadata": {},
   "source": [
    "- **Gráfico das taxas de natalidade e mortalidade**"
   ]
  },
  {
   "cell_type": "code",
   "execution_count": 5,
   "id": "d5f1a26e",
   "metadata": {},
   "outputs": [],
   "source": [
    "def plot_birth_death_rates(\n",
    "        birth_rates: np.array, \n",
    "        death_rates: np.array\n",
    "    ): \n",
    "    '''\n",
    "    Traça as taxas de nascimento e morte para todas as espécies e espécies \n",
    "    mutantes de interesse\n",
    "    \n",
    "    Parâmetros: \n",
    "    -----------\n",
    "    np.array birth_rates - taxas de natalidade de cada uma das espécies\n",
    "    np.array death_rates - taxas de mortalidade de cada uma das espécies \n",
    "    \n",
    "    Retorna: \n",
    "    --------\n",
    "    None\n",
    "    '''\n",
    "\n",
    "    fig, ax = plt.subplots(nrows = 1, ncols = 1, figsize = (10,5))\n",
    "\n",
    "    ax.plot(np.arange(birth_rates.shape[0]), birth_rates, '^-', color = 'blue', label = \"Taxas de natalidade\")\n",
    "    ax.plot(np.arange(death_rates.shape[0]), death_rates, 'o-', color = 'red', label = \"Taxas de mortalidade\")\n",
    "\n",
    "    tick_labels = np.array(\n",
    "        [\n",
    "            f\"S{i+1}\" if i != birth_rates.shape[0] - 1 else f\"S{i}*\" \\\n",
    "            for i in np.arange(birth_rates.shape[0])\n",
    "        ])\n",
    "\n",
    "    ax.set_title(\"Taxa de Nascimento/Morte de Espécies\", fontsize = 15)\n",
    "    ax.set_xlabel(\"Espécies\", fontsize = 15)\n",
    "    ax.set_ylabel(\"Taxa de Nascimento/Morte\", fontsize = 15)\n",
    "    ax.set_xticks(np.arange(birth_rates.shape[0]))\n",
    "    rate_max = np.max(np.hstack([birth_rates, death_rates]))\n",
    "    ax.set_yticks(np.arange(0, (rate_max // 0.2 + 1) * 0.2 + 0.1, 0.2))\n",
    "    ax.set_xticklabels(tick_labels, fontsize = 20, rotation = \"vertical\")\n",
    "    ax.set_yticklabels(np.round(ax.get_yticks(), 2), fontsize = 20)\n",
    "\n",
    "    ax.legend(loc = 'best')\n",
    "    opt_plot()\n",
    "    plt.show()"
   ]
  },
  {
   "cell_type": "markdown",
   "id": "88369f29",
   "metadata": {},
   "source": [
    "$$\\diamond\\qquad\\diamond\\qquad\\diamond\\qquad\\diamond\\qquad\\diamond\\qquad\\diamond\\qquad\\diamond\\qquad\\diamond\\qquad\\diamond\\qquad\\diamond\\qquad\\diamond\\qquad\\diamond\\qquad\\diamond\\qquad\\diamond\\qquad\\diamond\\qquad\\diamond\\qquad\\diamond\\qquad\\diamond\\qquad\\diamond$$"
   ]
  },
  {
   "cell_type": "markdown",
   "id": "710f7030",
   "metadata": {},
   "source": [
    "-  Gráfico de exemplo das taxas de nascimento e mortalidade de espécies de tipo selvagem, mutantes e periféricas:"
   ]
  },
  {
   "cell_type": "code",
   "execution_count": 6,
   "id": "cfa90176",
   "metadata": {},
   "outputs": [
    {
     "data": {
      "image/png": "[encoded data removed]",
      "text/plain": [
       "<Figure size 1000x500 with 1 Axes>"
      ]
     },
     "metadata": {},
     "output_type": "display_data"
    }
   ],
   "source": [
    "seed = 9411\n",
    "S = 2\n",
    "\n",
    "\n",
    "birth_death_rates = generate_birth_death_rates(S = S, seed = seed)\n",
    "mutant_birth_death = mutant_birth_death_rate(birth_death = birth_death_rates[-1, :], seed = seed)\n",
    "birth_death_rates = np.vstack([birth_death_rates, mutant_birth_death])\n",
    "\n",
    "\n",
    "plot_birth_death_rates(\n",
    "    birth_rates = birth_death_rates[:,0], \n",
    "    death_rates = birth_death_rates[:,1])"
   ]
  },
  {
   "cell_type": "markdown",
   "id": "cf20fed1",
   "metadata": {},
   "source": [
    "### 2.3 Gerando parâmetros de interação entre espécies"
   ]
  },
  {
   "cell_type": "markdown",
   "id": "70bd93a0",
   "metadata": {},
   "source": [
    "Geramos os parâmetros da matriz de interação entre espécies usando dois métodos com seu próprio conjunto de suposições. O primeiro método desenvolvido por May (1972) **[14]** assume que todas as interações interespécies são independentes umas das outras. Isso implica que o efeito da espécie $A$ na espécie $B$ é independente do efeito da espécie $B$ na espécie $A$, assim como o efeito da espécie $A$ na espécie $B$ é independente do efeito da espécie $C$ na espécie $D$. Devido à estrutura de independência , a matriz de interação não é necessariamente simétrica. Cada um dos parâmetros de interação é extraído de uma distribuição Normal padrão, para a qual existem parâmetros $S(S − 1)$."
   ]
  },
  {
   "cell_type": "markdown",
   "id": "5d2e14de",
   "metadata": {},
   "source": [
    "O segundo método desenvolvido por Allesina $\\&$ Tang (2012) assume que existe uma dependência entre o efeito da espécie $A$ na espécie $B$ e da espécie $B$ na espécie $A$ **[15]**. Por exemplo, espécies concorrentes podem afetar negativamente a aptidão relativa uma da outra. Assim, as interações para um par de espécies são amostradas a partir de um vetor de média de distribuição normal bivariada $m$ e matriz de covariância $\\Sigma$ como:"
   ]
  },
  {
   "cell_type": "markdown",
   "id": "b0a7396f",
   "metadata": {},
   "source": [
    "$$\\tag{2.2}\n",
    "m=\\left(\\begin{array}{c}\n",
    "0\\\\\n",
    "0\n",
    "\\end{array}\\right)\\quad\\wedge\\quad\\Sigma=\\left(\\begin{array}{cc}\n",
    "1 & \\rho\\\\\n",
    "\\rho & 1\n",
    "\\end{array}\\right)\\text{ }.\n",
    "$$"
   ]
  },
  {
   "cell_type": "markdown",
   "id": "d533ce80",
   "metadata": {},
   "source": [
    "O coeficiente de correlação $\\rho$ determina a dependência da interação. Devido a esta estrutura, a matriz de interação deve ser simétrica. Em ambos os casos, as interações interespécies do mutante são determinadas perturbando os parâmetros de interação do tipo selvagem por extrações independentes de uma distribuição Uniforme em $[-0.1, 0.1]$."
   ]
  },
  {
   "cell_type": "markdown",
   "id": "ea6fcbb3",
   "metadata": {},
   "source": [
    "### 2.4 Simulando o Lotka-Volterra generalizado estocástico com evolução"
   ]
  },
  {
   "cell_type": "markdown",
   "id": "b792817a",
   "metadata": {},
   "source": [
    "Vamos simular o modelo gLV descrito usando um algoritmo inspirado no algoritmo de Gillespie, descrito em seus artigos de 1976 **[16]** e 1977 **[17]**. Resumidamente, depois de gerar taxa de nascimento e morte aleatória e parâmetros de interação interespécies para todas as espécies e a população mutante, ajustamos as taxas de nascimento e morte pelas interações interespécies. As taxas de natalidade são aumentadas por interações interespécies positivas, enquanto as taxas de mortalidade são aumentadas por interações interespécies negativas. Então, uma espécie dá à luz um único novo descendente, com probabilidade proporcional à taxa de natalidade ajustada e ao número total de indivíduos naquela população de acordo com o $\\text{CTMC}$ subjacente. Em seguida, um indivíduo de uma espécie diferente da primeira espécie morre, com probabilidade proporcional à taxa de mortalidade ajustada e ao número total de indivíduos daquela população."
   ]
  },
  {
   "cell_type": "markdown",
   "id": "5fe6fe71",
   "metadata": {},
   "source": [
    "Para cada uma dessas transições, os tempos de espera são extraídos das distribuições exponenciais correspondentes com parâmetros de taxa proporcionais à taxa de nascimento ou mortalidade e ao número de indivíduos que fazem parte dessas populações. Esse processo é repetido até que as espécies selvagens ou mutantes de interesse sejam corrigidas, portanto, uma dessas espécies deve ser extinta para que uma única simulação seja concluída. Sementes aleatórias foram retiradas de $0-32767$ para garantir a reprodutibilidade dos resultados."
   ]
  },
  {
   "cell_type": "markdown",
   "id": "295f1f2c",
   "metadata": {},
   "source": [
    "$$\\diamond\\qquad\\diamond\\qquad\\diamond\\qquad\\diamond\\qquad\\diamond\\qquad\\diamond\\qquad\\diamond\\qquad\\diamond\\qquad\\diamond\\qquad\\diamond\\qquad\\diamond\\qquad\\diamond\\qquad\\diamond\\qquad\\diamond\\qquad\\diamond\\qquad\\diamond\\qquad\\diamond\\qquad\\diamond\\qquad\\diamond$$"
   ]
  },
  {
   "cell_type": "markdown",
   "id": "045e27d9",
   "metadata": {},
   "source": [
    "- **Matriz de interação inicial**"
   ]
  },
  {
   "cell_type": "code",
   "execution_count": 7,
   "id": "49dcfce2",
   "metadata": {},
   "outputs": [],
   "source": [
    "def pre_interaction_matrix(\n",
    "        S: int, \n",
    "        seed: int, \n",
    "        method = \"May\", \n",
    "        rho = None, \n",
    "        tol = None\n",
    "    ): \n",
    "    '''\n",
    "    Gera uma matriz de interação para as relações entre as espécies usando\n",
    "    o método descrito por May ou Allesina-Tang.\n",
    "    \n",
    "    Parâmetros: \n",
    "    -----------\n",
    "    - int S: número total de espécies; irá gerar um total de S(S-1) parâmetros de interação\n",
    "    - int seed: inteiro de semente aleatória\n",
    "    - string method: o método para gerar a matriz de interação: as duas \n",
    "    opções são (1) \"May\" ou (2) \"Allesina-Tang\"\n",
    "    - float rho: coeficiente de correlação entre variáveis aleatórias normais bivariadas\n",
    "    \n",
    "    Retorna: \n",
    "    --------\n",
    "    - np.array: matriz de interação descrevendo a relação entre \n",
    "    as espécies S (shape: (S, S), elementos diagonais são definidos como 0)\n",
    "    '''\n",
    "\n",
    "    # Defina um objeto rng\n",
    "    rng = default_rng(seed)\n",
    "\n",
    "    interaction_matrix = np.zeros((S, S))\n",
    "\n",
    "    # Usando o método descrito por May\n",
    "    if (method == \"May\"): \n",
    "\n",
    "        # Gere a matriz de interação com todas as entradas preenchidas\n",
    "        interaction_matrix = rng.normal(loc = 0, scale = 1, size = (S, S))\n",
    "    \n",
    "    # Usando o método descrito por Allesina-Tang\n",
    "    elif (method == \"Allesina-Tang\"): \n",
    "\n",
    "        if (rho == None): \n",
    "            raise ValueError\n",
    "\n",
    "        # Gere dados emparelhados de uma distribuição normal bivariada\n",
    "        pairs = rng.multivariate_normal(mean = np.array([0, 0]), \n",
    "                                        cov = np.array([1, rho, rho, 1]).reshape(2, 2),\n",
    "                                        size = S * (S - 1) // 2)\n",
    "\n",
    "        # Coloque os dados emparelhados na matriz\n",
    "        interaction_matrix = np.zeros((S, S))\n",
    "        interaction_matrix[np.triu_indices(S, 1)] = pairs[:,0]\n",
    "        interaction_matrix[np.tril_indices(S, -1)] = pairs[:,1]\n",
    "\n",
    "    return interaction_matrix"
   ]
  },
  {
   "cell_type": "markdown",
   "id": "1ccd22a7",
   "metadata": {},
   "source": [
    "- **Matriz de interação para os mutantes** "
   ]
  },
  {
   "cell_type": "code",
   "execution_count": 8,
   "id": "ab4ad423",
   "metadata": {},
   "outputs": [],
   "source": [
    "def mutant_interaction_matrix(\n",
    "        interaction_row: np.array, \n",
    "        interaction_col: np.array, \n",
    "        seed: int\n",
    "    ): \n",
    "    '''\n",
    "    Perturba a linha e a coluna da matriz de interação fornecida a partir de sorteios de \n",
    "    uma distribuição uniforme no intervalo [-0,1, 0,1]\n",
    "    \n",
    "    Parâmetros: \n",
    "    -----------\n",
    "    - np.array interaction_row: linha da matriz de interação para as espécies de interesse; \n",
    "    linha da matriz de interação a ser perturbada\n",
    "    - np.array interaction_col: coluna da matriz de interação para as espécies de interesse; \n",
    "    coluna da matriz de interação a ser perturbada\n",
    "    - int seed: inteiro de semente aleatória\n",
    "    \n",
    "    Retorna: \n",
    "    --------\n",
    "    - np.array (1): array de informações da coluna de interação perturbada (shape: (n-1,))\n",
    "    - np.array (2): array de informações de linha de interação perturbada (shape: (n,))\n",
    "    '''\n",
    "\n",
    "    # Define um objeto rng\n",
    "    rng = default_rng(seed)\n",
    "\n",
    "    # Perturbe a coluna de interação primeiro, descartando o último termo (0)\n",
    "    interaction_col = interaction_col + \\\n",
    "                      rng.uniform(low = -0.1, high = 0.1, \n",
    "                      size = (interaction_col.shape[0]))\n",
    "\n",
    "    # Perturbando a linha de interação\n",
    "    interaction_row = interaction_row + \\\n",
    "                      rng.uniform(low = -0.1, high = 0.1, \n",
    "                      size = (interaction_row.shape[0]))\n",
    "    interaction_row = np.hstack([interaction_row, [0]])\n",
    "\n",
    "    return interaction_row, interaction_col"
   ]
  },
  {
   "cell_type": "markdown",
   "id": "27e36218",
   "metadata": {},
   "source": [
    "- **Geração da matriz de interação**"
   ]
  },
  {
   "cell_type": "code",
   "execution_count": 9,
   "id": "1ca0e429",
   "metadata": {},
   "outputs": [],
   "source": [
    "def generate_interaction_matrix(\n",
    "        S: int, \n",
    "        seed: int, \n",
    "        method = \"May\", \n",
    "        rho = None\n",
    "    ): \n",
    "    '''\n",
    "    Gera uma matriz de interação para as relações entre todas as espécies e o \n",
    "    mutante da espécie de interesse usando o método descrito por May ou Allesina-Tang\n",
    "    \n",
    "    Parâmetros: \n",
    "    -----------\n",
    "    - int S: número total de espécies; irá gerar um total de S(S+1) parâmetros de interação\n",
    "    - int seed: inteiro de semente aleatória\n",
    "    - string method: o método para gerar a matriz de interação: \n",
    "    as duas opções são (1) \"May\" ou (2) \"Allesina-Tang\"\n",
    "    - float rho: coeficiente de correlação entre variáveis aleatórias normais bivariadas\n",
    "    \n",
    "    Retorna: \n",
    "    --------\n",
    "    - np.array: matriz de interação que descreve a relação entre as espécies S \n",
    "    (shape: (S+1, S+1), os elementos diagonais são definidos como 0)\n",
    "    '''\n",
    "\n",
    "    interaction_matrix = None\n",
    "\n",
    "    # Gere a matriz de interação sem o mutante\n",
    "    interaction_matrix = pre_interaction_matrix(\n",
    "                            S, \n",
    "                            method = method, \n",
    "                            seed = seed, \n",
    "                            rho = rho\n",
    "                            )\n",
    "\n",
    "    # Perturbe a espécie de interesse (a última espécie)\n",
    "    interaction_row, interaction_col = mutant_interaction_matrix(\n",
    "                                        interaction_matrix[-1,:],\n",
    "                                        interaction_matrix[:,-1], \n",
    "                                        seed = seed\n",
    "                                        )\n",
    "\n",
    "    # Empilhe as interações perturbadas na matriz de interação\n",
    "    interaction_matrix = np.vstack([np.hstack([interaction_matrix, \n",
    "                                            interaction_col[:,None]]), \n",
    "                                    interaction_row[None,:]])\n",
    "\n",
    "    return interaction_matrix"
   ]
  },
  {
   "cell_type": "markdown",
   "id": "68eea0dc",
   "metadata": {},
   "source": [
    "- **Gráfico da matriz de interação**"
   ]
  },
  {
   "cell_type": "code",
   "execution_count": 10,
   "id": "35afaa04",
   "metadata": {},
   "outputs": [],
   "source": [
    "def plot_interaction_matrix(\n",
    "        interaction_matrix: np.array, \n",
    "        cmap = \"bwr\"\n",
    "    ): \n",
    "    '''\n",
    "    Plota a matriz de interação para todas as espécies e as espécies mutantes de interesse, rotulando a matriz como tal\n",
    "    O mutante é marcado com um asterisco (*)\n",
    "    \n",
    "    Parâmetros: \n",
    "    -----------\n",
    "    - np.array interaction_matrix: matriz de interação descrevendo as relações \n",
    "    entre todas as espécies e as espécies mutantes de interesse\n",
    "    - str cmap: matplotlib cmap a ser usado para plotagem; o padrão é bwr\n",
    "    \n",
    "    Retorna: \n",
    "    --------\n",
    "    None\n",
    "    '''\n",
    "\n",
    "    fig, ax = plt.subplots(nrows = 1, ncols = 1, figsize = (5,5))\n",
    "    \n",
    "    mat = ax.matshow(\n",
    "        interaction_matrix, \n",
    "        cmap = cmap, \n",
    "        vmin = -1.25, \n",
    "        vmax = 1.25\n",
    "    )\n",
    " \n",
    "    tick_labels = np.array(\n",
    "        [\n",
    "            f\"S{i+1}\" if i != interaction_matrix.shape[0] - 1 else f\"S{i}*\" \\\n",
    "            for i in np.arange(interaction_matrix.shape[0])\n",
    "        ]\n",
    "    )\n",
    "\n",
    "    ax.set_title(\"Matriz de Interação de Espécies\", fontsize = 15)\n",
    "    ax.set_xlabel(\"Espécies\", fontsize = 15)\n",
    "    ax.set_ylabel(\"Espécies\", fontsize = 15)\n",
    "    ax.set_xticks(np.arange(interaction_matrix.shape[0]))\n",
    "    ax.set_yticks(np.arange(interaction_matrix.shape[0]))\n",
    "    ax.set_xticklabels(tick_labels, fontsize = 15, rotation = \"vertical\")\n",
    "    ax.set_yticklabels(tick_labels, fontsize = 15)\n",
    "    ax.xaxis.set_ticks_position('bottom')\n",
    "\n",
    "    divider = make_axes_locatable(ax)\n",
    "    cax = divider.append_axes(\"right\", size = \"5%\", pad = 0.3)\n",
    "    cbar = plt.colorbar(mat, cax = cax)\n",
    "    cbar.ax.tick_params(labelsize = 10)\n",
    "\n",
    "    opt_plot()\n",
    "    plt.show()"
   ]
  },
  {
   "cell_type": "markdown",
   "id": "cd82e7b3",
   "metadata": {},
   "source": [
    "$$\\diamond\\qquad\\diamond\\qquad\\diamond\\qquad\\diamond\\qquad\\diamond\\qquad\\diamond\\qquad\\diamond\\qquad\\diamond\\qquad\\diamond\\qquad\\diamond\\qquad\\diamond\\qquad\\diamond\\qquad\\diamond\\qquad\\diamond\\qquad\\diamond\\qquad\\diamond\\qquad\\diamond\\qquad\\diamond\\qquad\\diamond$$"
   ]
  },
  {
   "cell_type": "markdown",
   "id": "3b529c1f",
   "metadata": {},
   "source": [
    "- Gráfico de exemplo da matriz de interação para $S=2$ espécies usando o método de May:"
   ]
  },
  {
   "cell_type": "code",
   "execution_count": 11,
   "id": "3a7a075b",
   "metadata": {},
   "outputs": [
    {
     "data": {
      "image/png": "[encoded data removed]",
      "text/plain": [
       "<Figure size 500x500 with 2 Axes>"
      ]
     },
     "metadata": {},
     "output_type": "display_data"
    }
   ],
   "source": [
    "seed = 30302\n",
    "S = 2\n",
    "interaction_matrix = generate_interaction_matrix(S = S, \n",
    "                                                 method = \"May\", \n",
    "                                                 rho = 0.5, \n",
    "                                                 seed = seed)\n",
    "\n",
    "plot_interaction_matrix(interaction_matrix)"
   ]
  },
  {
   "cell_type": "markdown",
   "id": "24229a9c",
   "metadata": {},
   "source": [
    "- Gráfico de exemplo da matriz de interação para $S=10$ espécies usando o método Allesina-Tang:"
   ]
  },
  {
   "cell_type": "code",
   "execution_count": 12,
   "id": "67e7b4da",
   "metadata": {},
   "outputs": [
    {
     "data": {
      "image/png": "[encoded data removed]",
      "text/plain": [
       "<Figure size 500x500 with 2 Axes>"
      ]
     },
     "metadata": {},
     "output_type": "display_data"
    }
   ],
   "source": [
    "seed = 27386\n",
    "S = 10\n",
    "\n",
    "interaction_matrix = generate_interaction_matrix(S = S, \n",
    "                                                 method = \"Allesina-Tang\", \n",
    "                                                 rho = 0.5, \n",
    "                                                 seed = seed)\n",
    "\n",
    "plot_interaction_matrix(interaction_matrix)"
   ]
  },
  {
   "cell_type": "markdown",
   "id": "32da614a",
   "metadata": {},
   "source": [
    "---"
   ]
  },
  {
   "cell_type": "markdown",
   "id": "75da0e3f",
   "metadata": {},
   "source": [
    "## Referências"
   ]
  },
  {
   "cell_type": "markdown",
   "id": "e0e9a1af",
   "metadata": {},
   "source": [
    "- **[1]** *Explorando o modelo generalizado de Lotka-Volterra*: https://github.com/GabrielWendell/PET.py/blob/main/Notebooks/Explorando%20o%20modelo%20generalizado%20de%20Lotka-Volterra.ipynb"
   ]
  },
  {
   "cell_type": "markdown",
   "id": "082d243c",
   "metadata": {},
   "source": [
    "- **[2]** Nowak, M. A. *Evolutionary dynamics: exploring the equations of life*. Belknap Press of Harvard University Press, Cambridge, Mass., 2006. DOI: [https://doi.org/10.2307/j.ctvjghw98](https://doi.org/10.2307/j.ctvjghw98)"
   ]
  },
  {
   "cell_type": "markdown",
   "id": "837ec392",
   "metadata": {},
   "source": [
    "- **[3]** Moran, P. A. P. *Random processes in genetics*. Mathematical proceedings of the Cambridge Philosophical Society 54, **1** (1958), 60–71. DOI: [10.1017/S0305004100033193](https://www.cambridge.org/core/journals/mathematical-proceedings-of-the-cambridge-philosophical-society/article/abs/random-processes-in-genetics/9EEED52D6AE22A026036F32D9B1CA07C)"
   ]
  },
  {
   "cell_type": "markdown",
   "id": "2bf33b35",
   "metadata": {},
   "source": [
    "- **[4]** Desai, M. M., Fisher, D. S., and Murray, A. W. *The speed of evolution and maintenance of variation in asexual populations*. Current biology 17, **5** (2007), 385–394. DOI: [10.1016/j.cub.2007.01.072](https://pubmed.ncbi.nlm.nih.gov/17331728/)"
   ]
  },
  {
   "cell_type": "markdown",
   "id": "15e19fab",
   "metadata": {},
   "source": [
    "- **[5]** KIMURA, M. *Evolutionary rate at the molecular level*. Nature (London) 217, **5129** (1968), 624–626. DOI: [10.1038/217624a0](https://www.nature.com/articles/217624a0)"
   ]
  },
  {
   "cell_type": "markdown",
   "id": "ec72d62a",
   "metadata": {},
   "source": [
    "- **[6]** Lieberman, E., Hauert, C., and Nowak, M. A. *Evolutionary dynamics on graphs*. Nature 433, **7023** (2005), 312–316. DOI: [10.1038/nature03204](https://www.nature.com/articles/nature03204)"
   ]
  },
  {
   "cell_type": "markdown",
   "id": "a733f7aa",
   "metadata": {},
   "source": [
    "- **[7]** Tkadlec, J., Pavlogiannis, A., Chatterjee, K., and Nowak, M. A. *Fast and strong amplifiers of natural selection. Nature communications* 12, **1** (2021), 4009–4009. DOI: [10.1038/s41467-021-24271-w](https://www.nature.com/articles/s41467-021-24271-w)."
   ]
  },
  {
   "cell_type": "markdown",
   "id": "fe7a9d4f",
   "metadata": {},
   "source": [
    "- **[8]** MAY, R. *How many species are there on earth?* Science (American Association for the Advancement of Science) 241, **4872** (1988), 1441–1449. DOI: [10.1126/science.241.4872.1441](https://www.science.org/doi/10.1126/science.241.4872.1441)."
   ]
  },
  {
   "cell_type": "markdown",
   "id": "6b7555ef",
   "metadata": {},
   "source": [
    "- **[9]** Lotka, A. J. *Analytical note on certain rhythmic relations in organic systems*. Proceedings of the National Academy of Sciences 6, **7** (1920), 410–415. DOI: [10.1073/pnas.6.7.410](https://www.pnas.org/doi/10.1073/pnas.6.7.410)"
   ]
  },
  {
   "cell_type": "markdown",
   "id": "56d8f5e1",
   "metadata": {},
   "source": [
    "- **[10]** Volterra, V. *Leçons sur la theorie mathematique de la lutte pour la vie*. Gauthier-Villars, Paris, 1931. DOI: [https://gallica.bnf.fr/ark:/12148/bpt6k29088s.image](https://gallica.bnf.fr/ark:/12148/bpt6k29088s.image)"
   ]
  },
  {
   "cell_type": "markdown",
   "id": "2bebd921",
   "metadata": {},
   "source": [
    "- **[11]** Allesina, S. *A tour of the generalized lotka-volterra model*, May 2020. ICTP-SAIFR/IFT-UNESP: https://stefanoallesina.github.io/Sao_Paulo_School/"
   ]
  },
  {
   "cell_type": "markdown",
   "id": "48ea6ee9",
   "metadata": {},
   "source": [
    "- **[12]** Hirsch, M. W. *Systems of differential equations which are competitive or cooperative: I. limit sets*. SIAM journal on mathematical analysis 13, **2** (1982), 167–179. DOI: [10.1137/0513013](https://epubs.siam.org/doi/10.1137/0513013)"
   ]
  },
  {
   "cell_type": "markdown",
   "id": "aaf953fc",
   "metadata": {},
   "source": [
    "- **[13]** Smale, S. *On the differential equations of species in competition*. Journal of mathematical biology 3, **1** (1976), 5–7. DOI: [10.1007/BF00307854](https://link.springer.com/article/10.1007/BF00307854)"
   ]
  },
  {
   "cell_type": "markdown",
   "id": "5358ea48",
   "metadata": {},
   "source": [
    "- **[14]** MAY, R. M. *Will a large complex system be stable?* Nature (London) 238, **5364** (1972), 413–414. DOI: [10.1038/238413a0](https://www.nature.com/articles/238413a0)"
   ]
  },
  {
   "cell_type": "markdown",
   "id": "78e8ffc3",
   "metadata": {},
   "source": [
    "- **[15]** Allesina, S., and Tang, S. *Stability criteria for complex ecosystems*. Nature (London) 483, **7388** (2012), 205–208. DOI: [10.1038/nature10832](https://www.nature.com/articles/nature10832)"
   ]
  },
  {
   "cell_type": "markdown",
   "id": "226c0366",
   "metadata": {},
   "source": [
    "- **[16]** Gillespie, D. T. *A general method for numerically simulating the stochastic time evolution of coupled chemical reactions*. Journal of computational physics 22, **4** (1976), 403–434. DOI: [10.1016/0021-9991(76)90041-3](https://www.sciencedirect.com/science/article/pii/0021999176900413)"
   ]
  },
  {
   "cell_type": "markdown",
   "id": "c3bed2fd",
   "metadata": {},
   "source": [
    "- **[17]** Gillespie, D. T. *Exact stochastic simulation of coupled chemical reactions*. Journal of physical chemistry (1952) 81, **25** (1977), 2340–2361. [Article-Link](https://www.cmor-faculty.rice.edu/~cox/gillespie.pdf)"
   ]
  },
  {
   "cell_type": "markdown",
   "id": "decf3995",
   "metadata": {},
   "source": [
    "---"
   ]
  }
 ],
 "metadata": {
  "kernelspec": {
   "display_name": "Python 3 (ipykernel)",
   "language": "python",
   "name": "python3"
  },
  "language_info": {
   "codemirror_mode": {
    "name": "ipython",
    "version": 3
   },
   "file_extension": ".py",
   "mimetype": "text/x-python",
   "name": "python",
   "nbconvert_exporter": "python",
   "pygments_lexer": "ipython3",
   "version": "3.9.8"
  }
 },
 "nbformat": 4,
 "nbformat_minor": 5
}
